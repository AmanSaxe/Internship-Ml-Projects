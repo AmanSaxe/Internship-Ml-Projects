{
 "cells": [
  {
   "cell_type": "code",
   "execution_count": 1,
   "id": "9d3219a9",
   "metadata": {},
   "outputs": [],
   "source": [
    "import selenium\n",
    "from selenium import webdriver\n",
    "import pandas as pd\n",
    "import numpy as np\n",
    "import warnings\n",
    "warnings.filterwarnings('ignore')\n",
    "from selenium.common.exceptions import StaleElementReferenceException, NoSuchElementException\n",
    "import time\n",
    "import re"
   ]
  },
  {
   "cell_type": "code",
   "execution_count": 2,
   "id": "fa902dc2",
   "metadata": {},
   "outputs": [],
   "source": [
    "# let's first connect to web driver\n",
    "driver=webdriver.Chrome(r'C:\\Users\\DELL\\Downloads\\chromedriver_win32 (2)\\chromedriver.exe')"
   ]
  },
  {
   "cell_type": "code",
   "execution_count": 3,
   "id": "9ac03d14",
   "metadata": {},
   "outputs": [],
   "source": [
    "url=\"https://www.goibibo.com/\"\n",
    "driver.get(url)"
   ]
  },
  {
   "cell_type": "code",
   "execution_count": 4,
   "id": "13cbca7f",
   "metadata": {},
   "outputs": [],
   "source": [
    "sourcefield=driver.find_element_by_xpath('/html/body/div[1]/div/div[2]/div[2]/div/div[1]/div[1]/div/div/p')\n",
    "sourcefield.click()"
   ]
  },
  {
   "cell_type": "code",
   "execution_count": 5,
   "id": "b87aa1ff",
   "metadata": {},
   "outputs": [],
   "source": [
    "source=driver.find_element_by_xpath('/html/body/div[1]/div/div[2]/div[2]/div/div[1]/div[1]/div/div[2]/div/input')\n",
    "source.send_keys('New Delhi')"
   ]
  },
  {
   "cell_type": "code",
   "execution_count": 6,
   "id": "938a9907",
   "metadata": {},
   "outputs": [],
   "source": [
    "sourceclick=driver.find_element_by_xpath('/html/body/div[1]/div/div[2]/div[2]/div/div[1]/div[1]/div/div[2]/ul/li[1]/div/div[1]/div')\n",
    "sourceclick.click()"
   ]
  },
  {
   "cell_type": "code",
   "execution_count": 7,
   "id": "2c7d45e1",
   "metadata": {},
   "outputs": [],
   "source": [
    "destinationfield=driver.find_element_by_xpath('/html/body/div[1]/div/div[2]/div[2]/div/div[1]/div[2]/div/div[2]/div/input')\n",
    "destinationfield.send_keys('Mumbai')\n",
    "\n"
   ]
  },
  {
   "cell_type": "code",
   "execution_count": 8,
   "id": "95dd1be4",
   "metadata": {},
   "outputs": [],
   "source": [
    "destinationclick=driver.find_element_by_xpath('/html/body/div[1]/div/div[2]/div[2]/div/div[1]/div[2]/div/div[2]/ul/li[1]/div/div[1]/div')\n",
    "destinationclick.click()"
   ]
  },
  {
   "cell_type": "code",
   "execution_count": 9,
   "id": "89487c6e",
   "metadata": {},
   "outputs": [],
   "source": [
    "donebtn=driver.find_element_by_xpath('/html/body/div[1]/div/div[2]/div[2]/div/div[1]/div[3]/div[2]/div[3]/span[2]')\n",
    "donebtn.click()"
   ]
  },
  {
   "cell_type": "code",
   "execution_count": 10,
   "id": "a4bea504",
   "metadata": {},
   "outputs": [],
   "source": [
    "donebtn=driver.find_element_by_xpath('/html/body/div[1]/div/div[2]/div[2]/div/div[1]/div[5]/div[2]/div[3]/a[2]')\n",
    "donebtn.click()"
   ]
  },
  {
   "cell_type": "code",
   "execution_count": 11,
   "id": "737b84c1",
   "metadata": {},
   "outputs": [],
   "source": [
    "searchbtn=driver.find_element_by_xpath('/html/body/div[1]/div/div[2]/div[2]/div/div[3]/span')\n",
    "searchbtn.click()"
   ]
  },
  {
   "cell_type": "markdown",
   "id": "215e7ead",
   "metadata": {},
   "source": [
    "### Scraping data for Delhi to Mumbai"
   ]
  },
  {
   "cell_type": "code",
   "execution_count": 12,
   "id": "7bd2a29d",
   "metadata": {},
   "outputs": [],
   "source": [
    "Airline=[]\n",
    "Source=[]\n",
    "Destination=[]\n",
    "Duration=[]\n",
    "Departure=[]\n",
    "Arrival=[]\n",
    "Price=[]\n",
    "try:\n",
    "    airlinetags=driver.find_elements_by_xpath('//span[@class=\"font13 padL5 black\"]')\n",
    "    for i in airlinetags:\n",
    "        Airline.append(i.text)\n",
    "except :\n",
    "    Airline.append('-')\n",
    "    \n",
    "try:\n",
    "    sourcetags=driver.find_elements_by_xpath('//div[@class=\"srp-card-uistyles__Dep-sc-3flq99-11 gReLze flexCol\"]/div')\n",
    "    for i in sourcetags:\n",
    "        Source.append(i.text)\n",
    "except:\n",
    "    Source.append('-')\n",
    "    \n",
    "try:\n",
    "    desttags=driver.find_elements_by_xpath('//div[@class=\"srp-card-uistyles__Dep-sc-3flq99-11 srp-card-uistyles__Arr-sc-3flq99-14 gReLze evBigc flexCol\"]/div[1]')\n",
    "    for i in desttags:\n",
    "        Destination.append(i.text)\n",
    "except:\n",
    "    Destination.append('-')\n",
    "    \n",
    "try:\n",
    "    durtags=driver.find_elements_by_xpath('//span[@class=\"srp-card-uistyles__DurTime-sc-3flq99-16 jVRTyZ fb padT10\"]')\n",
    "    for i in durtags:\n",
    "        Duration.append(i.text)\n",
    "except:\n",
    "    Duration.append('-')\n",
    "    \n",
    "try:\n",
    "    deptags=driver.find_elements_by_xpath('//span[@class=\"srp-card-uistyles__Time-sc-3flq99-15 dsonii padT10 fb\"]')\n",
    "    for i in deptags:\n",
    "        Departure.append(i.text)\n",
    "except:\n",
    "    Departure.append('-')\n",
    "    \n",
    "try:\n",
    "    arrivaltags=driver.find_elements_by_xpath('//span[@class=\"srp-card-uistyles__Time-sc-3flq99-15 dsonii fb  padT10\"]')\n",
    "    for i in arrivaltags:\n",
    "        Arrival.append(i.text)\n",
    "except:\n",
    "    Arrival.append('-')\n",
    "    \n",
    "try:\n",
    "    pricetags=driver.find_elements_by_xpath('//div[@class=\"srp-card-uistyles__Price-sc-3flq99-17 jJioUu alignItemsCenter dF fb lh1 padT5\"]')\n",
    "    for i in pricetags:\n",
    "        Price.append(i.text.replace(',',''))\n",
    "except:\n",
    "    Price.append('-')"
   ]
  },
  {
   "cell_type": "markdown",
   "id": "4165db19",
   "metadata": {},
   "source": [
    "### form New delhi to Bangalore"
   ]
  },
  {
   "cell_type": "code",
   "execution_count": 13,
   "id": "89dc4432",
   "metadata": {},
   "outputs": [],
   "source": [
    "destinationfield=driver.find_element_by_xpath('/html/body/div[1]/div[2]/section/div[2]/div/div[3]/div/div/input')\n",
    "destinationfield.send_keys('Bangalore')"
   ]
  },
  {
   "cell_type": "code",
   "execution_count": 14,
   "id": "30611dd7",
   "metadata": {},
   "outputs": [],
   "source": [
    "destinationclick=driver.find_element_by_xpath('/html/body/div[1]/div[2]/section/div[2]/div/div[3]/div/ul/div/div[1]/li/div/div[1]/div[1]')\n",
    "destinationclick.click()"
   ]
  },
  {
   "cell_type": "code",
   "execution_count": 15,
   "id": "1cc97992",
   "metadata": {},
   "outputs": [],
   "source": [
    "searchbtn=driver.find_element_by_xpath('/html/body/div[1]/div[2]/section/div[2]/button')\n",
    "searchbtn.click()"
   ]
  },
  {
   "cell_type": "code",
   "execution_count": 16,
   "id": "8fa1667a",
   "metadata": {},
   "outputs": [],
   "source": [
    "try:\n",
    "    airlinetags=driver.find_elements_by_xpath('//span[@class=\"font13 padL5 black\"]')\n",
    "    for i in airlinetags:\n",
    "        Airline.append(i.text)\n",
    "except :\n",
    "    Airline.append('-')\n",
    "    \n",
    "try:\n",
    "    sourcetags=driver.find_elements_by_xpath('//div[@class=\"srp-card-uistyles__Dep-sc-3flq99-11 gReLze flexCol\"]/div')\n",
    "    for i in sourcetags:\n",
    "        Source.append(i.text)\n",
    "except:\n",
    "    Source.append('-')\n",
    "    \n",
    "try:\n",
    "    desttags=driver.find_elements_by_xpath('//div[@class=\"srp-card-uistyles__Dep-sc-3flq99-11 srp-card-uistyles__Arr-sc-3flq99-14 gReLze evBigc flexCol\"]/div[1]')\n",
    "    for i in desttags:\n",
    "        Destination.append(i.text)\n",
    "except:\n",
    "    Destination.append('-')\n",
    "    \n",
    "try:\n",
    "    durtags=driver.find_elements_by_xpath('//span[@class=\"srp-card-uistyles__DurTime-sc-3flq99-16 jVRTyZ fb padT10\"]')\n",
    "    for i in durtags:\n",
    "        Duration.append(i.text)\n",
    "except:\n",
    "    Duration.append('-')\n",
    "    \n",
    "try:\n",
    "    deptags=driver.find_elements_by_xpath('//span[@class=\"srp-card-uistyles__Time-sc-3flq99-15 dsonii padT10 fb\"]')\n",
    "    for i in deptags:\n",
    "        Departure.append(i.text)\n",
    "except:\n",
    "    Departure.append('-')\n",
    "    \n",
    "try:\n",
    "    arrivaltags=driver.find_elements_by_xpath('//span[@class=\"srp-card-uistyles__Time-sc-3flq99-15 dsonii fb  padT10\"]')\n",
    "    for i in arrivaltags:\n",
    "        Arrival.append(i.text)\n",
    "except:\n",
    "    Arrival.append('-')\n",
    "    \n",
    "try:\n",
    "    pricetags=driver.find_elements_by_xpath('//div[@class=\"srp-card-uistyles__Price-sc-3flq99-17 jJioUu alignItemsCenter dF fb lh1 padT5\"]')\n",
    "    for i in pricetags:\n",
    "        Price.append(i.text.replace(',',''))\n",
    "except:\n",
    "    Price.append('-')"
   ]
  },
  {
   "cell_type": "markdown",
   "id": "36ef655a",
   "metadata": {},
   "source": [
    "### From New Delhi to Chennai"
   ]
  },
  {
   "cell_type": "code",
   "execution_count": 17,
   "id": "7c7c9e5d",
   "metadata": {},
   "outputs": [],
   "source": [
    "destinationfield=driver.find_element_by_xpath('/html/body/div[1]/div[2]/section/div[2]/div/div[3]/div/div/input')\n",
    "destinationfield.send_keys('Chennai')"
   ]
  },
  {
   "cell_type": "code",
   "execution_count": 18,
   "id": "fb34a631",
   "metadata": {},
   "outputs": [],
   "source": [
    "destinationclick=driver.find_element_by_xpath('/html/body/div[1]/div[2]/section/div[2]/div/div[3]/div/ul/div/div[1]/li/div/div[1]/div[1]')\n",
    "destinationclick.click()"
   ]
  },
  {
   "cell_type": "code",
   "execution_count": 19,
   "id": "55d87d44",
   "metadata": {},
   "outputs": [],
   "source": [
    "searchbtn=driver.find_element_by_xpath('/html/body/div[1]/div[2]/section/div[2]/button')\n",
    "searchbtn.click()"
   ]
  },
  {
   "cell_type": "code",
   "execution_count": 20,
   "id": "55135cc4",
   "metadata": {},
   "outputs": [],
   "source": [
    "try:\n",
    "    airlinetags=driver.find_elements_by_xpath('//span[@class=\"font13 padL5 black\"]')\n",
    "    for i in airlinetags:\n",
    "        Airline.append(i.text)\n",
    "except :\n",
    "    Airline.append('-')\n",
    "    \n",
    "try:\n",
    "    sourcetags=driver.find_elements_by_xpath('//div[@class=\"srp-card-uistyles__Dep-sc-3flq99-11 gReLze flexCol\"]/div')\n",
    "    for i in sourcetags:\n",
    "        Source.append(i.text)\n",
    "except:\n",
    "    Source.append('-')\n",
    "    \n",
    "try:\n",
    "    desttags=driver.find_elements_by_xpath('//div[@class=\"srp-card-uistyles__Dep-sc-3flq99-11 srp-card-uistyles__Arr-sc-3flq99-14 gReLze evBigc flexCol\"]/div[1]')\n",
    "    for i in desttags:\n",
    "        Destination.append(i.text)\n",
    "except:\n",
    "    Destination.append('-')\n",
    "    \n",
    "try:\n",
    "    durtags=driver.find_elements_by_xpath('//span[@class=\"srp-card-uistyles__DurTime-sc-3flq99-16 jVRTyZ fb padT10\"]')\n",
    "    for i in durtags:\n",
    "        Duration.append(i.text)\n",
    "except:\n",
    "    Duration.append('-')\n",
    "    \n",
    "try:\n",
    "    deptags=driver.find_elements_by_xpath('//span[@class=\"srp-card-uistyles__Time-sc-3flq99-15 dsonii padT10 fb\"]')\n",
    "    for i in deptags:\n",
    "        Departure.append(i.text)\n",
    "except:\n",
    "    Departure.append('-')\n",
    "    \n",
    "try:\n",
    "    arrivaltags=driver.find_elements_by_xpath('//span[@class=\"srp-card-uistyles__Time-sc-3flq99-15 dsonii fb  padT10\"]')\n",
    "    for i in arrivaltags:\n",
    "        Arrival.append(i.text)\n",
    "except:\n",
    "    Arrival.append('-')\n",
    "    \n",
    "try:\n",
    "    pricetags=driver.find_elements_by_xpath('//div[@class=\"srp-card-uistyles__Price-sc-3flq99-17 jJioUu alignItemsCenter dF fb lh1 padT5\"]')\n",
    "    for i in pricetags:\n",
    "        Price.append(i.text.replace(',',''))\n",
    "except:\n",
    "    Price.append('-')"
   ]
  },
  {
   "cell_type": "markdown",
   "id": "807efba5",
   "metadata": {},
   "source": [
    "### New Delhi to Hyderabad"
   ]
  },
  {
   "cell_type": "code",
   "execution_count": 21,
   "id": "f7b0a3e2",
   "metadata": {},
   "outputs": [],
   "source": [
    "destinationfield=driver.find_element_by_xpath('/html/body/div[1]/div[2]/section/div[2]/div/div[3]/div/div/input')\n",
    "destinationfield.send_keys('Hyderabad')"
   ]
  },
  {
   "cell_type": "code",
   "execution_count": 22,
   "id": "41ad6629",
   "metadata": {},
   "outputs": [],
   "source": [
    "destinationclick=driver.find_element_by_xpath('/html/body/div[1]/div[2]/section/div[2]/div/div[3]/div/ul/div/div[1]/li/div/div[1]/div[1]')\n",
    "destinationclick.click()"
   ]
  },
  {
   "cell_type": "code",
   "execution_count": 23,
   "id": "8095d3f4",
   "metadata": {},
   "outputs": [],
   "source": [
    "searchbtn=driver.find_element_by_xpath('/html/body/div[1]/div[2]/section/div[2]/button')\n",
    "searchbtn.click()"
   ]
  },
  {
   "cell_type": "code",
   "execution_count": 24,
   "id": "faafce3f",
   "metadata": {},
   "outputs": [],
   "source": [
    "try:\n",
    "    airlinetags=driver.find_elements_by_xpath('//span[@class=\"font13 padL5 black\"]')\n",
    "    for i in airlinetags:\n",
    "        Airline.append(i.text)\n",
    "except :\n",
    "    Airline.append('-')\n",
    "    \n",
    "try:\n",
    "    sourcetags=driver.find_elements_by_xpath('//div[@class=\"srp-card-uistyles__Dep-sc-3flq99-11 gReLze flexCol\"]/div')\n",
    "    for i in sourcetags:\n",
    "        Source.append(i.text)\n",
    "except:\n",
    "    Source.append('-')\n",
    "    \n",
    "try:\n",
    "    desttags=driver.find_elements_by_xpath('//div[@class=\"srp-card-uistyles__Dep-sc-3flq99-11 srp-card-uistyles__Arr-sc-3flq99-14 gReLze evBigc flexCol\"]/div[1]')\n",
    "    for i in desttags:\n",
    "        Destination.append(i.text)\n",
    "except:\n",
    "    Destination.append('-')\n",
    "    \n",
    "try:\n",
    "    durtags=driver.find_elements_by_xpath('//span[@class=\"srp-card-uistyles__DurTime-sc-3flq99-16 jVRTyZ fb padT10\"]')\n",
    "    for i in durtags:\n",
    "        Duration.append(i.text)\n",
    "except:\n",
    "    Duration.append('-')\n",
    "    \n",
    "try:\n",
    "    deptags=driver.find_elements_by_xpath('//span[@class=\"srp-card-uistyles__Time-sc-3flq99-15 dsonii padT10 fb\"]')\n",
    "    for i in deptags:\n",
    "        Departure.append(i.text)\n",
    "except:\n",
    "    Departure.append('-')\n",
    "    \n",
    "try:\n",
    "    arrivaltags=driver.find_elements_by_xpath('//span[@class=\"srp-card-uistyles__Time-sc-3flq99-15 dsonii fb  padT10\"]')\n",
    "    for i in arrivaltags:\n",
    "        Arrival.append(i.text)\n",
    "except:\n",
    "    Arrival.append('-')\n",
    "    \n",
    "try:\n",
    "    pricetags=driver.find_elements_by_xpath('//div[@class=\"srp-card-uistyles__Price-sc-3flq99-17 jJioUu alignItemsCenter dF fb lh1 padT5\"]')\n",
    "    for i in pricetags:\n",
    "        Price.append(i.text.replace(',',''))\n",
    "except:\n",
    "    Price.append('-')"
   ]
  },
  {
   "cell_type": "markdown",
   "id": "6d25b1f7",
   "metadata": {},
   "source": [
    "### From New Delhi to Kolkata"
   ]
  },
  {
   "cell_type": "code",
   "execution_count": 25,
   "id": "0a2d30e5",
   "metadata": {},
   "outputs": [],
   "source": [
    "destinationfield=driver.find_element_by_xpath('/html/body/div[1]/div[2]/section/div[2]/div/div[3]/div/div/input')\n",
    "destinationfield.send_keys('kolkata')"
   ]
  },
  {
   "cell_type": "code",
   "execution_count": 26,
   "id": "9fde24a0",
   "metadata": {},
   "outputs": [],
   "source": [
    "destinationclick=driver.find_element_by_xpath('/html/body/div[1]/div[2]/section/div[2]/div/div[3]/div/ul/div/div[1]/li/div/div[1]/div[1]')\n",
    "destinationclick.click()"
   ]
  },
  {
   "cell_type": "code",
   "execution_count": 27,
   "id": "2d7d5031",
   "metadata": {},
   "outputs": [],
   "source": [
    "searchbtn=driver.find_element_by_xpath('/html/body/div[1]/div[2]/section/div[2]/button')\n",
    "searchbtn.click()"
   ]
  },
  {
   "cell_type": "code",
   "execution_count": 28,
   "id": "ed850f0f",
   "metadata": {},
   "outputs": [],
   "source": [
    "try:\n",
    "    airlinetags=driver.find_elements_by_xpath('//span[@class=\"font13 padL5 black\"]')\n",
    "    for i in airlinetags:\n",
    "        Airline.append(i.text)\n",
    "except :\n",
    "    Airline.append('-')\n",
    "    \n",
    "try:\n",
    "    sourcetags=driver.find_elements_by_xpath('//div[@class=\"srp-card-uistyles__Dep-sc-3flq99-11 gReLze flexCol\"]/div')\n",
    "    for i in sourcetags:\n",
    "        Source.append(i.text)\n",
    "except:\n",
    "    Source.append('-')\n",
    "    \n",
    "try:\n",
    "    desttags=driver.find_elements_by_xpath('//div[@class=\"srp-card-uistyles__Dep-sc-3flq99-11 srp-card-uistyles__Arr-sc-3flq99-14 gReLze evBigc flexCol\"]/div[1]')\n",
    "    for i in desttags:\n",
    "        Destination.append(i.text)\n",
    "except:\n",
    "    Destination.append('-')\n",
    "    \n",
    "try:\n",
    "    durtags=driver.find_elements_by_xpath('//span[@class=\"srp-card-uistyles__DurTime-sc-3flq99-16 jVRTyZ fb padT10\"]')\n",
    "    for i in durtags:\n",
    "        Duration.append(i.text)\n",
    "except:\n",
    "    Duration.append('-')\n",
    "    \n",
    "try:\n",
    "    deptags=driver.find_elements_by_xpath('//span[@class=\"srp-card-uistyles__Time-sc-3flq99-15 dsonii padT10 fb\"]')\n",
    "    for i in deptags:\n",
    "        Departure.append(i.text)\n",
    "except:\n",
    "    Departure.append('-')\n",
    "    \n",
    "try:\n",
    "    arrivaltags=driver.find_elements_by_xpath('//span[@class=\"srp-card-uistyles__Time-sc-3flq99-15 dsonii fb  padT10\"]')\n",
    "    for i in arrivaltags:\n",
    "        Arrival.append(i.text)\n",
    "except:\n",
    "    Arrival.append('-')\n",
    "    \n",
    "try:\n",
    "    pricetags=driver.find_elements_by_xpath('//div[@class=\"srp-card-uistyles__Price-sc-3flq99-17 jJioUu alignItemsCenter dF fb lh1 padT5\"]')\n",
    "    for i in pricetags:\n",
    "        Price.append(i.text.replace(',',''))\n",
    "except:\n",
    "    Price.append('-')"
   ]
  },
  {
   "cell_type": "markdown",
   "id": "4f060359",
   "metadata": {},
   "source": [
    "### From New Delhi to Amritsar"
   ]
  },
  {
   "cell_type": "code",
   "execution_count": 29,
   "id": "11216e77",
   "metadata": {},
   "outputs": [],
   "source": [
    "destinationfield=driver.find_element_by_xpath('/html/body/div[1]/div[2]/section/div[2]/div/div[3]/div/div/input')\n",
    "destinationfield.send_keys('Amritsar')"
   ]
  },
  {
   "cell_type": "code",
   "execution_count": 30,
   "id": "f033d2fc",
   "metadata": {},
   "outputs": [],
   "source": [
    "destinationclick=driver.find_element_by_xpath('/html/body/div[1]/div[2]/section/div[2]/div/div[3]/div/ul/div/div[1]/li/div/div[1]/div[1]')\n",
    "destinationclick.click()"
   ]
  },
  {
   "cell_type": "code",
   "execution_count": 31,
   "id": "b1d5b3d4",
   "metadata": {},
   "outputs": [],
   "source": [
    "searchbtn=driver.find_element_by_xpath('/html/body/div[1]/div[2]/section/div[2]/button')\n",
    "searchbtn.click()"
   ]
  },
  {
   "cell_type": "code",
   "execution_count": 32,
   "id": "51f404d6",
   "metadata": {},
   "outputs": [],
   "source": [
    "try:\n",
    "    airlinetags=driver.find_elements_by_xpath('//span[@class=\"font13 padL5 black\"]')\n",
    "    for i in airlinetags:\n",
    "        Airline.append(i.text)\n",
    "except :\n",
    "    Airline.append('-')\n",
    "    \n",
    "try:\n",
    "    sourcetags=driver.find_elements_by_xpath('//div[@class=\"srp-card-uistyles__Dep-sc-3flq99-11 gReLze flexCol\"]/div')\n",
    "    for i in sourcetags:\n",
    "        Source.append(i.text)\n",
    "except:\n",
    "    Source.append('-')\n",
    "    \n",
    "try:\n",
    "    desttags=driver.find_elements_by_xpath('//div[@class=\"srp-card-uistyles__Dep-sc-3flq99-11 srp-card-uistyles__Arr-sc-3flq99-14 gReLze evBigc flexCol\"]/div[1]')\n",
    "    for i in desttags:\n",
    "        Destination.append(i.text)\n",
    "except:\n",
    "    Destination.append('-')\n",
    "    \n",
    "try:\n",
    "    durtags=driver.find_elements_by_xpath('//span[@class=\"srp-card-uistyles__DurTime-sc-3flq99-16 jVRTyZ fb padT10\"]')\n",
    "    for i in durtags:\n",
    "        Duration.append(i.text)\n",
    "except:\n",
    "    Duration.append('-')\n",
    "    \n",
    "try:\n",
    "    deptags=driver.find_elements_by_xpath('//span[@class=\"srp-card-uistyles__Time-sc-3flq99-15 dsonii padT10 fb\"]')\n",
    "    for i in deptags:\n",
    "        Departure.append(i.text)\n",
    "except:\n",
    "    Departure.append('-')\n",
    "    \n",
    "try:\n",
    "    arrivaltags=driver.find_elements_by_xpath('//span[@class=\"srp-card-uistyles__Time-sc-3flq99-15 dsonii fb  padT10\"]')\n",
    "    for i in arrivaltags:\n",
    "        Arrival.append(i.text)\n",
    "except:\n",
    "    Arrival.append('-')\n",
    "    \n",
    "try:\n",
    "    pricetags=driver.find_elements_by_xpath('//div[@class=\"srp-card-uistyles__Price-sc-3flq99-17 jJioUu alignItemsCenter dF fb lh1 padT5\"]')\n",
    "    for i in pricetags:\n",
    "        Price.append(i.text.replace(',',''))\n",
    "except:\n",
    "    Price.append('-')"
   ]
  },
  {
   "cell_type": "markdown",
   "id": "b8066aa8",
   "metadata": {},
   "source": [
    "### From New Delhi to Chandigarh"
   ]
  },
  {
   "cell_type": "code",
   "execution_count": 33,
   "id": "c25d3760",
   "metadata": {},
   "outputs": [],
   "source": [
    "destinationfield=driver.find_element_by_xpath('/html/body/div[1]/div[2]/section/div[2]/div/div[3]/div/div/input')\n",
    "destinationfield.send_keys('Chandigarh')"
   ]
  },
  {
   "cell_type": "code",
   "execution_count": 34,
   "id": "97329f2d",
   "metadata": {},
   "outputs": [],
   "source": [
    "destinationclick=driver.find_element_by_xpath('/html/body/div[1]/div[2]/section/div[2]/div/div[3]/div/ul/div/div[1]/li/div/div[1]/div[1]')\n",
    "destinationclick.click()"
   ]
  },
  {
   "cell_type": "code",
   "execution_count": 35,
   "id": "066ed25b",
   "metadata": {},
   "outputs": [],
   "source": [
    "searchbtn=driver.find_element_by_xpath('/html/body/div[1]/div[2]/section/div[2]/button')\n",
    "searchbtn.click()"
   ]
  },
  {
   "cell_type": "code",
   "execution_count": 36,
   "id": "ff7d0e9d",
   "metadata": {},
   "outputs": [],
   "source": [
    "try:\n",
    "    airlinetags=driver.find_elements_by_xpath('//span[@class=\"font13 padL5 black\"]')\n",
    "    for i in airlinetags:\n",
    "        Airline.append(i.text)\n",
    "except :\n",
    "    Airline.append('-')\n",
    "    \n",
    "try:\n",
    "    sourcetags=driver.find_elements_by_xpath('//div[@class=\"srp-card-uistyles__Dep-sc-3flq99-11 gReLze flexCol\"]/div')\n",
    "    for i in sourcetags:\n",
    "        Source.append(i.text)\n",
    "except:\n",
    "    Source.append('-')\n",
    "    \n",
    "try:\n",
    "    desttags=driver.find_elements_by_xpath('//div[@class=\"srp-card-uistyles__Dep-sc-3flq99-11 srp-card-uistyles__Arr-sc-3flq99-14 gReLze evBigc flexCol\"]/div[1]')\n",
    "    for i in desttags:\n",
    "        Destination.append(i.text)\n",
    "except:\n",
    "    Destination.append('-')\n",
    "    \n",
    "try:\n",
    "    durtags=driver.find_elements_by_xpath('//span[@class=\"srp-card-uistyles__DurTime-sc-3flq99-16 jVRTyZ fb padT10\"]')\n",
    "    for i in durtags:\n",
    "        Duration.append(i.text)\n",
    "except:\n",
    "    Duration.append('-')\n",
    "    \n",
    "try:\n",
    "    deptags=driver.find_elements_by_xpath('//span[@class=\"srp-card-uistyles__Time-sc-3flq99-15 dsonii padT10 fb\"]')\n",
    "    for i in deptags:\n",
    "        Departure.append(i.text)\n",
    "except:\n",
    "    Departure.append('-')\n",
    "    \n",
    "try:\n",
    "    arrivaltags=driver.find_elements_by_xpath('//span[@class=\"srp-card-uistyles__Time-sc-3flq99-15 dsonii fb  padT10\"]')\n",
    "    for i in arrivaltags:\n",
    "        Arrival.append(i.text)\n",
    "except:\n",
    "    Arrival.append('-')\n",
    "    \n",
    "try:\n",
    "    pricetags=driver.find_elements_by_xpath('//div[@class=\"srp-card-uistyles__Price-sc-3flq99-17 jJioUu alignItemsCenter dF fb lh1 padT5\"]')\n",
    "    for i in pricetags:\n",
    "        Price.append(i.text.replace(',',''))\n",
    "except:\n",
    "    Price.append('-')"
   ]
  },
  {
   "cell_type": "markdown",
   "id": "1d41797c",
   "metadata": {},
   "source": [
    "### From New Delhi to Ahmedabad"
   ]
  },
  {
   "cell_type": "code",
   "execution_count": 37,
   "id": "c06d22ab",
   "metadata": {},
   "outputs": [],
   "source": [
    "destinationfield=driver.find_element_by_xpath('/html/body/div[1]/div[2]/section/div[2]/div/div[3]/div/div/input')\n",
    "destinationfield.send_keys('Ahmedabad')"
   ]
  },
  {
   "cell_type": "code",
   "execution_count": 38,
   "id": "04e577ff",
   "metadata": {},
   "outputs": [],
   "source": [
    "destinationclick=driver.find_element_by_xpath('/html/body/div[1]/div[2]/section/div[2]/div/div[3]/div/ul/div/div[1]/li/div/div[1]/div[1]')\n",
    "destinationclick.click()"
   ]
  },
  {
   "cell_type": "code",
   "execution_count": 39,
   "id": "82eeaab0",
   "metadata": {},
   "outputs": [],
   "source": [
    "searchbtn=driver.find_element_by_xpath('/html/body/div[1]/div[2]/section/div[2]/button')\n",
    "searchbtn.click()"
   ]
  },
  {
   "cell_type": "code",
   "execution_count": 40,
   "id": "bf9f76d5",
   "metadata": {},
   "outputs": [],
   "source": [
    "try:\n",
    "    airlinetags=driver.find_elements_by_xpath('//span[@class=\"font13 padL5 black\"]')\n",
    "    for i in airlinetags:\n",
    "        Airline.append(i.text)\n",
    "except :\n",
    "    Airline.append('-')\n",
    "    \n",
    "try:\n",
    "    sourcetags=driver.find_elements_by_xpath('//div[@class=\"srp-card-uistyles__Dep-sc-3flq99-11 gReLze flexCol\"]/div')\n",
    "    for i in sourcetags:\n",
    "        Source.append(i.text)\n",
    "except:\n",
    "    Source.append('-')\n",
    "    \n",
    "try:\n",
    "    desttags=driver.find_elements_by_xpath('//div[@class=\"srp-card-uistyles__Dep-sc-3flq99-11 srp-card-uistyles__Arr-sc-3flq99-14 gReLze evBigc flexCol\"]/div[1]')\n",
    "    for i in desttags:\n",
    "        Destination.append(i.text)\n",
    "except:\n",
    "    Destination.append('-')\n",
    "    \n",
    "try:\n",
    "    durtags=driver.find_elements_by_xpath('//span[@class=\"srp-card-uistyles__DurTime-sc-3flq99-16 jVRTyZ fb padT10\"]')\n",
    "    for i in durtags:\n",
    "        Duration.append(i.text)\n",
    "except:\n",
    "    Duration.append('-')\n",
    "    \n",
    "try:\n",
    "    deptags=driver.find_elements_by_xpath('//span[@class=\"srp-card-uistyles__Time-sc-3flq99-15 dsonii padT10 fb\"]')\n",
    "    for i in deptags:\n",
    "        Departure.append(i.text)\n",
    "except:\n",
    "    Departure.append('-')\n",
    "    \n",
    "try:\n",
    "    arrivaltags=driver.find_elements_by_xpath('//span[@class=\"srp-card-uistyles__Time-sc-3flq99-15 dsonii fb  padT10\"]')\n",
    "    for i in arrivaltags:\n",
    "        Arrival.append(i.text)\n",
    "except:\n",
    "    Arrival.append('-')\n",
    "    \n",
    "try:\n",
    "    pricetags=driver.find_elements_by_xpath('//div[@class=\"srp-card-uistyles__Price-sc-3flq99-17 jJioUu alignItemsCenter dF fb lh1 padT5\"]')\n",
    "    for i in pricetags:\n",
    "        Price.append(i.text.replace(',',''))\n",
    "except:\n",
    "    Price.append('-')"
   ]
  },
  {
   "cell_type": "markdown",
   "id": "2f39ed04",
   "metadata": {},
   "source": [
    "### From New Delhi to Nagpur"
   ]
  },
  {
   "cell_type": "code",
   "execution_count": 41,
   "id": "53af1900",
   "metadata": {},
   "outputs": [],
   "source": [
    "destinationfield=driver.find_element_by_xpath('/html/body/div[1]/div[2]/section/div[2]/div/div[3]/div/div/input')\n",
    "destinationfield.send_keys('Nagpur')"
   ]
  },
  {
   "cell_type": "code",
   "execution_count": 42,
   "id": "99bf157e",
   "metadata": {},
   "outputs": [],
   "source": [
    "destinationclick=driver.find_element_by_xpath('/html/body/div[1]/div[2]/section/div[2]/div/div[3]/div/ul/div/div[1]/li/div/div[1]/div[1]')\n",
    "destinationclick.click()"
   ]
  },
  {
   "cell_type": "code",
   "execution_count": 43,
   "id": "58d60e63",
   "metadata": {},
   "outputs": [],
   "source": [
    "searchbtn=driver.find_element_by_xpath('/html/body/div[1]/div[2]/section/div[2]/button')\n",
    "searchbtn.click()"
   ]
  },
  {
   "cell_type": "code",
   "execution_count": 44,
   "id": "bf18463e",
   "metadata": {},
   "outputs": [],
   "source": [
    "try:\n",
    "    airlinetags=driver.find_elements_by_xpath('//span[@class=\"font13 padL5 black\"]')\n",
    "    for i in airlinetags:\n",
    "        Airline.append(i.text)\n",
    "except :\n",
    "    Airline.append('-')\n",
    "    \n",
    "try:\n",
    "    sourcetags=driver.find_elements_by_xpath('//div[@class=\"srp-card-uistyles__Dep-sc-3flq99-11 gReLze flexCol\"]/div')\n",
    "    for i in sourcetags:\n",
    "        Source.append(i.text)\n",
    "except:\n",
    "    Source.append('-')\n",
    "    \n",
    "try:\n",
    "    desttags=driver.find_elements_by_xpath('//div[@class=\"srp-card-uistyles__Dep-sc-3flq99-11 srp-card-uistyles__Arr-sc-3flq99-14 gReLze evBigc flexCol\"]/div[1]')\n",
    "    for i in desttags:\n",
    "        Destination.append(i.text)\n",
    "except:\n",
    "    Destination.append('-')\n",
    "    \n",
    "try:\n",
    "    durtags=driver.find_elements_by_xpath('//span[@class=\"srp-card-uistyles__DurTime-sc-3flq99-16 jVRTyZ fb padT10\"]')\n",
    "    for i in durtags:\n",
    "        Duration.append(i.text)\n",
    "except:\n",
    "    Duration.append('-')\n",
    "    \n",
    "try:\n",
    "    deptags=driver.find_elements_by_xpath('//span[@class=\"srp-card-uistyles__Time-sc-3flq99-15 dsonii padT10 fb\"]')\n",
    "    for i in deptags:\n",
    "        Departure.append(i.text)\n",
    "except:\n",
    "    Departure.append('-')\n",
    "    \n",
    "try:\n",
    "    arrivaltags=driver.find_elements_by_xpath('//span[@class=\"srp-card-uistyles__Time-sc-3flq99-15 dsonii fb  padT10\"]')\n",
    "    for i in arrivaltags:\n",
    "        Arrival.append(i.text)\n",
    "except:\n",
    "    Arrival.append('-')\n",
    "    \n",
    "try:\n",
    "    pricetags=driver.find_elements_by_xpath('//div[@class=\"srp-card-uistyles__Price-sc-3flq99-17 jJioUu alignItemsCenter dF fb lh1 padT5\"]')\n",
    "    for i in pricetags:\n",
    "        Price.append(i.text.replace(',',''))\n",
    "except:\n",
    "    Price.append('-')"
   ]
  },
  {
   "cell_type": "markdown",
   "id": "575ddbf1",
   "metadata": {},
   "source": [
    "### From New Delhi to London"
   ]
  },
  {
   "cell_type": "code",
   "execution_count": 45,
   "id": "358aacd8",
   "metadata": {},
   "outputs": [],
   "source": [
    "destinationfield=driver.find_element_by_xpath('/html/body/div[1]/div[2]/section/div[2]/div/div[3]/div/div/input')\n",
    "destinationfield.send_keys('London')"
   ]
  },
  {
   "cell_type": "code",
   "execution_count": 46,
   "id": "9c150864",
   "metadata": {},
   "outputs": [],
   "source": [
    "destinationclick=driver.find_element_by_xpath('/html/body/div[1]/div[2]/section/div[2]/div/div[3]/div/ul/div/div[1]/li/div/div[1]/div[1]')\n",
    "destinationclick.click()"
   ]
  },
  {
   "cell_type": "code",
   "execution_count": 47,
   "id": "e848b979",
   "metadata": {},
   "outputs": [],
   "source": [
    "searchbtn=driver.find_element_by_xpath('/html/body/div[1]/div[2]/section/div[2]/button')\n",
    "searchbtn.click()"
   ]
  },
  {
   "cell_type": "code",
   "execution_count": 48,
   "id": "aac633e8",
   "metadata": {},
   "outputs": [],
   "source": [
    "try:\n",
    "    airlinetags=driver.find_elements_by_xpath('//span[@class=\"font13 padL5 black\"]')\n",
    "    for i in airlinetags:\n",
    "        Airline.append(i.text)\n",
    "except :\n",
    "    Airline.append('-')\n",
    "    \n",
    "try:\n",
    "    sourcetags=driver.find_elements_by_xpath('//div[@class=\"srp-card-uistyles__Dep-sc-3flq99-11 gReLze flexCol\"]/div')\n",
    "    for i in sourcetags:\n",
    "        Source.append(i.text)\n",
    "except:\n",
    "    Source.append('-')\n",
    "    \n",
    "try:\n",
    "    desttags=driver.find_elements_by_xpath('//div[@class=\"srp-card-uistyles__Dep-sc-3flq99-11 srp-card-uistyles__Arr-sc-3flq99-14 gReLze evBigc flexCol\"]/div[1]')\n",
    "    for i in desttags:\n",
    "        Destination.append(i.text)\n",
    "except:\n",
    "    Destination.append('-')\n",
    "    \n",
    "try:\n",
    "    durtags=driver.find_elements_by_xpath('//span[@class=\"srp-card-uistyles__DurTime-sc-3flq99-16 jVRTyZ fb padT10\"]')\n",
    "    for i in durtags:\n",
    "        Duration.append(i.text)\n",
    "except:\n",
    "    Duration.append('-')\n",
    "    \n",
    "try:\n",
    "    deptags=driver.find_elements_by_xpath('//span[@class=\"srp-card-uistyles__Time-sc-3flq99-15 dsonii padT10 fb\"]')\n",
    "    for i in deptags:\n",
    "        Departure.append(i.text)\n",
    "except:\n",
    "    Departure.append('-')\n",
    "    \n",
    "try:\n",
    "    arrivaltags=driver.find_elements_by_xpath('//span[@class=\"srp-card-uistyles__Time-sc-3flq99-15 dsonii fb  padT10\"]')\n",
    "    for i in arrivaltags:\n",
    "        Arrival.append(i.text)\n",
    "except:\n",
    "    Arrival.append('-')\n",
    "    \n",
    "try:\n",
    "    pricetags=driver.find_elements_by_xpath('//div[@class=\"srp-card-uistyles__Price-sc-3flq99-17 jJioUu alignItemsCenter dF fb lh1 padT5\"]')\n",
    "    for i in pricetags:\n",
    "        Price.append(i.text.replace(',',''))\n",
    "except:\n",
    "    Price.append('-')"
   ]
  },
  {
   "cell_type": "markdown",
   "id": "eaad1bb5",
   "metadata": {},
   "source": [
    "### From New Delhi to Los Angeles"
   ]
  },
  {
   "cell_type": "code",
   "execution_count": 49,
   "id": "3b63bc57",
   "metadata": {},
   "outputs": [],
   "source": [
    "destinationfield=driver.find_element_by_xpath('/html/body/div[1]/div[2]/section/div[2]/div/div[3]/div/div/input')\n",
    "destinationfield.send_keys('Los Angeles')"
   ]
  },
  {
   "cell_type": "code",
   "execution_count": 50,
   "id": "c06c4147",
   "metadata": {},
   "outputs": [],
   "source": [
    "destinationclick=driver.find_element_by_xpath('/html/body/div[1]/div[2]/section/div[2]/div/div[3]/div/ul/div/div[1]/li/div/div[1]/div[1]')\n",
    "destinationclick.click()"
   ]
  },
  {
   "cell_type": "code",
   "execution_count": 51,
   "id": "3d96576c",
   "metadata": {},
   "outputs": [],
   "source": [
    "searchbtn=driver.find_element_by_xpath('/html/body/div[1]/div[2]/section/div[2]/button')\n",
    "searchbtn.click()"
   ]
  },
  {
   "cell_type": "code",
   "execution_count": 52,
   "id": "1d248eac",
   "metadata": {},
   "outputs": [],
   "source": [
    "try:\n",
    "    airlinetags=driver.find_elements_by_xpath('//span[@class=\"font13 padL5 black\"]')\n",
    "    for i in airlinetags:\n",
    "        Airline.append(i.text)\n",
    "except :\n",
    "    Airline.append('-')\n",
    "    \n",
    "try:\n",
    "    sourcetags=driver.find_elements_by_xpath('//div[@class=\"srp-card-uistyles__Dep-sc-3flq99-11 gReLze flexCol\"]/div')\n",
    "    for i in sourcetags:\n",
    "        Source.append(i.text)\n",
    "except:\n",
    "    Source.append('-')\n",
    "    \n",
    "try:\n",
    "    desttags=driver.find_elements_by_xpath('//div[@class=\"srp-card-uistyles__Dep-sc-3flq99-11 srp-card-uistyles__Arr-sc-3flq99-14 gReLze evBigc flexCol\"]/div[1]')\n",
    "    for i in desttags:\n",
    "        Destination.append(i.text)\n",
    "except:\n",
    "    Destination.append('-')\n",
    "    \n",
    "try:\n",
    "    durtags=driver.find_elements_by_xpath('//span[@class=\"srp-card-uistyles__DurTime-sc-3flq99-16 jVRTyZ fb padT10\"]')\n",
    "    for i in durtags:\n",
    "        Duration.append(i.text)\n",
    "except:\n",
    "    Duration.append('-')\n",
    "    \n",
    "try:\n",
    "    deptags=driver.find_elements_by_xpath('//span[@class=\"srp-card-uistyles__Time-sc-3flq99-15 dsonii padT10 fb\"]')\n",
    "    for i in deptags:\n",
    "        Departure.append(i.text)\n",
    "except:\n",
    "    Departure.append('-')\n",
    "    \n",
    "try:\n",
    "    arrivaltags=driver.find_elements_by_xpath('//span[@class=\"srp-card-uistyles__Time-sc-3flq99-15 dsonii fb  padT10\"]')\n",
    "    for i in arrivaltags:\n",
    "        Arrival.append(i.text)\n",
    "except:\n",
    "    Arrival.append('-')\n",
    "    \n",
    "try:\n",
    "    pricetags=driver.find_elements_by_xpath('//div[@class=\"srp-card-uistyles__Price-sc-3flq99-17 jJioUu alignItemsCenter dF fb lh1 padT5\"]')\n",
    "    for i in pricetags:\n",
    "        Price.append(i.text.replace(',',''))\n",
    "except:\n",
    "    Price.append('-')"
   ]
  },
  {
   "cell_type": "markdown",
   "id": "d6fbd67d",
   "metadata": {},
   "source": [
    "### From Mumbai to Chandigarh"
   ]
  },
  {
   "cell_type": "code",
   "execution_count": 53,
   "id": "ccde9b9e",
   "metadata": {},
   "outputs": [],
   "source": [
    "source=driver.find_element_by_xpath('/html/body/div[1]/div[2]/section/div[2]/div/div[1]/div/div/input')\n",
    "source.send_keys('Mumbai')\n"
   ]
  },
  {
   "cell_type": "code",
   "execution_count": 54,
   "id": "310e0513",
   "metadata": {},
   "outputs": [],
   "source": [
    "sourceclick=driver.find_element_by_xpath('/html/body/div[1]/div[2]/section/div[2]/div/div[1]/div/ul/div/div[1]/li/div/div[1]/div[1]')\n",
    "sourceclick.click()"
   ]
  },
  {
   "cell_type": "code",
   "execution_count": 55,
   "id": "42ff2ec6",
   "metadata": {},
   "outputs": [],
   "source": [
    "destinationfield=driver.find_element_by_xpath('/html/body/div[1]/div[2]/section/div[2]/div/div[3]/div/div/input')\n",
    "destinationfield.send_keys('Chandigarh')"
   ]
  },
  {
   "cell_type": "code",
   "execution_count": 56,
   "id": "95576785",
   "metadata": {},
   "outputs": [],
   "source": [
    "destinationclick=driver.find_element_by_xpath('/html/body/div[1]/div[2]/section/div[2]/div/div[3]/div/ul/div/div[1]/li/div/div[1]/div[1]')\n",
    "destinationclick.click()"
   ]
  },
  {
   "cell_type": "code",
   "execution_count": 57,
   "id": "5b8ff88c",
   "metadata": {},
   "outputs": [],
   "source": [
    "searchbtn=driver.find_element_by_xpath('/html/body/div[1]/div[2]/section/div[2]/button')\n",
    "searchbtn.click()"
   ]
  },
  {
   "cell_type": "code",
   "execution_count": 58,
   "id": "417ca003",
   "metadata": {},
   "outputs": [],
   "source": [
    "try:\n",
    "    airlinetags=driver.find_elements_by_xpath('//span[@class=\"font13 padL5 black\"]')\n",
    "    for i in airlinetags:\n",
    "        Airline.append(i.text)\n",
    "except :\n",
    "    Airline.append('-')\n",
    "    \n",
    "try:\n",
    "    sourcetags=driver.find_elements_by_xpath('//div[@class=\"srp-card-uistyles__Dep-sc-3flq99-11 gReLze flexCol\"]/div')\n",
    "    for i in sourcetags:\n",
    "        Source.append(i.text)\n",
    "except:\n",
    "    Source.append('-')\n",
    "    \n",
    "try:\n",
    "    desttags=driver.find_elements_by_xpath('//div[@class=\"srp-card-uistyles__Dep-sc-3flq99-11 srp-card-uistyles__Arr-sc-3flq99-14 gReLze evBigc flexCol\"]/div[1]')\n",
    "    for i in desttags:\n",
    "        Destination.append(i.text)\n",
    "except:\n",
    "    Destination.append('-')\n",
    "    \n",
    "try:\n",
    "    durtags=driver.find_elements_by_xpath('//span[@class=\"srp-card-uistyles__DurTime-sc-3flq99-16 jVRTyZ fb padT10\"]')\n",
    "    for i in durtags:\n",
    "        Duration.append(i.text)\n",
    "except:\n",
    "    Duration.append('-')\n",
    "    \n",
    "try:\n",
    "    deptags=driver.find_elements_by_xpath('//span[@class=\"srp-card-uistyles__Time-sc-3flq99-15 dsonii padT10 fb\"]')\n",
    "    for i in deptags:\n",
    "        Departure.append(i.text)\n",
    "except:\n",
    "    Departure.append('-')\n",
    "    \n",
    "try:\n",
    "    arrivaltags=driver.find_elements_by_xpath('//span[@class=\"srp-card-uistyles__Time-sc-3flq99-15 dsonii fb  padT10\"]')\n",
    "    for i in arrivaltags:\n",
    "        Arrival.append(i.text)\n",
    "except:\n",
    "    Arrival.append('-')\n",
    "    \n",
    "try:\n",
    "    pricetags=driver.find_elements_by_xpath('//div[@class=\"srp-card-uistyles__Price-sc-3flq99-17 jJioUu alignItemsCenter dF fb lh1 padT5\"]')\n",
    "    for i in pricetags:\n",
    "        Price.append(i.text.replace(',',''))\n",
    "except:\n",
    "    Price.append('-')"
   ]
  },
  {
   "cell_type": "markdown",
   "id": "a665190f",
   "metadata": {},
   "source": [
    "### From Mumbai to Chennai"
   ]
  },
  {
   "cell_type": "code",
   "execution_count": 59,
   "id": "72f8d32b",
   "metadata": {},
   "outputs": [],
   "source": [
    "destinationfield=driver.find_element_by_xpath('/html/body/div[1]/div[2]/section/div[2]/div/div[3]/div/div/input')\n",
    "destinationfield.send_keys('Chennai')"
   ]
  },
  {
   "cell_type": "code",
   "execution_count": 60,
   "id": "c3e1e0e2",
   "metadata": {},
   "outputs": [],
   "source": [
    "destinationclick=driver.find_element_by_xpath('/html/body/div[1]/div[2]/section/div[2]/div/div[3]/div/ul/div/div[1]/li/div/div[1]/div[1]')\n",
    "destinationclick.click()"
   ]
  },
  {
   "cell_type": "code",
   "execution_count": 61,
   "id": "7ca4342a",
   "metadata": {},
   "outputs": [],
   "source": [
    "searchbtn=driver.find_element_by_xpath('/html/body/div[1]/div[2]/section/div[2]/button')\n",
    "searchbtn.click()"
   ]
  },
  {
   "cell_type": "code",
   "execution_count": 62,
   "id": "834f1f11",
   "metadata": {},
   "outputs": [],
   "source": [
    "try:\n",
    "    airlinetags=driver.find_elements_by_xpath('//span[@class=\"font13 padL5 black\"]')\n",
    "    for i in airlinetags:\n",
    "        Airline.append(i.text)\n",
    "except :\n",
    "    Airline.append('-')\n",
    "    \n",
    "try:\n",
    "    sourcetags=driver.find_elements_by_xpath('//div[@class=\"srp-card-uistyles__Dep-sc-3flq99-11 gReLze flexCol\"]/div')\n",
    "    for i in sourcetags:\n",
    "        Source.append(i.text)\n",
    "except:\n",
    "    Source.append('-')\n",
    "    \n",
    "try:\n",
    "    desttags=driver.find_elements_by_xpath('//div[@class=\"srp-card-uistyles__Dep-sc-3flq99-11 srp-card-uistyles__Arr-sc-3flq99-14 gReLze evBigc flexCol\"]/div[1]')\n",
    "    for i in desttags:\n",
    "        Destination.append(i.text)\n",
    "except:\n",
    "    Destination.append('-')\n",
    "    \n",
    "try:\n",
    "    durtags=driver.find_elements_by_xpath('//span[@class=\"srp-card-uistyles__DurTime-sc-3flq99-16 jVRTyZ fb padT10\"]')\n",
    "    for i in durtags:\n",
    "        Duration.append(i.text)\n",
    "except:\n",
    "    Duration.append('-')\n",
    "    \n",
    "try:\n",
    "    deptags=driver.find_elements_by_xpath('//span[@class=\"srp-card-uistyles__Time-sc-3flq99-15 dsonii padT10 fb\"]')\n",
    "    for i in deptags:\n",
    "        Departure.append(i.text)\n",
    "except:\n",
    "    Departure.append('-')\n",
    "    \n",
    "try:\n",
    "    arrivaltags=driver.find_elements_by_xpath('//span[@class=\"srp-card-uistyles__Time-sc-3flq99-15 dsonii fb  padT10\"]')\n",
    "    for i in arrivaltags:\n",
    "        Arrival.append(i.text)\n",
    "except:\n",
    "    Arrival.append('-')\n",
    "    \n",
    "try:\n",
    "    pricetags=driver.find_elements_by_xpath('//div[@class=\"srp-card-uistyles__Price-sc-3flq99-17 jJioUu alignItemsCenter dF fb lh1 padT5\"]')\n",
    "    for i in pricetags:\n",
    "        Price.append(i.text.replace(',',''))\n",
    "except:\n",
    "    Price.append('-')"
   ]
  },
  {
   "cell_type": "markdown",
   "id": "356f493a",
   "metadata": {},
   "source": [
    "### From Mumbai to Amritsar"
   ]
  },
  {
   "cell_type": "code",
   "execution_count": 63,
   "id": "2f275f96",
   "metadata": {},
   "outputs": [],
   "source": [
    "destinationfield=driver.find_element_by_xpath('/html/body/div[1]/div[2]/section/div[2]/div/div[3]/div/div/input')\n",
    "destinationfield.send_keys('Amritsar')"
   ]
  },
  {
   "cell_type": "code",
   "execution_count": 64,
   "id": "66d160ff",
   "metadata": {},
   "outputs": [],
   "source": [
    "destinationclick=driver.find_element_by_xpath('/html/body/div[1]/div[2]/section/div[2]/div/div[3]/div/ul/div/div[1]/li/div/div[1]/div[1]')\n",
    "destinationclick.click()"
   ]
  },
  {
   "cell_type": "code",
   "execution_count": 65,
   "id": "ed58c361",
   "metadata": {},
   "outputs": [],
   "source": [
    "searchbtn=driver.find_element_by_xpath('/html/body/div[1]/div[2]/section/div[2]/button')\n",
    "searchbtn.click()"
   ]
  },
  {
   "cell_type": "code",
   "execution_count": 66,
   "id": "64100a8a",
   "metadata": {},
   "outputs": [],
   "source": [
    "try:\n",
    "    airlinetags=driver.find_elements_by_xpath('//span[@class=\"font13 padL5 black\"]')\n",
    "    for i in airlinetags:\n",
    "        Airline.append(i.text)\n",
    "except :\n",
    "    Airline.append('-')\n",
    "    \n",
    "try:\n",
    "    sourcetags=driver.find_elements_by_xpath('//div[@class=\"srp-card-uistyles__Dep-sc-3flq99-11 gReLze flexCol\"]/div')\n",
    "    for i in sourcetags:\n",
    "        Source.append(i.text)\n",
    "except:\n",
    "    Source.append('-')\n",
    "    \n",
    "try:\n",
    "    desttags=driver.find_elements_by_xpath('//div[@class=\"srp-card-uistyles__Dep-sc-3flq99-11 srp-card-uistyles__Arr-sc-3flq99-14 gReLze evBigc flexCol\"]/div[1]')\n",
    "    for i in desttags:\n",
    "        Destination.append(i.text)\n",
    "except:\n",
    "    Destination.append('-')\n",
    "    \n",
    "try:\n",
    "    durtags=driver.find_elements_by_xpath('//span[@class=\"srp-card-uistyles__DurTime-sc-3flq99-16 jVRTyZ fb padT10\"]')\n",
    "    for i in durtags:\n",
    "        Duration.append(i.text)\n",
    "except:\n",
    "    Duration.append('-')\n",
    "    \n",
    "try:\n",
    "    deptags=driver.find_elements_by_xpath('//span[@class=\"srp-card-uistyles__Time-sc-3flq99-15 dsonii padT10 fb\"]')\n",
    "    for i in deptags:\n",
    "        Departure.append(i.text)\n",
    "except:\n",
    "    Departure.append('-')\n",
    "    \n",
    "try:\n",
    "    arrivaltags=driver.find_elements_by_xpath('//span[@class=\"srp-card-uistyles__Time-sc-3flq99-15 dsonii fb  padT10\"]')\n",
    "    for i in arrivaltags:\n",
    "        Arrival.append(i.text)\n",
    "except:\n",
    "    Arrival.append('-')\n",
    "    \n",
    "try:\n",
    "    pricetags=driver.find_elements_by_xpath('//div[@class=\"srp-card-uistyles__Price-sc-3flq99-17 jJioUu alignItemsCenter dF fb lh1 padT5\"]')\n",
    "    for i in pricetags:\n",
    "        Price.append(i.text.replace(',',''))\n",
    "except:\n",
    "    Price.append('-')"
   ]
  },
  {
   "cell_type": "markdown",
   "id": "1320960b",
   "metadata": {},
   "source": [
    "### From Mumbai to London"
   ]
  },
  {
   "cell_type": "code",
   "execution_count": 67,
   "id": "01c0b94b",
   "metadata": {},
   "outputs": [],
   "source": [
    "destinationfield=driver.find_element_by_xpath('/html/body/div[1]/div[2]/section/div[2]/div/div[3]/div/div/input')\n",
    "destinationfield.send_keys('London')"
   ]
  },
  {
   "cell_type": "code",
   "execution_count": 68,
   "id": "867111dc",
   "metadata": {},
   "outputs": [],
   "source": [
    "destinationclick=driver.find_element_by_xpath('/html/body/div[1]/div[2]/section/div[2]/div/div[3]/div/ul/div/div[1]/li/div/div[1]/div[1]')\n",
    "destinationclick.click()"
   ]
  },
  {
   "cell_type": "code",
   "execution_count": 69,
   "id": "43c8854e",
   "metadata": {},
   "outputs": [],
   "source": [
    "searchbtn=driver.find_element_by_xpath('/html/body/div[1]/div[2]/section/div[2]/button')\n",
    "searchbtn.click()"
   ]
  },
  {
   "cell_type": "code",
   "execution_count": 70,
   "id": "102962b5",
   "metadata": {},
   "outputs": [],
   "source": [
    "try:\n",
    "    airlinetags=driver.find_elements_by_xpath('//span[@class=\"font13 padL5 black\"]')\n",
    "    for i in airlinetags:\n",
    "        Airline.append(i.text)\n",
    "except :\n",
    "    Airline.append('-')\n",
    "    \n",
    "try:\n",
    "    sourcetags=driver.find_elements_by_xpath('//div[@class=\"srp-card-uistyles__Dep-sc-3flq99-11 gReLze flexCol\"]/div')\n",
    "    for i in sourcetags:\n",
    "        Source.append(i.text)\n",
    "except:\n",
    "    Source.append('-')\n",
    "    \n",
    "try:\n",
    "    desttags=driver.find_elements_by_xpath('//div[@class=\"srp-card-uistyles__Dep-sc-3flq99-11 srp-card-uistyles__Arr-sc-3flq99-14 gReLze evBigc flexCol\"]/div[1]')\n",
    "    for i in desttags:\n",
    "        Destination.append(i.text)\n",
    "except:\n",
    "    Destination.append('-')\n",
    "    \n",
    "try:\n",
    "    durtags=driver.find_elements_by_xpath('//span[@class=\"srp-card-uistyles__DurTime-sc-3flq99-16 jVRTyZ fb padT10\"]')\n",
    "    for i in durtags:\n",
    "        Duration.append(i.text)\n",
    "except:\n",
    "    Duration.append('-')\n",
    "    \n",
    "try:\n",
    "    deptags=driver.find_elements_by_xpath('//span[@class=\"srp-card-uistyles__Time-sc-3flq99-15 dsonii padT10 fb\"]')\n",
    "    for i in deptags:\n",
    "        Departure.append(i.text)\n",
    "except:\n",
    "    Departure.append('-')\n",
    "    \n",
    "try:\n",
    "    arrivaltags=driver.find_elements_by_xpath('//span[@class=\"srp-card-uistyles__Time-sc-3flq99-15 dsonii fb  padT10\"]')\n",
    "    for i in arrivaltags:\n",
    "        Arrival.append(i.text)\n",
    "except:\n",
    "    Arrival.append('-')\n",
    "    \n",
    "try:\n",
    "    pricetags=driver.find_elements_by_xpath('//div[@class=\"srp-card-uistyles__Price-sc-3flq99-17 jJioUu alignItemsCenter dF fb lh1 padT5\"]')\n",
    "    for i in pricetags:\n",
    "        Price.append(i.text.replace(',',''))\n",
    "except:\n",
    "    Price.append('-')"
   ]
  },
  {
   "cell_type": "markdown",
   "id": "1b0136b0",
   "metadata": {},
   "source": [
    "### From Mumbai to Maldives"
   ]
  },
  {
   "cell_type": "code",
   "execution_count": 71,
   "id": "014d8e49",
   "metadata": {},
   "outputs": [],
   "source": [
    "destinationfield=driver.find_element_by_xpath('/html/body/div[1]/div[2]/section/div[2]/div/div[3]/div/div/input')\n",
    "destinationfield.send_keys('Maldives')"
   ]
  },
  {
   "cell_type": "code",
   "execution_count": 72,
   "id": "c0050e66",
   "metadata": {},
   "outputs": [],
   "source": [
    "destinationclick=driver.find_element_by_xpath('/html/body/div[1]/div[2]/section/div[2]/div/div[3]/div/ul/div/div[1]/li/div/div[1]/div[1]')\n",
    "destinationclick.click()"
   ]
  },
  {
   "cell_type": "code",
   "execution_count": 73,
   "id": "240db5db",
   "metadata": {},
   "outputs": [],
   "source": [
    "searchbtn=driver.find_element_by_xpath('/html/body/div[1]/div[2]/section/div[2]/button')\n",
    "searchbtn.click()"
   ]
  },
  {
   "cell_type": "code",
   "execution_count": 74,
   "id": "6eec95d5",
   "metadata": {},
   "outputs": [],
   "source": [
    "try:\n",
    "    airlinetags=driver.find_elements_by_xpath('//span[@class=\"font13 padL5 black\"]')\n",
    "    for i in airlinetags:\n",
    "        Airline.append(i.text)\n",
    "except :\n",
    "    Airline.append('-')\n",
    "    \n",
    "try:\n",
    "    sourcetags=driver.find_elements_by_xpath('//div[@class=\"srp-card-uistyles__Dep-sc-3flq99-11 gReLze flexCol\"]/div')\n",
    "    for i in sourcetags:\n",
    "        Source.append(i.text)\n",
    "except:\n",
    "    Source.append('-')\n",
    "    \n",
    "try:\n",
    "    desttags=driver.find_elements_by_xpath('//div[@class=\"srp-card-uistyles__Dep-sc-3flq99-11 srp-card-uistyles__Arr-sc-3flq99-14 gReLze evBigc flexCol\"]/div[1]')\n",
    "    for i in desttags:\n",
    "        Destination.append(i.text)\n",
    "except:\n",
    "    Destination.append('-')\n",
    "    \n",
    "try:\n",
    "    durtags=driver.find_elements_by_xpath('//span[@class=\"srp-card-uistyles__DurTime-sc-3flq99-16 jVRTyZ fb padT10\"]')\n",
    "    for i in durtags:\n",
    "        Duration.append(i.text)\n",
    "except:\n",
    "    Duration.append('-')\n",
    "    \n",
    "try:\n",
    "    deptags=driver.find_elements_by_xpath('//span[@class=\"srp-card-uistyles__Time-sc-3flq99-15 dsonii padT10 fb\"]')\n",
    "    for i in deptags:\n",
    "        Departure.append(i.text)\n",
    "except:\n",
    "    Departure.append('-')\n",
    "    \n",
    "try:\n",
    "    arrivaltags=driver.find_elements_by_xpath('//span[@class=\"srp-card-uistyles__Time-sc-3flq99-15 dsonii fb  padT10\"]')\n",
    "    for i in arrivaltags:\n",
    "        Arrival.append(i.text)\n",
    "except:\n",
    "    Arrival.append('-')\n",
    "    \n",
    "try:\n",
    "    pricetags=driver.find_elements_by_xpath('//div[@class=\"srp-card-uistyles__Price-sc-3flq99-17 jJioUu alignItemsCenter dF fb lh1 padT5\"]')\n",
    "    for i in pricetags:\n",
    "        Price.append(i.text.replace(',',''))\n",
    "except:\n",
    "    Price.append('-')"
   ]
  },
  {
   "cell_type": "markdown",
   "id": "24f0e505",
   "metadata": {},
   "source": [
    "### From Mumbai to Dubai"
   ]
  },
  {
   "cell_type": "code",
   "execution_count": 75,
   "id": "f04b4926",
   "metadata": {},
   "outputs": [],
   "source": [
    "destinationfield=driver.find_element_by_xpath('/html/body/div[1]/div[2]/section/div[2]/div/div[3]/div/div/input')\n",
    "destinationfield.send_keys('Dubai')"
   ]
  },
  {
   "cell_type": "code",
   "execution_count": 76,
   "id": "3e000020",
   "metadata": {},
   "outputs": [],
   "source": [
    "destinationclick=driver.find_element_by_xpath('/html/body/div[1]/div[2]/section/div[2]/div/div[3]/div/ul/div/div[1]/li/div/div[1]/div[1]')\n",
    "destinationclick.click()"
   ]
  },
  {
   "cell_type": "code",
   "execution_count": 77,
   "id": "e715b79a",
   "metadata": {},
   "outputs": [],
   "source": [
    "searchbtn=driver.find_element_by_xpath('/html/body/div[1]/div[2]/section/div[2]/button')\n",
    "searchbtn.click()"
   ]
  },
  {
   "cell_type": "code",
   "execution_count": 78,
   "id": "98248a1b",
   "metadata": {},
   "outputs": [],
   "source": [
    "try:\n",
    "    airlinetags=driver.find_elements_by_xpath('//span[@class=\"font13 padL5 black\"]')\n",
    "    for i in airlinetags:\n",
    "        Airline.append(i.text)\n",
    "except :\n",
    "    Airline.append('-')\n",
    "    \n",
    "try:\n",
    "    sourcetags=driver.find_elements_by_xpath('//div[@class=\"srp-card-uistyles__Dep-sc-3flq99-11 gReLze flexCol\"]/div')\n",
    "    for i in sourcetags:\n",
    "        Source.append(i.text)\n",
    "except:\n",
    "    Source.append('-')\n",
    "    \n",
    "try:\n",
    "    desttags=driver.find_elements_by_xpath('//div[@class=\"srp-card-uistyles__Dep-sc-3flq99-11 srp-card-uistyles__Arr-sc-3flq99-14 gReLze evBigc flexCol\"]/div[1]')\n",
    "    for i in desttags:\n",
    "        Destination.append(i.text)\n",
    "except:\n",
    "    Destination.append('-')\n",
    "    \n",
    "try:\n",
    "    durtags=driver.find_elements_by_xpath('//span[@class=\"srp-card-uistyles__DurTime-sc-3flq99-16 jVRTyZ fb padT10\"]')\n",
    "    for i in durtags:\n",
    "        Duration.append(i.text)\n",
    "except:\n",
    "    Duration.append('-')\n",
    "    \n",
    "try:\n",
    "    deptags=driver.find_elements_by_xpath('//span[@class=\"srp-card-uistyles__Time-sc-3flq99-15 dsonii padT10 fb\"]')\n",
    "    for i in deptags:\n",
    "        Departure.append(i.text)\n",
    "except:\n",
    "    Departure.append('-')\n",
    "    \n",
    "try:\n",
    "    arrivaltags=driver.find_elements_by_xpath('//span[@class=\"srp-card-uistyles__Time-sc-3flq99-15 dsonii fb  padT10\"]')\n",
    "    for i in arrivaltags:\n",
    "        Arrival.append(i.text)\n",
    "except:\n",
    "    Arrival.append('-')\n",
    "    \n",
    "try:\n",
    "    pricetags=driver.find_elements_by_xpath('//div[@class=\"srp-card-uistyles__Price-sc-3flq99-17 jJioUu alignItemsCenter dF fb lh1 padT5\"]')\n",
    "    for i in pricetags:\n",
    "        Price.append(i.text.replace(',',''))\n",
    "except:\n",
    "    Price.append('-')"
   ]
  },
  {
   "cell_type": "markdown",
   "id": "e57dfb6f",
   "metadata": {},
   "source": [
    "### From Mumbai to Canada"
   ]
  },
  {
   "cell_type": "code",
   "execution_count": 79,
   "id": "b0528f57",
   "metadata": {},
   "outputs": [],
   "source": [
    "destinationfield=driver.find_element_by_xpath('/html/body/div[1]/div[2]/section/div[2]/div/div[3]/div/div/input')\n",
    "destinationfield.send_keys('Canada')"
   ]
  },
  {
   "cell_type": "code",
   "execution_count": 80,
   "id": "e7708a8d",
   "metadata": {},
   "outputs": [],
   "source": [
    "destinationclick=driver.find_element_by_xpath('/html/body/div[1]/div[2]/section/div[2]/div/div[3]/div/ul/div/div[1]/li/div/div[1]/div[1]')\n",
    "destinationclick.click()"
   ]
  },
  {
   "cell_type": "code",
   "execution_count": 81,
   "id": "395022ae",
   "metadata": {},
   "outputs": [],
   "source": [
    "searchbtn=driver.find_element_by_xpath('/html/body/div[1]/div[2]/section/div[2]/button')\n",
    "searchbtn.click()"
   ]
  },
  {
   "cell_type": "code",
   "execution_count": 82,
   "id": "c807a75b",
   "metadata": {},
   "outputs": [],
   "source": [
    "try:\n",
    "    airlinetags=driver.find_elements_by_xpath('//span[@class=\"font13 padL5 black\"]')\n",
    "    for i in airlinetags:\n",
    "        Airline.append(i.text)\n",
    "except :\n",
    "    Airline.append('-')\n",
    "    \n",
    "try:\n",
    "    sourcetags=driver.find_elements_by_xpath('//div[@class=\"srp-card-uistyles__Dep-sc-3flq99-11 gReLze flexCol\"]/div')\n",
    "    for i in sourcetags:\n",
    "        Source.append(i.text)\n",
    "except:\n",
    "    Source.append('-')\n",
    "    \n",
    "try:\n",
    "    desttags=driver.find_elements_by_xpath('//div[@class=\"srp-card-uistyles__Dep-sc-3flq99-11 srp-card-uistyles__Arr-sc-3flq99-14 gReLze evBigc flexCol\"]/div[1]')\n",
    "    for i in desttags:\n",
    "        Destination.append(i.text)\n",
    "except:\n",
    "    Destination.append('-')\n",
    "    \n",
    "try:\n",
    "    durtags=driver.find_elements_by_xpath('//span[@class=\"srp-card-uistyles__DurTime-sc-3flq99-16 jVRTyZ fb padT10\"]')\n",
    "    for i in durtags:\n",
    "        Duration.append(i.text)\n",
    "except:\n",
    "    Duration.append('-')\n",
    "    \n",
    "try:\n",
    "    deptags=driver.find_elements_by_xpath('//span[@class=\"srp-card-uistyles__Time-sc-3flq99-15 dsonii padT10 fb\"]')\n",
    "    for i in deptags:\n",
    "        Departure.append(i.text)\n",
    "except:\n",
    "    Departure.append('-')\n",
    "    \n",
    "try:\n",
    "    arrivaltags=driver.find_elements_by_xpath('//span[@class=\"srp-card-uistyles__Time-sc-3flq99-15 dsonii fb  padT10\"]')\n",
    "    for i in arrivaltags:\n",
    "        Arrival.append(i.text)\n",
    "except:\n",
    "    Arrival.append('-')\n",
    "    \n",
    "try:\n",
    "    pricetags=driver.find_elements_by_xpath('//div[@class=\"srp-card-uistyles__Price-sc-3flq99-17 jJioUu alignItemsCenter dF fb lh1 padT5\"]')\n",
    "    for i in pricetags:\n",
    "        Price.append(i.text.replace(',',''))\n",
    "except:\n",
    "    Price.append('-')"
   ]
  },
  {
   "cell_type": "markdown",
   "id": "dc697e8b",
   "metadata": {},
   "source": [
    "### From Mumbai to Alle"
   ]
  },
  {
   "cell_type": "code",
   "execution_count": 83,
   "id": "0e743892",
   "metadata": {},
   "outputs": [],
   "source": [
    "destinationfield=driver.find_element_by_xpath('/html/body/div[1]/div[2]/section/div[2]/div/div[3]/div/div/input')\n",
    "destinationfield.send_keys('Boston')"
   ]
  },
  {
   "cell_type": "code",
   "execution_count": 84,
   "id": "62a4d887",
   "metadata": {},
   "outputs": [],
   "source": [
    "destinationclick=driver.find_element_by_xpath('/html/body/div[1]/div[2]/section/div[2]/div/div[3]/div/ul/div/div[1]/li/div/div[1]/div[1]')\n",
    "destinationclick.click()"
   ]
  },
  {
   "cell_type": "code",
   "execution_count": 85,
   "id": "3bcfa2bb",
   "metadata": {},
   "outputs": [],
   "source": [
    "searchbtn=driver.find_element_by_xpath('/html/body/div[1]/div[2]/section/div[2]/button')\n",
    "searchbtn.click()"
   ]
  },
  {
   "cell_type": "code",
   "execution_count": 86,
   "id": "072faaa0",
   "metadata": {},
   "outputs": [],
   "source": [
    "try:\n",
    "    airlinetags=driver.find_elements_by_xpath('//span[@class=\"font13 padL5 black\"]')\n",
    "    for i in airlinetags:\n",
    "        Airline.append(i.text)\n",
    "except :\n",
    "    Airline.append('-')\n",
    "    \n",
    "try:\n",
    "    sourcetags=driver.find_elements_by_xpath('//div[@class=\"srp-card-uistyles__Dep-sc-3flq99-11 gReLze flexCol\"]/div')\n",
    "    for i in sourcetags:\n",
    "        Source.append(i.text)\n",
    "except:\n",
    "    Source.append('-')\n",
    "    \n",
    "try:\n",
    "    desttags=driver.find_elements_by_xpath('//div[@class=\"srp-card-uistyles__Dep-sc-3flq99-11 srp-card-uistyles__Arr-sc-3flq99-14 gReLze evBigc flexCol\"]/div[1]')\n",
    "    for i in desttags:\n",
    "        Destination.append(i.text)\n",
    "except:\n",
    "    Destination.append('-')\n",
    "    \n",
    "try:\n",
    "    durtags=driver.find_elements_by_xpath('//span[@class=\"srp-card-uistyles__DurTime-sc-3flq99-16 jVRTyZ fb padT10\"]')\n",
    "    for i in durtags:\n",
    "        Duration.append(i.text)\n",
    "except:\n",
    "    Duration.append('-')\n",
    "    \n",
    "try:\n",
    "    deptags=driver.find_elements_by_xpath('//span[@class=\"srp-card-uistyles__Time-sc-3flq99-15 dsonii padT10 fb\"]')\n",
    "    for i in deptags:\n",
    "        Departure.append(i.text)\n",
    "except:\n",
    "    Departure.append('-')\n",
    "    \n",
    "try:\n",
    "    arrivaltags=driver.find_elements_by_xpath('//span[@class=\"srp-card-uistyles__Time-sc-3flq99-15 dsonii fb  padT10\"]')\n",
    "    for i in arrivaltags:\n",
    "        Arrival.append(i.text)\n",
    "except:\n",
    "    Arrival.append('-')\n",
    "    \n",
    "try:\n",
    "    pricetags=driver.find_elements_by_xpath('//div[@class=\"srp-card-uistyles__Price-sc-3flq99-17 jJioUu alignItemsCenter dF fb lh1 padT5\"]')\n",
    "    for i in pricetags:\n",
    "        Price.append(i.text.replace(',',''))\n",
    "except:\n",
    "    Price.append('-')"
   ]
  },
  {
   "cell_type": "markdown",
   "id": "2ce3f735",
   "metadata": {},
   "source": [
    "### From Mumbai to Las Vegas"
   ]
  },
  {
   "cell_type": "code",
   "execution_count": 90,
   "id": "344076f3",
   "metadata": {},
   "outputs": [],
   "source": [
    "destinationfield=driver.find_element_by_xpath('/html/body/div[1]/div[2]/section/div[2]/div/div[3]/div/div/input')\n",
    "destinationfield.send_keys('Las Vegas')"
   ]
  },
  {
   "cell_type": "code",
   "execution_count": 91,
   "id": "6f7c7493",
   "metadata": {},
   "outputs": [],
   "source": [
    "destinationclick=driver.find_element_by_xpath('/html/body/div[1]/div[2]/section/div[2]/div/div[3]/div/ul/div/div[1]/li/div/div[1]/div[1]')\n",
    "destinationclick.click()"
   ]
  },
  {
   "cell_type": "code",
   "execution_count": 92,
   "id": "2940d7cd",
   "metadata": {},
   "outputs": [],
   "source": [
    "searchbtn=driver.find_element_by_xpath('/html/body/div[1]/div[2]/section/div[2]/button')\n",
    "searchbtn.click()"
   ]
  },
  {
   "cell_type": "code",
   "execution_count": 93,
   "id": "597fbc59",
   "metadata": {},
   "outputs": [],
   "source": [
    "try:\n",
    "    airlinetags=driver.find_elements_by_xpath('//span[@class=\"font13 padL5 black\"]')\n",
    "    for i in airlinetags:\n",
    "        Airline.append(i.text)\n",
    "except :\n",
    "    Airline.append('-')\n",
    "    \n",
    "try:\n",
    "    sourcetags=driver.find_elements_by_xpath('//div[@class=\"srp-card-uistyles__Dep-sc-3flq99-11 gReLze flexCol\"]/div')\n",
    "    for i in sourcetags:\n",
    "        Source.append(i.text)\n",
    "except:\n",
    "    Source.append('-')\n",
    "    \n",
    "try:\n",
    "    desttags=driver.find_elements_by_xpath('//div[@class=\"srp-card-uistyles__Dep-sc-3flq99-11 srp-card-uistyles__Arr-sc-3flq99-14 gReLze evBigc flexCol\"]/div[1]')\n",
    "    for i in desttags:\n",
    "        Destination.append(i.text)\n",
    "except:\n",
    "    Destination.append('-')\n",
    "    \n",
    "try:\n",
    "    durtags=driver.find_elements_by_xpath('//span[@class=\"srp-card-uistyles__DurTime-sc-3flq99-16 jVRTyZ fb padT10\"]')\n",
    "    for i in durtags:\n",
    "        Duration.append(i.text)\n",
    "except:\n",
    "    Duration.append('-')\n",
    "    \n",
    "try:\n",
    "    deptags=driver.find_elements_by_xpath('//span[@class=\"srp-card-uistyles__Time-sc-3flq99-15 dsonii padT10 fb\"]')\n",
    "    for i in deptags:\n",
    "        Departure.append(i.text)\n",
    "except:\n",
    "    Departure.append('-')\n",
    "    \n",
    "try:\n",
    "    arrivaltags=driver.find_elements_by_xpath('//span[@class=\"srp-card-uistyles__Time-sc-3flq99-15 dsonii fb  padT10\"]')\n",
    "    for i in arrivaltags:\n",
    "        Arrival.append(i.text)\n",
    "except:\n",
    "    Arrival.append('-')\n",
    "    \n",
    "try:\n",
    "    pricetags=driver.find_elements_by_xpath('//div[@class=\"srp-card-uistyles__Price-sc-3flq99-17 jJioUu alignItemsCenter dF fb lh1 padT5\"]')\n",
    "    for i in pricetags:\n",
    "        Price.append(i.text.replace(',',''))\n",
    "except:\n",
    "    Price.append('-')"
   ]
  },
  {
   "cell_type": "markdown",
   "id": "6fc3a5bd",
   "metadata": {},
   "source": [
    "### From Mumbai to Sanfrancisco"
   ]
  },
  {
   "cell_type": "code",
   "execution_count": 94,
   "id": "c2355aec",
   "metadata": {},
   "outputs": [],
   "source": [
    "destinationfield=driver.find_element_by_xpath('/html/body/div[1]/div[2]/section/div[2]/div/div[3]/div/div/input')\n",
    "destinationfield.send_keys('Sanfrancisco')"
   ]
  },
  {
   "cell_type": "code",
   "execution_count": 95,
   "id": "bf622ccb",
   "metadata": {},
   "outputs": [],
   "source": [
    "destinationclick=driver.find_element_by_xpath('/html/body/div[1]/div[2]/section/div[2]/div/div[3]/div/ul/div/div[1]/li/div/div[1]/div[1]')\n",
    "destinationclick.click()"
   ]
  },
  {
   "cell_type": "code",
   "execution_count": 96,
   "id": "9e3a001f",
   "metadata": {},
   "outputs": [],
   "source": [
    "searchbtn=driver.find_element_by_xpath('/html/body/div[1]/div[2]/section/div[2]/button')\n",
    "searchbtn.click()"
   ]
  },
  {
   "cell_type": "code",
   "execution_count": 97,
   "id": "756984ea",
   "metadata": {},
   "outputs": [],
   "source": [
    "try:\n",
    "    airlinetags=driver.find_elements_by_xpath('//span[@class=\"font13 padL5 black\"]')\n",
    "    for i in airlinetags:\n",
    "        Airline.append(i.text)\n",
    "except :\n",
    "    Airline.append('-')\n",
    "    \n",
    "try:\n",
    "    sourcetags=driver.find_elements_by_xpath('//div[@class=\"srp-card-uistyles__Dep-sc-3flq99-11 gReLze flexCol\"]/div')\n",
    "    for i in sourcetags:\n",
    "        Source.append(i.text)\n",
    "except:\n",
    "    Source.append('-')\n",
    "    \n",
    "try:\n",
    "    desttags=driver.find_elements_by_xpath('//div[@class=\"srp-card-uistyles__Dep-sc-3flq99-11 srp-card-uistyles__Arr-sc-3flq99-14 gReLze evBigc flexCol\"]/div[1]')\n",
    "    for i in desttags:\n",
    "        Destination.append(i.text)\n",
    "except:\n",
    "    Destination.append('-')\n",
    "    \n",
    "try:\n",
    "    durtags=driver.find_elements_by_xpath('//span[@class=\"srp-card-uistyles__DurTime-sc-3flq99-16 jVRTyZ fb padT10\"]')\n",
    "    for i in durtags:\n",
    "        Duration.append(i.text)\n",
    "except:\n",
    "    Duration.append('-')\n",
    "    \n",
    "try:\n",
    "    deptags=driver.find_elements_by_xpath('//span[@class=\"srp-card-uistyles__Time-sc-3flq99-15 dsonii padT10 fb\"]')\n",
    "    for i in deptags:\n",
    "        Departure.append(i.text)\n",
    "except:\n",
    "    Departure.append('-')\n",
    "    \n",
    "try:\n",
    "    arrivaltags=driver.find_elements_by_xpath('//span[@class=\"srp-card-uistyles__Time-sc-3flq99-15 dsonii fb  padT10\"]')\n",
    "    for i in arrivaltags:\n",
    "        Arrival.append(i.text)\n",
    "except:\n",
    "    Arrival.append('-')\n",
    "    \n",
    "try:\n",
    "    pricetags=driver.find_elements_by_xpath('//div[@class=\"srp-card-uistyles__Price-sc-3flq99-17 jJioUu alignItemsCenter dF fb lh1 padT5\"]')\n",
    "    for i in pricetags:\n",
    "        Price.append(i.text.replace(',',''))\n",
    "except:\n",
    "    Price.append('-')"
   ]
  },
  {
   "cell_type": "markdown",
   "id": "20142861",
   "metadata": {},
   "source": [
    "### From Mumbai to Atlanta"
   ]
  },
  {
   "cell_type": "code",
   "execution_count": 98,
   "id": "04f7b171",
   "metadata": {},
   "outputs": [],
   "source": [
    "destinationfield=driver.find_element_by_xpath('/html/body/div[1]/div[2]/section/div[2]/div/div[3]/div/div/input')\n",
    "destinationfield.send_keys('Atlanta')"
   ]
  },
  {
   "cell_type": "code",
   "execution_count": 99,
   "id": "bdd67685",
   "metadata": {},
   "outputs": [],
   "source": [
    "destinationclick=driver.find_element_by_xpath('/html/body/div[1]/div[2]/section/div[2]/div/div[3]/div/ul/div/div[1]/li/div/div[1]/div[1]')\n",
    "destinationclick.click()"
   ]
  },
  {
   "cell_type": "code",
   "execution_count": 100,
   "id": "e2536140",
   "metadata": {},
   "outputs": [],
   "source": [
    "searchbtn=driver.find_element_by_xpath('/html/body/div[1]/div[2]/section/div[2]/button')\n",
    "searchbtn.click()"
   ]
  },
  {
   "cell_type": "code",
   "execution_count": 101,
   "id": "9a403139",
   "metadata": {},
   "outputs": [],
   "source": [
    "try:\n",
    "    airlinetags=driver.find_elements_by_xpath('//span[@class=\"font13 padL5 black\"]')\n",
    "    for i in airlinetags:\n",
    "        Airline.append(i.text)\n",
    "except :\n",
    "    Airline.append('-')\n",
    "    \n",
    "try:\n",
    "    sourcetags=driver.find_elements_by_xpath('//div[@class=\"srp-card-uistyles__Dep-sc-3flq99-11 gReLze flexCol\"]/div')\n",
    "    for i in sourcetags:\n",
    "        Source.append(i.text)\n",
    "except:\n",
    "    Source.append('-')\n",
    "    \n",
    "try:\n",
    "    desttags=driver.find_elements_by_xpath('//div[@class=\"srp-card-uistyles__Dep-sc-3flq99-11 srp-card-uistyles__Arr-sc-3flq99-14 gReLze evBigc flexCol\"]/div[1]')\n",
    "    for i in desttags:\n",
    "        Destination.append(i.text)\n",
    "except:\n",
    "    Destination.append('-')\n",
    "    \n",
    "try:\n",
    "    durtags=driver.find_elements_by_xpath('//span[@class=\"srp-card-uistyles__DurTime-sc-3flq99-16 jVRTyZ fb padT10\"]')\n",
    "    for i in durtags:\n",
    "        Duration.append(i.text)\n",
    "except:\n",
    "    Duration.append('-')\n",
    "    \n",
    "try:\n",
    "    deptags=driver.find_elements_by_xpath('//span[@class=\"srp-card-uistyles__Time-sc-3flq99-15 dsonii padT10 fb\"]')\n",
    "    for i in deptags:\n",
    "        Departure.append(i.text)\n",
    "except:\n",
    "    Departure.append('-')\n",
    "    \n",
    "try:\n",
    "    arrivaltags=driver.find_elements_by_xpath('//span[@class=\"srp-card-uistyles__Time-sc-3flq99-15 dsonii fb  padT10\"]')\n",
    "    for i in arrivaltags:\n",
    "        Arrival.append(i.text)\n",
    "except:\n",
    "    Arrival.append('-')\n",
    "    \n",
    "try:\n",
    "    pricetags=driver.find_elements_by_xpath('//div[@class=\"srp-card-uistyles__Price-sc-3flq99-17 jJioUu alignItemsCenter dF fb lh1 padT5\"]')\n",
    "    for i in pricetags:\n",
    "        Price.append(i.text.replace(',',''))\n",
    "except:\n",
    "    Price.append('-')"
   ]
  },
  {
   "cell_type": "markdown",
   "id": "b6b8d210",
   "metadata": {},
   "source": [
    "### From New Delhi to Los Angeles"
   ]
  },
  {
   "cell_type": "code",
   "execution_count": 102,
   "id": "5e5b1909",
   "metadata": {},
   "outputs": [],
   "source": [
    "source=driver.find_element_by_xpath('/html/body/div[1]/div[2]/section/div[2]/div/div[1]/div/div/input')\n",
    "source.send_keys('New Delhi')\n"
   ]
  },
  {
   "cell_type": "code",
   "execution_count": 103,
   "id": "9c44e63a",
   "metadata": {},
   "outputs": [],
   "source": [
    "sourceclick=driver.find_element_by_xpath('/html/body/div[1]/div[2]/section/div[2]/div/div[1]/div/ul/div/div[1]/li/div/div[1]/div[1]')\n",
    "sourceclick.click()"
   ]
  },
  {
   "cell_type": "code",
   "execution_count": 104,
   "id": "7048eaf8",
   "metadata": {},
   "outputs": [],
   "source": [
    "destinationfield=driver.find_element_by_xpath('/html/body/div[1]/div[2]/section/div[2]/div/div[3]/div/div/input')\n",
    "destinationfield.send_keys('Los Angeles')"
   ]
  },
  {
   "cell_type": "code",
   "execution_count": 105,
   "id": "efd671c2",
   "metadata": {},
   "outputs": [],
   "source": [
    "destinationclick=driver.find_element_by_xpath('/html/body/div[1]/div[2]/section/div[2]/div/div[3]/div/ul/div/div[1]/li/div/div[1]/div[1]')\n",
    "destinationclick.click()"
   ]
  },
  {
   "cell_type": "code",
   "execution_count": 106,
   "id": "fe6e1724",
   "metadata": {},
   "outputs": [],
   "source": [
    "searchbtn=driver.find_element_by_xpath('/html/body/div[1]/div[2]/section/div[2]/button')\n",
    "searchbtn.click()"
   ]
  },
  {
   "cell_type": "code",
   "execution_count": 107,
   "id": "f00c5174",
   "metadata": {},
   "outputs": [],
   "source": [
    "try:\n",
    "    airlinetags=driver.find_elements_by_xpath('//span[@class=\"font13 padL5 black\"]')\n",
    "    for i in airlinetags:\n",
    "        Airline.append(i.text)\n",
    "except :\n",
    "    Airline.append('-')\n",
    "    \n",
    "try:\n",
    "    sourcetags=driver.find_elements_by_xpath('//div[@class=\"srp-card-uistyles__Dep-sc-3flq99-11 gReLze flexCol\"]/div')\n",
    "    for i in sourcetags:\n",
    "        Source.append(i.text)\n",
    "except:\n",
    "    Source.append('-')\n",
    "    \n",
    "try:\n",
    "    desttags=driver.find_elements_by_xpath('//div[@class=\"srp-card-uistyles__Dep-sc-3flq99-11 srp-card-uistyles__Arr-sc-3flq99-14 gReLze evBigc flexCol\"]/div[1]')\n",
    "    for i in desttags:\n",
    "        Destination.append(i.text)\n",
    "except:\n",
    "    Destination.append('-')\n",
    "    \n",
    "try:\n",
    "    durtags=driver.find_elements_by_xpath('//span[@class=\"srp-card-uistyles__DurTime-sc-3flq99-16 jVRTyZ fb padT10\"]')\n",
    "    for i in durtags:\n",
    "        Duration.append(i.text)\n",
    "except:\n",
    "    Duration.append('-')\n",
    "    \n",
    "try:\n",
    "    deptags=driver.find_elements_by_xpath('//span[@class=\"srp-card-uistyles__Time-sc-3flq99-15 dsonii padT10 fb\"]')\n",
    "    for i in deptags:\n",
    "        Departure.append(i.text)\n",
    "except:\n",
    "    Departure.append('-')\n",
    "    \n",
    "try:\n",
    "    arrivaltags=driver.find_elements_by_xpath('//span[@class=\"srp-card-uistyles__Time-sc-3flq99-15 dsonii fb  padT10\"]')\n",
    "    for i in arrivaltags:\n",
    "        Arrival.append(i.text)\n",
    "except:\n",
    "    Arrival.append('-')\n",
    "    \n",
    "try:\n",
    "    pricetags=driver.find_elements_by_xpath('//div[@class=\"srp-card-uistyles__Price-sc-3flq99-17 jJioUu alignItemsCenter dF fb lh1 padT5\"]')\n",
    "    for i in pricetags:\n",
    "        Price.append(i.text.replace(',',''))\n",
    "except:\n",
    "    Price.append('-')"
   ]
  },
  {
   "cell_type": "markdown",
   "id": "85956d41",
   "metadata": {},
   "source": [
    "### From New Delhi to Las vegas"
   ]
  },
  {
   "cell_type": "code",
   "execution_count": 108,
   "id": "c4da1371",
   "metadata": {},
   "outputs": [],
   "source": [
    "destinationfield=driver.find_element_by_xpath('/html/body/div[1]/div[2]/section/div[2]/div/div[3]/div/div/input')\n",
    "destinationfield.send_keys('Las Vegas')"
   ]
  },
  {
   "cell_type": "code",
   "execution_count": 109,
   "id": "500587fa",
   "metadata": {},
   "outputs": [],
   "source": [
    "destinationclick=driver.find_element_by_xpath('/html/body/div[1]/div[2]/section/div[2]/div/div[3]/div/ul/div/div[1]/li/div/div[1]/div[1]')\n",
    "destinationclick.click()"
   ]
  },
  {
   "cell_type": "code",
   "execution_count": 110,
   "id": "0fe3fcf6",
   "metadata": {},
   "outputs": [],
   "source": [
    "searchbtn=driver.find_element_by_xpath('/html/body/div[1]/div[2]/section/div[2]/button')\n",
    "searchbtn.click()"
   ]
  },
  {
   "cell_type": "code",
   "execution_count": 111,
   "id": "9f4ec887",
   "metadata": {},
   "outputs": [],
   "source": [
    "try:\n",
    "    airlinetags=driver.find_elements_by_xpath('//span[@class=\"font13 padL5 black\"]')\n",
    "    for i in airlinetags:\n",
    "        Airline.append(i.text)\n",
    "except :\n",
    "    Airline.append('-')\n",
    "    \n",
    "try:\n",
    "    sourcetags=driver.find_elements_by_xpath('//div[@class=\"srp-card-uistyles__Dep-sc-3flq99-11 gReLze flexCol\"]/div')\n",
    "    for i in sourcetags:\n",
    "        Source.append(i.text)\n",
    "except:\n",
    "    Source.append('-')\n",
    "    \n",
    "try:\n",
    "    desttags=driver.find_elements_by_xpath('//div[@class=\"srp-card-uistyles__Dep-sc-3flq99-11 srp-card-uistyles__Arr-sc-3flq99-14 gReLze evBigc flexCol\"]/div[1]')\n",
    "    for i in desttags:\n",
    "        Destination.append(i.text)\n",
    "except:\n",
    "    Destination.append('-')\n",
    "    \n",
    "try:\n",
    "    durtags=driver.find_elements_by_xpath('//span[@class=\"srp-card-uistyles__DurTime-sc-3flq99-16 jVRTyZ fb padT10\"]')\n",
    "    for i in durtags:\n",
    "        Duration.append(i.text)\n",
    "except:\n",
    "    Duration.append('-')\n",
    "    \n",
    "try:\n",
    "    deptags=driver.find_elements_by_xpath('//span[@class=\"srp-card-uistyles__Time-sc-3flq99-15 dsonii padT10 fb\"]')\n",
    "    for i in deptags:\n",
    "        Departure.append(i.text)\n",
    "except:\n",
    "    Departure.append('-')\n",
    "    \n",
    "try:\n",
    "    arrivaltags=driver.find_elements_by_xpath('//span[@class=\"srp-card-uistyles__Time-sc-3flq99-15 dsonii fb  padT10\"]')\n",
    "    for i in arrivaltags:\n",
    "        Arrival.append(i.text)\n",
    "except:\n",
    "    Arrival.append('-')\n",
    "    \n",
    "try:\n",
    "    pricetags=driver.find_elements_by_xpath('//div[@class=\"srp-card-uistyles__Price-sc-3flq99-17 jJioUu alignItemsCenter dF fb lh1 padT5\"]')\n",
    "    for i in pricetags:\n",
    "        Price.append(i.text.replace(',',''))\n",
    "except:\n",
    "    Price.append('-')"
   ]
  },
  {
   "cell_type": "markdown",
   "id": "23add777",
   "metadata": {},
   "source": [
    "### From New Delhi to Boston"
   ]
  },
  {
   "cell_type": "code",
   "execution_count": 112,
   "id": "7516c437",
   "metadata": {},
   "outputs": [],
   "source": [
    "destinationfield=driver.find_element_by_xpath('/html/body/div[1]/div[2]/section/div[2]/div/div[3]/div/div/input')\n",
    "destinationfield.send_keys('Boston')"
   ]
  },
  {
   "cell_type": "code",
   "execution_count": 113,
   "id": "fc1793d8",
   "metadata": {},
   "outputs": [],
   "source": [
    "destinationclick=driver.find_element_by_xpath('/html/body/div[1]/div[2]/section/div[2]/div/div[3]/div/ul/div/div[1]/li/div/div[1]/div[1]')\n",
    "destinationclick.click()"
   ]
  },
  {
   "cell_type": "code",
   "execution_count": 114,
   "id": "f30c6daa",
   "metadata": {},
   "outputs": [],
   "source": [
    "searchbtn=driver.find_element_by_xpath('/html/body/div[1]/div[2]/section/div[2]/button')\n",
    "searchbtn.click()"
   ]
  },
  {
   "cell_type": "code",
   "execution_count": 115,
   "id": "65962e3a",
   "metadata": {},
   "outputs": [],
   "source": [
    "try:\n",
    "    airlinetags=driver.find_elements_by_xpath('//span[@class=\"font13 padL5 black\"]')\n",
    "    for i in airlinetags:\n",
    "        Airline.append(i.text)\n",
    "except :\n",
    "    Airline.append('-')\n",
    "    \n",
    "try:\n",
    "    sourcetags=driver.find_elements_by_xpath('//div[@class=\"srp-card-uistyles__Dep-sc-3flq99-11 gReLze flexCol\"]/div')\n",
    "    for i in sourcetags:\n",
    "        Source.append(i.text)\n",
    "except:\n",
    "    Source.append('-')\n",
    "    \n",
    "try:\n",
    "    desttags=driver.find_elements_by_xpath('//div[@class=\"srp-card-uistyles__Dep-sc-3flq99-11 srp-card-uistyles__Arr-sc-3flq99-14 gReLze evBigc flexCol\"]/div[1]')\n",
    "    for i in desttags:\n",
    "        Destination.append(i.text)\n",
    "except:\n",
    "    Destination.append('-')\n",
    "    \n",
    "try:\n",
    "    durtags=driver.find_elements_by_xpath('//span[@class=\"srp-card-uistyles__DurTime-sc-3flq99-16 jVRTyZ fb padT10\"]')\n",
    "    for i in durtags:\n",
    "        Duration.append(i.text)\n",
    "except:\n",
    "    Duration.append('-')\n",
    "    \n",
    "try:\n",
    "    deptags=driver.find_elements_by_xpath('//span[@class=\"srp-card-uistyles__Time-sc-3flq99-15 dsonii padT10 fb\"]')\n",
    "    for i in deptags:\n",
    "        Departure.append(i.text)\n",
    "except:\n",
    "    Departure.append('-')\n",
    "    \n",
    "try:\n",
    "    arrivaltags=driver.find_elements_by_xpath('//span[@class=\"srp-card-uistyles__Time-sc-3flq99-15 dsonii fb  padT10\"]')\n",
    "    for i in arrivaltags:\n",
    "        Arrival.append(i.text)\n",
    "except:\n",
    "    Arrival.append('-')\n",
    "    \n",
    "try:\n",
    "    pricetags=driver.find_elements_by_xpath('//div[@class=\"srp-card-uistyles__Price-sc-3flq99-17 jJioUu alignItemsCenter dF fb lh1 padT5\"]')\n",
    "    for i in pricetags:\n",
    "        Price.append(i.text.replace(',',''))\n",
    "except:\n",
    "    Price.append('-')"
   ]
  },
  {
   "cell_type": "markdown",
   "id": "62d82db6",
   "metadata": {},
   "source": [
    "### From New Delhi to San Francisco"
   ]
  },
  {
   "cell_type": "code",
   "execution_count": 119,
   "id": "276509eb",
   "metadata": {},
   "outputs": [],
   "source": [
    "destinationfield=driver.find_element_by_xpath('/html/body/div[1]/div[2]/section/div[2]/div/div[3]/div/div/input')\n",
    "destinationfield.send_keys('San Francisco')"
   ]
  },
  {
   "cell_type": "code",
   "execution_count": 120,
   "id": "319d9605",
   "metadata": {},
   "outputs": [],
   "source": [
    "destinationclick=driver.find_element_by_xpath('/html/body/div[1]/div[2]/section/div[2]/div/div[3]/div/ul/div/div[1]/li/div/div[1]/div[1]')\n",
    "destinationclick.click()"
   ]
  },
  {
   "cell_type": "code",
   "execution_count": 121,
   "id": "6dfabe9a",
   "metadata": {},
   "outputs": [],
   "source": [
    "searchbtn=driver.find_element_by_xpath('/html/body/div[1]/div[2]/section/div[2]/button')\n",
    "searchbtn.click()"
   ]
  },
  {
   "cell_type": "code",
   "execution_count": 122,
   "id": "8d614a1d",
   "metadata": {},
   "outputs": [],
   "source": [
    "try:\n",
    "    airlinetags=driver.find_elements_by_xpath('//span[@class=\"font13 padL5 black\"]')\n",
    "    for i in airlinetags:\n",
    "        Airline.append(i.text)\n",
    "except :\n",
    "    Airline.append('-')\n",
    "    \n",
    "try:\n",
    "    sourcetags=driver.find_elements_by_xpath('//div[@class=\"srp-card-uistyles__Dep-sc-3flq99-11 gReLze flexCol\"]/div')\n",
    "    for i in sourcetags:\n",
    "        Source.append(i.text)\n",
    "except:\n",
    "    Source.append('-')\n",
    "    \n",
    "try:\n",
    "    desttags=driver.find_elements_by_xpath('//div[@class=\"srp-card-uistyles__Dep-sc-3flq99-11 srp-card-uistyles__Arr-sc-3flq99-14 gReLze evBigc flexCol\"]/div[1]')\n",
    "    for i in desttags:\n",
    "        Destination.append(i.text)\n",
    "except:\n",
    "    Destination.append('-')\n",
    "    \n",
    "try:\n",
    "    durtags=driver.find_elements_by_xpath('//span[@class=\"srp-card-uistyles__DurTime-sc-3flq99-16 jVRTyZ fb padT10\"]')\n",
    "    for i in durtags:\n",
    "        Duration.append(i.text)\n",
    "except:\n",
    "    Duration.append('-')\n",
    "    \n",
    "try:\n",
    "    deptags=driver.find_elements_by_xpath('//span[@class=\"srp-card-uistyles__Time-sc-3flq99-15 dsonii padT10 fb\"]')\n",
    "    for i in deptags:\n",
    "        Departure.append(i.text)\n",
    "except:\n",
    "    Departure.append('-')\n",
    "    \n",
    "try:\n",
    "    arrivaltags=driver.find_elements_by_xpath('//span[@class=\"srp-card-uistyles__Time-sc-3flq99-15 dsonii fb  padT10\"]')\n",
    "    for i in arrivaltags:\n",
    "        Arrival.append(i.text)\n",
    "except:\n",
    "    Arrival.append('-')\n",
    "    \n",
    "try:\n",
    "    pricetags=driver.find_elements_by_xpath('//div[@class=\"srp-card-uistyles__Price-sc-3flq99-17 jJioUu alignItemsCenter dF fb lh1 padT5\"]')\n",
    "    for i in pricetags:\n",
    "        Price.append(i.text.replace(',',''))\n",
    "except:\n",
    "    Price.append('-')"
   ]
  },
  {
   "cell_type": "markdown",
   "id": "822fc52b",
   "metadata": {},
   "source": [
    "### From New Delhi to Toronto"
   ]
  },
  {
   "cell_type": "code",
   "execution_count": 123,
   "id": "d33577e8",
   "metadata": {},
   "outputs": [],
   "source": [
    "destinationfield=driver.find_element_by_xpath('/html/body/div[1]/div[2]/section/div[2]/div/div[3]/div/div/input')\n",
    "destinationfield.send_keys('Toronto')"
   ]
  },
  {
   "cell_type": "code",
   "execution_count": 124,
   "id": "bfbd295c",
   "metadata": {},
   "outputs": [],
   "source": [
    "destinationclick=driver.find_element_by_xpath('/html/body/div[1]/div[2]/section/div[2]/div/div[3]/div/ul/div/div[1]/li/div/div[1]/div[1]')\n",
    "destinationclick.click()"
   ]
  },
  {
   "cell_type": "code",
   "execution_count": 125,
   "id": "02653097",
   "metadata": {},
   "outputs": [],
   "source": [
    "searchbtn=driver.find_element_by_xpath('/html/body/div[1]/div[2]/section/div[2]/button')\n",
    "searchbtn.click()"
   ]
  },
  {
   "cell_type": "code",
   "execution_count": 126,
   "id": "6346d8d1",
   "metadata": {},
   "outputs": [],
   "source": [
    "try:\n",
    "    airlinetags=driver.find_elements_by_xpath('//span[@class=\"font13 padL5 black\"]')\n",
    "    for i in airlinetags:\n",
    "        Airline.append(i.text)\n",
    "except :\n",
    "    Airline.append('-')\n",
    "    \n",
    "try:\n",
    "    sourcetags=driver.find_elements_by_xpath('//div[@class=\"srp-card-uistyles__Dep-sc-3flq99-11 gReLze flexCol\"]/div')\n",
    "    for i in sourcetags:\n",
    "        Source.append(i.text)\n",
    "except:\n",
    "    Source.append('-')\n",
    "    \n",
    "try:\n",
    "    desttags=driver.find_elements_by_xpath('//div[@class=\"srp-card-uistyles__Dep-sc-3flq99-11 srp-card-uistyles__Arr-sc-3flq99-14 gReLze evBigc flexCol\"]/div[1]')\n",
    "    for i in desttags:\n",
    "        Destination.append(i.text)\n",
    "except:\n",
    "    Destination.append('-')\n",
    "    \n",
    "try:\n",
    "    durtags=driver.find_elements_by_xpath('//span[@class=\"srp-card-uistyles__DurTime-sc-3flq99-16 jVRTyZ fb padT10\"]')\n",
    "    for i in durtags:\n",
    "        Duration.append(i.text)\n",
    "except:\n",
    "    Duration.append('-')\n",
    "    \n",
    "try:\n",
    "    deptags=driver.find_elements_by_xpath('//span[@class=\"srp-card-uistyles__Time-sc-3flq99-15 dsonii padT10 fb\"]')\n",
    "    for i in deptags:\n",
    "        Departure.append(i.text)\n",
    "except:\n",
    "    Departure.append('-')\n",
    "    \n",
    "try:\n",
    "    arrivaltags=driver.find_elements_by_xpath('//span[@class=\"srp-card-uistyles__Time-sc-3flq99-15 dsonii fb  padT10\"]')\n",
    "    for i in arrivaltags:\n",
    "        Arrival.append(i.text)\n",
    "except:\n",
    "    Arrival.append('-')\n",
    "    \n",
    "try:\n",
    "    pricetags=driver.find_elements_by_xpath('//div[@class=\"srp-card-uistyles__Price-sc-3flq99-17 jJioUu alignItemsCenter dF fb lh1 padT5\"]')\n",
    "    for i in pricetags:\n",
    "        Price.append(i.text.replace(',',''))\n",
    "except:\n",
    "    Price.append('-')"
   ]
  },
  {
   "cell_type": "markdown",
   "id": "68dce7f8",
   "metadata": {},
   "source": [
    "### From New Delhi to Switzerland"
   ]
  },
  {
   "cell_type": "code",
   "execution_count": 127,
   "id": "b2258d91",
   "metadata": {},
   "outputs": [],
   "source": [
    "destinationfield=driver.find_element_by_xpath('/html/body/div[1]/div[2]/section/div[2]/div/div[3]/div/div/input')\n",
    "destinationfield.send_keys('Switzerland')"
   ]
  },
  {
   "cell_type": "code",
   "execution_count": 128,
   "id": "ed5a0524",
   "metadata": {},
   "outputs": [],
   "source": [
    "destinationclick=driver.find_element_by_xpath('/html/body/div[1]/div[2]/section/div[2]/div/div[3]/div/ul/div/div[1]/li/div/div[1]/div[1]')\n",
    "destinationclick.click()"
   ]
  },
  {
   "cell_type": "code",
   "execution_count": 129,
   "id": "7ea53c85",
   "metadata": {},
   "outputs": [],
   "source": [
    "searchbtn=driver.find_element_by_xpath('/html/body/div[1]/div[2]/section/div[2]/button')\n",
    "searchbtn.click()"
   ]
  },
  {
   "cell_type": "code",
   "execution_count": 130,
   "id": "3898f397",
   "metadata": {},
   "outputs": [],
   "source": [
    "try:\n",
    "    airlinetags=driver.find_elements_by_xpath('//span[@class=\"font13 padL5 black\"]')\n",
    "    for i in airlinetags:\n",
    "        Airline.append(i.text)\n",
    "except :\n",
    "    Airline.append('-')\n",
    "    \n",
    "try:\n",
    "    sourcetags=driver.find_elements_by_xpath('//div[@class=\"srp-card-uistyles__Dep-sc-3flq99-11 gReLze flexCol\"]/div')\n",
    "    for i in sourcetags:\n",
    "        Source.append(i.text)\n",
    "except:\n",
    "    Source.append('-')\n",
    "    \n",
    "try:\n",
    "    desttags=driver.find_elements_by_xpath('//div[@class=\"srp-card-uistyles__Dep-sc-3flq99-11 srp-card-uistyles__Arr-sc-3flq99-14 gReLze evBigc flexCol\"]/div[1]')\n",
    "    for i in desttags:\n",
    "        Destination.append(i.text)\n",
    "except:\n",
    "    Destination.append('-')\n",
    "    \n",
    "try:\n",
    "    durtags=driver.find_elements_by_xpath('//span[@class=\"srp-card-uistyles__DurTime-sc-3flq99-16 jVRTyZ fb padT10\"]')\n",
    "    for i in durtags:\n",
    "        Duration.append(i.text)\n",
    "except:\n",
    "    Duration.append('-')\n",
    "    \n",
    "try:\n",
    "    deptags=driver.find_elements_by_xpath('//span[@class=\"srp-card-uistyles__Time-sc-3flq99-15 dsonii padT10 fb\"]')\n",
    "    for i in deptags:\n",
    "        Departure.append(i.text)\n",
    "except:\n",
    "    Departure.append('-')\n",
    "    \n",
    "try:\n",
    "    arrivaltags=driver.find_elements_by_xpath('//span[@class=\"srp-card-uistyles__Time-sc-3flq99-15 dsonii fb  padT10\"]')\n",
    "    for i in arrivaltags:\n",
    "        Arrival.append(i.text)\n",
    "except:\n",
    "    Arrival.append('-')\n",
    "    \n",
    "try:\n",
    "    pricetags=driver.find_elements_by_xpath('//div[@class=\"srp-card-uistyles__Price-sc-3flq99-17 jJioUu alignItemsCenter dF fb lh1 padT5\"]')\n",
    "    for i in pricetags:\n",
    "        Price.append(i.text.replace(',',''))\n",
    "except:\n",
    "    Price.append('-')"
   ]
  },
  {
   "cell_type": "markdown",
   "id": "1f32d32d",
   "metadata": {},
   "source": [
    "### From New Delhi to istanbul"
   ]
  },
  {
   "cell_type": "code",
   "execution_count": 131,
   "id": "b1c99789",
   "metadata": {},
   "outputs": [],
   "source": [
    "destinationfield=driver.find_element_by_xpath('/html/body/div[1]/div[2]/section/div[2]/div/div[3]/div/div/input')\n",
    "destinationfield.send_keys('Istanbul')"
   ]
  },
  {
   "cell_type": "code",
   "execution_count": 132,
   "id": "eae41e01",
   "metadata": {},
   "outputs": [],
   "source": [
    "destinationclick=driver.find_element_by_xpath('/html/body/div[1]/div[2]/section/div[2]/div/div[3]/div/ul/div/div[1]/li/div/div[1]/div[1]')\n",
    "destinationclick.click()"
   ]
  },
  {
   "cell_type": "code",
   "execution_count": 133,
   "id": "c760a5d1",
   "metadata": {},
   "outputs": [],
   "source": [
    "searchbtn=driver.find_element_by_xpath('/html/body/div[1]/div[2]/section/div[2]/button')\n",
    "searchbtn.click()"
   ]
  },
  {
   "cell_type": "code",
   "execution_count": 134,
   "id": "af2314db",
   "metadata": {},
   "outputs": [],
   "source": [
    "try:\n",
    "    airlinetags=driver.find_elements_by_xpath('//span[@class=\"font13 padL5 black\"]')\n",
    "    for i in airlinetags:\n",
    "        Airline.append(i.text)\n",
    "except :\n",
    "    Airline.append('-')\n",
    "    \n",
    "try:\n",
    "    sourcetags=driver.find_elements_by_xpath('//div[@class=\"srp-card-uistyles__Dep-sc-3flq99-11 gReLze flexCol\"]/div')\n",
    "    for i in sourcetags:\n",
    "        Source.append(i.text)\n",
    "except:\n",
    "    Source.append('-')\n",
    "    \n",
    "try:\n",
    "    desttags=driver.find_elements_by_xpath('//div[@class=\"srp-card-uistyles__Dep-sc-3flq99-11 srp-card-uistyles__Arr-sc-3flq99-14 gReLze evBigc flexCol\"]/div[1]')\n",
    "    for i in desttags:\n",
    "        Destination.append(i.text)\n",
    "except:\n",
    "    Destination.append('-')\n",
    "    \n",
    "try:\n",
    "    durtags=driver.find_elements_by_xpath('//span[@class=\"srp-card-uistyles__DurTime-sc-3flq99-16 jVRTyZ fb padT10\"]')\n",
    "    for i in durtags:\n",
    "        Duration.append(i.text)\n",
    "except:\n",
    "    Duration.append('-')\n",
    "    \n",
    "try:\n",
    "    deptags=driver.find_elements_by_xpath('//span[@class=\"srp-card-uistyles__Time-sc-3flq99-15 dsonii padT10 fb\"]')\n",
    "    for i in deptags:\n",
    "        Departure.append(i.text)\n",
    "except:\n",
    "    Departure.append('-')\n",
    "    \n",
    "try:\n",
    "    arrivaltags=driver.find_elements_by_xpath('//span[@class=\"srp-card-uistyles__Time-sc-3flq99-15 dsonii fb  padT10\"]')\n",
    "    for i in arrivaltags:\n",
    "        Arrival.append(i.text)\n",
    "except:\n",
    "    Arrival.append('-')\n",
    "    \n",
    "try:\n",
    "    pricetags=driver.find_elements_by_xpath('//div[@class=\"srp-card-uistyles__Price-sc-3flq99-17 jJioUu alignItemsCenter dF fb lh1 padT5\"]')\n",
    "    for i in pricetags:\n",
    "        Price.append(i.text.replace(',',''))\n",
    "except:\n",
    "    Price.append('-')"
   ]
  },
  {
   "cell_type": "markdown",
   "id": "edffdf90",
   "metadata": {},
   "source": [
    "### From New Delhi to Greece"
   ]
  },
  {
   "cell_type": "code",
   "execution_count": 141,
   "id": "4b4fe405",
   "metadata": {},
   "outputs": [],
   "source": [
    "destinationfield=driver.find_element_by_xpath('/html/body/div[1]/div[2]/section/div[2]/div/div[3]/div/div/input')\n",
    "destinationfield.send_keys('Australia')"
   ]
  },
  {
   "cell_type": "code",
   "execution_count": 142,
   "id": "f7740683",
   "metadata": {},
   "outputs": [],
   "source": [
    "destinationclick=driver.find_element_by_xpath('/html/body/div[1]/div[2]/section/div[2]/div/div[3]/div/ul/div/div[1]/li/div/div[1]/div[1]')\n",
    "destinationclick.click()"
   ]
  },
  {
   "cell_type": "code",
   "execution_count": 143,
   "id": "506776f1",
   "metadata": {},
   "outputs": [],
   "source": [
    "searchbtn=driver.find_element_by_xpath('/html/body/div[1]/div[2]/section/div[2]/button')\n",
    "searchbtn.click()"
   ]
  },
  {
   "cell_type": "code",
   "execution_count": 144,
   "id": "31638806",
   "metadata": {},
   "outputs": [],
   "source": [
    "try:\n",
    "    airlinetags=driver.find_elements_by_xpath('//span[@class=\"font13 padL5 black\"]')\n",
    "    for i in airlinetags:\n",
    "        Airline.append(i.text)\n",
    "except :\n",
    "    Airline.append('-')\n",
    "    \n",
    "try:\n",
    "    sourcetags=driver.find_elements_by_xpath('//div[@class=\"srp-card-uistyles__Dep-sc-3flq99-11 gReLze flexCol\"]/div')\n",
    "    for i in sourcetags:\n",
    "        Source.append(i.text)\n",
    "except:\n",
    "    Source.append('-')\n",
    "    \n",
    "try:\n",
    "    desttags=driver.find_elements_by_xpath('//div[@class=\"srp-card-uistyles__Dep-sc-3flq99-11 srp-card-uistyles__Arr-sc-3flq99-14 gReLze evBigc flexCol\"]/div[1]')\n",
    "    for i in desttags:\n",
    "        Destination.append(i.text)\n",
    "except:\n",
    "    Destination.append('-')\n",
    "    \n",
    "try:\n",
    "    durtags=driver.find_elements_by_xpath('//span[@class=\"srp-card-uistyles__DurTime-sc-3flq99-16 jVRTyZ fb padT10\"]')\n",
    "    for i in durtags:\n",
    "        Duration.append(i.text)\n",
    "except:\n",
    "    Duration.append('-')\n",
    "    \n",
    "try:\n",
    "    deptags=driver.find_elements_by_xpath('//span[@class=\"srp-card-uistyles__Time-sc-3flq99-15 dsonii padT10 fb\"]')\n",
    "    for i in deptags:\n",
    "        Departure.append(i.text)\n",
    "except:\n",
    "    Departure.append('-')\n",
    "    \n",
    "try:\n",
    "    arrivaltags=driver.find_elements_by_xpath('//span[@class=\"srp-card-uistyles__Time-sc-3flq99-15 dsonii fb  padT10\"]')\n",
    "    for i in arrivaltags:\n",
    "        Arrival.append(i.text)\n",
    "except:\n",
    "    Arrival.append('-')\n",
    "    \n",
    "try:\n",
    "    pricetags=driver.find_elements_by_xpath('//div[@class=\"srp-card-uistyles__Price-sc-3flq99-17 jJioUu alignItemsCenter dF fb lh1 padT5\"]')\n",
    "    for i in pricetags:\n",
    "        Price.append(i.text.replace(',',''))\n",
    "except:\n",
    "    Price.append('-')"
   ]
  },
  {
   "cell_type": "markdown",
   "id": "808b6f08",
   "metadata": {},
   "source": [
    "### From New Delhi to Brisbane"
   ]
  },
  {
   "cell_type": "code",
   "execution_count": 154,
   "id": "93421028",
   "metadata": {},
   "outputs": [],
   "source": [
    "destinationfield=driver.find_element_by_xpath('/html/body/div[1]/div[2]/section/div[2]/div/div[3]/div/div/input')\n",
    "destinationfield.send_keys('Brisbane')"
   ]
  },
  {
   "cell_type": "code",
   "execution_count": 155,
   "id": "a262eb98",
   "metadata": {},
   "outputs": [],
   "source": [
    "destinationclick=driver.find_element_by_xpath('/html/body/div[1]/div[2]/section/div[2]/div/div[3]/div/ul/div/div[1]/li/div/div[1]/div[1]')\n",
    "destinationclick.click()"
   ]
  },
  {
   "cell_type": "code",
   "execution_count": 156,
   "id": "cb07b4d0",
   "metadata": {},
   "outputs": [],
   "source": [
    "searchbtn=driver.find_element_by_xpath('/html/body/div[1]/div[2]/section/div[2]/button')\n",
    "searchbtn.click()"
   ]
  },
  {
   "cell_type": "code",
   "execution_count": 157,
   "id": "1b256523",
   "metadata": {},
   "outputs": [],
   "source": [
    "try:\n",
    "    airlinetags=driver.find_elements_by_xpath('//span[@class=\"font13 padL5 black\"]')\n",
    "    for i in airlinetags:\n",
    "        Airline.append(i.text)\n",
    "except :\n",
    "    Airline.append('-')\n",
    "    \n",
    "try:\n",
    "    sourcetags=driver.find_elements_by_xpath('//div[@class=\"srp-card-uistyles__Dep-sc-3flq99-11 gReLze flexCol\"]/div')\n",
    "    for i in sourcetags:\n",
    "        Source.append(i.text)\n",
    "except:\n",
    "    Source.append('-')\n",
    "    \n",
    "try:\n",
    "    desttags=driver.find_elements_by_xpath('//div[@class=\"srp-card-uistyles__Dep-sc-3flq99-11 srp-card-uistyles__Arr-sc-3flq99-14 gReLze evBigc flexCol\"]/div[1]')\n",
    "    for i in desttags:\n",
    "        Destination.append(i.text)\n",
    "except:\n",
    "    Destination.append('-')\n",
    "    \n",
    "try:\n",
    "    durtags=driver.find_elements_by_xpath('//span[@class=\"srp-card-uistyles__DurTime-sc-3flq99-16 jVRTyZ fb padT10\"]')\n",
    "    for i in durtags:\n",
    "        Duration.append(i.text)\n",
    "except:\n",
    "    Duration.append('-')\n",
    "    \n",
    "try:\n",
    "    deptags=driver.find_elements_by_xpath('//span[@class=\"srp-card-uistyles__Time-sc-3flq99-15 dsonii padT10 fb\"]')\n",
    "    for i in deptags:\n",
    "        Departure.append(i.text)\n",
    "except:\n",
    "    Departure.append('-')\n",
    "    \n",
    "try:\n",
    "    arrivaltags=driver.find_elements_by_xpath('//span[@class=\"srp-card-uistyles__Time-sc-3flq99-15 dsonii fb  padT10\"]')\n",
    "    for i in arrivaltags:\n",
    "        Arrival.append(i.text)\n",
    "except:\n",
    "    Arrival.append('-')\n",
    "    \n",
    "try:\n",
    "    pricetags=driver.find_elements_by_xpath('//div[@class=\"srp-card-uistyles__Price-sc-3flq99-17 jJioUu alignItemsCenter dF fb lh1 padT5\"]')\n",
    "    for i in pricetags:\n",
    "        Price.append(i.text.replace(',',''))\n",
    "except:\n",
    "    Price.append('-')"
   ]
  },
  {
   "cell_type": "markdown",
   "id": "0872676f",
   "metadata": {},
   "source": [
    "### From New Delhi to Adelaide"
   ]
  },
  {
   "cell_type": "code",
   "execution_count": 159,
   "id": "e2ffb2a5",
   "metadata": {},
   "outputs": [],
   "source": [
    "destinationfield=driver.find_element_by_xpath('/html/body/div[1]/div[2]/section/div[2]/div/div[3]/div/div/input')\n",
    "destinationfield.send_keys('Adelaide')"
   ]
  },
  {
   "cell_type": "code",
   "execution_count": 160,
   "id": "d7b2acf0",
   "metadata": {},
   "outputs": [],
   "source": [
    "destinationclick=driver.find_element_by_xpath('/html/body/div[1]/div[2]/section/div[2]/div/div[3]/div/ul/div/div[1]/li/div/div[1]/div[1]')\n",
    "destinationclick.click()"
   ]
  },
  {
   "cell_type": "code",
   "execution_count": 161,
   "id": "ffd9b044",
   "metadata": {},
   "outputs": [],
   "source": [
    "searchbtn=driver.find_element_by_xpath('/html/body/div[1]/div[2]/section/div[2]/button')\n",
    "searchbtn.click()"
   ]
  },
  {
   "cell_type": "code",
   "execution_count": 162,
   "id": "569fce01",
   "metadata": {},
   "outputs": [],
   "source": [
    "try:\n",
    "    airlinetags=driver.find_elements_by_xpath('//span[@class=\"font13 padL5 black\"]')\n",
    "    for i in airlinetags:\n",
    "        Airline.append(i.text)\n",
    "except :\n",
    "    Airline.append('-')\n",
    "    \n",
    "try:\n",
    "    sourcetags=driver.find_elements_by_xpath('//div[@class=\"srp-card-uistyles__Dep-sc-3flq99-11 gReLze flexCol\"]/div')\n",
    "    for i in sourcetags:\n",
    "        Source.append(i.text)\n",
    "except:\n",
    "    Source.append('-')\n",
    "    \n",
    "try:\n",
    "    desttags=driver.find_elements_by_xpath('//div[@class=\"srp-card-uistyles__Dep-sc-3flq99-11 srp-card-uistyles__Arr-sc-3flq99-14 gReLze evBigc flexCol\"]/div[1]')\n",
    "    for i in desttags:\n",
    "        Destination.append(i.text)\n",
    "except:\n",
    "    Destination.append('-')\n",
    "    \n",
    "try:\n",
    "    durtags=driver.find_elements_by_xpath('//span[@class=\"srp-card-uistyles__DurTime-sc-3flq99-16 jVRTyZ fb padT10\"]')\n",
    "    for i in durtags:\n",
    "        Duration.append(i.text)\n",
    "except:\n",
    "    Duration.append('-')\n",
    "    \n",
    "try:\n",
    "    deptags=driver.find_elements_by_xpath('//span[@class=\"srp-card-uistyles__Time-sc-3flq99-15 dsonii padT10 fb\"]')\n",
    "    for i in deptags:\n",
    "        Departure.append(i.text)\n",
    "except:\n",
    "    Departure.append('-')\n",
    "    \n",
    "try:\n",
    "    arrivaltags=driver.find_elements_by_xpath('//span[@class=\"srp-card-uistyles__Time-sc-3flq99-15 dsonii fb  padT10\"]')\n",
    "    for i in arrivaltags:\n",
    "        Arrival.append(i.text)\n",
    "except:\n",
    "    Arrival.append('-')\n",
    "    \n",
    "try:\n",
    "    pricetags=driver.find_elements_by_xpath('//div[@class=\"srp-card-uistyles__Price-sc-3flq99-17 jJioUu alignItemsCenter dF fb lh1 padT5\"]')\n",
    "    for i in pricetags:\n",
    "        Price.append(i.text.replace(',',''))\n",
    "except:\n",
    "    Price.append('-')"
   ]
  },
  {
   "cell_type": "markdown",
   "id": "04c283e8",
   "metadata": {},
   "source": [
    "### From New Delhi to Capetown"
   ]
  },
  {
   "cell_type": "code",
   "execution_count": 163,
   "id": "26f1d862",
   "metadata": {},
   "outputs": [],
   "source": [
    "destinationfield=driver.find_element_by_xpath('/html/body/div[1]/div[2]/section/div[2]/div/div[3]/div/div/input')\n",
    "destinationfield.send_keys('Capetown')"
   ]
  },
  {
   "cell_type": "code",
   "execution_count": 164,
   "id": "8197fabd",
   "metadata": {},
   "outputs": [],
   "source": [
    "destinationclick=driver.find_element_by_xpath('/html/body/div[1]/div[2]/section/div[2]/div/div[3]/div/ul/div/div[1]/li/div/div[1]/div[1]')\n",
    "destinationclick.click()"
   ]
  },
  {
   "cell_type": "code",
   "execution_count": 165,
   "id": "8cc7eb33",
   "metadata": {},
   "outputs": [],
   "source": [
    "searchbtn=driver.find_element_by_xpath('/html/body/div[1]/div[2]/section/div[2]/button')\n",
    "searchbtn.click()"
   ]
  },
  {
   "cell_type": "code",
   "execution_count": 166,
   "id": "5f515770",
   "metadata": {},
   "outputs": [],
   "source": [
    "try:\n",
    "    airlinetags=driver.find_elements_by_xpath('//span[@class=\"font13 padL5 black\"]')\n",
    "    for i in airlinetags:\n",
    "        Airline.append(i.text)\n",
    "except :\n",
    "    Airline.append('-')\n",
    "    \n",
    "try:\n",
    "    sourcetags=driver.find_elements_by_xpath('//div[@class=\"srp-card-uistyles__Dep-sc-3flq99-11 gReLze flexCol\"]/div')\n",
    "    for i in sourcetags:\n",
    "        Source.append(i.text)\n",
    "except:\n",
    "    Source.append('-')\n",
    "    \n",
    "try:\n",
    "    desttags=driver.find_elements_by_xpath('//div[@class=\"srp-card-uistyles__Dep-sc-3flq99-11 srp-card-uistyles__Arr-sc-3flq99-14 gReLze evBigc flexCol\"]/div[1]')\n",
    "    for i in desttags:\n",
    "        Destination.append(i.text)\n",
    "except:\n",
    "    Destination.append('-')\n",
    "    \n",
    "try:\n",
    "    durtags=driver.find_elements_by_xpath('//span[@class=\"srp-card-uistyles__DurTime-sc-3flq99-16 jVRTyZ fb padT10\"]')\n",
    "    for i in durtags:\n",
    "        Duration.append(i.text)\n",
    "except:\n",
    "    Duration.append('-')\n",
    "    \n",
    "try:\n",
    "    deptags=driver.find_elements_by_xpath('//span[@class=\"srp-card-uistyles__Time-sc-3flq99-15 dsonii padT10 fb\"]')\n",
    "    for i in deptags:\n",
    "        Departure.append(i.text)\n",
    "except:\n",
    "    Departure.append('-')\n",
    "    \n",
    "try:\n",
    "    arrivaltags=driver.find_elements_by_xpath('//span[@class=\"srp-card-uistyles__Time-sc-3flq99-15 dsonii fb  padT10\"]')\n",
    "    for i in arrivaltags:\n",
    "        Arrival.append(i.text)\n",
    "except:\n",
    "    Arrival.append('-')\n",
    "    \n",
    "try:\n",
    "    pricetags=driver.find_elements_by_xpath('//div[@class=\"srp-card-uistyles__Price-sc-3flq99-17 jJioUu alignItemsCenter dF fb lh1 padT5\"]')\n",
    "    for i in pricetags:\n",
    "        Price.append(i.text.replace(',',''))\n",
    "except:\n",
    "    Price.append('-')"
   ]
  },
  {
   "cell_type": "markdown",
   "id": "415ed874",
   "metadata": {},
   "source": [
    "### From New Delhi to Manchaster"
   ]
  },
  {
   "cell_type": "code",
   "execution_count": 169,
   "id": "cb69d979",
   "metadata": {},
   "outputs": [],
   "source": [
    "destinationfield=driver.find_element_by_xpath('/html/body/div[1]/div[2]/section/div[2]/div/div[3]/div/div/input')\n",
    "destinationfield.send_keys('Manchester')"
   ]
  },
  {
   "cell_type": "code",
   "execution_count": 170,
   "id": "8e50748b",
   "metadata": {},
   "outputs": [],
   "source": [
    "destinationclick=driver.find_element_by_xpath('/html/body/div[1]/div[2]/section/div[2]/div/div[3]/div/ul/div/div[1]/li/div/div[1]/div[1]')\n",
    "destinationclick.click()"
   ]
  },
  {
   "cell_type": "code",
   "execution_count": 171,
   "id": "e63cc0d1",
   "metadata": {},
   "outputs": [],
   "source": [
    "searchbtn=driver.find_element_by_xpath('/html/body/div[1]/div[2]/section/div[2]/button')\n",
    "searchbtn.click()"
   ]
  },
  {
   "cell_type": "code",
   "execution_count": 172,
   "id": "fbeb357c",
   "metadata": {},
   "outputs": [],
   "source": [
    "try:\n",
    "    airlinetags=driver.find_elements_by_xpath('//span[@class=\"font13 padL5 black\"]')\n",
    "    for i in airlinetags:\n",
    "        Airline.append(i.text)\n",
    "except :\n",
    "    Airline.append('-')\n",
    "    \n",
    "try:\n",
    "    sourcetags=driver.find_elements_by_xpath('//div[@class=\"srp-card-uistyles__Dep-sc-3flq99-11 gReLze flexCol\"]/div')\n",
    "    for i in sourcetags:\n",
    "        Source.append(i.text)\n",
    "except:\n",
    "    Source.append('-')\n",
    "    \n",
    "try:\n",
    "    desttags=driver.find_elements_by_xpath('//div[@class=\"srp-card-uistyles__Dep-sc-3flq99-11 srp-card-uistyles__Arr-sc-3flq99-14 gReLze evBigc flexCol\"]/div[1]')\n",
    "    for i in desttags:\n",
    "        Destination.append(i.text)\n",
    "except:\n",
    "    Destination.append('-')\n",
    "    \n",
    "try:\n",
    "    durtags=driver.find_elements_by_xpath('//span[@class=\"srp-card-uistyles__DurTime-sc-3flq99-16 jVRTyZ fb padT10\"]')\n",
    "    for i in durtags:\n",
    "        Duration.append(i.text)\n",
    "except:\n",
    "    Duration.append('-')\n",
    "    \n",
    "try:\n",
    "    deptags=driver.find_elements_by_xpath('//span[@class=\"srp-card-uistyles__Time-sc-3flq99-15 dsonii padT10 fb\"]')\n",
    "    for i in deptags:\n",
    "        Departure.append(i.text)\n",
    "except:\n",
    "    Departure.append('-')\n",
    "    \n",
    "try:\n",
    "    arrivaltags=driver.find_elements_by_xpath('//span[@class=\"srp-card-uistyles__Time-sc-3flq99-15 dsonii fb  padT10\"]')\n",
    "    for i in arrivaltags:\n",
    "        Arrival.append(i.text)\n",
    "except:\n",
    "    Arrival.append('-')\n",
    "    \n",
    "try:\n",
    "    pricetags=driver.find_elements_by_xpath('//div[@class=\"srp-card-uistyles__Price-sc-3flq99-17 jJioUu alignItemsCenter dF fb lh1 padT5\"]')\n",
    "    for i in pricetags:\n",
    "        Price.append(i.text.replace(',',''))\n",
    "except:\n",
    "    Price.append('-')"
   ]
  },
  {
   "cell_type": "markdown",
   "id": "92548be6",
   "metadata": {},
   "source": [
    "### From New Delhi to England"
   ]
  },
  {
   "cell_type": "code",
   "execution_count": 173,
   "id": "77085df0",
   "metadata": {},
   "outputs": [],
   "source": [
    "destinationfield=driver.find_element_by_xpath('/html/body/div[1]/div[2]/section/div[2]/div/div[3]/div/div/input')\n",
    "destinationfield.send_keys('England')"
   ]
  },
  {
   "cell_type": "code",
   "execution_count": 174,
   "id": "77b24fd6",
   "metadata": {},
   "outputs": [],
   "source": [
    "destinationclick=driver.find_element_by_xpath('/html/body/div[1]/div[2]/section/div[2]/div/div[3]/div/ul/div/div[1]/li/div/div[1]/div[1]')\n",
    "destinationclick.click()"
   ]
  },
  {
   "cell_type": "code",
   "execution_count": 175,
   "id": "cbeff3e2",
   "metadata": {},
   "outputs": [],
   "source": [
    "searchbtn=driver.find_element_by_xpath('/html/body/div[1]/div[2]/section/div[2]/button')\n",
    "searchbtn.click()"
   ]
  },
  {
   "cell_type": "code",
   "execution_count": 176,
   "id": "d452efa8",
   "metadata": {},
   "outputs": [],
   "source": [
    "try:\n",
    "    airlinetags=driver.find_elements_by_xpath('//span[@class=\"font13 padL5 black\"]')\n",
    "    for i in airlinetags:\n",
    "        Airline.append(i.text)\n",
    "except :\n",
    "    Airline.append('-')\n",
    "    \n",
    "try:\n",
    "    sourcetags=driver.find_elements_by_xpath('//div[@class=\"srp-card-uistyles__Dep-sc-3flq99-11 gReLze flexCol\"]/div')\n",
    "    for i in sourcetags:\n",
    "        Source.append(i.text)\n",
    "except:\n",
    "    Source.append('-')\n",
    "    \n",
    "try:\n",
    "    desttags=driver.find_elements_by_xpath('//div[@class=\"srp-card-uistyles__Dep-sc-3flq99-11 srp-card-uistyles__Arr-sc-3flq99-14 gReLze evBigc flexCol\"]/div[1]')\n",
    "    for i in desttags:\n",
    "        Destination.append(i.text)\n",
    "except:\n",
    "    Destination.append('-')\n",
    "    \n",
    "try:\n",
    "    durtags=driver.find_elements_by_xpath('//span[@class=\"srp-card-uistyles__DurTime-sc-3flq99-16 jVRTyZ fb padT10\"]')\n",
    "    for i in durtags:\n",
    "        Duration.append(i.text)\n",
    "except:\n",
    "    Duration.append('-')\n",
    "    \n",
    "try:\n",
    "    deptags=driver.find_elements_by_xpath('//span[@class=\"srp-card-uistyles__Time-sc-3flq99-15 dsonii padT10 fb\"]')\n",
    "    for i in deptags:\n",
    "        Departure.append(i.text)\n",
    "except:\n",
    "    Departure.append('-')\n",
    "    \n",
    "try:\n",
    "    arrivaltags=driver.find_elements_by_xpath('//span[@class=\"srp-card-uistyles__Time-sc-3flq99-15 dsonii fb  padT10\"]')\n",
    "    for i in arrivaltags:\n",
    "        Arrival.append(i.text)\n",
    "except:\n",
    "    Arrival.append('-')\n",
    "    \n",
    "try:\n",
    "    pricetags=driver.find_elements_by_xpath('//div[@class=\"srp-card-uistyles__Price-sc-3flq99-17 jJioUu alignItemsCenter dF fb lh1 padT5\"]')\n",
    "    for i in pricetags:\n",
    "        Price.append(i.text.replace(',',''))\n",
    "except:\n",
    "    Price.append('-')"
   ]
  },
  {
   "cell_type": "markdown",
   "id": "fc3906ad",
   "metadata": {},
   "source": [
    "### From New Delhi to Hong kong"
   ]
  },
  {
   "cell_type": "code",
   "execution_count": 186,
   "id": "1911eb49",
   "metadata": {},
   "outputs": [],
   "source": [
    "destinationfield=driver.find_element_by_xpath('/html/body/div[1]/div[2]/section/div[2]/div/div[3]/div/div/input')\n",
    "destinationfield.send_keys('Hong kong')"
   ]
  },
  {
   "cell_type": "code",
   "execution_count": 187,
   "id": "32dc24ff",
   "metadata": {},
   "outputs": [],
   "source": [
    "destinationclick=driver.find_element_by_xpath('/html/body/div[1]/div[2]/section/div[2]/div/div[3]/div/ul/div/div[1]/li/div/div[1]/div[1]')\n",
    "destinationclick.click()"
   ]
  },
  {
   "cell_type": "code",
   "execution_count": 188,
   "id": "1f553a9d",
   "metadata": {},
   "outputs": [],
   "source": [
    "searchbtn=driver.find_element_by_xpath('/html/body/div[1]/div[2]/section/div[2]/button')\n",
    "searchbtn.click()"
   ]
  },
  {
   "cell_type": "code",
   "execution_count": 189,
   "id": "7184884b",
   "metadata": {},
   "outputs": [],
   "source": [
    "try:\n",
    "    airlinetags=driver.find_elements_by_xpath('//span[@class=\"font13 padL5 black\"]')\n",
    "    for i in airlinetags:\n",
    "        Airline.append(i.text)\n",
    "except :\n",
    "    Airline.append('-')\n",
    "    \n",
    "try:\n",
    "    sourcetags=driver.find_elements_by_xpath('//div[@class=\"srp-card-uistyles__Dep-sc-3flq99-11 gReLze flexCol\"]/div')\n",
    "    for i in sourcetags:\n",
    "        Source.append(i.text)\n",
    "except:\n",
    "    Source.append('-')\n",
    "    \n",
    "try:\n",
    "    desttags=driver.find_elements_by_xpath('//div[@class=\"srp-card-uistyles__Dep-sc-3flq99-11 srp-card-uistyles__Arr-sc-3flq99-14 gReLze evBigc flexCol\"]/div[1]')\n",
    "    for i in desttags:\n",
    "        Destination.append(i.text)\n",
    "except:\n",
    "    Destination.append('-')\n",
    "    \n",
    "try:\n",
    "    durtags=driver.find_elements_by_xpath('//span[@class=\"srp-card-uistyles__DurTime-sc-3flq99-16 jVRTyZ fb padT10\"]')\n",
    "    for i in durtags:\n",
    "        Duration.append(i.text)\n",
    "except:\n",
    "    Duration.append('-')\n",
    "    \n",
    "try:\n",
    "    deptags=driver.find_elements_by_xpath('//span[@class=\"srp-card-uistyles__Time-sc-3flq99-15 dsonii padT10 fb\"]')\n",
    "    for i in deptags:\n",
    "        Departure.append(i.text)\n",
    "except:\n",
    "    Departure.append('-')\n",
    "    \n",
    "try:\n",
    "    arrivaltags=driver.find_elements_by_xpath('//span[@class=\"srp-card-uistyles__Time-sc-3flq99-15 dsonii fb  padT10\"]')\n",
    "    for i in arrivaltags:\n",
    "        Arrival.append(i.text)\n",
    "except:\n",
    "    Arrival.append('-')\n",
    "    \n",
    "try:\n",
    "    pricetags=driver.find_elements_by_xpath('//div[@class=\"srp-card-uistyles__Price-sc-3flq99-17 jJioUu alignItemsCenter dF fb lh1 padT5\"]')\n",
    "    for i in pricetags:\n",
    "        Price.append(i.text.replace(',',''))\n",
    "except:\n",
    "    Price.append('-')"
   ]
  },
  {
   "cell_type": "markdown",
   "id": "6327122e",
   "metadata": {},
   "source": [
    "### From New Delhi to Singapore"
   ]
  },
  {
   "cell_type": "code",
   "execution_count": 190,
   "id": "965aace6",
   "metadata": {},
   "outputs": [],
   "source": [
    "destinationfield=driver.find_element_by_xpath('/html/body/div[1]/div[2]/section/div[2]/div/div[3]/div/div/input')\n",
    "destinationfield.send_keys('Singapore')"
   ]
  },
  {
   "cell_type": "code",
   "execution_count": 191,
   "id": "9f6803ad",
   "metadata": {},
   "outputs": [],
   "source": [
    "destinationclick=driver.find_element_by_xpath('/html/body/div[1]/div[2]/section/div[2]/div/div[3]/div/ul/div/div[1]/li/div/div[1]/div[1]')\n",
    "destinationclick.click()"
   ]
  },
  {
   "cell_type": "code",
   "execution_count": 192,
   "id": "bbcaf437",
   "metadata": {},
   "outputs": [],
   "source": [
    "searchbtn=driver.find_element_by_xpath('/html/body/div[1]/div[2]/section/div[2]/button')\n",
    "searchbtn.click()"
   ]
  },
  {
   "cell_type": "code",
   "execution_count": 193,
   "id": "16a21d6c",
   "metadata": {},
   "outputs": [],
   "source": [
    "try:\n",
    "    airlinetags=driver.find_elements_by_xpath('//span[@class=\"font13 padL5 black\"]')\n",
    "    for i in airlinetags:\n",
    "        Airline.append(i.text)\n",
    "except :\n",
    "    Airline.append('-')\n",
    "    \n",
    "try:\n",
    "    sourcetags=driver.find_elements_by_xpath('//div[@class=\"srp-card-uistyles__Dep-sc-3flq99-11 gReLze flexCol\"]/div')\n",
    "    for i in sourcetags:\n",
    "        Source.append(i.text)\n",
    "except:\n",
    "    Source.append('-')\n",
    "    \n",
    "try:\n",
    "    desttags=driver.find_elements_by_xpath('//div[@class=\"srp-card-uistyles__Dep-sc-3flq99-11 srp-card-uistyles__Arr-sc-3flq99-14 gReLze evBigc flexCol\"]/div[1]')\n",
    "    for i in desttags:\n",
    "        Destination.append(i.text)\n",
    "except:\n",
    "    Destination.append('-')\n",
    "    \n",
    "try:\n",
    "    durtags=driver.find_elements_by_xpath('//span[@class=\"srp-card-uistyles__DurTime-sc-3flq99-16 jVRTyZ fb padT10\"]')\n",
    "    for i in durtags:\n",
    "        Duration.append(i.text)\n",
    "except:\n",
    "    Duration.append('-')\n",
    "    \n",
    "try:\n",
    "    deptags=driver.find_elements_by_xpath('//span[@class=\"srp-card-uistyles__Time-sc-3flq99-15 dsonii padT10 fb\"]')\n",
    "    for i in deptags:\n",
    "        Departure.append(i.text)\n",
    "except:\n",
    "    Departure.append('-')\n",
    "    \n",
    "try:\n",
    "    arrivaltags=driver.find_elements_by_xpath('//span[@class=\"srp-card-uistyles__Time-sc-3flq99-15 dsonii fb  padT10\"]')\n",
    "    for i in arrivaltags:\n",
    "        Arrival.append(i.text)\n",
    "except:\n",
    "    Arrival.append('-')\n",
    "    \n",
    "try:\n",
    "    pricetags=driver.find_elements_by_xpath('//div[@class=\"srp-card-uistyles__Price-sc-3flq99-17 jJioUu alignItemsCenter dF fb lh1 padT5\"]')\n",
    "    for i in pricetags:\n",
    "        Price.append(i.text.replace(',',''))\n",
    "except:\n",
    "    Price.append('-')"
   ]
  },
  {
   "cell_type": "markdown",
   "id": "e8a560b2",
   "metadata": {},
   "source": [
    "### From New Delhi to Bali"
   ]
  },
  {
   "cell_type": "code",
   "execution_count": 194,
   "id": "dc9455c5",
   "metadata": {},
   "outputs": [],
   "source": [
    "destinationfield=driver.find_element_by_xpath('/html/body/div[1]/div[2]/section/div[2]/div/div[3]/div/div/input')\n",
    "destinationfield.send_keys('Bali')"
   ]
  },
  {
   "cell_type": "code",
   "execution_count": 195,
   "id": "56bd6983",
   "metadata": {},
   "outputs": [],
   "source": [
    "destinationclick=driver.find_element_by_xpath('/html/body/div[1]/div[2]/section/div[2]/div/div[3]/div/ul/div/div[1]/li/div/div[1]/div[1]')\n",
    "destinationclick.click()"
   ]
  },
  {
   "cell_type": "code",
   "execution_count": 196,
   "id": "496e0aa5",
   "metadata": {},
   "outputs": [],
   "source": [
    "searchbtn=driver.find_element_by_xpath('/html/body/div[1]/div[2]/section/div[2]/button')\n",
    "searchbtn.click()"
   ]
  },
  {
   "cell_type": "code",
   "execution_count": 197,
   "id": "0c8a7f56",
   "metadata": {},
   "outputs": [],
   "source": [
    "try:\n",
    "    airlinetags=driver.find_elements_by_xpath('//span[@class=\"font13 padL5 black\"]')\n",
    "    for i in airlinetags:\n",
    "        Airline.append(i.text)\n",
    "except :\n",
    "    Airline.append('-')\n",
    "    \n",
    "try:\n",
    "    sourcetags=driver.find_elements_by_xpath('//div[@class=\"srp-card-uistyles__Dep-sc-3flq99-11 gReLze flexCol\"]/div')\n",
    "    for i in sourcetags:\n",
    "        Source.append(i.text)\n",
    "except:\n",
    "    Source.append('-')\n",
    "    \n",
    "try:\n",
    "    desttags=driver.find_elements_by_xpath('//div[@class=\"srp-card-uistyles__Dep-sc-3flq99-11 srp-card-uistyles__Arr-sc-3flq99-14 gReLze evBigc flexCol\"]/div[1]')\n",
    "    for i in desttags:\n",
    "        Destination.append(i.text)\n",
    "except:\n",
    "    Destination.append('-')\n",
    "    \n",
    "try:\n",
    "    durtags=driver.find_elements_by_xpath('//span[@class=\"srp-card-uistyles__DurTime-sc-3flq99-16 jVRTyZ fb padT10\"]')\n",
    "    for i in durtags:\n",
    "        Duration.append(i.text)\n",
    "except:\n",
    "    Duration.append('-')\n",
    "    \n",
    "try:\n",
    "    deptags=driver.find_elements_by_xpath('//span[@class=\"srp-card-uistyles__Time-sc-3flq99-15 dsonii padT10 fb\"]')\n",
    "    for i in deptags:\n",
    "        Departure.append(i.text)\n",
    "except:\n",
    "    Departure.append('-')\n",
    "    \n",
    "try:\n",
    "    arrivaltags=driver.find_elements_by_xpath('//span[@class=\"srp-card-uistyles__Time-sc-3flq99-15 dsonii fb  padT10\"]')\n",
    "    for i in arrivaltags:\n",
    "        Arrival.append(i.text)\n",
    "except:\n",
    "    Arrival.append('-')\n",
    "    \n",
    "try:\n",
    "    pricetags=driver.find_elements_by_xpath('//div[@class=\"srp-card-uistyles__Price-sc-3flq99-17 jJioUu alignItemsCenter dF fb lh1 padT5\"]')\n",
    "    for i in pricetags:\n",
    "        Price.append(i.text.replace(',',''))\n",
    "except:\n",
    "    Price.append('-')"
   ]
  },
  {
   "cell_type": "markdown",
   "id": "a8d3b4b4",
   "metadata": {},
   "source": [
    "### From New Delhi to Bangkok"
   ]
  },
  {
   "cell_type": "code",
   "execution_count": 198,
   "id": "73f0ab46",
   "metadata": {},
   "outputs": [],
   "source": [
    "destinationfield=driver.find_element_by_xpath('/html/body/div[1]/div[2]/section/div[2]/div/div[3]/div/div/input')\n",
    "destinationfield.send_keys('Bangkok')"
   ]
  },
  {
   "cell_type": "code",
   "execution_count": 199,
   "id": "242c924c",
   "metadata": {},
   "outputs": [],
   "source": [
    "destinationclick=driver.find_element_by_xpath('/html/body/div[1]/div[2]/section/div[2]/div/div[3]/div/ul/div/div[1]/li/div/div[1]/div[1]')\n",
    "destinationclick.click()"
   ]
  },
  {
   "cell_type": "code",
   "execution_count": 200,
   "id": "19e1f013",
   "metadata": {},
   "outputs": [],
   "source": [
    "searchbtn=driver.find_element_by_xpath('/html/body/div[1]/div[2]/section/div[2]/button')\n",
    "searchbtn.click()"
   ]
  },
  {
   "cell_type": "code",
   "execution_count": null,
   "id": "c471e228",
   "metadata": {},
   "outputs": [],
   "source": [
    "try:\n",
    "    airlinetags=driver.find_elements_by_xpath('//span[@class=\"font13 padL5 black\"]')\n",
    "    for i in airlinetags:\n",
    "        Airline.append(i.text)\n",
    "except :\n",
    "    Airline.append('-')\n",
    "    \n",
    "try:\n",
    "    sourcetags=driver.find_elements_by_xpath('//div[@class=\"srp-card-uistyles__Dep-sc-3flq99-11 gReLze flexCol\"]/div')\n",
    "    for i in sourcetags:\n",
    "        Source.append(i.text)\n",
    "except:\n",
    "    Source.append('-')\n",
    "    \n",
    "try:\n",
    "    desttags=driver.find_elements_by_xpath('//div[@class=\"srp-card-uistyles__Dep-sc-3flq99-11 srp-card-uistyles__Arr-sc-3flq99-14 gReLze evBigc flexCol\"]/div[1]')\n",
    "    for i in desttags:\n",
    "        Destination.append(i.text)\n",
    "except:\n",
    "    Destination.append('-')\n",
    "    \n",
    "try:\n",
    "    durtags=driver.find_elements_by_xpath('//span[@class=\"srp-card-uistyles__DurTime-sc-3flq99-16 jVRTyZ fb padT10\"]')\n",
    "    for i in durtags:\n",
    "        Duration.append(i.text)\n",
    "except:\n",
    "    Duration.append('-')\n",
    "    \n",
    "try:\n",
    "    deptags=driver.find_elements_by_xpath('//span[@class=\"srp-card-uistyles__Time-sc-3flq99-15 dsonii padT10 fb\"]')\n",
    "    for i in deptags:\n",
    "        Departure.append(i.text)\n",
    "except:\n",
    "    Departure.append('-')\n",
    "    \n",
    "try:\n",
    "    arrivaltags=driver.find_elements_by_xpath('//span[@class=\"srp-card-uistyles__Time-sc-3flq99-15 dsonii fb  padT10\"]')\n",
    "    for i in arrivaltags:\n",
    "        Arrival.append(i.text)\n",
    "except:\n",
    "    Arrival.append('-')\n",
    "    \n",
    "try:\n",
    "    pricetags=driver.find_elements_by_xpath('//div[@class=\"srp-card-uistyles__Price-sc-3flq99-17 jJioUu alignItemsCenter dF fb lh1 padT5\"]')\n",
    "    for i in pricetags:\n",
    "        Price.append(i.text.replace(',',''))\n",
    "except:\n",
    "    Price.append('-')"
   ]
  },
  {
   "cell_type": "markdown",
   "id": "5c211cc9",
   "metadata": {},
   "source": [
    "### From New Delhi to Moscow "
   ]
  },
  {
   "cell_type": "code",
   "execution_count": 201,
   "id": "dae2112f",
   "metadata": {},
   "outputs": [],
   "source": [
    "destinationfield=driver.find_element_by_xpath('/html/body/div[1]/div[2]/section/div[2]/div/div[3]/div/div/input')\n",
    "destinationfield.send_keys('Moscow')"
   ]
  },
  {
   "cell_type": "code",
   "execution_count": 202,
   "id": "00be780a",
   "metadata": {},
   "outputs": [],
   "source": [
    "destinationclick=driver.find_element_by_xpath('/html/body/div[1]/div[2]/section/div[2]/div/div[3]/div/ul/div/div[1]/li/div/div[1]/div[1]')\n",
    "destinationclick.click()"
   ]
  },
  {
   "cell_type": "code",
   "execution_count": 203,
   "id": "82da2809",
   "metadata": {},
   "outputs": [],
   "source": [
    "searchbtn=driver.find_element_by_xpath('/html/body/div[1]/div[2]/section/div[2]/button')\n",
    "searchbtn.click()"
   ]
  },
  {
   "cell_type": "code",
   "execution_count": 204,
   "id": "abb60029",
   "metadata": {},
   "outputs": [],
   "source": [
    "try:\n",
    "    airlinetags=driver.find_elements_by_xpath('//span[@class=\"font13 padL5 black\"]')\n",
    "    for i in airlinetags:\n",
    "        Airline.append(i.text)\n",
    "except :\n",
    "    Airline.append('-')\n",
    "    \n",
    "try:\n",
    "    sourcetags=driver.find_elements_by_xpath('//div[@class=\"srp-card-uistyles__Dep-sc-3flq99-11 gReLze flexCol\"]/div')\n",
    "    for i in sourcetags:\n",
    "        Source.append(i.text)\n",
    "except:\n",
    "    Source.append('-')\n",
    "    \n",
    "try:\n",
    "    desttags=driver.find_elements_by_xpath('//div[@class=\"srp-card-uistyles__Dep-sc-3flq99-11 srp-card-uistyles__Arr-sc-3flq99-14 gReLze evBigc flexCol\"]/div[1]')\n",
    "    for i in desttags:\n",
    "        Destination.append(i.text)\n",
    "except:\n",
    "    Destination.append('-')\n",
    "    \n",
    "try:\n",
    "    durtags=driver.find_elements_by_xpath('//span[@class=\"srp-card-uistyles__DurTime-sc-3flq99-16 jVRTyZ fb padT10\"]')\n",
    "    for i in durtags:\n",
    "        Duration.append(i.text)\n",
    "except:\n",
    "    Duration.append('-')\n",
    "    \n",
    "try:\n",
    "    deptags=driver.find_elements_by_xpath('//span[@class=\"srp-card-uistyles__Time-sc-3flq99-15 dsonii padT10 fb\"]')\n",
    "    for i in deptags:\n",
    "        Departure.append(i.text)\n",
    "except:\n",
    "    Departure.append('-')\n",
    "    \n",
    "try:\n",
    "    arrivaltags=driver.find_elements_by_xpath('//span[@class=\"srp-card-uistyles__Time-sc-3flq99-15 dsonii fb  padT10\"]')\n",
    "    for i in arrivaltags:\n",
    "        Arrival.append(i.text)\n",
    "except:\n",
    "    Arrival.append('-')\n",
    "    \n",
    "try:\n",
    "    pricetags=driver.find_elements_by_xpath('//div[@class=\"srp-card-uistyles__Price-sc-3flq99-17 jJioUu alignItemsCenter dF fb lh1 padT5\"]')\n",
    "    for i in pricetags:\n",
    "        Price.append(i.text.replace(',',''))\n",
    "except:\n",
    "    Price.append('-')"
   ]
  },
  {
   "cell_type": "markdown",
   "id": "112667cb",
   "metadata": {},
   "source": [
    "### From New Delhi to Assam"
   ]
  },
  {
   "cell_type": "code",
   "execution_count": 208,
   "id": "9ca1b9f1",
   "metadata": {},
   "outputs": [],
   "source": [
    "destinationfield=driver.find_element_by_xpath('/html/body/div[1]/div[2]/section/div[2]/div/div[3]/div/div/input')\n",
    "destinationfield.send_keys('Assam')"
   ]
  },
  {
   "cell_type": "code",
   "execution_count": 209,
   "id": "38484960",
   "metadata": {},
   "outputs": [],
   "source": [
    "destinationclick=driver.find_element_by_xpath('/html/body/div[1]/div[2]/section/div[2]/div/div[3]/div/ul/div/div[1]/li/div/div[1]/div[1]')\n",
    "destinationclick.click()"
   ]
  },
  {
   "cell_type": "code",
   "execution_count": 210,
   "id": "6119b686",
   "metadata": {},
   "outputs": [],
   "source": [
    "searchbtn=driver.find_element_by_xpath('/html/body/div[1]/div[2]/section/div[2]/button')\n",
    "searchbtn.click()"
   ]
  },
  {
   "cell_type": "code",
   "execution_count": 211,
   "id": "2e522a44",
   "metadata": {},
   "outputs": [],
   "source": [
    "try:\n",
    "    airlinetags=driver.find_elements_by_xpath('//span[@class=\"font13 padL5 black\"]')\n",
    "    for i in airlinetags:\n",
    "        Airline.append(i.text)\n",
    "except :\n",
    "    Airline.append('-')\n",
    "    \n",
    "try:\n",
    "    sourcetags=driver.find_elements_by_xpath('//div[@class=\"srp-card-uistyles__Dep-sc-3flq99-11 gReLze flexCol\"]/div')\n",
    "    for i in sourcetags:\n",
    "        Source.append(i.text)\n",
    "except:\n",
    "    Source.append('-')\n",
    "    \n",
    "try:\n",
    "    desttags=driver.find_elements_by_xpath('//div[@class=\"srp-card-uistyles__Dep-sc-3flq99-11 srp-card-uistyles__Arr-sc-3flq99-14 gReLze evBigc flexCol\"]/div[1]')\n",
    "    for i in desttags:\n",
    "        Destination.append(i.text)\n",
    "except:\n",
    "    Destination.append('-')\n",
    "    \n",
    "try:\n",
    "    durtags=driver.find_elements_by_xpath('//span[@class=\"srp-card-uistyles__DurTime-sc-3flq99-16 jVRTyZ fb padT10\"]')\n",
    "    for i in durtags:\n",
    "        Duration.append(i.text)\n",
    "except:\n",
    "    Duration.append('-')\n",
    "    \n",
    "try:\n",
    "    deptags=driver.find_elements_by_xpath('//span[@class=\"srp-card-uistyles__Time-sc-3flq99-15 dsonii padT10 fb\"]')\n",
    "    for i in deptags:\n",
    "        Departure.append(i.text)\n",
    "except:\n",
    "    Departure.append('-')\n",
    "    \n",
    "try:\n",
    "    arrivaltags=driver.find_elements_by_xpath('//span[@class=\"srp-card-uistyles__Time-sc-3flq99-15 dsonii fb  padT10\"]')\n",
    "    for i in arrivaltags:\n",
    "        Arrival.append(i.text)\n",
    "except:\n",
    "    Arrival.append('-')\n",
    "    \n",
    "try:\n",
    "    pricetags=driver.find_elements_by_xpath('//div[@class=\"srp-card-uistyles__Price-sc-3flq99-17 jJioUu alignItemsCenter dF fb lh1 padT5\"]')\n",
    "    for i in pricetags:\n",
    "        Price.append(i.text.replace(',',''))\n",
    "except:\n",
    "    Price.append('-')"
   ]
  },
  {
   "cell_type": "markdown",
   "id": "78040562",
   "metadata": {},
   "source": [
    "### From New Delhi to Jharkhand"
   ]
  },
  {
   "cell_type": "code",
   "execution_count": 212,
   "id": "8fed28fc",
   "metadata": {},
   "outputs": [],
   "source": [
    "destinationfield=driver.find_element_by_xpath('/html/body/div[1]/div[2]/section/div[2]/div/div[3]/div/div/input')\n",
    "destinationfield.send_keys('Jharkhand')"
   ]
  },
  {
   "cell_type": "code",
   "execution_count": 213,
   "id": "a235f245",
   "metadata": {},
   "outputs": [],
   "source": [
    "destinationclick=driver.find_element_by_xpath('/html/body/div[1]/div[2]/section/div[2]/div/div[3]/div/ul/div/div[1]/li/div/div[1]/div[1]')\n",
    "destinationclick.click()"
   ]
  },
  {
   "cell_type": "code",
   "execution_count": 214,
   "id": "3dfc4ab4",
   "metadata": {},
   "outputs": [],
   "source": [
    "searchbtn=driver.find_element_by_xpath('/html/body/div[1]/div[2]/section/div[2]/button')\n",
    "searchbtn.click()"
   ]
  },
  {
   "cell_type": "code",
   "execution_count": 215,
   "id": "88325f3e",
   "metadata": {},
   "outputs": [],
   "source": [
    "try:\n",
    "    airlinetags=driver.find_elements_by_xpath('//span[@class=\"font13 padL5 black\"]')\n",
    "    for i in airlinetags:\n",
    "        Airline.append(i.text)\n",
    "except :\n",
    "    Airline.append('-')\n",
    "    \n",
    "try:\n",
    "    sourcetags=driver.find_elements_by_xpath('//div[@class=\"srp-card-uistyles__Dep-sc-3flq99-11 gReLze flexCol\"]/div')\n",
    "    for i in sourcetags:\n",
    "        Source.append(i.text)\n",
    "except:\n",
    "    Source.append('-')\n",
    "    \n",
    "try:\n",
    "    desttags=driver.find_elements_by_xpath('//div[@class=\"srp-card-uistyles__Dep-sc-3flq99-11 srp-card-uistyles__Arr-sc-3flq99-14 gReLze evBigc flexCol\"]/div[1]')\n",
    "    for i in desttags:\n",
    "        Destination.append(i.text)\n",
    "except:\n",
    "    Destination.append('-')\n",
    "    \n",
    "try:\n",
    "    durtags=driver.find_elements_by_xpath('//span[@class=\"srp-card-uistyles__DurTime-sc-3flq99-16 jVRTyZ fb padT10\"]')\n",
    "    for i in durtags:\n",
    "        Duration.append(i.text)\n",
    "except:\n",
    "    Duration.append('-')\n",
    "    \n",
    "try:\n",
    "    deptags=driver.find_elements_by_xpath('//span[@class=\"srp-card-uistyles__Time-sc-3flq99-15 dsonii padT10 fb\"]')\n",
    "    for i in deptags:\n",
    "        Departure.append(i.text)\n",
    "except:\n",
    "    Departure.append('-')\n",
    "    \n",
    "try:\n",
    "    arrivaltags=driver.find_elements_by_xpath('//span[@class=\"srp-card-uistyles__Time-sc-3flq99-15 dsonii fb  padT10\"]')\n",
    "    for i in arrivaltags:\n",
    "        Arrival.append(i.text)\n",
    "except:\n",
    "    Arrival.append('-')\n",
    "    \n",
    "try:\n",
    "    pricetags=driver.find_elements_by_xpath('//div[@class=\"srp-card-uistyles__Price-sc-3flq99-17 jJioUu alignItemsCenter dF fb lh1 padT5\"]')\n",
    "    for i in pricetags:\n",
    "        Price.append(i.text.replace(',',''))\n",
    "except:\n",
    "    Price.append('-')"
   ]
  },
  {
   "cell_type": "markdown",
   "id": "9baaf1e9",
   "metadata": {},
   "source": [
    "### From New Delhi to Ranchi"
   ]
  },
  {
   "cell_type": "code",
   "execution_count": 216,
   "id": "30b6dcb4",
   "metadata": {},
   "outputs": [],
   "source": [
    "destinationfield=driver.find_element_by_xpath('/html/body/div[1]/div[2]/section/div[2]/div/div[3]/div/div/input')\n",
    "destinationfield.send_keys('Ranchi')"
   ]
  },
  {
   "cell_type": "code",
   "execution_count": 217,
   "id": "27cfe2e6",
   "metadata": {},
   "outputs": [],
   "source": [
    "destinationclick=driver.find_element_by_xpath('/html/body/div[1]/div[2]/section/div[2]/div/div[3]/div/ul/div/div[1]/li/div/div[1]/div[1]')\n",
    "destinationclick.click()"
   ]
  },
  {
   "cell_type": "code",
   "execution_count": 218,
   "id": "3f3df197",
   "metadata": {},
   "outputs": [],
   "source": [
    "searchbtn=driver.find_element_by_xpath('/html/body/div[1]/div[2]/section/div[2]/button')\n",
    "searchbtn.click()"
   ]
  },
  {
   "cell_type": "code",
   "execution_count": 219,
   "id": "b8a59cdd",
   "metadata": {},
   "outputs": [],
   "source": [
    "try:\n",
    "    airlinetags=driver.find_elements_by_xpath('//span[@class=\"font13 padL5 black\"]')\n",
    "    for i in airlinetags:\n",
    "        Airline.append(i.text)\n",
    "except :\n",
    "    Airline.append('-')\n",
    "    \n",
    "try:\n",
    "    sourcetags=driver.find_elements_by_xpath('//div[@class=\"srp-card-uistyles__Dep-sc-3flq99-11 gReLze flexCol\"]/div')\n",
    "    for i in sourcetags:\n",
    "        Source.append(i.text)\n",
    "except:\n",
    "    Source.append('-')\n",
    "    \n",
    "try:\n",
    "    desttags=driver.find_elements_by_xpath('//div[@class=\"srp-card-uistyles__Dep-sc-3flq99-11 srp-card-uistyles__Arr-sc-3flq99-14 gReLze evBigc flexCol\"]/div[1]')\n",
    "    for i in desttags:\n",
    "        Destination.append(i.text)\n",
    "except:\n",
    "    Destination.append('-')\n",
    "    \n",
    "try:\n",
    "    durtags=driver.find_elements_by_xpath('//span[@class=\"srp-card-uistyles__DurTime-sc-3flq99-16 jVRTyZ fb padT10\"]')\n",
    "    for i in durtags:\n",
    "        Duration.append(i.text)\n",
    "except:\n",
    "    Duration.append('-')\n",
    "    \n",
    "try:\n",
    "    deptags=driver.find_elements_by_xpath('//span[@class=\"srp-card-uistyles__Time-sc-3flq99-15 dsonii padT10 fb\"]')\n",
    "    for i in deptags:\n",
    "        Departure.append(i.text)\n",
    "except:\n",
    "    Departure.append('-')\n",
    "    \n",
    "try:\n",
    "    arrivaltags=driver.find_elements_by_xpath('//span[@class=\"srp-card-uistyles__Time-sc-3flq99-15 dsonii fb  padT10\"]')\n",
    "    for i in arrivaltags:\n",
    "        Arrival.append(i.text)\n",
    "except:\n",
    "    Arrival.append('-')\n",
    "    \n",
    "try:\n",
    "    pricetags=driver.find_elements_by_xpath('//div[@class=\"srp-card-uistyles__Price-sc-3flq99-17 jJioUu alignItemsCenter dF fb lh1 padT5\"]')\n",
    "    for i in pricetags:\n",
    "        Price.append(i.text.replace(',',''))\n",
    "except:\n",
    "    Price.append('-')"
   ]
  },
  {
   "cell_type": "markdown",
   "id": "475936f4",
   "metadata": {},
   "source": [
    "### From New Delhi to Kerela"
   ]
  },
  {
   "cell_type": "code",
   "execution_count": 225,
   "id": "e70acc96",
   "metadata": {},
   "outputs": [],
   "source": [
    "\n",
    "destinationfield=driver.find_element_by_xpath('/html/body/div[1]/div[2]/section/div[2]/div/div[3]/div/div/input')\n",
    "destinationfield.send_keys('Kerela')"
   ]
  },
  {
   "cell_type": "code",
   "execution_count": 226,
   "id": "e77f8f8e",
   "metadata": {},
   "outputs": [],
   "source": [
    "destinationclick=driver.find_element_by_xpath('/html/body/div[1]/div[2]/section/div[2]/div/div[3]/div/ul/div/div[1]/li/div/div[1]/div[1]')\n",
    "destinationclick.click()"
   ]
  },
  {
   "cell_type": "code",
   "execution_count": 227,
   "id": "98cfa543",
   "metadata": {},
   "outputs": [],
   "source": [
    "searchbtn=driver.find_element_by_xpath('/html/body/div[1]/div[2]/section/div[2]/button')\n",
    "searchbtn.click()"
   ]
  },
  {
   "cell_type": "code",
   "execution_count": 228,
   "id": "46cad5bc",
   "metadata": {},
   "outputs": [],
   "source": [
    "try:\n",
    "    airlinetags=driver.find_elements_by_xpath('//span[@class=\"font13 padL5 black\"]')\n",
    "    for i in airlinetags:\n",
    "        Airline.append(i.text)\n",
    "except :\n",
    "    Airline.append('-')\n",
    "    \n",
    "try:\n",
    "    sourcetags=driver.find_elements_by_xpath('//div[@class=\"srp-card-uistyles__Dep-sc-3flq99-11 gReLze flexCol\"]/div')\n",
    "    for i in sourcetags:\n",
    "        Source.append(i.text)\n",
    "except:\n",
    "    Source.append('-')\n",
    "    \n",
    "try:\n",
    "    desttags=driver.find_elements_by_xpath('//div[@class=\"srp-card-uistyles__Dep-sc-3flq99-11 srp-card-uistyles__Arr-sc-3flq99-14 gReLze evBigc flexCol\"]/div[1]')\n",
    "    for i in desttags:\n",
    "        Destination.append(i.text)\n",
    "except:\n",
    "    Destination.append('-')\n",
    "    \n",
    "try:\n",
    "    durtags=driver.find_elements_by_xpath('//span[@class=\"srp-card-uistyles__DurTime-sc-3flq99-16 jVRTyZ fb padT10\"]')\n",
    "    for i in durtags:\n",
    "        Duration.append(i.text)\n",
    "except:\n",
    "    Duration.append('-')\n",
    "    \n",
    "try:\n",
    "    deptags=driver.find_elements_by_xpath('//span[@class=\"srp-card-uistyles__Time-sc-3flq99-15 dsonii padT10 fb\"]')\n",
    "    for i in deptags:\n",
    "        Departure.append(i.text)\n",
    "except:\n",
    "    Departure.append('-')\n",
    "    \n",
    "try:\n",
    "    arrivaltags=driver.find_elements_by_xpath('//span[@class=\"srp-card-uistyles__Time-sc-3flq99-15 dsonii fb  padT10\"]')\n",
    "    for i in arrivaltags:\n",
    "        Arrival.append(i.text)\n",
    "except:\n",
    "    Arrival.append('-')\n",
    "    \n",
    "try:\n",
    "    pricetags=driver.find_elements_by_xpath('//div[@class=\"srp-card-uistyles__Price-sc-3flq99-17 jJioUu alignItemsCenter dF fb lh1 padT5\"]')\n",
    "    for i in pricetags:\n",
    "        Price.append(i.text.replace(',',''))\n",
    "except:\n",
    "    Price.append('-')"
   ]
  },
  {
   "cell_type": "markdown",
   "id": "307be68e",
   "metadata": {},
   "source": [
    "### From New Delhi to Abu Dhabi"
   ]
  },
  {
   "cell_type": "code",
   "execution_count": 229,
   "id": "6269849a",
   "metadata": {},
   "outputs": [],
   "source": [
    "destinationfield=driver.find_element_by_xpath('/html/body/div[1]/div[2]/section/div[2]/div/div[3]/div/div/input')\n",
    "destinationfield.send_keys('Abu Dhabi')"
   ]
  },
  {
   "cell_type": "code",
   "execution_count": 230,
   "id": "95277832",
   "metadata": {},
   "outputs": [],
   "source": [
    "destinationclick=driver.find_element_by_xpath('/html/body/div[1]/div[2]/section/div[2]/div/div[3]/div/ul/div/div[1]/li/div/div[1]/div[1]')\n",
    "destinationclick.click()"
   ]
  },
  {
   "cell_type": "code",
   "execution_count": 231,
   "id": "51695c66",
   "metadata": {},
   "outputs": [],
   "source": [
    "searchbtn=driver.find_element_by_xpath('/html/body/div[1]/div[2]/section/div[2]/button')\n",
    "searchbtn.click()"
   ]
  },
  {
   "cell_type": "code",
   "execution_count": 232,
   "id": "77881d69",
   "metadata": {},
   "outputs": [],
   "source": [
    "try:\n",
    "    airlinetags=driver.find_elements_by_xpath('//span[@class=\"font13 padL5 black\"]')\n",
    "    for i in airlinetags:\n",
    "        Airline.append(i.text)\n",
    "except :\n",
    "    Airline.append('-')\n",
    "    \n",
    "try:\n",
    "    sourcetags=driver.find_elements_by_xpath('//div[@class=\"srp-card-uistyles__Dep-sc-3flq99-11 gReLze flexCol\"]/div')\n",
    "    for i in sourcetags:\n",
    "        Source.append(i.text)\n",
    "except:\n",
    "    Source.append('-')\n",
    "    \n",
    "try:\n",
    "    desttags=driver.find_elements_by_xpath('//div[@class=\"srp-card-uistyles__Dep-sc-3flq99-11 srp-card-uistyles__Arr-sc-3flq99-14 gReLze evBigc flexCol\"]/div[1]')\n",
    "    for i in desttags:\n",
    "        Destination.append(i.text)\n",
    "except:\n",
    "    Destination.append('-')\n",
    "    \n",
    "try:\n",
    "    durtags=driver.find_elements_by_xpath('//span[@class=\"srp-card-uistyles__DurTime-sc-3flq99-16 jVRTyZ fb padT10\"]')\n",
    "    for i in durtags:\n",
    "        Duration.append(i.text)\n",
    "except:\n",
    "    Duration.append('-')\n",
    "    \n",
    "try:\n",
    "    deptags=driver.find_elements_by_xpath('//span[@class=\"srp-card-uistyles__Time-sc-3flq99-15 dsonii padT10 fb\"]')\n",
    "    for i in deptags:\n",
    "        Departure.append(i.text)\n",
    "except:\n",
    "    Departure.append('-')\n",
    "    \n",
    "try:\n",
    "    arrivaltags=driver.find_elements_by_xpath('//span[@class=\"srp-card-uistyles__Time-sc-3flq99-15 dsonii fb  padT10\"]')\n",
    "    for i in arrivaltags:\n",
    "        Arrival.append(i.text)\n",
    "except:\n",
    "    Arrival.append('-')\n",
    "    \n",
    "try:\n",
    "    pricetags=driver.find_elements_by_xpath('//div[@class=\"srp-card-uistyles__Price-sc-3flq99-17 jJioUu alignItemsCenter dF fb lh1 padT5\"]')\n",
    "    for i in pricetags:\n",
    "        Price.append(i.text.replace(',',''))\n",
    "except:\n",
    "    Price.append('-')"
   ]
  },
  {
   "cell_type": "markdown",
   "id": "6cac9e6c",
   "metadata": {},
   "source": [
    "### From New Delhi to Goa"
   ]
  },
  {
   "cell_type": "code",
   "execution_count": 233,
   "id": "23369604",
   "metadata": {},
   "outputs": [],
   "source": [
    "destinationfield=driver.find_element_by_xpath('/html/body/div[1]/div[2]/section/div[2]/div/div[3]/div/div/input')\n",
    "destinationfield.send_keys('Goa')"
   ]
  },
  {
   "cell_type": "code",
   "execution_count": 234,
   "id": "08c9881f",
   "metadata": {},
   "outputs": [],
   "source": [
    "destinationclick=driver.find_element_by_xpath('/html/body/div[1]/div[2]/section/div[2]/div/div[3]/div/ul/div/div[1]/li/div/div[1]/div[1]')\n",
    "destinationclick.click()"
   ]
  },
  {
   "cell_type": "code",
   "execution_count": 235,
   "id": "b51e75fc",
   "metadata": {},
   "outputs": [],
   "source": [
    "searchbtn=driver.find_element_by_xpath('/html/body/div[1]/div[2]/section/div[2]/button')\n",
    "searchbtn.click()"
   ]
  },
  {
   "cell_type": "code",
   "execution_count": 236,
   "id": "88def61e",
   "metadata": {},
   "outputs": [],
   "source": [
    "try:\n",
    "    airlinetags=driver.find_elements_by_xpath('//span[@class=\"font13 padL5 black\"]')\n",
    "    for i in airlinetags:\n",
    "        Airline.append(i.text)\n",
    "except :\n",
    "    Airline.append('-')\n",
    "    \n",
    "try:\n",
    "    sourcetags=driver.find_elements_by_xpath('//div[@class=\"srp-card-uistyles__Dep-sc-3flq99-11 gReLze flexCol\"]/div')\n",
    "    for i in sourcetags:\n",
    "        Source.append(i.text)\n",
    "except:\n",
    "    Source.append('-')\n",
    "    \n",
    "try:\n",
    "    desttags=driver.find_elements_by_xpath('//div[@class=\"srp-card-uistyles__Dep-sc-3flq99-11 srp-card-uistyles__Arr-sc-3flq99-14 gReLze evBigc flexCol\"]/div[1]')\n",
    "    for i in desttags:\n",
    "        Destination.append(i.text)\n",
    "except:\n",
    "    Destination.append('-')\n",
    "    \n",
    "try:\n",
    "    durtags=driver.find_elements_by_xpath('//span[@class=\"srp-card-uistyles__DurTime-sc-3flq99-16 jVRTyZ fb padT10\"]')\n",
    "    for i in durtags:\n",
    "        Duration.append(i.text)\n",
    "except:\n",
    "    Duration.append('-')\n",
    "    \n",
    "try:\n",
    "    deptags=driver.find_elements_by_xpath('//span[@class=\"srp-card-uistyles__Time-sc-3flq99-15 dsonii padT10 fb\"]')\n",
    "    for i in deptags:\n",
    "        Departure.append(i.text)\n",
    "except:\n",
    "    Departure.append('-')\n",
    "    \n",
    "try:\n",
    "    arrivaltags=driver.find_elements_by_xpath('//span[@class=\"srp-card-uistyles__Time-sc-3flq99-15 dsonii fb  padT10\"]')\n",
    "    for i in arrivaltags:\n",
    "        Arrival.append(i.text)\n",
    "except:\n",
    "    Arrival.append('-')\n",
    "    \n",
    "try:\n",
    "    pricetags=driver.find_elements_by_xpath('//div[@class=\"srp-card-uistyles__Price-sc-3flq99-17 jJioUu alignItemsCenter dF fb lh1 padT5\"]')\n",
    "    for i in pricetags:\n",
    "        Price.append(i.text.replace(',',''))\n",
    "except:\n",
    "    Price.append('-')"
   ]
  },
  {
   "cell_type": "markdown",
   "id": "de10fa67",
   "metadata": {},
   "source": [
    "### From New Delhi to Chandigarh"
   ]
  },
  {
   "cell_type": "code",
   "execution_count": 237,
   "id": "66995f5e",
   "metadata": {},
   "outputs": [],
   "source": [
    "destinationfield=driver.find_element_by_xpath('/html/body/div[1]/div[2]/section/div[2]/div/div[3]/div/div/input')\n",
    "destinationfield.send_keys('Chandigarh')"
   ]
  },
  {
   "cell_type": "code",
   "execution_count": 238,
   "id": "f8e81b14",
   "metadata": {},
   "outputs": [],
   "source": [
    "destinationclick=driver.find_element_by_xpath('/html/body/div[1]/div[2]/section/div[2]/div/div[3]/div/ul/div/div[1]/li/div/div[1]/div[1]')\n",
    "destinationclick.click()"
   ]
  },
  {
   "cell_type": "code",
   "execution_count": 239,
   "id": "70087925",
   "metadata": {},
   "outputs": [],
   "source": [
    "searchbtn=driver.find_element_by_xpath('/html/body/div[1]/div[2]/section/div[2]/button')\n",
    "searchbtn.click()"
   ]
  },
  {
   "cell_type": "code",
   "execution_count": 240,
   "id": "30a70865",
   "metadata": {},
   "outputs": [],
   "source": [
    "try:\n",
    "    airlinetags=driver.find_elements_by_xpath('//span[@class=\"font13 padL5 black\"]')\n",
    "    for i in airlinetags:\n",
    "        Airline.append(i.text)\n",
    "except :\n",
    "    Airline.append('-')\n",
    "    \n",
    "try:\n",
    "    sourcetags=driver.find_elements_by_xpath('//div[@class=\"srp-card-uistyles__Dep-sc-3flq99-11 gReLze flexCol\"]/div')\n",
    "    for i in sourcetags:\n",
    "        Source.append(i.text)\n",
    "except:\n",
    "    Source.append('-')\n",
    "    \n",
    "try:\n",
    "    desttags=driver.find_elements_by_xpath('//div[@class=\"srp-card-uistyles__Dep-sc-3flq99-11 srp-card-uistyles__Arr-sc-3flq99-14 gReLze evBigc flexCol\"]/div[1]')\n",
    "    for i in desttags:\n",
    "        Destination.append(i.text)\n",
    "except:\n",
    "    Destination.append('-')\n",
    "    \n",
    "try:\n",
    "    durtags=driver.find_elements_by_xpath('//span[@class=\"srp-card-uistyles__DurTime-sc-3flq99-16 jVRTyZ fb padT10\"]')\n",
    "    for i in durtags:\n",
    "        Duration.append(i.text)\n",
    "except:\n",
    "    Duration.append('-')\n",
    "    \n",
    "try:\n",
    "    deptags=driver.find_elements_by_xpath('//span[@class=\"srp-card-uistyles__Time-sc-3flq99-15 dsonii padT10 fb\"]')\n",
    "    for i in deptags:\n",
    "        Departure.append(i.text)\n",
    "except:\n",
    "    Departure.append('-')\n",
    "    \n",
    "try:\n",
    "    arrivaltags=driver.find_elements_by_xpath('//span[@class=\"srp-card-uistyles__Time-sc-3flq99-15 dsonii fb  padT10\"]')\n",
    "    for i in arrivaltags:\n",
    "        Arrival.append(i.text)\n",
    "except:\n",
    "    Arrival.append('-')\n",
    "    \n",
    "try:\n",
    "    pricetags=driver.find_elements_by_xpath('//div[@class=\"srp-card-uistyles__Price-sc-3flq99-17 jJioUu alignItemsCenter dF fb lh1 padT5\"]')\n",
    "    for i in pricetags:\n",
    "        Price.append(i.text.replace(',',''))\n",
    "except:\n",
    "    Price.append('-')"
   ]
  },
  {
   "cell_type": "markdown",
   "id": "d1f36c41",
   "metadata": {},
   "source": [
    "### From New Delhi to Amritsar"
   ]
  },
  {
   "cell_type": "code",
   "execution_count": 241,
   "id": "45f1ee18",
   "metadata": {},
   "outputs": [],
   "source": [
    "destinationfield=driver.find_element_by_xpath('/html/body/div[1]/div[2]/section/div[2]/div/div[3]/div/div/input')\n",
    "destinationfield.send_keys('Amritsar')"
   ]
  },
  {
   "cell_type": "code",
   "execution_count": 242,
   "id": "851f8920",
   "metadata": {},
   "outputs": [],
   "source": [
    "destinationclick=driver.find_element_by_xpath('/html/body/div[1]/div[2]/section/div[2]/div/div[3]/div/ul/div/div[1]/li/div/div[1]/div[1]')\n",
    "destinationclick.click()"
   ]
  },
  {
   "cell_type": "code",
   "execution_count": 243,
   "id": "a4f4b363",
   "metadata": {},
   "outputs": [],
   "source": [
    "searchbtn=driver.find_element_by_xpath('/html/body/div[1]/div[2]/section/div[2]/button')\n",
    "searchbtn.click()"
   ]
  },
  {
   "cell_type": "code",
   "execution_count": 244,
   "id": "3b9459ff",
   "metadata": {},
   "outputs": [],
   "source": [
    "try:\n",
    "    airlinetags=driver.find_elements_by_xpath('//span[@class=\"font13 padL5 black\"]')\n",
    "    for i in airlinetags:\n",
    "        Airline.append(i.text)\n",
    "except :\n",
    "    Airline.append('-')\n",
    "    \n",
    "try:\n",
    "    sourcetags=driver.find_elements_by_xpath('//div[@class=\"srp-card-uistyles__Dep-sc-3flq99-11 gReLze flexCol\"]/div')\n",
    "    for i in sourcetags:\n",
    "        Source.append(i.text)\n",
    "except:\n",
    "    Source.append('-')\n",
    "    \n",
    "try:\n",
    "    desttags=driver.find_elements_by_xpath('//div[@class=\"srp-card-uistyles__Dep-sc-3flq99-11 srp-card-uistyles__Arr-sc-3flq99-14 gReLze evBigc flexCol\"]/div[1]')\n",
    "    for i in desttags:\n",
    "        Destination.append(i.text)\n",
    "except:\n",
    "    Destination.append('-')\n",
    "    \n",
    "try:\n",
    "    durtags=driver.find_elements_by_xpath('//span[@class=\"srp-card-uistyles__DurTime-sc-3flq99-16 jVRTyZ fb padT10\"]')\n",
    "    for i in durtags:\n",
    "        Duration.append(i.text)\n",
    "except:\n",
    "    Duration.append('-')\n",
    "    \n",
    "try:\n",
    "    deptags=driver.find_elements_by_xpath('//span[@class=\"srp-card-uistyles__Time-sc-3flq99-15 dsonii padT10 fb\"]')\n",
    "    for i in deptags:\n",
    "        Departure.append(i.text)\n",
    "except:\n",
    "    Departure.append('-')\n",
    "    \n",
    "try:\n",
    "    arrivaltags=driver.find_elements_by_xpath('//span[@class=\"srp-card-uistyles__Time-sc-3flq99-15 dsonii fb  padT10\"]')\n",
    "    for i in arrivaltags:\n",
    "        Arrival.append(i.text)\n",
    "except:\n",
    "    Arrival.append('-')\n",
    "    \n",
    "try:\n",
    "    pricetags=driver.find_elements_by_xpath('//div[@class=\"srp-card-uistyles__Price-sc-3flq99-17 jJioUu alignItemsCenter dF fb lh1 padT5\"]')\n",
    "    for i in pricetags:\n",
    "        Price.append(i.text.replace(',',''))\n",
    "except:\n",
    "    Price.append('-')"
   ]
  },
  {
   "cell_type": "markdown",
   "id": "07b151d9",
   "metadata": {},
   "source": [
    "### From New Delhi to Andaman and nicobar"
   ]
  },
  {
   "cell_type": "code",
   "execution_count": 248,
   "id": "6b101285",
   "metadata": {},
   "outputs": [],
   "source": [
    "destinationfield=driver.find_element_by_xpath('/html/body/div[1]/div[2]/section/div[2]/div/div[3]/div/div/input')\n",
    "destinationfield.send_keys('Andaman')"
   ]
  },
  {
   "cell_type": "code",
   "execution_count": 249,
   "id": "052650a0",
   "metadata": {},
   "outputs": [],
   "source": [
    "destinationclick=driver.find_element_by_xpath('/html/body/div[1]/div[2]/section/div[2]/div/div[3]/div/ul/div/div[1]/li/div/div[1]/div[1]')\n",
    "destinationclick.click()"
   ]
  },
  {
   "cell_type": "code",
   "execution_count": 250,
   "id": "c5718dca",
   "metadata": {},
   "outputs": [],
   "source": [
    "searchbtn=driver.find_element_by_xpath('/html/body/div[1]/div[2]/section/div[2]/button')\n",
    "searchbtn.click()"
   ]
  },
  {
   "cell_type": "code",
   "execution_count": 251,
   "id": "35095294",
   "metadata": {},
   "outputs": [],
   "source": [
    "try:\n",
    "    airlinetags=driver.find_elements_by_xpath('//span[@class=\"font13 padL5 black\"]')\n",
    "    for i in airlinetags:\n",
    "        Airline.append(i.text)\n",
    "except :\n",
    "    Airline.append('-')\n",
    "    \n",
    "try:\n",
    "    sourcetags=driver.find_elements_by_xpath('//div[@class=\"srp-card-uistyles__Dep-sc-3flq99-11 gReLze flexCol\"]/div')\n",
    "    for i in sourcetags:\n",
    "        Source.append(i.text)\n",
    "except:\n",
    "    Source.append('-')\n",
    "    \n",
    "try:\n",
    "    desttags=driver.find_elements_by_xpath('//div[@class=\"srp-card-uistyles__Dep-sc-3flq99-11 srp-card-uistyles__Arr-sc-3flq99-14 gReLze evBigc flexCol\"]/div[1]')\n",
    "    for i in desttags:\n",
    "        Destination.append(i.text)\n",
    "except:\n",
    "    Destination.append('-')\n",
    "    \n",
    "try:\n",
    "    durtags=driver.find_elements_by_xpath('//span[@class=\"srp-card-uistyles__DurTime-sc-3flq99-16 jVRTyZ fb padT10\"]')\n",
    "    for i in durtags:\n",
    "        Duration.append(i.text)\n",
    "except:\n",
    "    Duration.append('-')\n",
    "    \n",
    "try:\n",
    "    deptags=driver.find_elements_by_xpath('//span[@class=\"srp-card-uistyles__Time-sc-3flq99-15 dsonii padT10 fb\"]')\n",
    "    for i in deptags:\n",
    "        Departure.append(i.text)\n",
    "except:\n",
    "    Departure.append('-')\n",
    "    \n",
    "try:\n",
    "    arrivaltags=driver.find_elements_by_xpath('//span[@class=\"srp-card-uistyles__Time-sc-3flq99-15 dsonii fb  padT10\"]')\n",
    "    for i in arrivaltags:\n",
    "        Arrival.append(i.text)\n",
    "except:\n",
    "    Arrival.append('-')\n",
    "    \n",
    "try:\n",
    "    pricetags=driver.find_elements_by_xpath('//div[@class=\"srp-card-uistyles__Price-sc-3flq99-17 jJioUu alignItemsCenter dF fb lh1 padT5\"]')\n",
    "    for i in pricetags:\n",
    "        Price.append(i.text.replace(',',''))\n",
    "except:\n",
    "    Price.append('-')"
   ]
  },
  {
   "cell_type": "markdown",
   "id": "573e8e91",
   "metadata": {},
   "source": [
    "### From New Delhi to Las vegas"
   ]
  },
  {
   "cell_type": "code",
   "execution_count": 253,
   "id": "2e302352",
   "metadata": {},
   "outputs": [],
   "source": [
    "destinationfield=driver.find_element_by_xpath('/html/body/div[1]/div[2]/section/div[2]/div/div[3]/div/div/input')\n",
    "destinationfield.send_keys('Las Vegas')"
   ]
  },
  {
   "cell_type": "code",
   "execution_count": 254,
   "id": "9eacc12d",
   "metadata": {},
   "outputs": [],
   "source": [
    "destinationclick=driver.find_element_by_xpath('/html/body/div[1]/div[2]/section/div[2]/div/div[3]/div/ul/div/div[1]/li/div/div[1]/div[1]')\n",
    "destinationclick.click()"
   ]
  },
  {
   "cell_type": "code",
   "execution_count": 255,
   "id": "205dfeb6",
   "metadata": {},
   "outputs": [],
   "source": [
    "searchbtn=driver.find_element_by_xpath('/html/body/div[1]/div[2]/section/div[2]/button')\n",
    "searchbtn.click()"
   ]
  },
  {
   "cell_type": "code",
   "execution_count": 256,
   "id": "a0bff24d",
   "metadata": {},
   "outputs": [],
   "source": [
    "try:\n",
    "    airlinetags=driver.find_elements_by_xpath('//span[@class=\"font13 padL5 black\"]')\n",
    "    for i in airlinetags:\n",
    "        Airline.append(i.text)\n",
    "except :\n",
    "    Airline.append('-')\n",
    "    \n",
    "try:\n",
    "    sourcetags=driver.find_elements_by_xpath('//div[@class=\"srp-card-uistyles__Dep-sc-3flq99-11 gReLze flexCol\"]/div')\n",
    "    for i in sourcetags:\n",
    "        Source.append(i.text)\n",
    "except:\n",
    "    Source.append('-')\n",
    "    \n",
    "try:\n",
    "    desttags=driver.find_elements_by_xpath('//div[@class=\"srp-card-uistyles__Dep-sc-3flq99-11 srp-card-uistyles__Arr-sc-3flq99-14 gReLze evBigc flexCol\"]/div[1]')\n",
    "    for i in desttags:\n",
    "        Destination.append(i.text)\n",
    "except:\n",
    "    Destination.append('-')\n",
    "    \n",
    "try:\n",
    "    durtags=driver.find_elements_by_xpath('//span[@class=\"srp-card-uistyles__DurTime-sc-3flq99-16 jVRTyZ fb padT10\"]')\n",
    "    for i in durtags:\n",
    "        Duration.append(i.text)\n",
    "except:\n",
    "    Duration.append('-')\n",
    "    \n",
    "try:\n",
    "    deptags=driver.find_elements_by_xpath('//span[@class=\"srp-card-uistyles__Time-sc-3flq99-15 dsonii padT10 fb\"]')\n",
    "    for i in deptags:\n",
    "        Departure.append(i.text)\n",
    "except:\n",
    "    Departure.append('-')\n",
    "    \n",
    "try:\n",
    "    arrivaltags=driver.find_elements_by_xpath('//span[@class=\"srp-card-uistyles__Time-sc-3flq99-15 dsonii fb  padT10\"]')\n",
    "    for i in arrivaltags:\n",
    "        Arrival.append(i.text)\n",
    "except:\n",
    "    Arrival.append('-')\n",
    "    \n",
    "try:\n",
    "    pricetags=driver.find_elements_by_xpath('//div[@class=\"srp-card-uistyles__Price-sc-3flq99-17 jJioUu alignItemsCenter dF fb lh1 padT5\"]')\n",
    "    for i in pricetags:\n",
    "        Price.append(i.text.replace(',',''))\n",
    "except:\n",
    "    Price.append('-')"
   ]
  },
  {
   "cell_type": "markdown",
   "id": "abdde622",
   "metadata": {},
   "source": [
    "### From New Delhi to Sharjah"
   ]
  },
  {
   "cell_type": "code",
   "execution_count": 259,
   "id": "2ca781b4",
   "metadata": {},
   "outputs": [],
   "source": [
    "destinationfield=driver.find_element_by_xpath('/html/body/div[1]/div[2]/section/div[2]/div/div[3]/div/div/input')\n",
    "destinationfield.send_keys('Sharjah')"
   ]
  },
  {
   "cell_type": "code",
   "execution_count": 260,
   "id": "2a8a6b16",
   "metadata": {},
   "outputs": [],
   "source": [
    "destinationclick=driver.find_element_by_xpath('/html/body/div[1]/div[2]/section/div[2]/div/div[3]/div/ul/div/div[1]/li/div/div[1]/div[1]')\n",
    "destinationclick.click()"
   ]
  },
  {
   "cell_type": "code",
   "execution_count": 261,
   "id": "62c1d723",
   "metadata": {},
   "outputs": [],
   "source": [
    "searchbtn=driver.find_element_by_xpath('/html/body/div[1]/div[2]/section/div[2]/button')\n",
    "searchbtn.click()"
   ]
  },
  {
   "cell_type": "code",
   "execution_count": 262,
   "id": "2c0aca12",
   "metadata": {},
   "outputs": [],
   "source": [
    "try:\n",
    "    airlinetags=driver.find_elements_by_xpath('//span[@class=\"font13 padL5 black\"]')\n",
    "    for i in airlinetags:\n",
    "        Airline.append(i.text)\n",
    "except :\n",
    "    Airline.append('-')\n",
    "    \n",
    "try:\n",
    "    sourcetags=driver.find_elements_by_xpath('//div[@class=\"srp-card-uistyles__Dep-sc-3flq99-11 gReLze flexCol\"]/div')\n",
    "    for i in sourcetags:\n",
    "        Source.append(i.text)\n",
    "except:\n",
    "    Source.append('-')\n",
    "    \n",
    "try:\n",
    "    desttags=driver.find_elements_by_xpath('//div[@class=\"srp-card-uistyles__Dep-sc-3flq99-11 srp-card-uistyles__Arr-sc-3flq99-14 gReLze evBigc flexCol\"]/div[1]')\n",
    "    for i in desttags:\n",
    "        Destination.append(i.text)\n",
    "except:\n",
    "    Destination.append('-')\n",
    "    \n",
    "try:\n",
    "    durtags=driver.find_elements_by_xpath('//span[@class=\"srp-card-uistyles__DurTime-sc-3flq99-16 jVRTyZ fb padT10\"]')\n",
    "    for i in durtags:\n",
    "        Duration.append(i.text)\n",
    "except:\n",
    "    Duration.append('-')\n",
    "    \n",
    "try:\n",
    "    deptags=driver.find_elements_by_xpath('//span[@class=\"srp-card-uistyles__Time-sc-3flq99-15 dsonii padT10 fb\"]')\n",
    "    for i in deptags:\n",
    "        Departure.append(i.text)\n",
    "except:\n",
    "    Departure.append('-')\n",
    "    \n",
    "try:\n",
    "    arrivaltags=driver.find_elements_by_xpath('//span[@class=\"srp-card-uistyles__Time-sc-3flq99-15 dsonii fb  padT10\"]')\n",
    "    for i in arrivaltags:\n",
    "        Arrival.append(i.text)\n",
    "except:\n",
    "    Arrival.append('-')\n",
    "    \n",
    "try:\n",
    "    pricetags=driver.find_elements_by_xpath('//div[@class=\"srp-card-uistyles__Price-sc-3flq99-17 jJioUu alignItemsCenter dF fb lh1 padT5\"]')\n",
    "    for i in pricetags:\n",
    "        Price.append(i.text.replace(',',''))\n",
    "except:\n",
    "    Price.append('-')"
   ]
  },
  {
   "cell_type": "markdown",
   "id": "29cda012",
   "metadata": {},
   "source": [
    "### From New Delhi to Lucknow"
   ]
  },
  {
   "cell_type": "code",
   "execution_count": 269,
   "id": "898831cf",
   "metadata": {},
   "outputs": [],
   "source": [
    "destinationfield=driver.find_element_by_xpath('/html/body/div[1]/div[2]/section/div[2]/div/div[3]/div/div/input')\n",
    "destinationfield.send_keys('Lucknow')"
   ]
  },
  {
   "cell_type": "code",
   "execution_count": 270,
   "id": "d8f9d57b",
   "metadata": {},
   "outputs": [],
   "source": [
    "destinationclick=driver.find_element_by_xpath('/html/body/div[1]/div[2]/section/div[2]/div/div[3]/div/ul/div/div[1]/li/div/div[1]/div[1]')\n",
    "destinationclick.click()"
   ]
  },
  {
   "cell_type": "code",
   "execution_count": 271,
   "id": "989963cf",
   "metadata": {},
   "outputs": [],
   "source": [
    "searchbtn=driver.find_element_by_xpath('/html/body/div[1]/div[2]/section/div[2]/button')\n",
    "searchbtn.click()"
   ]
  },
  {
   "cell_type": "code",
   "execution_count": 272,
   "id": "20e168e9",
   "metadata": {},
   "outputs": [],
   "source": [
    "try:\n",
    "    airlinetags=driver.find_elements_by_xpath('//span[@class=\"font13 padL5 black\"]')\n",
    "    for i in airlinetags:\n",
    "        Airline.append(i.text)\n",
    "except :\n",
    "    Airline.append('-')\n",
    "    \n",
    "try:\n",
    "    sourcetags=driver.find_elements_by_xpath('//div[@class=\"srp-card-uistyles__Dep-sc-3flq99-11 gReLze flexCol\"]/div')\n",
    "    for i in sourcetags:\n",
    "        Source.append(i.text)\n",
    "except:\n",
    "    Source.append('-')\n",
    "    \n",
    "try:\n",
    "    desttags=driver.find_elements_by_xpath('//div[@class=\"srp-card-uistyles__Dep-sc-3flq99-11 srp-card-uistyles__Arr-sc-3flq99-14 gReLze evBigc flexCol\"]/div[1]')\n",
    "    for i in desttags:\n",
    "        Destination.append(i.text)\n",
    "except:\n",
    "    Destination.append('-')\n",
    "    \n",
    "try:\n",
    "    durtags=driver.find_elements_by_xpath('//span[@class=\"srp-card-uistyles__DurTime-sc-3flq99-16 jVRTyZ fb padT10\"]')\n",
    "    for i in durtags:\n",
    "        Duration.append(i.text)\n",
    "except:\n",
    "    Duration.append('-')\n",
    "    \n",
    "try:\n",
    "    deptags=driver.find_elements_by_xpath('//span[@class=\"srp-card-uistyles__Time-sc-3flq99-15 dsonii padT10 fb\"]')\n",
    "    for i in deptags:\n",
    "        Departure.append(i.text)\n",
    "except:\n",
    "    Departure.append('-')\n",
    "    \n",
    "try:\n",
    "    arrivaltags=driver.find_elements_by_xpath('//span[@class=\"srp-card-uistyles__Time-sc-3flq99-15 dsonii fb  padT10\"]')\n",
    "    for i in arrivaltags:\n",
    "        Arrival.append(i.text)\n",
    "except:\n",
    "    Arrival.append('-')\n",
    "    \n",
    "try:\n",
    "    pricetags=driver.find_elements_by_xpath('//div[@class=\"srp-card-uistyles__Price-sc-3flq99-17 jJioUu alignItemsCenter dF fb lh1 padT5\"]')\n",
    "    for i in pricetags:\n",
    "        Price.append(i.text.replace(',',''))\n",
    "except:\n",
    "    Price.append('-')"
   ]
  },
  {
   "cell_type": "markdown",
   "id": "cd70168c",
   "metadata": {},
   "source": [
    "### From New Delhi to Los Angeles"
   ]
  },
  {
   "cell_type": "code",
   "execution_count": 273,
   "id": "44f47de5",
   "metadata": {},
   "outputs": [],
   "source": [
    "destinationfield=driver.find_element_by_xpath('/html/body/div[1]/div[2]/section/div[2]/div/div[3]/div/div/input')\n",
    "destinationfield.send_keys('Los Angeles')"
   ]
  },
  {
   "cell_type": "code",
   "execution_count": 274,
   "id": "881cc082",
   "metadata": {},
   "outputs": [],
   "source": [
    "destinationclick=driver.find_element_by_xpath('/html/body/div[1]/div[2]/section/div[2]/div/div[3]/div/ul/div/div[1]/li/div/div[1]/div[1]')\n",
    "destinationclick.click()"
   ]
  },
  {
   "cell_type": "code",
   "execution_count": 275,
   "id": "bfdbcf96",
   "metadata": {},
   "outputs": [],
   "source": [
    "searchbtn=driver.find_element_by_xpath('/html/body/div[1]/div[2]/section/div[2]/button')\n",
    "searchbtn.click()"
   ]
  },
  {
   "cell_type": "code",
   "execution_count": 276,
   "id": "ee31ae58",
   "metadata": {},
   "outputs": [],
   "source": [
    "try:\n",
    "    airlinetags=driver.find_elements_by_xpath('//span[@class=\"font13 padL5 black\"]')\n",
    "    for i in airlinetags:\n",
    "        Airline.append(i.text)\n",
    "except :\n",
    "    Airline.append('-')\n",
    "    \n",
    "try:\n",
    "    sourcetags=driver.find_elements_by_xpath('//div[@class=\"srp-card-uistyles__Dep-sc-3flq99-11 gReLze flexCol\"]/div')\n",
    "    for i in sourcetags:\n",
    "        Source.append(i.text)\n",
    "except:\n",
    "    Source.append('-')\n",
    "    \n",
    "try:\n",
    "    desttags=driver.find_elements_by_xpath('//div[@class=\"srp-card-uistyles__Dep-sc-3flq99-11 srp-card-uistyles__Arr-sc-3flq99-14 gReLze evBigc flexCol\"]/div[1]')\n",
    "    for i in desttags:\n",
    "        Destination.append(i.text)\n",
    "except:\n",
    "    Destination.append('-')\n",
    "    \n",
    "try:\n",
    "    durtags=driver.find_elements_by_xpath('//span[@class=\"srp-card-uistyles__DurTime-sc-3flq99-16 jVRTyZ fb padT10\"]')\n",
    "    for i in durtags:\n",
    "        Duration.append(i.text)\n",
    "except:\n",
    "    Duration.append('-')\n",
    "    \n",
    "try:\n",
    "    deptags=driver.find_elements_by_xpath('//span[@class=\"srp-card-uistyles__Time-sc-3flq99-15 dsonii padT10 fb\"]')\n",
    "    for i in deptags:\n",
    "        Departure.append(i.text)\n",
    "except:\n",
    "    Departure.append('-')\n",
    "    \n",
    "try:\n",
    "    arrivaltags=driver.find_elements_by_xpath('//span[@class=\"srp-card-uistyles__Time-sc-3flq99-15 dsonii fb  padT10\"]')\n",
    "    for i in arrivaltags:\n",
    "        Arrival.append(i.text)\n",
    "except:\n",
    "    Arrival.append('-')\n",
    "    \n",
    "try:\n",
    "    pricetags=driver.find_elements_by_xpath('//div[@class=\"srp-card-uistyles__Price-sc-3flq99-17 jJioUu alignItemsCenter dF fb lh1 padT5\"]')\n",
    "    for i in pricetags:\n",
    "        Price.append(i.text.replace(',',''))\n",
    "except:\n",
    "    Price.append('-')"
   ]
  },
  {
   "cell_type": "markdown",
   "id": "71c53583",
   "metadata": {},
   "source": [
    "### From New Delhi to Los Angeles"
   ]
  },
  {
   "cell_type": "code",
   "execution_count": 278,
   "id": "3a580bba",
   "metadata": {},
   "outputs": [],
   "source": [
    "destinationfield=driver.find_element_by_xpath('/html/body/div[1]/div[2]/section/div[2]/div/div[3]/div/div/input')\n",
    "destinationfield.send_keys('Los Angeles')"
   ]
  },
  {
   "cell_type": "code",
   "execution_count": 279,
   "id": "c84387cb",
   "metadata": {},
   "outputs": [],
   "source": [
    "destinationclick=driver.find_element_by_xpath('/html/body/div[1]/div[2]/section/div[2]/div/div[3]/div/ul/div/div[1]/li/div/div[1]/div[1]')\n",
    "destinationclick.click()"
   ]
  },
  {
   "cell_type": "code",
   "execution_count": 280,
   "id": "603a7c63",
   "metadata": {},
   "outputs": [],
   "source": [
    "searchbtn=driver.find_element_by_xpath('/html/body/div[1]/div[2]/section/div[2]/button')\n",
    "searchbtn.click()"
   ]
  },
  {
   "cell_type": "code",
   "execution_count": 281,
   "id": "136edad1",
   "metadata": {},
   "outputs": [],
   "source": [
    "try:\n",
    "    airlinetags=driver.find_elements_by_xpath('//span[@class=\"font13 padL5 black\"]')\n",
    "    for i in airlinetags:\n",
    "        Airline.append(i.text)\n",
    "except :\n",
    "    Airline.append('-')\n",
    "    \n",
    "try:\n",
    "    sourcetags=driver.find_elements_by_xpath('//div[@class=\"srp-card-uistyles__Dep-sc-3flq99-11 gReLze flexCol\"]/div')\n",
    "    for i in sourcetags:\n",
    "        Source.append(i.text)\n",
    "except:\n",
    "    Source.append('-')\n",
    "    \n",
    "try:\n",
    "    desttags=driver.find_elements_by_xpath('//div[@class=\"srp-card-uistyles__Dep-sc-3flq99-11 srp-card-uistyles__Arr-sc-3flq99-14 gReLze evBigc flexCol\"]/div[1]')\n",
    "    for i in desttags:\n",
    "        Destination.append(i.text)\n",
    "except:\n",
    "    Destination.append('-')\n",
    "    \n",
    "try:\n",
    "    durtags=driver.find_elements_by_xpath('//span[@class=\"srp-card-uistyles__DurTime-sc-3flq99-16 jVRTyZ fb padT10\"]')\n",
    "    for i in durtags:\n",
    "        Duration.append(i.text)\n",
    "except:\n",
    "    Duration.append('-')\n",
    "    \n",
    "try:\n",
    "    deptags=driver.find_elements_by_xpath('//span[@class=\"srp-card-uistyles__Time-sc-3flq99-15 dsonii padT10 fb\"]')\n",
    "    for i in deptags:\n",
    "        Departure.append(i.text)\n",
    "except:\n",
    "    Departure.append('-')\n",
    "    \n",
    "try:\n",
    "    arrivaltags=driver.find_elements_by_xpath('//span[@class=\"srp-card-uistyles__Time-sc-3flq99-15 dsonii fb  padT10\"]')\n",
    "    for i in arrivaltags:\n",
    "        Arrival.append(i.text)\n",
    "except:\n",
    "    Arrival.append('-')\n",
    "    \n",
    "try:\n",
    "    pricetags=driver.find_elements_by_xpath('//div[@class=\"srp-card-uistyles__Price-sc-3flq99-17 jJioUu alignItemsCenter dF fb lh1 padT5\"]')\n",
    "    for i in pricetags:\n",
    "        Price.append(i.text.replace(',',''))\n",
    "except:\n",
    "    Price.append('-')"
   ]
  },
  {
   "cell_type": "markdown",
   "id": "98d79d1d",
   "metadata": {},
   "source": [
    "### From New Delhi to Maldives"
   ]
  },
  {
   "cell_type": "code",
   "execution_count": 282,
   "id": "9b67f270",
   "metadata": {},
   "outputs": [],
   "source": [
    "destinationfield=driver.find_element_by_xpath('/html/body/div[1]/div[2]/section/div[2]/div/div[3]/div/div/input')\n",
    "destinationfield.send_keys('Maldives')"
   ]
  },
  {
   "cell_type": "code",
   "execution_count": 283,
   "id": "4599b890",
   "metadata": {},
   "outputs": [],
   "source": [
    "destinationclick=driver.find_element_by_xpath('/html/body/div[1]/div[2]/section/div[2]/div/div[3]/div/ul/div/div[1]/li/div/div[1]/div[1]')\n",
    "destinationclick.click()"
   ]
  },
  {
   "cell_type": "code",
   "execution_count": 284,
   "id": "82fdb2e1",
   "metadata": {},
   "outputs": [],
   "source": [
    "searchbtn=driver.find_element_by_xpath('/html/body/div[1]/div[2]/section/div[2]/button')\n",
    "searchbtn.click()"
   ]
  },
  {
   "cell_type": "code",
   "execution_count": 285,
   "id": "0feaa899",
   "metadata": {},
   "outputs": [],
   "source": [
    "try:\n",
    "    airlinetags=driver.find_elements_by_xpath('//span[@class=\"font13 padL5 black\"]')\n",
    "    for i in airlinetags:\n",
    "        Airline.append(i.text)\n",
    "except :\n",
    "    Airline.append('-')\n",
    "    \n",
    "try:\n",
    "    sourcetags=driver.find_elements_by_xpath('//div[@class=\"srp-card-uistyles__Dep-sc-3flq99-11 gReLze flexCol\"]/div')\n",
    "    for i in sourcetags:\n",
    "        Source.append(i.text)\n",
    "except:\n",
    "    Source.append('-')\n",
    "    \n",
    "try:\n",
    "    desttags=driver.find_elements_by_xpath('//div[@class=\"srp-card-uistyles__Dep-sc-3flq99-11 srp-card-uistyles__Arr-sc-3flq99-14 gReLze evBigc flexCol\"]/div[1]')\n",
    "    for i in desttags:\n",
    "        Destination.append(i.text)\n",
    "except:\n",
    "    Destination.append('-')\n",
    "    \n",
    "try:\n",
    "    durtags=driver.find_elements_by_xpath('//span[@class=\"srp-card-uistyles__DurTime-sc-3flq99-16 jVRTyZ fb padT10\"]')\n",
    "    for i in durtags:\n",
    "        Duration.append(i.text)\n",
    "except:\n",
    "    Duration.append('-')\n",
    "    \n",
    "try:\n",
    "    deptags=driver.find_elements_by_xpath('//span[@class=\"srp-card-uistyles__Time-sc-3flq99-15 dsonii padT10 fb\"]')\n",
    "    for i in deptags:\n",
    "        Departure.append(i.text)\n",
    "except:\n",
    "    Departure.append('-')\n",
    "    \n",
    "try:\n",
    "    arrivaltags=driver.find_elements_by_xpath('//span[@class=\"srp-card-uistyles__Time-sc-3flq99-15 dsonii fb  padT10\"]')\n",
    "    for i in arrivaltags:\n",
    "        Arrival.append(i.text)\n",
    "except:\n",
    "    Arrival.append('-')\n",
    "    \n",
    "try:\n",
    "    pricetags=driver.find_elements_by_xpath('//div[@class=\"srp-card-uistyles__Price-sc-3flq99-17 jJioUu alignItemsCenter dF fb lh1 padT5\"]')\n",
    "    for i in pricetags:\n",
    "        Price.append(i.text.replace(',',''))\n",
    "except:\n",
    "    Price.append('-')"
   ]
  },
  {
   "cell_type": "markdown",
   "id": "ba568e4c",
   "metadata": {},
   "source": [
    "### From New Delhi to Boston "
   ]
  },
  {
   "cell_type": "code",
   "execution_count": 286,
   "id": "6352d3ef",
   "metadata": {},
   "outputs": [],
   "source": [
    "destinationfield=driver.find_element_by_xpath('/html/body/div[1]/div[2]/section/div[2]/div/div[3]/div/div/input')\n",
    "destinationfield.send_keys('Boston')"
   ]
  },
  {
   "cell_type": "code",
   "execution_count": 287,
   "id": "53b32233",
   "metadata": {},
   "outputs": [],
   "source": [
    "destinationclick=driver.find_element_by_xpath('/html/body/div[1]/div[2]/section/div[2]/div/div[3]/div/ul/div/div[1]/li/div/div[1]/div[1]')\n",
    "destinationclick.click()"
   ]
  },
  {
   "cell_type": "code",
   "execution_count": 288,
   "id": "e45aa89c",
   "metadata": {},
   "outputs": [],
   "source": [
    "searchbtn=driver.find_element_by_xpath('/html/body/div[1]/div[2]/section/div[2]/button')\n",
    "searchbtn.click()"
   ]
  },
  {
   "cell_type": "code",
   "execution_count": 289,
   "id": "04d34ce2",
   "metadata": {},
   "outputs": [],
   "source": [
    "try:\n",
    "    airlinetags=driver.find_elements_by_xpath('//span[@class=\"font13 padL5 black\"]')\n",
    "    for i in airlinetags:\n",
    "        Airline.append(i.text)\n",
    "except :\n",
    "    Airline.append('-')\n",
    "    \n",
    "try:\n",
    "    sourcetags=driver.find_elements_by_xpath('//div[@class=\"srp-card-uistyles__Dep-sc-3flq99-11 gReLze flexCol\"]/div')\n",
    "    for i in sourcetags:\n",
    "        Source.append(i.text)\n",
    "except:\n",
    "    Source.append('-')\n",
    "    \n",
    "try:\n",
    "    desttags=driver.find_elements_by_xpath('//div[@class=\"srp-card-uistyles__Dep-sc-3flq99-11 srp-card-uistyles__Arr-sc-3flq99-14 gReLze evBigc flexCol\"]/div[1]')\n",
    "    for i in desttags:\n",
    "        Destination.append(i.text)\n",
    "except:\n",
    "    Destination.append('-')\n",
    "    \n",
    "try:\n",
    "    durtags=driver.find_elements_by_xpath('//span[@class=\"srp-card-uistyles__DurTime-sc-3flq99-16 jVRTyZ fb padT10\"]')\n",
    "    for i in durtags:\n",
    "        Duration.append(i.text)\n",
    "except:\n",
    "    Duration.append('-')\n",
    "    \n",
    "try:\n",
    "    deptags=driver.find_elements_by_xpath('//span[@class=\"srp-card-uistyles__Time-sc-3flq99-15 dsonii padT10 fb\"]')\n",
    "    for i in deptags:\n",
    "        Departure.append(i.text)\n",
    "except:\n",
    "    Departure.append('-')\n",
    "    \n",
    "try:\n",
    "    arrivaltags=driver.find_elements_by_xpath('//span[@class=\"srp-card-uistyles__Time-sc-3flq99-15 dsonii fb  padT10\"]')\n",
    "    for i in arrivaltags:\n",
    "        Arrival.append(i.text)\n",
    "except:\n",
    "    Arrival.append('-')\n",
    "    \n",
    "try:\n",
    "    pricetags=driver.find_elements_by_xpath('//div[@class=\"srp-card-uistyles__Price-sc-3flq99-17 jJioUu alignItemsCenter dF fb lh1 padT5\"]')\n",
    "    for i in pricetags:\n",
    "        Price.append(i.text.replace(',',''))\n",
    "except:\n",
    "    Price.append('-')"
   ]
  },
  {
   "cell_type": "markdown",
   "id": "65d28e60",
   "metadata": {},
   "source": [
    "### From New Delhi to Las Vegas"
   ]
  },
  {
   "cell_type": "code",
   "execution_count": 290,
   "id": "3bef61a9",
   "metadata": {},
   "outputs": [],
   "source": [
    "destinationfield=driver.find_element_by_xpath('/html/body/div[1]/div[2]/section/div[2]/div/div[3]/div/div/input')\n",
    "destinationfield.send_keys('Las Vegas')"
   ]
  },
  {
   "cell_type": "code",
   "execution_count": 291,
   "id": "a1a8feb1",
   "metadata": {},
   "outputs": [],
   "source": [
    "destinationclick=driver.find_element_by_xpath('/html/body/div[1]/div[2]/section/div[2]/div/div[3]/div/ul/div/div[1]/li/div/div[1]/div[1]')\n",
    "destinationclick.click()"
   ]
  },
  {
   "cell_type": "code",
   "execution_count": 292,
   "id": "c19f8811",
   "metadata": {},
   "outputs": [],
   "source": [
    "searchbtn=driver.find_element_by_xpath('/html/body/div[1]/div[2]/section/div[2]/button')\n",
    "searchbtn.click()"
   ]
  },
  {
   "cell_type": "code",
   "execution_count": 293,
   "id": "1aa7e5ec",
   "metadata": {},
   "outputs": [],
   "source": [
    "try:\n",
    "    airlinetags=driver.find_elements_by_xpath('//span[@class=\"font13 padL5 black\"]')\n",
    "    for i in airlinetags:\n",
    "        Airline.append(i.text)\n",
    "except :\n",
    "    Airline.append('-')\n",
    "    \n",
    "try:\n",
    "    sourcetags=driver.find_elements_by_xpath('//div[@class=\"srp-card-uistyles__Dep-sc-3flq99-11 gReLze flexCol\"]/div')\n",
    "    for i in sourcetags:\n",
    "        Source.append(i.text)\n",
    "except:\n",
    "    Source.append('-')\n",
    "    \n",
    "try:\n",
    "    desttags=driver.find_elements_by_xpath('//div[@class=\"srp-card-uistyles__Dep-sc-3flq99-11 srp-card-uistyles__Arr-sc-3flq99-14 gReLze evBigc flexCol\"]/div[1]')\n",
    "    for i in desttags:\n",
    "        Destination.append(i.text)\n",
    "except:\n",
    "    Destination.append('-')\n",
    "    \n",
    "try:\n",
    "    durtags=driver.find_elements_by_xpath('//span[@class=\"srp-card-uistyles__DurTime-sc-3flq99-16 jVRTyZ fb padT10\"]')\n",
    "    for i in durtags:\n",
    "        Duration.append(i.text)\n",
    "except:\n",
    "    Duration.append('-')\n",
    "    \n",
    "try:\n",
    "    deptags=driver.find_elements_by_xpath('//span[@class=\"srp-card-uistyles__Time-sc-3flq99-15 dsonii padT10 fb\"]')\n",
    "    for i in deptags:\n",
    "        Departure.append(i.text)\n",
    "except:\n",
    "    Departure.append('-')\n",
    "    \n",
    "try:\n",
    "    arrivaltags=driver.find_elements_by_xpath('//span[@class=\"srp-card-uistyles__Time-sc-3flq99-15 dsonii fb  padT10\"]')\n",
    "    for i in arrivaltags:\n",
    "        Arrival.append(i.text)\n",
    "except:\n",
    "    Arrival.append('-')\n",
    "    \n",
    "try:\n",
    "    pricetags=driver.find_elements_by_xpath('//div[@class=\"srp-card-uistyles__Price-sc-3flq99-17 jJioUu alignItemsCenter dF fb lh1 padT5\"]')\n",
    "    for i in pricetags:\n",
    "        Price.append(i.text.replace(',',''))\n",
    "except:\n",
    "    Price.append('-')"
   ]
  },
  {
   "cell_type": "markdown",
   "id": "3bbfa93a",
   "metadata": {},
   "source": [
    "### From New Delhi to Ahmedabad"
   ]
  },
  {
   "cell_type": "code",
   "execution_count": 294,
   "id": "8f6583b5",
   "metadata": {},
   "outputs": [],
   "source": [
    "destinationfield=driver.find_element_by_xpath('/html/body/div[1]/div[2]/section/div[2]/div/div[3]/div/div/input')\n",
    "destinationfield.send_keys('Ahmedabad')"
   ]
  },
  {
   "cell_type": "code",
   "execution_count": 295,
   "id": "e23ccff3",
   "metadata": {},
   "outputs": [],
   "source": [
    "destinationclick=driver.find_element_by_xpath('/html/body/div[1]/div[2]/section/div[2]/div/div[3]/div/ul/div/div[1]/li/div/div[1]/div[1]')\n",
    "destinationclick.click()"
   ]
  },
  {
   "cell_type": "code",
   "execution_count": 296,
   "id": "729f2b84",
   "metadata": {},
   "outputs": [],
   "source": [
    "searchbtn=driver.find_element_by_xpath('/html/body/div[1]/div[2]/section/div[2]/button')\n",
    "searchbtn.click()"
   ]
  },
  {
   "cell_type": "code",
   "execution_count": 297,
   "id": "6e468767",
   "metadata": {},
   "outputs": [],
   "source": [
    "try:\n",
    "    airlinetags=driver.find_elements_by_xpath('//span[@class=\"font13 padL5 black\"]')\n",
    "    for i in airlinetags:\n",
    "        Airline.append(i.text)\n",
    "except :\n",
    "    Airline.append('-')\n",
    "    \n",
    "try:\n",
    "    sourcetags=driver.find_elements_by_xpath('//div[@class=\"srp-card-uistyles__Dep-sc-3flq99-11 gReLze flexCol\"]/div')\n",
    "    for i in sourcetags:\n",
    "        Source.append(i.text)\n",
    "except:\n",
    "    Source.append('-')\n",
    "    \n",
    "try:\n",
    "    desttags=driver.find_elements_by_xpath('//div[@class=\"srp-card-uistyles__Dep-sc-3flq99-11 srp-card-uistyles__Arr-sc-3flq99-14 gReLze evBigc flexCol\"]/div[1]')\n",
    "    for i in desttags:\n",
    "        Destination.append(i.text)\n",
    "except:\n",
    "    Destination.append('-')\n",
    "    \n",
    "try:\n",
    "    durtags=driver.find_elements_by_xpath('//span[@class=\"srp-card-uistyles__DurTime-sc-3flq99-16 jVRTyZ fb padT10\"]')\n",
    "    for i in durtags:\n",
    "        Duration.append(i.text)\n",
    "except:\n",
    "    Duration.append('-')\n",
    "    \n",
    "try:\n",
    "    deptags=driver.find_elements_by_xpath('//span[@class=\"srp-card-uistyles__Time-sc-3flq99-15 dsonii padT10 fb\"]')\n",
    "    for i in deptags:\n",
    "        Departure.append(i.text)\n",
    "except:\n",
    "    Departure.append('-')\n",
    "    \n",
    "try:\n",
    "    arrivaltags=driver.find_elements_by_xpath('//span[@class=\"srp-card-uistyles__Time-sc-3flq99-15 dsonii fb  padT10\"]')\n",
    "    for i in arrivaltags:\n",
    "        Arrival.append(i.text)\n",
    "except:\n",
    "    Arrival.append('-')\n",
    "    \n",
    "try:\n",
    "    pricetags=driver.find_elements_by_xpath('//div[@class=\"srp-card-uistyles__Price-sc-3flq99-17 jJioUu alignItemsCenter dF fb lh1 padT5\"]')\n",
    "    for i in pricetags:\n",
    "        Price.append(i.text.replace(',',''))\n",
    "except:\n",
    "    Price.append('-')"
   ]
  },
  {
   "cell_type": "markdown",
   "id": "3a87165e",
   "metadata": {},
   "source": [
    "### From New Delhi to Canada"
   ]
  },
  {
   "cell_type": "code",
   "execution_count": 298,
   "id": "13366cbd",
   "metadata": {},
   "outputs": [],
   "source": [
    "destinationfield=driver.find_element_by_xpath('/html/body/div[1]/div[2]/section/div[2]/div/div[3]/div/div/input')\n",
    "destinationfield.send_keys('Canada')"
   ]
  },
  {
   "cell_type": "code",
   "execution_count": 299,
   "id": "7f76ae6e",
   "metadata": {},
   "outputs": [],
   "source": [
    "destinationclick=driver.find_element_by_xpath('/html/body/div[1]/div[2]/section/div[2]/div/div[3]/div/ul/div/div[1]/li/div/div[1]/div[1]')\n",
    "destinationclick.click()"
   ]
  },
  {
   "cell_type": "code",
   "execution_count": 300,
   "id": "8f510447",
   "metadata": {},
   "outputs": [],
   "source": [
    "searchbtn=driver.find_element_by_xpath('/html/body/div[1]/div[2]/section/div[2]/button')\n",
    "searchbtn.click()"
   ]
  },
  {
   "cell_type": "code",
   "execution_count": 301,
   "id": "65744232",
   "metadata": {},
   "outputs": [],
   "source": [
    "try:\n",
    "    airlinetags=driver.find_elements_by_xpath('//span[@class=\"font13 padL5 black\"]')\n",
    "    for i in airlinetags:\n",
    "        Airline.append(i.text)\n",
    "except :\n",
    "    Airline.append('-')\n",
    "    \n",
    "try:\n",
    "    sourcetags=driver.find_elements_by_xpath('//div[@class=\"srp-card-uistyles__Dep-sc-3flq99-11 gReLze flexCol\"]/div')\n",
    "    for i in sourcetags:\n",
    "        Source.append(i.text)\n",
    "except:\n",
    "    Source.append('-')\n",
    "    \n",
    "try:\n",
    "    desttags=driver.find_elements_by_xpath('//div[@class=\"srp-card-uistyles__Dep-sc-3flq99-11 srp-card-uistyles__Arr-sc-3flq99-14 gReLze evBigc flexCol\"]/div[1]')\n",
    "    for i in desttags:\n",
    "        Destination.append(i.text)\n",
    "except:\n",
    "    Destination.append('-')\n",
    "    \n",
    "try:\n",
    "    durtags=driver.find_elements_by_xpath('//span[@class=\"srp-card-uistyles__DurTime-sc-3flq99-16 jVRTyZ fb padT10\"]')\n",
    "    for i in durtags:\n",
    "        Duration.append(i.text)\n",
    "except:\n",
    "    Duration.append('-')\n",
    "    \n",
    "try:\n",
    "    deptags=driver.find_elements_by_xpath('//span[@class=\"srp-card-uistyles__Time-sc-3flq99-15 dsonii padT10 fb\"]')\n",
    "    for i in deptags:\n",
    "        Departure.append(i.text)\n",
    "except:\n",
    "    Departure.append('-')\n",
    "    \n",
    "try:\n",
    "    arrivaltags=driver.find_elements_by_xpath('//span[@class=\"srp-card-uistyles__Time-sc-3flq99-15 dsonii fb  padT10\"]')\n",
    "    for i in arrivaltags:\n",
    "        Arrival.append(i.text)\n",
    "except:\n",
    "    Arrival.append('-')\n",
    "    \n",
    "try:\n",
    "    pricetags=driver.find_elements_by_xpath('//div[@class=\"srp-card-uistyles__Price-sc-3flq99-17 jJioUu alignItemsCenter dF fb lh1 padT5\"]')\n",
    "    for i in pricetags:\n",
    "        Price.append(i.text.replace(',',''))\n",
    "except:\n",
    "    Price.append('-')"
   ]
  },
  {
   "cell_type": "markdown",
   "id": "1a8444ce",
   "metadata": {},
   "source": [
    "### From New Delhi to San Francisco"
   ]
  },
  {
   "cell_type": "code",
   "execution_count": 302,
   "id": "9b8746c0",
   "metadata": {},
   "outputs": [],
   "source": [
    "destinationfield=driver.find_element_by_xpath('/html/body/div[1]/div[2]/section/div[2]/div/div[3]/div/div/input')\n",
    "destinationfield.send_keys('San Francisco')"
   ]
  },
  {
   "cell_type": "code",
   "execution_count": 303,
   "id": "861fb237",
   "metadata": {},
   "outputs": [],
   "source": [
    "destinationclick=driver.find_element_by_xpath('/html/body/div[1]/div[2]/section/div[2]/div/div[3]/div/ul/div/div[1]/li/div/div[1]/div[1]')\n",
    "destinationclick.click()"
   ]
  },
  {
   "cell_type": "code",
   "execution_count": 304,
   "id": "c1a40e59",
   "metadata": {},
   "outputs": [],
   "source": [
    "searchbtn=driver.find_element_by_xpath('/html/body/div[1]/div[2]/section/div[2]/button')\n",
    "searchbtn.click()"
   ]
  },
  {
   "cell_type": "code",
   "execution_count": 305,
   "id": "420bc89c",
   "metadata": {},
   "outputs": [],
   "source": [
    "try:\n",
    "    airlinetags=driver.find_elements_by_xpath('//span[@class=\"font13 padL5 black\"]')\n",
    "    for i in airlinetags:\n",
    "        Airline.append(i.text)\n",
    "except :\n",
    "    Airline.append('-')\n",
    "    \n",
    "try:\n",
    "    sourcetags=driver.find_elements_by_xpath('//div[@class=\"srp-card-uistyles__Dep-sc-3flq99-11 gReLze flexCol\"]/div')\n",
    "    for i in sourcetags:\n",
    "        Source.append(i.text)\n",
    "except:\n",
    "    Source.append('-')\n",
    "    \n",
    "try:\n",
    "    desttags=driver.find_elements_by_xpath('//div[@class=\"srp-card-uistyles__Dep-sc-3flq99-11 srp-card-uistyles__Arr-sc-3flq99-14 gReLze evBigc flexCol\"]/div[1]')\n",
    "    for i in desttags:\n",
    "        Destination.append(i.text)\n",
    "except:\n",
    "    Destination.append('-')\n",
    "    \n",
    "try:\n",
    "    durtags=driver.find_elements_by_xpath('//span[@class=\"srp-card-uistyles__DurTime-sc-3flq99-16 jVRTyZ fb padT10\"]')\n",
    "    for i in durtags:\n",
    "        Duration.append(i.text)\n",
    "except:\n",
    "    Duration.append('-')\n",
    "    \n",
    "try:\n",
    "    deptags=driver.find_elements_by_xpath('//span[@class=\"srp-card-uistyles__Time-sc-3flq99-15 dsonii padT10 fb\"]')\n",
    "    for i in deptags:\n",
    "        Departure.append(i.text)\n",
    "except:\n",
    "    Departure.append('-')\n",
    "    \n",
    "try:\n",
    "    arrivaltags=driver.find_elements_by_xpath('//span[@class=\"srp-card-uistyles__Time-sc-3flq99-15 dsonii fb  padT10\"]')\n",
    "    for i in arrivaltags:\n",
    "        Arrival.append(i.text)\n",
    "except:\n",
    "    Arrival.append('-')\n",
    "    \n",
    "try:\n",
    "    pricetags=driver.find_elements_by_xpath('//div[@class=\"srp-card-uistyles__Price-sc-3flq99-17 jJioUu alignItemsCenter dF fb lh1 padT5\"]')\n",
    "    for i in pricetags:\n",
    "        Price.append(i.text.replace(',',''))\n",
    "except:\n",
    "    Price.append('-')"
   ]
  },
  {
   "cell_type": "markdown",
   "id": "0354a381",
   "metadata": {},
   "source": [
    "### From New Delhi to Los Angeles"
   ]
  },
  {
   "cell_type": "code",
   "execution_count": 309,
   "id": "ca54d489",
   "metadata": {},
   "outputs": [],
   "source": [
    "destinationfield=driver.find_element_by_xpath('/html/body/div[1]/div[2]/section/div[2]/div/div[3]/div/div/input')\n",
    "destinationfield.send_keys('Los Angeles')"
   ]
  },
  {
   "cell_type": "code",
   "execution_count": 310,
   "id": "6f90c735",
   "metadata": {},
   "outputs": [],
   "source": [
    "destinationclick=driver.find_element_by_xpath('/html/body/div[1]/div[2]/section/div[2]/div/div[3]/div/ul/div/div[1]/li/div/div[1]/div[1]')\n",
    "destinationclick.click()"
   ]
  },
  {
   "cell_type": "code",
   "execution_count": 311,
   "id": "241adaaa",
   "metadata": {},
   "outputs": [],
   "source": [
    "searchbtn=driver.find_element_by_xpath('/html/body/div[1]/div[2]/section/div[2]/button')\n",
    "searchbtn.click()"
   ]
  },
  {
   "cell_type": "code",
   "execution_count": 312,
   "id": "8ab178bd",
   "metadata": {},
   "outputs": [],
   "source": [
    "try:\n",
    "    airlinetags=driver.find_elements_by_xpath('//span[@class=\"font13 padL5 black\"]')\n",
    "    for i in airlinetags:\n",
    "        Airline.append(i.text)\n",
    "except :\n",
    "    Airline.append('-')\n",
    "    \n",
    "try:\n",
    "    sourcetags=driver.find_elements_by_xpath('//div[@class=\"srp-card-uistyles__Dep-sc-3flq99-11 gReLze flexCol\"]/div')\n",
    "    for i in sourcetags:\n",
    "        Source.append(i.text)\n",
    "except:\n",
    "    Source.append('-')\n",
    "    \n",
    "try:\n",
    "    desttags=driver.find_elements_by_xpath('//div[@class=\"srp-card-uistyles__Dep-sc-3flq99-11 srp-card-uistyles__Arr-sc-3flq99-14 gReLze evBigc flexCol\"]/div[1]')\n",
    "    for i in desttags:\n",
    "        Destination.append(i.text)\n",
    "except:\n",
    "    Destination.append('-')\n",
    "    \n",
    "try:\n",
    "    durtags=driver.find_elements_by_xpath('//span[@class=\"srp-card-uistyles__DurTime-sc-3flq99-16 jVRTyZ fb padT10\"]')\n",
    "    for i in durtags:\n",
    "        Duration.append(i.text)\n",
    "except:\n",
    "    Duration.append('-')\n",
    "    \n",
    "try:\n",
    "    deptags=driver.find_elements_by_xpath('//span[@class=\"srp-card-uistyles__Time-sc-3flq99-15 dsonii padT10 fb\"]')\n",
    "    for i in deptags:\n",
    "        Departure.append(i.text)\n",
    "except:\n",
    "    Departure.append('-')\n",
    "    \n",
    "try:\n",
    "    arrivaltags=driver.find_elements_by_xpath('//span[@class=\"srp-card-uistyles__Time-sc-3flq99-15 dsonii fb  padT10\"]')\n",
    "    for i in arrivaltags:\n",
    "        Arrival.append(i.text)\n",
    "except:\n",
    "    Arrival.append('-')\n",
    "    \n",
    "try:\n",
    "    pricetags=driver.find_elements_by_xpath('//div[@class=\"srp-card-uistyles__Price-sc-3flq99-17 jJioUu alignItemsCenter dF fb lh1 padT5\"]')\n",
    "    for i in pricetags:\n",
    "        Price.append(i.text.replace(',',''))\n",
    "except:\n",
    "    Price.append('-')"
   ]
  },
  {
   "cell_type": "markdown",
   "id": "2b7310c6",
   "metadata": {},
   "source": [
    "### From New Delhi to Manchester"
   ]
  },
  {
   "cell_type": "code",
   "execution_count": 315,
   "id": "13b22acd",
   "metadata": {},
   "outputs": [],
   "source": [
    "destinationfield=driver.find_element_by_xpath('/html/body/div[1]/div[2]/section/div[2]/div/div[3]/div/div/input')\n",
    "destinationfield.send_keys('Manchester')"
   ]
  },
  {
   "cell_type": "code",
   "execution_count": 316,
   "id": "d3bda5f0",
   "metadata": {},
   "outputs": [],
   "source": [
    "destinationclick=driver.find_element_by_xpath('/html/body/div[1]/div[2]/section/div[2]/div/div[3]/div/ul/div/div[1]/li/div/div[1]/div[1]')\n",
    "destinationclick.click()"
   ]
  },
  {
   "cell_type": "code",
   "execution_count": 317,
   "id": "cac2e811",
   "metadata": {},
   "outputs": [],
   "source": [
    "searchbtn=driver.find_element_by_xpath('/html/body/div[1]/div[2]/section/div[2]/button')\n",
    "searchbtn.click()"
   ]
  },
  {
   "cell_type": "code",
   "execution_count": 318,
   "id": "1b821492",
   "metadata": {},
   "outputs": [],
   "source": [
    "try:\n",
    "    airlinetags=driver.find_elements_by_xpath('//span[@class=\"font13 padL5 black\"]')\n",
    "    for i in airlinetags:\n",
    "        Airline.append(i.text)\n",
    "except :\n",
    "    Airline.append('-')\n",
    "    \n",
    "try:\n",
    "    sourcetags=driver.find_elements_by_xpath('//div[@class=\"srp-card-uistyles__Dep-sc-3flq99-11 gReLze flexCol\"]/div')\n",
    "    for i in sourcetags:\n",
    "        Source.append(i.text)\n",
    "except:\n",
    "    Source.append('-')\n",
    "    \n",
    "try:\n",
    "    desttags=driver.find_elements_by_xpath('//div[@class=\"srp-card-uistyles__Dep-sc-3flq99-11 srp-card-uistyles__Arr-sc-3flq99-14 gReLze evBigc flexCol\"]/div[1]')\n",
    "    for i in desttags:\n",
    "        Destination.append(i.text)\n",
    "except:\n",
    "    Destination.append('-')\n",
    "    \n",
    "try:\n",
    "    durtags=driver.find_elements_by_xpath('//span[@class=\"srp-card-uistyles__DurTime-sc-3flq99-16 jVRTyZ fb padT10\"]')\n",
    "    for i in durtags:\n",
    "        Duration.append(i.text)\n",
    "except:\n",
    "    Duration.append('-')\n",
    "    \n",
    "try:\n",
    "    deptags=driver.find_elements_by_xpath('//span[@class=\"srp-card-uistyles__Time-sc-3flq99-15 dsonii padT10 fb\"]')\n",
    "    for i in deptags:\n",
    "        Departure.append(i.text)\n",
    "except:\n",
    "    Departure.append('-')\n",
    "    \n",
    "try:\n",
    "    arrivaltags=driver.find_elements_by_xpath('//span[@class=\"srp-card-uistyles__Time-sc-3flq99-15 dsonii fb  padT10\"]')\n",
    "    for i in arrivaltags:\n",
    "        Arrival.append(i.text)\n",
    "except:\n",
    "    Arrival.append('-')\n",
    "    \n",
    "try:\n",
    "    pricetags=driver.find_elements_by_xpath('//div[@class=\"srp-card-uistyles__Price-sc-3flq99-17 jJioUu alignItemsCenter dF fb lh1 padT5\"]')\n",
    "    for i in pricetags:\n",
    "        Price.append(i.text.replace(',',''))\n",
    "except:\n",
    "    Price.append('-')"
   ]
  },
  {
   "cell_type": "markdown",
   "id": "1efb9b79",
   "metadata": {},
   "source": [
    "### From New Delhi to Abu Dhabi"
   ]
  },
  {
   "cell_type": "code",
   "execution_count": 319,
   "id": "63c77007",
   "metadata": {},
   "outputs": [],
   "source": [
    "destinationfield=driver.find_element_by_xpath('/html/body/div[1]/div[2]/section/div[2]/div/div[3]/div/div/input')\n",
    "destinationfield.send_keys('Abu Dhabi')"
   ]
  },
  {
   "cell_type": "code",
   "execution_count": 320,
   "id": "5799d0b9",
   "metadata": {},
   "outputs": [],
   "source": [
    "destinationclick=driver.find_element_by_xpath('/html/body/div[1]/div[2]/section/div[2]/div/div[3]/div/ul/div/div[1]/li/div/div[1]/div[1]')\n",
    "destinationclick.click()"
   ]
  },
  {
   "cell_type": "code",
   "execution_count": 321,
   "id": "f8943734",
   "metadata": {},
   "outputs": [],
   "source": [
    "searchbtn=driver.find_element_by_xpath('/html/body/div[1]/div[2]/section/div[2]/button')\n",
    "searchbtn.click()"
   ]
  },
  {
   "cell_type": "code",
   "execution_count": 322,
   "id": "20b8068c",
   "metadata": {},
   "outputs": [],
   "source": [
    "try:\n",
    "    airlinetags=driver.find_elements_by_xpath('//span[@class=\"font13 padL5 black\"]')\n",
    "    for i in airlinetags:\n",
    "        Airline.append(i.text)\n",
    "except :\n",
    "    Airline.append('-')\n",
    "    \n",
    "try:\n",
    "    sourcetags=driver.find_elements_by_xpath('//div[@class=\"srp-card-uistyles__Dep-sc-3flq99-11 gReLze flexCol\"]/div')\n",
    "    for i in sourcetags:\n",
    "        Source.append(i.text)\n",
    "except:\n",
    "    Source.append('-')\n",
    "    \n",
    "try:\n",
    "    desttags=driver.find_elements_by_xpath('//div[@class=\"srp-card-uistyles__Dep-sc-3flq99-11 srp-card-uistyles__Arr-sc-3flq99-14 gReLze evBigc flexCol\"]/div[1]')\n",
    "    for i in desttags:\n",
    "        Destination.append(i.text)\n",
    "except:\n",
    "    Destination.append('-')\n",
    "    \n",
    "try:\n",
    "    durtags=driver.find_elements_by_xpath('//span[@class=\"srp-card-uistyles__DurTime-sc-3flq99-16 jVRTyZ fb padT10\"]')\n",
    "    for i in durtags:\n",
    "        Duration.append(i.text)\n",
    "except:\n",
    "    Duration.append('-')\n",
    "    \n",
    "try:\n",
    "    deptags=driver.find_elements_by_xpath('//span[@class=\"srp-card-uistyles__Time-sc-3flq99-15 dsonii padT10 fb\"]')\n",
    "    for i in deptags:\n",
    "        Departure.append(i.text)\n",
    "except:\n",
    "    Departure.append('-')\n",
    "    \n",
    "try:\n",
    "    arrivaltags=driver.find_elements_by_xpath('//span[@class=\"srp-card-uistyles__Time-sc-3flq99-15 dsonii fb  padT10\"]')\n",
    "    for i in arrivaltags:\n",
    "        Arrival.append(i.text)\n",
    "except:\n",
    "    Arrival.append('-')\n",
    "    \n",
    "try:\n",
    "    pricetags=driver.find_elements_by_xpath('//div[@class=\"srp-card-uistyles__Price-sc-3flq99-17 jJioUu alignItemsCenter dF fb lh1 padT5\"]')\n",
    "    for i in pricetags:\n",
    "        Price.append(i.text.replace(',',''))\n",
    "except:\n",
    "    Price.append('-')"
   ]
  },
  {
   "cell_type": "markdown",
   "id": "70bd709a",
   "metadata": {},
   "source": [
    "### From New Delhi to Sharjah"
   ]
  },
  {
   "cell_type": "code",
   "execution_count": 323,
   "id": "1b710073",
   "metadata": {},
   "outputs": [],
   "source": [
    "destinationfield=driver.find_element_by_xpath('/html/body/div[1]/div[2]/section/div[2]/div/div[3]/div/div/input')\n",
    "destinationfield.send_keys('Sharjah')"
   ]
  },
  {
   "cell_type": "code",
   "execution_count": 324,
   "id": "b9f8582b",
   "metadata": {},
   "outputs": [],
   "source": [
    "destinationclick=driver.find_element_by_xpath('/html/body/div[1]/div[2]/section/div[2]/div/div[3]/div/ul/div/div[1]/li/div/div[1]/div[1]')\n",
    "destinationclick.click()"
   ]
  },
  {
   "cell_type": "code",
   "execution_count": 325,
   "id": "2fbc515c",
   "metadata": {},
   "outputs": [],
   "source": [
    "searchbtn=driver.find_element_by_xpath('/html/body/div[1]/div[2]/section/div[2]/button')\n",
    "searchbtn.click()"
   ]
  },
  {
   "cell_type": "code",
   "execution_count": 326,
   "id": "3a40881d",
   "metadata": {},
   "outputs": [],
   "source": [
    "try:\n",
    "    airlinetags=driver.find_elements_by_xpath('//span[@class=\"font13 padL5 black\"]')\n",
    "    for i in airlinetags:\n",
    "        Airline.append(i.text)\n",
    "except :\n",
    "    Airline.append('-')\n",
    "    \n",
    "try:\n",
    "    sourcetags=driver.find_elements_by_xpath('//div[@class=\"srp-card-uistyles__Dep-sc-3flq99-11 gReLze flexCol\"]/div')\n",
    "    for i in sourcetags:\n",
    "        Source.append(i.text)\n",
    "except:\n",
    "    Source.append('-')\n",
    "    \n",
    "try:\n",
    "    desttags=driver.find_elements_by_xpath('//div[@class=\"srp-card-uistyles__Dep-sc-3flq99-11 srp-card-uistyles__Arr-sc-3flq99-14 gReLze evBigc flexCol\"]/div[1]')\n",
    "    for i in desttags:\n",
    "        Destination.append(i.text)\n",
    "except:\n",
    "    Destination.append('-')\n",
    "    \n",
    "try:\n",
    "    durtags=driver.find_elements_by_xpath('//span[@class=\"srp-card-uistyles__DurTime-sc-3flq99-16 jVRTyZ fb padT10\"]')\n",
    "    for i in durtags:\n",
    "        Duration.append(i.text)\n",
    "except:\n",
    "    Duration.append('-')\n",
    "    \n",
    "try:\n",
    "    deptags=driver.find_elements_by_xpath('//span[@class=\"srp-card-uistyles__Time-sc-3flq99-15 dsonii padT10 fb\"]')\n",
    "    for i in deptags:\n",
    "        Departure.append(i.text)\n",
    "except:\n",
    "    Departure.append('-')\n",
    "    \n",
    "try:\n",
    "    arrivaltags=driver.find_elements_by_xpath('//span[@class=\"srp-card-uistyles__Time-sc-3flq99-15 dsonii fb  padT10\"]')\n",
    "    for i in arrivaltags:\n",
    "        Arrival.append(i.text)\n",
    "except:\n",
    "    Arrival.append('-')\n",
    "    \n",
    "try:\n",
    "    pricetags=driver.find_elements_by_xpath('//div[@class=\"srp-card-uistyles__Price-sc-3flq99-17 jJioUu alignItemsCenter dF fb lh1 padT5\"]')\n",
    "    for i in pricetags:\n",
    "        Price.append(i.text.replace(',',''))\n",
    "except:\n",
    "    Price.append('-')"
   ]
  },
  {
   "cell_type": "markdown",
   "id": "f0cdbad3",
   "metadata": {},
   "source": [
    "### From New Delhi to Dubai"
   ]
  },
  {
   "cell_type": "code",
   "execution_count": 327,
   "id": "2ce0a42f",
   "metadata": {},
   "outputs": [],
   "source": [
    "destinationfield=driver.find_element_by_xpath('/html/body/div[1]/div[2]/section/div[2]/div/div[3]/div/div/input')\n",
    "destinationfield.send_keys('Dubai')"
   ]
  },
  {
   "cell_type": "code",
   "execution_count": 328,
   "id": "ea7281e0",
   "metadata": {},
   "outputs": [],
   "source": [
    "destinationclick=driver.find_element_by_xpath('/html/body/div[1]/div[2]/section/div[2]/div/div[3]/div/ul/div/div[1]/li/div/div[1]/div[1]')\n",
    "destinationclick.click()"
   ]
  },
  {
   "cell_type": "code",
   "execution_count": 329,
   "id": "834580c1",
   "metadata": {},
   "outputs": [],
   "source": [
    "searchbtn=driver.find_element_by_xpath('/html/body/div[1]/div[2]/section/div[2]/button')\n",
    "searchbtn.click()"
   ]
  },
  {
   "cell_type": "code",
   "execution_count": 330,
   "id": "cc5b26f7",
   "metadata": {},
   "outputs": [],
   "source": [
    "try:\n",
    "    airlinetags=driver.find_elements_by_xpath('//span[@class=\"font13 padL5 black\"]')\n",
    "    for i in airlinetags:\n",
    "        Airline.append(i.text)\n",
    "except :\n",
    "    Airline.append('-')\n",
    "    \n",
    "try:\n",
    "    sourcetags=driver.find_elements_by_xpath('//div[@class=\"srp-card-uistyles__Dep-sc-3flq99-11 gReLze flexCol\"]/div')\n",
    "    for i in sourcetags:\n",
    "        Source.append(i.text)\n",
    "except:\n",
    "    Source.append('-')\n",
    "    \n",
    "try:\n",
    "    desttags=driver.find_elements_by_xpath('//div[@class=\"srp-card-uistyles__Dep-sc-3flq99-11 srp-card-uistyles__Arr-sc-3flq99-14 gReLze evBigc flexCol\"]/div[1]')\n",
    "    for i in desttags:\n",
    "        Destination.append(i.text)\n",
    "except:\n",
    "    Destination.append('-')\n",
    "    \n",
    "try:\n",
    "    durtags=driver.find_elements_by_xpath('//span[@class=\"srp-card-uistyles__DurTime-sc-3flq99-16 jVRTyZ fb padT10\"]')\n",
    "    for i in durtags:\n",
    "        Duration.append(i.text)\n",
    "except:\n",
    "    Duration.append('-')\n",
    "    \n",
    "try:\n",
    "    deptags=driver.find_elements_by_xpath('//span[@class=\"srp-card-uistyles__Time-sc-3flq99-15 dsonii padT10 fb\"]')\n",
    "    for i in deptags:\n",
    "        Departure.append(i.text)\n",
    "except:\n",
    "    Departure.append('-')\n",
    "    \n",
    "try:\n",
    "    arrivaltags=driver.find_elements_by_xpath('//span[@class=\"srp-card-uistyles__Time-sc-3flq99-15 dsonii fb  padT10\"]')\n",
    "    for i in arrivaltags:\n",
    "        Arrival.append(i.text)\n",
    "except:\n",
    "    Arrival.append('-')\n",
    "    \n",
    "try:\n",
    "    pricetags=driver.find_elements_by_xpath('//div[@class=\"srp-card-uistyles__Price-sc-3flq99-17 jJioUu alignItemsCenter dF fb lh1 padT5\"]')\n",
    "    for i in pricetags:\n",
    "        Price.append(i.text.replace(',',''))\n",
    "except:\n",
    "    Price.append('-')"
   ]
  },
  {
   "cell_type": "markdown",
   "id": "4c4751a7",
   "metadata": {},
   "source": [
    "### From New Delhi to London"
   ]
  },
  {
   "cell_type": "code",
   "execution_count": 331,
   "id": "18ffee3d",
   "metadata": {},
   "outputs": [],
   "source": [
    "destinationfield=driver.find_element_by_xpath('/html/body/div[1]/div[2]/section/div[2]/div/div[3]/div/div/input')\n",
    "destinationfield.send_keys('London')"
   ]
  },
  {
   "cell_type": "code",
   "execution_count": 332,
   "id": "aed7bebd",
   "metadata": {},
   "outputs": [],
   "source": [
    "destinationclick=driver.find_element_by_xpath('/html/body/div[1]/div[2]/section/div[2]/div/div[3]/div/ul/div/div[1]/li/div/div[1]/div[1]')\n",
    "destinationclick.click()"
   ]
  },
  {
   "cell_type": "code",
   "execution_count": 333,
   "id": "53997968",
   "metadata": {},
   "outputs": [],
   "source": [
    "searchbtn=driver.find_element_by_xpath('/html/body/div[1]/div[2]/section/div[2]/button')\n",
    "searchbtn.click()"
   ]
  },
  {
   "cell_type": "code",
   "execution_count": 334,
   "id": "3a0cad40",
   "metadata": {},
   "outputs": [],
   "source": [
    "try:\n",
    "    airlinetags=driver.find_elements_by_xpath('//span[@class=\"font13 padL5 black\"]')\n",
    "    for i in airlinetags:\n",
    "        Airline.append(i.text)\n",
    "except :\n",
    "    Airline.append('-')\n",
    "    \n",
    "try:\n",
    "    sourcetags=driver.find_elements_by_xpath('//div[@class=\"srp-card-uistyles__Dep-sc-3flq99-11 gReLze flexCol\"]/div')\n",
    "    for i in sourcetags:\n",
    "        Source.append(i.text)\n",
    "except:\n",
    "    Source.append('-')\n",
    "    \n",
    "try:\n",
    "    desttags=driver.find_elements_by_xpath('//div[@class=\"srp-card-uistyles__Dep-sc-3flq99-11 srp-card-uistyles__Arr-sc-3flq99-14 gReLze evBigc flexCol\"]/div[1]')\n",
    "    for i in desttags:\n",
    "        Destination.append(i.text)\n",
    "except:\n",
    "    Destination.append('-')\n",
    "    \n",
    "try:\n",
    "    durtags=driver.find_elements_by_xpath('//span[@class=\"srp-card-uistyles__DurTime-sc-3flq99-16 jVRTyZ fb padT10\"]')\n",
    "    for i in durtags:\n",
    "        Duration.append(i.text)\n",
    "except:\n",
    "    Duration.append('-')\n",
    "    \n",
    "try:\n",
    "    deptags=driver.find_elements_by_xpath('//span[@class=\"srp-card-uistyles__Time-sc-3flq99-15 dsonii padT10 fb\"]')\n",
    "    for i in deptags:\n",
    "        Departure.append(i.text)\n",
    "except:\n",
    "    Departure.append('-')\n",
    "    \n",
    "try:\n",
    "    arrivaltags=driver.find_elements_by_xpath('//span[@class=\"srp-card-uistyles__Time-sc-3flq99-15 dsonii fb  padT10\"]')\n",
    "    for i in arrivaltags:\n",
    "        Arrival.append(i.text)\n",
    "except:\n",
    "    Arrival.append('-')\n",
    "    \n",
    "try:\n",
    "    pricetags=driver.find_elements_by_xpath('//div[@class=\"srp-card-uistyles__Price-sc-3flq99-17 jJioUu alignItemsCenter dF fb lh1 padT5\"]')\n",
    "    for i in pricetags:\n",
    "        Price.append(i.text.replace(',',''))\n",
    "except:\n",
    "    Price.append('-')"
   ]
  },
  {
   "cell_type": "markdown",
   "id": "6ca98701",
   "metadata": {},
   "source": [
    "### From New Delhi to Capetown"
   ]
  },
  {
   "cell_type": "code",
   "execution_count": 335,
   "id": "3cf93933",
   "metadata": {},
   "outputs": [],
   "source": [
    "destinationfield=driver.find_element_by_xpath('/html/body/div[1]/div[2]/section/div[2]/div/div[3]/div/div/input')\n",
    "destinationfield.send_keys('Capetown')"
   ]
  },
  {
   "cell_type": "code",
   "execution_count": 336,
   "id": "dc20730a",
   "metadata": {},
   "outputs": [],
   "source": [
    "destinationclick=driver.find_element_by_xpath('/html/body/div[1]/div[2]/section/div[2]/div/div[3]/div/ul/div/div[1]/li/div/div[1]/div[1]')\n",
    "destinationclick.click()"
   ]
  },
  {
   "cell_type": "code",
   "execution_count": 337,
   "id": "40bd2c3d",
   "metadata": {},
   "outputs": [],
   "source": [
    "searchbtn=driver.find_element_by_xpath('/html/body/div[1]/div[2]/section/div[2]/button')\n",
    "searchbtn.click()"
   ]
  },
  {
   "cell_type": "code",
   "execution_count": 338,
   "id": "bf2aedf4",
   "metadata": {},
   "outputs": [],
   "source": [
    "try:\n",
    "    airlinetags=driver.find_elements_by_xpath('//span[@class=\"font13 padL5 black\"]')\n",
    "    for i in airlinetags:\n",
    "        Airline.append(i.text)\n",
    "except :\n",
    "    Airline.append('-')\n",
    "    \n",
    "try:\n",
    "    sourcetags=driver.find_elements_by_xpath('//div[@class=\"srp-card-uistyles__Dep-sc-3flq99-11 gReLze flexCol\"]/div')\n",
    "    for i in sourcetags:\n",
    "        Source.append(i.text)\n",
    "except:\n",
    "    Source.append('-')\n",
    "    \n",
    "try:\n",
    "    desttags=driver.find_elements_by_xpath('//div[@class=\"srp-card-uistyles__Dep-sc-3flq99-11 srp-card-uistyles__Arr-sc-3flq99-14 gReLze evBigc flexCol\"]/div[1]')\n",
    "    for i in desttags:\n",
    "        Destination.append(i.text)\n",
    "except:\n",
    "    Destination.append('-')\n",
    "    \n",
    "try:\n",
    "    durtags=driver.find_elements_by_xpath('//span[@class=\"srp-card-uistyles__DurTime-sc-3flq99-16 jVRTyZ fb padT10\"]')\n",
    "    for i in durtags:\n",
    "        Duration.append(i.text)\n",
    "except:\n",
    "    Duration.append('-')\n",
    "    \n",
    "try:\n",
    "    deptags=driver.find_elements_by_xpath('//span[@class=\"srp-card-uistyles__Time-sc-3flq99-15 dsonii padT10 fb\"]')\n",
    "    for i in deptags:\n",
    "        Departure.append(i.text)\n",
    "except:\n",
    "    Departure.append('-')\n",
    "    \n",
    "try:\n",
    "    arrivaltags=driver.find_elements_by_xpath('//span[@class=\"srp-card-uistyles__Time-sc-3flq99-15 dsonii fb  padT10\"]')\n",
    "    for i in arrivaltags:\n",
    "        Arrival.append(i.text)\n",
    "except:\n",
    "    Arrival.append('-')\n",
    "    \n",
    "try:\n",
    "    pricetags=driver.find_elements_by_xpath('//div[@class=\"srp-card-uistyles__Price-sc-3flq99-17 jJioUu alignItemsCenter dF fb lh1 padT5\"]')\n",
    "    for i in pricetags:\n",
    "        Price.append(i.text.replace(',',''))\n",
    "except:\n",
    "    Price.append('-')"
   ]
  },
  {
   "cell_type": "markdown",
   "id": "796b01cd",
   "metadata": {},
   "source": [
    "### From New Delhi to Brisbane"
   ]
  },
  {
   "cell_type": "code",
   "execution_count": 339,
   "id": "f03b7b1f",
   "metadata": {},
   "outputs": [],
   "source": [
    "destinationfield=driver.find_element_by_xpath('/html/body/div[1]/div[2]/section/div[2]/div/div[3]/div/div/input')\n",
    "destinationfield.send_keys('Brisbane')"
   ]
  },
  {
   "cell_type": "code",
   "execution_count": 340,
   "id": "8ce7ac4a",
   "metadata": {},
   "outputs": [],
   "source": [
    "destinationclick=driver.find_element_by_xpath('/html/body/div[1]/div[2]/section/div[2]/div/div[3]/div/ul/div/div[1]/li/div/div[1]/div[1]')\n",
    "destinationclick.click()"
   ]
  },
  {
   "cell_type": "code",
   "execution_count": 341,
   "id": "5a475258",
   "metadata": {},
   "outputs": [],
   "source": [
    "searchbtn=driver.find_element_by_xpath('/html/body/div[1]/div[2]/section/div[2]/button')\n",
    "searchbtn.click()"
   ]
  },
  {
   "cell_type": "code",
   "execution_count": 342,
   "id": "cb4f38b0",
   "metadata": {},
   "outputs": [],
   "source": [
    "try:\n",
    "    airlinetags=driver.find_elements_by_xpath('//span[@class=\"font13 padL5 black\"]')\n",
    "    for i in airlinetags:\n",
    "        Airline.append(i.text)\n",
    "except :\n",
    "    Airline.append('-')\n",
    "    \n",
    "try:\n",
    "    sourcetags=driver.find_elements_by_xpath('//div[@class=\"srp-card-uistyles__Dep-sc-3flq99-11 gReLze flexCol\"]/div')\n",
    "    for i in sourcetags:\n",
    "        Source.append(i.text)\n",
    "except:\n",
    "    Source.append('-')\n",
    "    \n",
    "try:\n",
    "    desttags=driver.find_elements_by_xpath('//div[@class=\"srp-card-uistyles__Dep-sc-3flq99-11 srp-card-uistyles__Arr-sc-3flq99-14 gReLze evBigc flexCol\"]/div[1]')\n",
    "    for i in desttags:\n",
    "        Destination.append(i.text)\n",
    "except:\n",
    "    Destination.append('-')\n",
    "    \n",
    "try:\n",
    "    durtags=driver.find_elements_by_xpath('//span[@class=\"srp-card-uistyles__DurTime-sc-3flq99-16 jVRTyZ fb padT10\"]')\n",
    "    for i in durtags:\n",
    "        Duration.append(i.text)\n",
    "except:\n",
    "    Duration.append('-')\n",
    "    \n",
    "try:\n",
    "    deptags=driver.find_elements_by_xpath('//span[@class=\"srp-card-uistyles__Time-sc-3flq99-15 dsonii padT10 fb\"]')\n",
    "    for i in deptags:\n",
    "        Departure.append(i.text)\n",
    "except:\n",
    "    Departure.append('-')\n",
    "    \n",
    "try:\n",
    "    arrivaltags=driver.find_elements_by_xpath('//span[@class=\"srp-card-uistyles__Time-sc-3flq99-15 dsonii fb  padT10\"]')\n",
    "    for i in arrivaltags:\n",
    "        Arrival.append(i.text)\n",
    "except:\n",
    "    Arrival.append('-')\n",
    "    \n",
    "try:\n",
    "    pricetags=driver.find_elements_by_xpath('//div[@class=\"srp-card-uistyles__Price-sc-3flq99-17 jJioUu alignItemsCenter dF fb lh1 padT5\"]')\n",
    "    for i in pricetags:\n",
    "        Price.append(i.text.replace(',',''))\n",
    "except:\n",
    "    Price.append('-')"
   ]
  },
  {
   "cell_type": "markdown",
   "id": "bf22aeed",
   "metadata": {},
   "source": [
    "### From New Delhi to Adelaid"
   ]
  },
  {
   "cell_type": "code",
   "execution_count": 346,
   "id": "6a6405bd",
   "metadata": {},
   "outputs": [],
   "source": [
    "destinationfield=driver.find_element_by_xpath('/html/body/div[1]/div[2]/section/div[2]/div/div[3]/div/div/input')\n",
    "destinationfield.send_keys('Adelaid')"
   ]
  },
  {
   "cell_type": "code",
   "execution_count": 347,
   "id": "171e6712",
   "metadata": {},
   "outputs": [],
   "source": [
    "destinationclick=driver.find_element_by_xpath('/html/body/div[1]/div[2]/section/div[2]/div/div[3]/div/ul/div/div[1]/li/div/div[1]/div[1]')\n",
    "destinationclick.click()"
   ]
  },
  {
   "cell_type": "code",
   "execution_count": 348,
   "id": "720d3860",
   "metadata": {},
   "outputs": [],
   "source": [
    "searchbtn=driver.find_element_by_xpath('/html/body/div[1]/div[2]/section/div[2]/button')\n",
    "searchbtn.click()"
   ]
  },
  {
   "cell_type": "code",
   "execution_count": 349,
   "id": "e68c3777",
   "metadata": {},
   "outputs": [],
   "source": [
    "try:\n",
    "    airlinetags=driver.find_elements_by_xpath('//span[@class=\"font13 padL5 black\"]')\n",
    "    for i in airlinetags:\n",
    "        Airline.append(i.text)\n",
    "except :\n",
    "    Airline.append('-')\n",
    "    \n",
    "try:\n",
    "    sourcetags=driver.find_elements_by_xpath('//div[@class=\"srp-card-uistyles__Dep-sc-3flq99-11 gReLze flexCol\"]/div')\n",
    "    for i in sourcetags:\n",
    "        Source.append(i.text)\n",
    "except:\n",
    "    Source.append('-')\n",
    "    \n",
    "try:\n",
    "    desttags=driver.find_elements_by_xpath('//div[@class=\"srp-card-uistyles__Dep-sc-3flq99-11 srp-card-uistyles__Arr-sc-3flq99-14 gReLze evBigc flexCol\"]/div[1]')\n",
    "    for i in desttags:\n",
    "        Destination.append(i.text)\n",
    "except:\n",
    "    Destination.append('-')\n",
    "    \n",
    "try:\n",
    "    durtags=driver.find_elements_by_xpath('//span[@class=\"srp-card-uistyles__DurTime-sc-3flq99-16 jVRTyZ fb padT10\"]')\n",
    "    for i in durtags:\n",
    "        Duration.append(i.text)\n",
    "except:\n",
    "    Duration.append('-')\n",
    "    \n",
    "try:\n",
    "    deptags=driver.find_elements_by_xpath('//span[@class=\"srp-card-uistyles__Time-sc-3flq99-15 dsonii padT10 fb\"]')\n",
    "    for i in deptags:\n",
    "        Departure.append(i.text)\n",
    "except:\n",
    "    Departure.append('-')\n",
    "    \n",
    "try:\n",
    "    arrivaltags=driver.find_elements_by_xpath('//span[@class=\"srp-card-uistyles__Time-sc-3flq99-15 dsonii fb  padT10\"]')\n",
    "    for i in arrivaltags:\n",
    "        Arrival.append(i.text)\n",
    "except:\n",
    "    Arrival.append('-')\n",
    "    \n",
    "try:\n",
    "    pricetags=driver.find_elements_by_xpath('//div[@class=\"srp-card-uistyles__Price-sc-3flq99-17 jJioUu alignItemsCenter dF fb lh1 padT5\"]')\n",
    "    for i in pricetags:\n",
    "        Price.append(i.text.replace(',',''))\n",
    "except:\n",
    "    Price.append('-')"
   ]
  },
  {
   "cell_type": "markdown",
   "id": "ef76b073",
   "metadata": {},
   "source": [
    "### From New Delhi to Sydney"
   ]
  },
  {
   "cell_type": "code",
   "execution_count": 353,
   "id": "420ea945",
   "metadata": {},
   "outputs": [],
   "source": [
    "destinationfield=driver.find_element_by_xpath('/html/body/div[1]/div[2]/section/div[2]/div/div[3]/div/div/input')\n",
    "destinationfield.send_keys('Sydney')"
   ]
  },
  {
   "cell_type": "code",
   "execution_count": 354,
   "id": "d0b3f0a5",
   "metadata": {},
   "outputs": [],
   "source": [
    "destinationclick=driver.find_element_by_xpath('/html/body/div[1]/div[2]/section/div[2]/div/div[3]/div/ul/div/div[1]/li/div/div[1]/div[1]')\n",
    "destinationclick.click()"
   ]
  },
  {
   "cell_type": "code",
   "execution_count": 355,
   "id": "45901a74",
   "metadata": {},
   "outputs": [],
   "source": [
    "searchbtn=driver.find_element_by_xpath('/html/body/div[1]/div[2]/section/div[2]/button')\n",
    "searchbtn.click()"
   ]
  },
  {
   "cell_type": "code",
   "execution_count": 356,
   "id": "5907c932",
   "metadata": {},
   "outputs": [],
   "source": [
    "try:\n",
    "    airlinetags=driver.find_elements_by_xpath('//span[@class=\"font13 padL5 black\"]')\n",
    "    for i in airlinetags:\n",
    "        Airline.append(i.text)\n",
    "except :\n",
    "    Airline.append('-')\n",
    "    \n",
    "try:\n",
    "    sourcetags=driver.find_elements_by_xpath('//div[@class=\"srp-card-uistyles__Dep-sc-3flq99-11 gReLze flexCol\"]/div')\n",
    "    for i in sourcetags:\n",
    "        Source.append(i.text)\n",
    "except:\n",
    "    Source.append('-')\n",
    "    \n",
    "try:\n",
    "    desttags=driver.find_elements_by_xpath('//div[@class=\"srp-card-uistyles__Dep-sc-3flq99-11 srp-card-uistyles__Arr-sc-3flq99-14 gReLze evBigc flexCol\"]/div[1]')\n",
    "    for i in desttags:\n",
    "        Destination.append(i.text)\n",
    "except:\n",
    "    Destination.append('-')\n",
    "    \n",
    "try:\n",
    "    durtags=driver.find_elements_by_xpath('//span[@class=\"srp-card-uistyles__DurTime-sc-3flq99-16 jVRTyZ fb padT10\"]')\n",
    "    for i in durtags:\n",
    "        Duration.append(i.text)\n",
    "except:\n",
    "    Duration.append('-')\n",
    "    \n",
    "try:\n",
    "    deptags=driver.find_elements_by_xpath('//span[@class=\"srp-card-uistyles__Time-sc-3flq99-15 dsonii padT10 fb\"]')\n",
    "    for i in deptags:\n",
    "        Departure.append(i.text)\n",
    "except:\n",
    "    Departure.append('-')\n",
    "    \n",
    "try:\n",
    "    arrivaltags=driver.find_elements_by_xpath('//span[@class=\"srp-card-uistyles__Time-sc-3flq99-15 dsonii fb  padT10\"]')\n",
    "    for i in arrivaltags:\n",
    "        Arrival.append(i.text)\n",
    "except:\n",
    "    Arrival.append('-')\n",
    "    \n",
    "try:\n",
    "    pricetags=driver.find_elements_by_xpath('//div[@class=\"srp-card-uistyles__Price-sc-3flq99-17 jJioUu alignItemsCenter dF fb lh1 padT5\"]')\n",
    "    for i in pricetags:\n",
    "        Price.append(i.text.replace(',',''))\n",
    "except:\n",
    "    Price.append('-')"
   ]
  },
  {
   "cell_type": "markdown",
   "id": "52f2b29f",
   "metadata": {},
   "source": [
    "### From New Delhi to Germany"
   ]
  },
  {
   "cell_type": "code",
   "execution_count": 360,
   "id": "f8a4b84f",
   "metadata": {},
   "outputs": [],
   "source": [
    "destinationfield=driver.find_element_by_xpath('/html/body/div[1]/div[2]/section/div[2]/div/div[3]/div/div/input')\n",
    "destinationfield.send_keys('Germany')"
   ]
  },
  {
   "cell_type": "code",
   "execution_count": 361,
   "id": "ca729afd",
   "metadata": {},
   "outputs": [],
   "source": [
    "destinationclick=driver.find_element_by_xpath('/html/body/div[1]/div[2]/section/div[2]/div/div[3]/div/ul/div/div[1]/li/div/div[1]/div[1]')\n",
    "destinationclick.click()"
   ]
  },
  {
   "cell_type": "code",
   "execution_count": 362,
   "id": "9dc5d9e9",
   "metadata": {},
   "outputs": [],
   "source": [
    "searchbtn=driver.find_element_by_xpath('/html/body/div[1]/div[2]/section/div[2]/button')\n",
    "searchbtn.click()"
   ]
  },
  {
   "cell_type": "code",
   "execution_count": 363,
   "id": "c567c425",
   "metadata": {},
   "outputs": [],
   "source": [
    "try:\n",
    "    airlinetags=driver.find_elements_by_xpath('//span[@class=\"font13 padL5 black\"]')\n",
    "    for i in airlinetags:\n",
    "        Airline.append(i.text)\n",
    "except :\n",
    "    Airline.append('-')\n",
    "    \n",
    "try:\n",
    "    sourcetags=driver.find_elements_by_xpath('//div[@class=\"srp-card-uistyles__Dep-sc-3flq99-11 gReLze flexCol\"]/div')\n",
    "    for i in sourcetags:\n",
    "        Source.append(i.text)\n",
    "except:\n",
    "    Source.append('-')\n",
    "    \n",
    "try:\n",
    "    desttags=driver.find_elements_by_xpath('//div[@class=\"srp-card-uistyles__Dep-sc-3flq99-11 srp-card-uistyles__Arr-sc-3flq99-14 gReLze evBigc flexCol\"]/div[1]')\n",
    "    for i in desttags:\n",
    "        Destination.append(i.text)\n",
    "except:\n",
    "    Destination.append('-')\n",
    "    \n",
    "try:\n",
    "    durtags=driver.find_elements_by_xpath('//span[@class=\"srp-card-uistyles__DurTime-sc-3flq99-16 jVRTyZ fb padT10\"]')\n",
    "    for i in durtags:\n",
    "        Duration.append(i.text)\n",
    "except:\n",
    "    Duration.append('-')\n",
    "    \n",
    "try:\n",
    "    deptags=driver.find_elements_by_xpath('//span[@class=\"srp-card-uistyles__Time-sc-3flq99-15 dsonii padT10 fb\"]')\n",
    "    for i in deptags:\n",
    "        Departure.append(i.text)\n",
    "except:\n",
    "    Departure.append('-')\n",
    "    \n",
    "try:\n",
    "    arrivaltags=driver.find_elements_by_xpath('//span[@class=\"srp-card-uistyles__Time-sc-3flq99-15 dsonii fb  padT10\"]')\n",
    "    for i in arrivaltags:\n",
    "        Arrival.append(i.text)\n",
    "except:\n",
    "    Arrival.append('-')\n",
    "    \n",
    "try:\n",
    "    pricetags=driver.find_elements_by_xpath('//div[@class=\"srp-card-uistyles__Price-sc-3flq99-17 jJioUu alignItemsCenter dF fb lh1 padT5\"]')\n",
    "    for i in pricetags:\n",
    "        Price.append(i.text.replace(',',''))\n",
    "except:\n",
    "    Price.append('-')"
   ]
  },
  {
   "cell_type": "markdown",
   "id": "f8f1f58f",
   "metadata": {},
   "source": [
    "### From New Delhi to Italy"
   ]
  },
  {
   "cell_type": "code",
   "execution_count": 364,
   "id": "b08269fe",
   "metadata": {},
   "outputs": [],
   "source": [
    "destinationfield=driver.find_element_by_xpath('/html/body/div[1]/div[2]/section/div[2]/div/div[3]/div/div/input')\n",
    "destinationfield.send_keys('Italy')"
   ]
  },
  {
   "cell_type": "code",
   "execution_count": 365,
   "id": "884ef017",
   "metadata": {},
   "outputs": [],
   "source": [
    "destinationclick=driver.find_element_by_xpath('/html/body/div[1]/div[2]/section/div[2]/div/div[3]/div/ul/div/div[1]/li/div/div[1]/div[1]')\n",
    "destinationclick.click()"
   ]
  },
  {
   "cell_type": "code",
   "execution_count": 366,
   "id": "c8311e4b",
   "metadata": {},
   "outputs": [],
   "source": [
    "searchbtn=driver.find_element_by_xpath('/html/body/div[1]/div[2]/section/div[2]/button')\n",
    "searchbtn.click()"
   ]
  },
  {
   "cell_type": "code",
   "execution_count": 367,
   "id": "6999876a",
   "metadata": {},
   "outputs": [],
   "source": [
    "try:\n",
    "    airlinetags=driver.find_elements_by_xpath('//span[@class=\"font13 padL5 black\"]')\n",
    "    for i in airlinetags:\n",
    "        Airline.append(i.text)\n",
    "except :\n",
    "    Airline.append('-')\n",
    "    \n",
    "try:\n",
    "    sourcetags=driver.find_elements_by_xpath('//div[@class=\"srp-card-uistyles__Dep-sc-3flq99-11 gReLze flexCol\"]/div')\n",
    "    for i in sourcetags:\n",
    "        Source.append(i.text)\n",
    "except:\n",
    "    Source.append('-')\n",
    "    \n",
    "try:\n",
    "    desttags=driver.find_elements_by_xpath('//div[@class=\"srp-card-uistyles__Dep-sc-3flq99-11 srp-card-uistyles__Arr-sc-3flq99-14 gReLze evBigc flexCol\"]/div[1]')\n",
    "    for i in desttags:\n",
    "        Destination.append(i.text)\n",
    "except:\n",
    "    Destination.append('-')\n",
    "    \n",
    "try:\n",
    "    durtags=driver.find_elements_by_xpath('//span[@class=\"srp-card-uistyles__DurTime-sc-3flq99-16 jVRTyZ fb padT10\"]')\n",
    "    for i in durtags:\n",
    "        Duration.append(i.text)\n",
    "except:\n",
    "    Duration.append('-')\n",
    "    \n",
    "try:\n",
    "    deptags=driver.find_elements_by_xpath('//span[@class=\"srp-card-uistyles__Time-sc-3flq99-15 dsonii padT10 fb\"]')\n",
    "    for i in deptags:\n",
    "        Departure.append(i.text)\n",
    "except:\n",
    "    Departure.append('-')\n",
    "    \n",
    "try:\n",
    "    arrivaltags=driver.find_elements_by_xpath('//span[@class=\"srp-card-uistyles__Time-sc-3flq99-15 dsonii fb  padT10\"]')\n",
    "    for i in arrivaltags:\n",
    "        Arrival.append(i.text)\n",
    "except:\n",
    "    Arrival.append('-')\n",
    "    \n",
    "try:\n",
    "    pricetags=driver.find_elements_by_xpath('//div[@class=\"srp-card-uistyles__Price-sc-3flq99-17 jJioUu alignItemsCenter dF fb lh1 padT5\"]')\n",
    "    for i in pricetags:\n",
    "        Price.append(i.text.replace(',',''))\n",
    "except:\n",
    "    Price.append('-')"
   ]
  },
  {
   "cell_type": "code",
   "execution_count": 368,
   "id": "769a9901",
   "metadata": {},
   "outputs": [
    {
     "data": {
      "text/html": [
       "<div>\n",
       "<style scoped>\n",
       "    .dataframe tbody tr th:only-of-type {\n",
       "        vertical-align: middle;\n",
       "    }\n",
       "\n",
       "    .dataframe tbody tr th {\n",
       "        vertical-align: top;\n",
       "    }\n",
       "\n",
       "    .dataframe thead th {\n",
       "        text-align: right;\n",
       "    }\n",
       "</style>\n",
       "<table border=\"1\" class=\"dataframe\">\n",
       "  <thead>\n",
       "    <tr style=\"text-align: right;\">\n",
       "      <th></th>\n",
       "      <th>Airline</th>\n",
       "      <th>Source</th>\n",
       "      <th>Destination</th>\n",
       "      <th>Duration</th>\n",
       "      <th>Departure</th>\n",
       "      <th>Arrival</th>\n",
       "      <th>Price</th>\n",
       "    </tr>\n",
       "  </thead>\n",
       "  <tbody>\n",
       "    <tr>\n",
       "      <th>0</th>\n",
       "      <td>IndiGo</td>\n",
       "      <td>DEL New Delhi, India</td>\n",
       "      <td>BOM Mumbai, India</td>\n",
       "      <td>2h 05m</td>\n",
       "      <td>23:35</td>\n",
       "      <td>01:40</td>\n",
       "      <td>7319</td>\n",
       "    </tr>\n",
       "    <tr>\n",
       "      <th>1</th>\n",
       "      <td>SpiceJet</td>\n",
       "      <td>DEL New Delhi, India</td>\n",
       "      <td>BOM Mumbai, India</td>\n",
       "      <td>9h 20m</td>\n",
       "      <td>19:55</td>\n",
       "      <td>05:15</td>\n",
       "      <td>7319</td>\n",
       "    </tr>\n",
       "    <tr>\n",
       "      <th>2</th>\n",
       "      <td>Go First</td>\n",
       "      <td>DEL New Delhi, India</td>\n",
       "      <td>BOM Mumbai, India</td>\n",
       "      <td>11h 30m</td>\n",
       "      <td>20:30</td>\n",
       "      <td>08:00</td>\n",
       "      <td>7319</td>\n",
       "    </tr>\n",
       "    <tr>\n",
       "      <th>3</th>\n",
       "      <td>Go First</td>\n",
       "      <td>DEL New Delhi, India</td>\n",
       "      <td>BOM Mumbai, India</td>\n",
       "      <td>11h 55m</td>\n",
       "      <td>21:25</td>\n",
       "      <td>09:20</td>\n",
       "      <td>7319</td>\n",
       "    </tr>\n",
       "    <tr>\n",
       "      <th>4</th>\n",
       "      <td>SpiceJet</td>\n",
       "      <td>DEL New Delhi, India</td>\n",
       "      <td>BOM Mumbai, India</td>\n",
       "      <td>16h 50m</td>\n",
       "      <td>19:30</td>\n",
       "      <td>12:20</td>\n",
       "      <td>7319</td>\n",
       "    </tr>\n",
       "    <tr>\n",
       "      <th>...</th>\n",
       "      <td>...</td>\n",
       "      <td>...</td>\n",
       "      <td>...</td>\n",
       "      <td>...</td>\n",
       "      <td>...</td>\n",
       "      <td>...</td>\n",
       "      <td>...</td>\n",
       "    </tr>\n",
       "    <tr>\n",
       "      <th>2201</th>\n",
       "      <td>Multi-Airline</td>\n",
       "      <td>DEL New Delhi, India</td>\n",
       "      <td>FCO Rome - Fiumicino Apt, Italy</td>\n",
       "      <td>20h 20m</td>\n",
       "      <td>20:35</td>\n",
       "      <td>13:25</td>\n",
       "      <td>172523</td>\n",
       "    </tr>\n",
       "    <tr>\n",
       "      <th>2202</th>\n",
       "      <td>Multi-Airline</td>\n",
       "      <td>DEL New Delhi, India</td>\n",
       "      <td>FCO Rome - Fiumicino Apt, Italy</td>\n",
       "      <td>27h 00m</td>\n",
       "      <td>20:35</td>\n",
       "      <td>20:05</td>\n",
       "      <td>172523</td>\n",
       "    </tr>\n",
       "    <tr>\n",
       "      <th>2203</th>\n",
       "      <td>Multi-Airline</td>\n",
       "      <td>DEL New Delhi, India</td>\n",
       "      <td>FCO Rome - Fiumicino Apt, Italy</td>\n",
       "      <td>39h 20m</td>\n",
       "      <td>23:15</td>\n",
       "      <td>11:05</td>\n",
       "      <td>381860</td>\n",
       "    </tr>\n",
       "    <tr>\n",
       "      <th>2204</th>\n",
       "      <td>Multi-Airline</td>\n",
       "      <td>DEL New Delhi, India</td>\n",
       "      <td>FCO Rome - Fiumicino Apt, Italy</td>\n",
       "      <td>37h 25m</td>\n",
       "      <td>23:10</td>\n",
       "      <td>09:05</td>\n",
       "      <td>502018</td>\n",
       "    </tr>\n",
       "    <tr>\n",
       "      <th>2205</th>\n",
       "      <td>Multi-Airline</td>\n",
       "      <td>DEL New Delhi, India</td>\n",
       "      <td>FCO Rome - Fiumicino Apt, Italy</td>\n",
       "      <td>37h 25m</td>\n",
       "      <td>23:10</td>\n",
       "      <td>09:05</td>\n",
       "      <td>502018</td>\n",
       "    </tr>\n",
       "  </tbody>\n",
       "</table>\n",
       "<p>2206 rows × 7 columns</p>\n",
       "</div>"
      ],
      "text/plain": [
       "            Airline                Source                      Destination  \\\n",
       "0            IndiGo  DEL New Delhi, India                BOM Mumbai, India   \n",
       "1          SpiceJet  DEL New Delhi, India                BOM Mumbai, India   \n",
       "2          Go First  DEL New Delhi, India                BOM Mumbai, India   \n",
       "3          Go First  DEL New Delhi, India                BOM Mumbai, India   \n",
       "4          SpiceJet  DEL New Delhi, India                BOM Mumbai, India   \n",
       "...             ...                   ...                              ...   \n",
       "2201  Multi-Airline  DEL New Delhi, India  FCO Rome - Fiumicino Apt, Italy   \n",
       "2202  Multi-Airline  DEL New Delhi, India  FCO Rome - Fiumicino Apt, Italy   \n",
       "2203  Multi-Airline  DEL New Delhi, India  FCO Rome - Fiumicino Apt, Italy   \n",
       "2204  Multi-Airline  DEL New Delhi, India  FCO Rome - Fiumicino Apt, Italy   \n",
       "2205  Multi-Airline  DEL New Delhi, India  FCO Rome - Fiumicino Apt, Italy   \n",
       "\n",
       "     Duration Departure Arrival   Price  \n",
       "0      2h 05m     23:35   01:40    7319  \n",
       "1      9h 20m     19:55   05:15    7319  \n",
       "2     11h 30m     20:30   08:00    7319  \n",
       "3     11h 55m     21:25   09:20    7319  \n",
       "4     16h 50m     19:30   12:20    7319  \n",
       "...       ...       ...     ...     ...  \n",
       "2201  20h 20m     20:35   13:25  172523  \n",
       "2202  27h 00m     20:35   20:05  172523  \n",
       "2203  39h 20m     23:15   11:05  381860  \n",
       "2204  37h 25m     23:10   09:05  502018  \n",
       "2205  37h 25m     23:10   09:05  502018  \n",
       "\n",
       "[2206 rows x 7 columns]"
      ]
     },
     "execution_count": 368,
     "metadata": {},
     "output_type": "execute_result"
    }
   ],
   "source": [
    "flight=pd.DataFrame({'Airline':Airline,'Source':Source,'Destination':Destination,'Duration':Duration,'Departure':Departure,'Arrival':Arrival,'Price':Price})\n",
    "flight"
   ]
  },
  {
   "cell_type": "code",
   "execution_count": 371,
   "id": "dd44a85e",
   "metadata": {},
   "outputs": [],
   "source": [
    "filename='Flightprediction.xlsx'\n"
   ]
  },
  {
   "cell_type": "code",
   "execution_count": 372,
   "id": "13a1e19a",
   "metadata": {},
   "outputs": [],
   "source": [
    "flight.to_excel(filename)"
   ]
  },
  {
   "cell_type": "markdown",
   "id": "f2c66e34",
   "metadata": {},
   "source": [
    "### Reading the excel file"
   ]
  },
  {
   "cell_type": "code",
   "execution_count": 2,
   "id": "6567de01",
   "metadata": {},
   "outputs": [
    {
     "data": {
      "text/html": [
       "<div>\n",
       "<style scoped>\n",
       "    .dataframe tbody tr th:only-of-type {\n",
       "        vertical-align: middle;\n",
       "    }\n",
       "\n",
       "    .dataframe tbody tr th {\n",
       "        vertical-align: top;\n",
       "    }\n",
       "\n",
       "    .dataframe thead th {\n",
       "        text-align: right;\n",
       "    }\n",
       "</style>\n",
       "<table border=\"1\" class=\"dataframe\">\n",
       "  <thead>\n",
       "    <tr style=\"text-align: right;\">\n",
       "      <th></th>\n",
       "      <th>Unnamed: 0</th>\n",
       "      <th>Airline</th>\n",
       "      <th>Source</th>\n",
       "      <th>Destination</th>\n",
       "      <th>Duration</th>\n",
       "      <th>Departure</th>\n",
       "      <th>Arrival</th>\n",
       "      <th>Price</th>\n",
       "    </tr>\n",
       "  </thead>\n",
       "  <tbody>\n",
       "    <tr>\n",
       "      <th>0</th>\n",
       "      <td>0</td>\n",
       "      <td>IndiGo</td>\n",
       "      <td>DEL New Delhi, India</td>\n",
       "      <td>BOM Mumbai, India</td>\n",
       "      <td>2h 05m</td>\n",
       "      <td>23:35</td>\n",
       "      <td>01:40</td>\n",
       "      <td>7319</td>\n",
       "    </tr>\n",
       "    <tr>\n",
       "      <th>1</th>\n",
       "      <td>1</td>\n",
       "      <td>SpiceJet</td>\n",
       "      <td>DEL New Delhi, India</td>\n",
       "      <td>BOM Mumbai, India</td>\n",
       "      <td>9h 20m</td>\n",
       "      <td>19:55</td>\n",
       "      <td>05:15</td>\n",
       "      <td>7319</td>\n",
       "    </tr>\n",
       "    <tr>\n",
       "      <th>2</th>\n",
       "      <td>2</td>\n",
       "      <td>Go First</td>\n",
       "      <td>DEL New Delhi, India</td>\n",
       "      <td>BOM Mumbai, India</td>\n",
       "      <td>11h 30m</td>\n",
       "      <td>20:30</td>\n",
       "      <td>08:00</td>\n",
       "      <td>7319</td>\n",
       "    </tr>\n",
       "    <tr>\n",
       "      <th>3</th>\n",
       "      <td>3</td>\n",
       "      <td>Go First</td>\n",
       "      <td>DEL New Delhi, India</td>\n",
       "      <td>BOM Mumbai, India</td>\n",
       "      <td>11h 55m</td>\n",
       "      <td>21:25</td>\n",
       "      <td>09:20</td>\n",
       "      <td>7319</td>\n",
       "    </tr>\n",
       "    <tr>\n",
       "      <th>4</th>\n",
       "      <td>4</td>\n",
       "      <td>SpiceJet</td>\n",
       "      <td>DEL New Delhi, India</td>\n",
       "      <td>BOM Mumbai, India</td>\n",
       "      <td>16h 50m</td>\n",
       "      <td>19:30</td>\n",
       "      <td>12:20</td>\n",
       "      <td>7319</td>\n",
       "    </tr>\n",
       "    <tr>\n",
       "      <th>...</th>\n",
       "      <td>...</td>\n",
       "      <td>...</td>\n",
       "      <td>...</td>\n",
       "      <td>...</td>\n",
       "      <td>...</td>\n",
       "      <td>...</td>\n",
       "      <td>...</td>\n",
       "      <td>...</td>\n",
       "    </tr>\n",
       "    <tr>\n",
       "      <th>2201</th>\n",
       "      <td>2201</td>\n",
       "      <td>Multi-Airline</td>\n",
       "      <td>DEL New Delhi, India</td>\n",
       "      <td>FCO Rome - Fiumicino Apt, Italy</td>\n",
       "      <td>20h 20m</td>\n",
       "      <td>20:35</td>\n",
       "      <td>13:25</td>\n",
       "      <td>172523</td>\n",
       "    </tr>\n",
       "    <tr>\n",
       "      <th>2202</th>\n",
       "      <td>2202</td>\n",
       "      <td>Multi-Airline</td>\n",
       "      <td>DEL New Delhi, India</td>\n",
       "      <td>FCO Rome - Fiumicino Apt, Italy</td>\n",
       "      <td>27h 00m</td>\n",
       "      <td>20:35</td>\n",
       "      <td>20:05</td>\n",
       "      <td>172523</td>\n",
       "    </tr>\n",
       "    <tr>\n",
       "      <th>2203</th>\n",
       "      <td>2203</td>\n",
       "      <td>Multi-Airline</td>\n",
       "      <td>DEL New Delhi, India</td>\n",
       "      <td>FCO Rome - Fiumicino Apt, Italy</td>\n",
       "      <td>39h 20m</td>\n",
       "      <td>23:15</td>\n",
       "      <td>11:05</td>\n",
       "      <td>381860</td>\n",
       "    </tr>\n",
       "    <tr>\n",
       "      <th>2204</th>\n",
       "      <td>2204</td>\n",
       "      <td>Multi-Airline</td>\n",
       "      <td>DEL New Delhi, India</td>\n",
       "      <td>FCO Rome - Fiumicino Apt, Italy</td>\n",
       "      <td>37h 25m</td>\n",
       "      <td>23:10</td>\n",
       "      <td>09:05</td>\n",
       "      <td>502018</td>\n",
       "    </tr>\n",
       "    <tr>\n",
       "      <th>2205</th>\n",
       "      <td>2205</td>\n",
       "      <td>Multi-Airline</td>\n",
       "      <td>DEL New Delhi, India</td>\n",
       "      <td>FCO Rome - Fiumicino Apt, Italy</td>\n",
       "      <td>37h 25m</td>\n",
       "      <td>23:10</td>\n",
       "      <td>09:05</td>\n",
       "      <td>502018</td>\n",
       "    </tr>\n",
       "  </tbody>\n",
       "</table>\n",
       "<p>2206 rows × 8 columns</p>\n",
       "</div>"
      ],
      "text/plain": [
       "      Unnamed: 0        Airline                Source  \\\n",
       "0              0         IndiGo  DEL New Delhi, India   \n",
       "1              1       SpiceJet  DEL New Delhi, India   \n",
       "2              2       Go First  DEL New Delhi, India   \n",
       "3              3       Go First  DEL New Delhi, India   \n",
       "4              4       SpiceJet  DEL New Delhi, India   \n",
       "...          ...            ...                   ...   \n",
       "2201        2201  Multi-Airline  DEL New Delhi, India   \n",
       "2202        2202  Multi-Airline  DEL New Delhi, India   \n",
       "2203        2203  Multi-Airline  DEL New Delhi, India   \n",
       "2204        2204  Multi-Airline  DEL New Delhi, India   \n",
       "2205        2205  Multi-Airline  DEL New Delhi, India   \n",
       "\n",
       "                          Destination Duration Departure Arrival   Price  \n",
       "0                   BOM Mumbai, India   2h 05m     23:35   01:40    7319  \n",
       "1                   BOM Mumbai, India   9h 20m     19:55   05:15    7319  \n",
       "2                   BOM Mumbai, India  11h 30m     20:30   08:00    7319  \n",
       "3                   BOM Mumbai, India  11h 55m     21:25   09:20    7319  \n",
       "4                   BOM Mumbai, India  16h 50m     19:30   12:20    7319  \n",
       "...                               ...      ...       ...     ...     ...  \n",
       "2201  FCO Rome - Fiumicino Apt, Italy  20h 20m     20:35   13:25  172523  \n",
       "2202  FCO Rome - Fiumicino Apt, Italy  27h 00m     20:35   20:05  172523  \n",
       "2203  FCO Rome - Fiumicino Apt, Italy  39h 20m     23:15   11:05  381860  \n",
       "2204  FCO Rome - Fiumicino Apt, Italy  37h 25m     23:10   09:05  502018  \n",
       "2205  FCO Rome - Fiumicino Apt, Italy  37h 25m     23:10   09:05  502018  \n",
       "\n",
       "[2206 rows x 8 columns]"
      ]
     },
     "execution_count": 2,
     "metadata": {},
     "output_type": "execute_result"
    }
   ],
   "source": [
    "data=pd.read_excel('Flightprediction.xlsx')\n",
    "data"
   ]
  },
  {
   "cell_type": "markdown",
   "id": "8611956e",
   "metadata": {},
   "source": [
    "### Removing the unnecessary column"
   ]
  },
  {
   "cell_type": "code",
   "execution_count": 3,
   "id": "c3dfa682",
   "metadata": {},
   "outputs": [],
   "source": [
    "data=data.drop(columns=['Unnamed: 0'])"
   ]
  },
  {
   "cell_type": "code",
   "execution_count": 4,
   "id": "695564c2",
   "metadata": {},
   "outputs": [
    {
     "data": {
      "text/html": [
       "<div>\n",
       "<style scoped>\n",
       "    .dataframe tbody tr th:only-of-type {\n",
       "        vertical-align: middle;\n",
       "    }\n",
       "\n",
       "    .dataframe tbody tr th {\n",
       "        vertical-align: top;\n",
       "    }\n",
       "\n",
       "    .dataframe thead th {\n",
       "        text-align: right;\n",
       "    }\n",
       "</style>\n",
       "<table border=\"1\" class=\"dataframe\">\n",
       "  <thead>\n",
       "    <tr style=\"text-align: right;\">\n",
       "      <th></th>\n",
       "      <th>Airline</th>\n",
       "      <th>Source</th>\n",
       "      <th>Destination</th>\n",
       "      <th>Duration</th>\n",
       "      <th>Departure</th>\n",
       "      <th>Arrival</th>\n",
       "      <th>Price</th>\n",
       "    </tr>\n",
       "  </thead>\n",
       "  <tbody>\n",
       "    <tr>\n",
       "      <th>0</th>\n",
       "      <td>IndiGo</td>\n",
       "      <td>DEL New Delhi, India</td>\n",
       "      <td>BOM Mumbai, India</td>\n",
       "      <td>2h 05m</td>\n",
       "      <td>23:35</td>\n",
       "      <td>01:40</td>\n",
       "      <td>7319</td>\n",
       "    </tr>\n",
       "    <tr>\n",
       "      <th>1</th>\n",
       "      <td>SpiceJet</td>\n",
       "      <td>DEL New Delhi, India</td>\n",
       "      <td>BOM Mumbai, India</td>\n",
       "      <td>9h 20m</td>\n",
       "      <td>19:55</td>\n",
       "      <td>05:15</td>\n",
       "      <td>7319</td>\n",
       "    </tr>\n",
       "    <tr>\n",
       "      <th>2</th>\n",
       "      <td>Go First</td>\n",
       "      <td>DEL New Delhi, India</td>\n",
       "      <td>BOM Mumbai, India</td>\n",
       "      <td>11h 30m</td>\n",
       "      <td>20:30</td>\n",
       "      <td>08:00</td>\n",
       "      <td>7319</td>\n",
       "    </tr>\n",
       "    <tr>\n",
       "      <th>3</th>\n",
       "      <td>Go First</td>\n",
       "      <td>DEL New Delhi, India</td>\n",
       "      <td>BOM Mumbai, India</td>\n",
       "      <td>11h 55m</td>\n",
       "      <td>21:25</td>\n",
       "      <td>09:20</td>\n",
       "      <td>7319</td>\n",
       "    </tr>\n",
       "    <tr>\n",
       "      <th>4</th>\n",
       "      <td>SpiceJet</td>\n",
       "      <td>DEL New Delhi, India</td>\n",
       "      <td>BOM Mumbai, India</td>\n",
       "      <td>16h 50m</td>\n",
       "      <td>19:30</td>\n",
       "      <td>12:20</td>\n",
       "      <td>7319</td>\n",
       "    </tr>\n",
       "    <tr>\n",
       "      <th>...</th>\n",
       "      <td>...</td>\n",
       "      <td>...</td>\n",
       "      <td>...</td>\n",
       "      <td>...</td>\n",
       "      <td>...</td>\n",
       "      <td>...</td>\n",
       "      <td>...</td>\n",
       "    </tr>\n",
       "    <tr>\n",
       "      <th>2201</th>\n",
       "      <td>Multi-Airline</td>\n",
       "      <td>DEL New Delhi, India</td>\n",
       "      <td>FCO Rome - Fiumicino Apt, Italy</td>\n",
       "      <td>20h 20m</td>\n",
       "      <td>20:35</td>\n",
       "      <td>13:25</td>\n",
       "      <td>172523</td>\n",
       "    </tr>\n",
       "    <tr>\n",
       "      <th>2202</th>\n",
       "      <td>Multi-Airline</td>\n",
       "      <td>DEL New Delhi, India</td>\n",
       "      <td>FCO Rome - Fiumicino Apt, Italy</td>\n",
       "      <td>27h 00m</td>\n",
       "      <td>20:35</td>\n",
       "      <td>20:05</td>\n",
       "      <td>172523</td>\n",
       "    </tr>\n",
       "    <tr>\n",
       "      <th>2203</th>\n",
       "      <td>Multi-Airline</td>\n",
       "      <td>DEL New Delhi, India</td>\n",
       "      <td>FCO Rome - Fiumicino Apt, Italy</td>\n",
       "      <td>39h 20m</td>\n",
       "      <td>23:15</td>\n",
       "      <td>11:05</td>\n",
       "      <td>381860</td>\n",
       "    </tr>\n",
       "    <tr>\n",
       "      <th>2204</th>\n",
       "      <td>Multi-Airline</td>\n",
       "      <td>DEL New Delhi, India</td>\n",
       "      <td>FCO Rome - Fiumicino Apt, Italy</td>\n",
       "      <td>37h 25m</td>\n",
       "      <td>23:10</td>\n",
       "      <td>09:05</td>\n",
       "      <td>502018</td>\n",
       "    </tr>\n",
       "    <tr>\n",
       "      <th>2205</th>\n",
       "      <td>Multi-Airline</td>\n",
       "      <td>DEL New Delhi, India</td>\n",
       "      <td>FCO Rome - Fiumicino Apt, Italy</td>\n",
       "      <td>37h 25m</td>\n",
       "      <td>23:10</td>\n",
       "      <td>09:05</td>\n",
       "      <td>502018</td>\n",
       "    </tr>\n",
       "  </tbody>\n",
       "</table>\n",
       "<p>2206 rows × 7 columns</p>\n",
       "</div>"
      ],
      "text/plain": [
       "            Airline                Source                      Destination  \\\n",
       "0            IndiGo  DEL New Delhi, India                BOM Mumbai, India   \n",
       "1          SpiceJet  DEL New Delhi, India                BOM Mumbai, India   \n",
       "2          Go First  DEL New Delhi, India                BOM Mumbai, India   \n",
       "3          Go First  DEL New Delhi, India                BOM Mumbai, India   \n",
       "4          SpiceJet  DEL New Delhi, India                BOM Mumbai, India   \n",
       "...             ...                   ...                              ...   \n",
       "2201  Multi-Airline  DEL New Delhi, India  FCO Rome - Fiumicino Apt, Italy   \n",
       "2202  Multi-Airline  DEL New Delhi, India  FCO Rome - Fiumicino Apt, Italy   \n",
       "2203  Multi-Airline  DEL New Delhi, India  FCO Rome - Fiumicino Apt, Italy   \n",
       "2204  Multi-Airline  DEL New Delhi, India  FCO Rome - Fiumicino Apt, Italy   \n",
       "2205  Multi-Airline  DEL New Delhi, India  FCO Rome - Fiumicino Apt, Italy   \n",
       "\n",
       "     Duration Departure Arrival   Price  \n",
       "0      2h 05m     23:35   01:40    7319  \n",
       "1      9h 20m     19:55   05:15    7319  \n",
       "2     11h 30m     20:30   08:00    7319  \n",
       "3     11h 55m     21:25   09:20    7319  \n",
       "4     16h 50m     19:30   12:20    7319  \n",
       "...       ...       ...     ...     ...  \n",
       "2201  20h 20m     20:35   13:25  172523  \n",
       "2202  27h 00m     20:35   20:05  172523  \n",
       "2203  39h 20m     23:15   11:05  381860  \n",
       "2204  37h 25m     23:10   09:05  502018  \n",
       "2205  37h 25m     23:10   09:05  502018  \n",
       "\n",
       "[2206 rows x 7 columns]"
      ]
     },
     "execution_count": 4,
     "metadata": {},
     "output_type": "execute_result"
    }
   ],
   "source": [
    "data"
   ]
  },
  {
   "cell_type": "markdown",
   "id": "b3ff7e93",
   "metadata": {},
   "source": [
    "### Changing the datatype of price column"
   ]
  },
  {
   "cell_type": "code",
   "execution_count": 5,
   "id": "59bd1000",
   "metadata": {},
   "outputs": [],
   "source": [
    "data['Price']=data['Price'].astype(int)"
   ]
  },
  {
   "cell_type": "code",
   "execution_count": 6,
   "id": "9cafd888",
   "metadata": {},
   "outputs": [
    {
     "data": {
      "text/plain": [
       "Airline        object\n",
       "Source         object\n",
       "Destination    object\n",
       "Duration       object\n",
       "Departure      object\n",
       "Arrival        object\n",
       "Price           int32\n",
       "dtype: object"
      ]
     },
     "execution_count": 6,
     "metadata": {},
     "output_type": "execute_result"
    }
   ],
   "source": [
    "data.dtypes"
   ]
  },
  {
   "cell_type": "markdown",
   "id": "a5346775",
   "metadata": {},
   "source": [
    "### Checking columns having '-' values"
   ]
  },
  {
   "cell_type": "code",
   "execution_count": 7,
   "id": "7db052f6",
   "metadata": {},
   "outputs": [
    {
     "name": "stdout",
     "output_type": "stream",
     "text": [
      "Count of - in column  Airline  is :  0\n",
      "Count of - in column  Source  is :  0\n",
      "Count of - in column  Destination  is :  0\n",
      "Count of - in column  Duration  is :  0\n",
      "Count of - in column  Departure  is :  0\n",
      "Count of - in column  Arrival  is :  0\n",
      "Count of - in column  Price  is :  0\n"
     ]
    }
   ],
   "source": [
    "for column_name in data.columns:\n",
    "    column = data[column_name]\n",
    "    # Get the count of '-' in column \n",
    "    count = (column == '-').sum()\n",
    "    print('Count of - in column ', column_name, ' is : ', count)"
   ]
  },
  {
   "cell_type": "markdown",
   "id": "3aa5e42c",
   "metadata": {},
   "source": [
    "### Creating model"
   ]
  },
  {
   "cell_type": "code",
   "execution_count": 8,
   "id": "c374896f",
   "metadata": {},
   "outputs": [],
   "source": [
    "from sklearn.linear_model import LinearRegression\n",
    "from sklearn.preprocessing import StandardScaler\n",
    "from sklearn.model_selection import train_test_split,GridSearchCV\n",
    "import seaborn as sns\n",
    "import matplotlib.pyplot as plt"
   ]
  },
  {
   "cell_type": "markdown",
   "id": "4fef6ba6",
   "metadata": {},
   "source": [
    "### Visualiztion"
   ]
  },
  {
   "cell_type": "code",
   "execution_count": 9,
   "id": "51f1dbe7",
   "metadata": {},
   "outputs": [
    {
     "name": "stdout",
     "output_type": "stream",
     "text": [
      "Multi-Airline         460\n",
      "United Airlines       426\n",
      "American Airlines     371\n",
      "IndiGo                163\n",
      "Air India             123\n",
      "Emirates              117\n",
      "Vistara               106\n",
      "Air Canada             79\n",
      "Go First               75\n",
      "Saudia                 68\n",
      "Etihad Airways         44\n",
      "Singapore Airlines     43\n",
      "SpiceJet               26\n",
      "Asiana Airlines        20\n",
      "AirAsia                19\n",
      "Malaysia Airlines      17\n",
      "Thai Airways           17\n",
      "British Airways        11\n",
      "Air India Express       8\n",
      "Alliance Air            5\n",
      "Gulf Air                5\n",
      "Srilankan Airlines      1\n",
      "Air Arabia              1\n",
      "Qatar Airways           1\n",
      "Name: Airline, dtype: int64\n"
     ]
    },
    {
     "data": {
      "image/png": "[encoded data removed]",
      "text/plain": [
       "<Figure size 432x288 with 1 Axes>"
      ]
     },
     "metadata": {
      "needs_background": "light"
     },
     "output_type": "display_data"
    }
   ],
   "source": [
    "ax=sns.countplot(x='Airline',data=data)\n",
    "print(data['Airline'].value_counts())"
   ]
  },
  {
   "cell_type": "code",
   "execution_count": 10,
   "id": "efaff593",
   "metadata": {},
   "outputs": [
    {
     "name": "stdout",
     "output_type": "stream",
     "text": [
      "DEL New Delhi, India    1947\n",
      "BOM Mumbai, India        259\n",
      "Name: Source, dtype: int64\n"
     ]
    },
    {
     "data": {
      "image/png": "[encoded data removed]",
      "text/plain": [
       "<Figure size 432x288 with 1 Axes>"
      ]
     },
     "metadata": {
      "needs_background": "light"
     },
     "output_type": "display_data"
    }
   ],
   "source": [
    "ax=sns.countplot(x='Source',data=data)\n",
    "print(data['Source'].value_counts())"
   ]
  },
  {
   "cell_type": "code",
   "execution_count": 11,
   "id": "c10ea637",
   "metadata": {},
   "outputs": [
    {
     "name": "stdout",
     "output_type": "stream",
     "text": [
      "DXB Dubai, United Arab Emirates              280\n",
      "LAX Los Angeles, United States               260\n",
      "YYZ Toronto, Canada                          214\n",
      "LAS Las Vegas, United States                 207\n",
      "SNA Santa Ana, United States                 184\n",
      "LHR London - Heathrow Apt                    130\n",
      "BOS Boston, United States                     74\n",
      "SYD Sydney, Australia                         60\n",
      "SFO San Francisco, United States              53\n",
      "AUH Abu Dhabi, United Arab Emirates           43\n",
      "MLE Male, Maldives                            41\n",
      "BUR Burbank, United States                    40\n",
      "IXC Chandigarh, India                         40\n",
      "XNB Dubai, United Arab Emirates               36\n",
      "FRA Frankfurt, Germany                        29\n",
      "AMD Ahmedabad, India                          28\n",
      "ATQ Amritsar, India                           27\n",
      "MAA Chennai, India                            27\n",
      "BOM Mumbai, India                             27\n",
      "SHJ Sharjah, United Arab Emirates             27\n",
      "SIN Singapore, Singapore                      26\n",
      "BNE Brisbane, Australia                       25\n",
      "BLR Bengaluru, India                          25\n",
      "YTZ Toronto, Canada                           24\n",
      "SJC San Jose, United States                   24\n",
      "LGW London - Gatwick Apt, United Kingdom      24\n",
      "HYD Hyderabad, India                          21\n",
      "ATL Atlanta, United States                    19\n",
      "ADL Adelaide, Australia                       18\n",
      "CCU Kolkata, India                            18\n",
      "ORH Worcester, United States                  17\n",
      "IXZ Port Blair, India                         14\n",
      "GAU Guwahati, India                           13\n",
      "GOI Goa, India                                13\n",
      "LGB Long Beach, United States                 12\n",
      "COK Kochi, India                              11\n",
      "IST Istanbul, Turkey                          10\n",
      "NAG Nagpur, India                             10\n",
      "FCO Rome - Fiumicino Apt, Italy               10\n",
      "DME Moscow-Domodedovo Apt                     10\n",
      "LKO Lucknow, India                             8\n",
      "CPT Cape Town, South Africa                    7\n",
      "IXR Ranchi, India                              6\n",
      "LCY London - City Airport, United Kingdom      4\n",
      "OAK Oakland, United States                     2\n",
      "HKG Hong Kong, Hong Kong                       2\n",
      "ZRH Zurich, Switzerland                        2\n",
      "DPS Denpasar Bali, Indonesia                   1\n",
      "VKO Moscow - Vnukovo Apt                       1\n",
      "SAW Istanbul-Sabiha Gokcen                     1\n",
      "SVO Moscow, Russia                             1\n",
      "Name: Destination, dtype: int64\n"
     ]
    },
    {
     "data": {
      "image/png": "[encoded data removed]",
      "text/plain": [
       "<Figure size 432x288 with 1 Axes>"
      ]
     },
     "metadata": {
      "needs_background": "light"
     },
     "output_type": "display_data"
    }
   ],
   "source": [
    "ax=sns.countplot(x='Destination',data=data)\n",
    "print(data['Destination'].value_counts())"
   ]
  },
  {
   "cell_type": "markdown",
   "id": "48e306fe",
   "metadata": {},
   "source": [
    "### Encoding the dataset"
   ]
  },
  {
   "cell_type": "code",
   "execution_count": 12,
   "id": "f6c80374",
   "metadata": {},
   "outputs": [],
   "source": [
    "from sklearn.preprocessing import OrdinalEncoder\n",
    "enc=OrdinalEncoder()"
   ]
  },
  {
   "cell_type": "code",
   "execution_count": 14,
   "id": "dcbc9bd4",
   "metadata": {},
   "outputs": [],
   "source": [
    "for i in data.columns:\n",
    "    if data[i].dtypes==\"object\":\n",
    "        data[i]=enc.fit_transform(data[i].values.reshape(-1,1))"
   ]
  },
  {
   "cell_type": "code",
   "execution_count": 15,
   "id": "b9010339",
   "metadata": {},
   "outputs": [
    {
     "data": {
      "text/html": [
       "<div>\n",
       "<style scoped>\n",
       "    .dataframe tbody tr th:only-of-type {\n",
       "        vertical-align: middle;\n",
       "    }\n",
       "\n",
       "    .dataframe tbody tr th {\n",
       "        vertical-align: top;\n",
       "    }\n",
       "\n",
       "    .dataframe thead th {\n",
       "        text-align: right;\n",
       "    }\n",
       "</style>\n",
       "<table border=\"1\" class=\"dataframe\">\n",
       "  <thead>\n",
       "    <tr style=\"text-align: right;\">\n",
       "      <th></th>\n",
       "      <th>Airline</th>\n",
       "      <th>Source</th>\n",
       "      <th>Destination</th>\n",
       "      <th>Duration</th>\n",
       "      <th>Departure</th>\n",
       "      <th>Arrival</th>\n",
       "      <th>Price</th>\n",
       "    </tr>\n",
       "  </thead>\n",
       "  <tbody>\n",
       "    <tr>\n",
       "      <th>0</th>\n",
       "      <td>13.0</td>\n",
       "      <td>1.0</td>\n",
       "      <td>7.0</td>\n",
       "      <td>280.0</td>\n",
       "      <td>66.0</td>\n",
       "      <td>12.0</td>\n",
       "      <td>7319</td>\n",
       "    </tr>\n",
       "    <tr>\n",
       "      <th>1</th>\n",
       "      <td>19.0</td>\n",
       "      <td>1.0</td>\n",
       "      <td>7.0</td>\n",
       "      <td>539.0</td>\n",
       "      <td>31.0</td>\n",
       "      <td>27.0</td>\n",
       "      <td>7319</td>\n",
       "    </tr>\n",
       "    <tr>\n",
       "      <th>2</th>\n",
       "      <td>11.0</td>\n",
       "      <td>1.0</td>\n",
       "      <td>7.0</td>\n",
       "      <td>19.0</td>\n",
       "      <td>36.0</td>\n",
       "      <td>54.0</td>\n",
       "      <td>7319</td>\n",
       "    </tr>\n",
       "    <tr>\n",
       "      <th>3</th>\n",
       "      <td>11.0</td>\n",
       "      <td>1.0</td>\n",
       "      <td>7.0</td>\n",
       "      <td>23.0</td>\n",
       "      <td>45.0</td>\n",
       "      <td>69.0</td>\n",
       "      <td>7319</td>\n",
       "    </tr>\n",
       "    <tr>\n",
       "      <th>4</th>\n",
       "      <td>19.0</td>\n",
       "      <td>1.0</td>\n",
       "      <td>7.0</td>\n",
       "      <td>76.0</td>\n",
       "      <td>26.0</td>\n",
       "      <td>114.0</td>\n",
       "      <td>7319</td>\n",
       "    </tr>\n",
       "    <tr>\n",
       "      <th>...</th>\n",
       "      <td>...</td>\n",
       "      <td>...</td>\n",
       "      <td>...</td>\n",
       "      <td>...</td>\n",
       "      <td>...</td>\n",
       "      <td>...</td>\n",
       "      <td>...</td>\n",
       "    </tr>\n",
       "    <tr>\n",
       "      <th>2201</th>\n",
       "      <td>15.0</td>\n",
       "      <td>1.0</td>\n",
       "      <td>16.0</td>\n",
       "      <td>124.0</td>\n",
       "      <td>37.0</td>\n",
       "      <td>134.0</td>\n",
       "      <td>172523</td>\n",
       "    </tr>\n",
       "    <tr>\n",
       "      <th>2202</th>\n",
       "      <td>15.0</td>\n",
       "      <td>1.0</td>\n",
       "      <td>16.0</td>\n",
       "      <td>224.0</td>\n",
       "      <td>37.0</td>\n",
       "      <td>259.0</td>\n",
       "      <td>172523</td>\n",
       "    </tr>\n",
       "    <tr>\n",
       "      <th>2203</th>\n",
       "      <td>15.0</td>\n",
       "      <td>1.0</td>\n",
       "      <td>16.0</td>\n",
       "      <td>438.0</td>\n",
       "      <td>62.0</td>\n",
       "      <td>97.0</td>\n",
       "      <td>381860</td>\n",
       "    </tr>\n",
       "    <tr>\n",
       "      <th>2204</th>\n",
       "      <td>15.0</td>\n",
       "      <td>1.0</td>\n",
       "      <td>16.0</td>\n",
       "      <td>418.0</td>\n",
       "      <td>61.0</td>\n",
       "      <td>65.0</td>\n",
       "      <td>502018</td>\n",
       "    </tr>\n",
       "    <tr>\n",
       "      <th>2205</th>\n",
       "      <td>15.0</td>\n",
       "      <td>1.0</td>\n",
       "      <td>16.0</td>\n",
       "      <td>418.0</td>\n",
       "      <td>61.0</td>\n",
       "      <td>65.0</td>\n",
       "      <td>502018</td>\n",
       "    </tr>\n",
       "  </tbody>\n",
       "</table>\n",
       "<p>2206 rows × 7 columns</p>\n",
       "</div>"
      ],
      "text/plain": [
       "      Airline  Source  Destination  Duration  Departure  Arrival   Price\n",
       "0        13.0     1.0          7.0     280.0       66.0     12.0    7319\n",
       "1        19.0     1.0          7.0     539.0       31.0     27.0    7319\n",
       "2        11.0     1.0          7.0      19.0       36.0     54.0    7319\n",
       "3        11.0     1.0          7.0      23.0       45.0     69.0    7319\n",
       "4        19.0     1.0          7.0      76.0       26.0    114.0    7319\n",
       "...       ...     ...          ...       ...        ...      ...     ...\n",
       "2201     15.0     1.0         16.0     124.0       37.0    134.0  172523\n",
       "2202     15.0     1.0         16.0     224.0       37.0    259.0  172523\n",
       "2203     15.0     1.0         16.0     438.0       62.0     97.0  381860\n",
       "2204     15.0     1.0         16.0     418.0       61.0     65.0  502018\n",
       "2205     15.0     1.0         16.0     418.0       61.0     65.0  502018\n",
       "\n",
       "[2206 rows x 7 columns]"
      ]
     },
     "execution_count": 15,
     "metadata": {},
     "output_type": "execute_result"
    }
   ],
   "source": [
    "data"
   ]
  },
  {
   "cell_type": "markdown",
   "id": "638e2e63",
   "metadata": {},
   "source": [
    "### Checking outliers using boxplot"
   ]
  },
  {
   "cell_type": "code",
   "execution_count": 16,
   "id": "7c85c6f8",
   "metadata": {},
   "outputs": [
    {
     "data": {
      "image/png": "[encoded data removed]",
      "text/plain": [
       "<Figure size 1440x1440 with 7 Axes>"
      ]
     },
     "metadata": {
      "needs_background": "light"
     },
     "output_type": "display_data"
    }
   ],
   "source": [
    "plt.figure(figsize=(20,20))\n",
    "plotnumber=1\n",
    "for column in data:\n",
    "    if plotnumber<=20:\n",
    "        ax=plt.subplot(4,3,plotnumber)\n",
    "        sns.boxplot(data=data[column],orient='v')\n",
    "        plt.xlabel(column,fontsize=20)\n",
    "    plotnumber+=1\n",
    "plt.show()"
   ]
  },
  {
   "cell_type": "markdown",
   "id": "8080f272",
   "metadata": {},
   "source": [
    "We are not removing the outliers since these are the possible values"
   ]
  },
  {
   "cell_type": "code",
   "execution_count": 17,
   "id": "f5beb1d9",
   "metadata": {},
   "outputs": [
    {
     "data": {
      "text/plain": [
       "Airline        0.131863\n",
       "Source        -0.016807\n",
       "Destination    0.359299\n",
       "Duration       0.206031\n",
       "Departure      0.364314\n",
       "Arrival        0.120614\n",
       "Price          1.000000\n",
       "Name: Price, dtype: float64"
      ]
     },
     "execution_count": 17,
     "metadata": {},
     "output_type": "execute_result"
    }
   ],
   "source": [
    "data.corr()['Price']"
   ]
  },
  {
   "cell_type": "code",
   "execution_count": 18,
   "id": "c9ceaa13",
   "metadata": {},
   "outputs": [
    {
     "data": {
      "image/png": "[encoded data removed]",
      "text/plain": [
       "<Figure size 1440x1440 with 2 Axes>"
      ]
     },
     "metadata": {
      "needs_background": "light"
     },
     "output_type": "display_data"
    }
   ],
   "source": [
    "plt.figure(figsize=(20,20))\n",
    "sns.heatmap(data.corr(),annot=True)\n",
    "plt.show()"
   ]
  },
  {
   "cell_type": "markdown",
   "id": "1c08b67f",
   "metadata": {},
   "source": [
    "### Checking the columns which are positively and negatively correlated with the target variable"
   ]
  },
  {
   "cell_type": "code",
   "execution_count": 19,
   "id": "927cf41d",
   "metadata": {},
   "outputs": [
    {
     "data": {
      "image/png": "[encoded data removed]",
      "text/plain": [
       "<Figure size 1584x504 with 1 Axes>"
      ]
     },
     "metadata": {
      "needs_background": "light"
     },
     "output_type": "display_data"
    }
   ],
   "source": [
    "plt.figure(figsize=(22,7))\n",
    "data.corr()['Price'].sort_values(ascending=False).drop(['Price']).plot(kind='bar')\n",
    "plt.xlabel('features',fontsize=14)\n",
    "plt.ylabel('column with target names',fontsize=14)\n",
    "plt.title('Correlation',fontsize=18)\n",
    "plt.show()"
   ]
  },
  {
   "cell_type": "markdown",
   "id": "1a24e8b9",
   "metadata": {},
   "source": [
    "### Dividing the dataset into Dependent and independent variables"
   ]
  },
  {
   "cell_type": "code",
   "execution_count": 20,
   "id": "0ac4ae7d",
   "metadata": {},
   "outputs": [],
   "source": [
    "x=data.drop(columns=['Price'])\n",
    "y=data['Price']"
   ]
  },
  {
   "cell_type": "markdown",
   "id": "a3738f1a",
   "metadata": {},
   "source": [
    "### Scaling the data"
   ]
  },
  {
   "cell_type": "code",
   "execution_count": 21,
   "id": "ea6a6fa8",
   "metadata": {},
   "outputs": [],
   "source": [
    "sc=StandardScaler()\n",
    "x_new=sc.fit_transform(x)"
   ]
  },
  {
   "cell_type": "markdown",
   "id": "5f4049f7",
   "metadata": {},
   "source": [
    "### finding the best random state"
   ]
  },
  {
   "cell_type": "code",
   "execution_count": 22,
   "id": "ba0b1664",
   "metadata": {},
   "outputs": [],
   "source": [
    "from sklearn.metrics import r2_score\n",
    "LR=LinearRegression()"
   ]
  },
  {
   "cell_type": "code",
   "execution_count": 25,
   "id": "bc50538b",
   "metadata": {},
   "outputs": [
    {
     "name": "stdout",
     "output_type": "stream",
     "text": [
      "Max accuracy is  0.36555518374538454 on random state 8286\n"
     ]
    }
   ],
   "source": [
    "maxAccu=0\n",
    "maxRS=0\n",
    "for i in range(0,10000):\n",
    "    x_train,x_test,y_train,y_test=train_test_split(x_new,y,test_size=0.20,random_state=i)\n",
    "    LR.fit(x_train,y_train)\n",
    "    y_pred=LR.predict(x_test)\n",
    "    accu=r2_score(y_test,y_pred)\n",
    "    if accu>maxAccu:\n",
    "        maxAccu=accu\n",
    "        maxRs=i\n",
    "print('Max accuracy is ',maxAccu,'on random state',maxRs)\n",
    "    "
   ]
  },
  {
   "cell_type": "code",
   "execution_count": 26,
   "id": "854a8131",
   "metadata": {},
   "outputs": [],
   "source": [
    "x_train,x_test,y_train,y_test=train_test_split(x_new,y,test_size=0.20,random_state=8286)"
   ]
  },
  {
   "cell_type": "markdown",
   "id": "ab7947a7",
   "metadata": {},
   "source": [
    "### Linear Regression"
   ]
  },
  {
   "cell_type": "code",
   "execution_count": 27,
   "id": "95b88f46",
   "metadata": {},
   "outputs": [
    {
     "name": "stdout",
     "output_type": "stream",
     "text": [
      "0.36555518374538454\n"
     ]
    }
   ],
   "source": [
    "LR.fit(x_train,y_train)\n",
    "y_pred=LR.predict(x_test)\n",
    "print(r2_score(y_test,y_pred))"
   ]
  },
  {
   "cell_type": "markdown",
   "id": "e77386f8",
   "metadata": {},
   "source": [
    "### Regularization"
   ]
  },
  {
   "cell_type": "code",
   "execution_count": 29,
   "id": "67e6eb06",
   "metadata": {},
   "outputs": [],
   "source": [
    "from sklearn.model_selection import GridSearchCV\n",
    "from sklearn.linear_model import Lasso,Ridge"
   ]
  },
  {
   "cell_type": "markdown",
   "id": "ba685ca2",
   "metadata": {},
   "source": [
    "### Lasso"
   ]
  },
  {
   "cell_type": "code",
   "execution_count": 30,
   "id": "2d6acc9f",
   "metadata": {},
   "outputs": [
    {
     "name": "stdout",
     "output_type": "stream",
     "text": [
      "{'alpha': 10, 'max_iter': 100, 'normalize': True, 'random_state': 0}\n"
     ]
    }
   ],
   "source": [
    "parameters={'alpha':[.0001,.001,.01,.1,1,10],'random_state':list(range(0,10)),'max_iter':[100,200,500,1000],'normalize':[True,False]}\n",
    "ls=Lasso()\n",
    "clf=GridSearchCV(ls,parameters)\n",
    "clf.fit(x_new,y)\n",
    "print(clf.best_params_)"
   ]
  },
  {
   "cell_type": "code",
   "execution_count": 31,
   "id": "baa0ed2e",
   "metadata": {},
   "outputs": [
    {
     "data": {
      "text/plain": [
       "Lasso(alpha=10, max_iter=100, normalize=True, random_state=0)"
      ]
     },
     "execution_count": 31,
     "metadata": {},
     "output_type": "execute_result"
    }
   ],
   "source": [
    "ls=Lasso(alpha=10,random_state=0,max_iter=100,normalize=True)\n",
    "ls.fit(x_new,y)"
   ]
  },
  {
   "cell_type": "code",
   "execution_count": 32,
   "id": "5baec3dc",
   "metadata": {},
   "outputs": [
    {
     "data": {
      "text/plain": [
       "0.37372751395969217"
      ]
     },
     "execution_count": 32,
     "metadata": {},
     "output_type": "execute_result"
    }
   ],
   "source": [
    "ls_pred=ls.predict(x_test)\n",
    "lss=r2_score(y_test,ls_pred)\n",
    "lss"
   ]
  },
  {
   "cell_type": "markdown",
   "id": "c3f570e8",
   "metadata": {},
   "source": [
    "### Ridge"
   ]
  },
  {
   "cell_type": "code",
   "execution_count": 33,
   "id": "eeaa4b7e",
   "metadata": {},
   "outputs": [
    {
     "name": "stdout",
     "output_type": "stream",
     "text": [
      "{'alpha': 1, 'max_iter': 100, 'normalize': True, 'random_state': 0}\n"
     ]
    }
   ],
   "source": [
    "parameters={'alpha':[.0001,.001,.01,.1,1,10],'random_state':list(range(0,10)),'max_iter':[100,200,500,1000],'normalize':[True,False]}\n",
    "Rg=Ridge()\n",
    "clfR=GridSearchCV(Rg,parameters)\n",
    "clfR.fit(x_new,y)\n",
    "print(clfR.best_params_)"
   ]
  },
  {
   "cell_type": "code",
   "execution_count": 34,
   "id": "36e9aa0d",
   "metadata": {},
   "outputs": [
    {
     "data": {
      "text/plain": [
       "Ridge(alpha=1, max_iter=100, normalize=True, random_state=0)"
      ]
     },
     "execution_count": 34,
     "metadata": {},
     "output_type": "execute_result"
    }
   ],
   "source": [
    "Rgg=Ridge(alpha=1,random_state=0,max_iter=100,normalize=True)\n",
    "Rgg.fit(x_new,y)"
   ]
  },
  {
   "cell_type": "code",
   "execution_count": 35,
   "id": "2b1200e3",
   "metadata": {},
   "outputs": [
    {
     "data": {
      "text/plain": [
       "0.2832413074870206"
      ]
     },
     "execution_count": 35,
     "metadata": {},
     "output_type": "execute_result"
    }
   ],
   "source": [
    "Rg_pred=Rgg.predict(x_test)\n",
    "Rgs=r2_score(y_test,Rg_pred)\n",
    "Rgs"
   ]
  },
  {
   "cell_type": "markdown",
   "id": "1152c901",
   "metadata": {},
   "source": [
    "### Ensemble Technique"
   ]
  },
  {
   "cell_type": "code",
   "execution_count": 36,
   "id": "db7be960",
   "metadata": {},
   "outputs": [],
   "source": [
    "from sklearn.ensemble import RandomForestRegressor"
   ]
  },
  {
   "cell_type": "code",
   "execution_count": 37,
   "id": "254b7156",
   "metadata": {},
   "outputs": [
    {
     "data": {
      "text/plain": [
       "GridSearchCV(estimator=RandomForestRegressor(),\n",
       "             param_grid={'criterion': ['mse', 'mae'],\n",
       "                         'max_features': ['auto', 'sqrt', 'log2']})"
      ]
     },
     "execution_count": 37,
     "metadata": {},
     "output_type": "execute_result"
    }
   ],
   "source": [
    "parameters={'criterion':['mse','mae'],'max_features':['auto','sqrt','log2']}\n",
    "rf=RandomForestRegressor()\n",
    "clf=GridSearchCV(rf,parameters)\n",
    "clf.fit(x_train,y_train)"
   ]
  },
  {
   "cell_type": "code",
   "execution_count": 38,
   "id": "0b8ad8db",
   "metadata": {},
   "outputs": [
    {
     "name": "stdout",
     "output_type": "stream",
     "text": [
      "{'criterion': 'mse', 'max_features': 'auto'}\n"
     ]
    }
   ],
   "source": [
    "print(clf.best_params_)"
   ]
  },
  {
   "cell_type": "code",
   "execution_count": 39,
   "id": "c006bb84",
   "metadata": {},
   "outputs": [
    {
     "data": {
      "text/plain": [
       "RandomForestRegressor()"
      ]
     },
     "execution_count": 39,
     "metadata": {},
     "output_type": "execute_result"
    }
   ],
   "source": [
    "rf=RandomForestRegressor(criterion='mse',max_features='auto')\n",
    "rf.fit(x_train,y_train)\n"
   ]
  },
  {
   "cell_type": "code",
   "execution_count": 40,
   "id": "14554742",
   "metadata": {},
   "outputs": [
    {
     "data": {
      "text/plain": [
       "0.8568493594193562"
      ]
     },
     "execution_count": 40,
     "metadata": {},
     "output_type": "execute_result"
    }
   ],
   "source": [
    "rf_pred=rf.predict(x_test)\n",
    "rfs=r2_score(y_test,rf_pred)\n",
    "rfs"
   ]
  },
  {
   "cell_type": "markdown",
   "id": "5c3b944e",
   "metadata": {},
   "source": [
    "So the best accuracy is given by Random Forest Regressor as 85.68% so we choose it our final model"
   ]
  },
  {
   "cell_type": "markdown",
   "id": "0c06885e",
   "metadata": {},
   "source": [
    "### Saving the model"
   ]
  },
  {
   "cell_type": "code",
   "execution_count": 41,
   "id": "dc22a6aa",
   "metadata": {},
   "outputs": [],
   "source": [
    "import pickle\n",
    "filename='Flightprediction.pkl'\n",
    "pickle.dump(rf,open(filename,'wb'))"
   ]
  },
  {
   "cell_type": "code",
   "execution_count": null,
   "id": "1cb994c6",
   "metadata": {},
   "outputs": [],
   "source": []
  }
 ],
 "metadata": {
  "kernelspec": {
   "display_name": "Python 3",
   "language": "python",
   "name": "python3"
  },
  "language_info": {
   "codemirror_mode": {
    "name": "ipython",
    "version": 3
   },
   "file_extension": ".py",
   "mimetype": "text/x-python",
   "name": "python",
   "nbconvert_exporter": "python",
   "pygments_lexer": "ipython3",
   "version": "3.8.8"
  }
 },
 "nbformat": 4,
 "nbformat_minor": 5
}
