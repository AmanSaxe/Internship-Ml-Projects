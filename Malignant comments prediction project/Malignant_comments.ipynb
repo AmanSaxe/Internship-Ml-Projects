{
 "cells": [
  {
   "cell_type": "code",
   "execution_count": 1,
   "id": "afa50971",
   "metadata": {},
   "outputs": [],
   "source": [
    "import numpy as np\n",
    "import pandas as pd\n",
    "import seaborn as sns\n",
    "import matplotlib.pyplot as plt\n",
    "import warnings\n",
    "warnings.filterwarnings('ignore')"
   ]
  },
  {
   "cell_type": "code",
   "execution_count": 2,
   "id": "7bb23582",
   "metadata": {},
   "outputs": [
    {
     "data": {
      "text/html": [
       "<div>\n",
       "<style scoped>\n",
       "    .dataframe tbody tr th:only-of-type {\n",
       "        vertical-align: middle;\n",
       "    }\n",
       "\n",
       "    .dataframe tbody tr th {\n",
       "        vertical-align: top;\n",
       "    }\n",
       "\n",
       "    .dataframe thead th {\n",
       "        text-align: right;\n",
       "    }\n",
       "</style>\n",
       "<table border=\"1\" class=\"dataframe\">\n",
       "  <thead>\n",
       "    <tr style=\"text-align: right;\">\n",
       "      <th></th>\n",
       "      <th>id</th>\n",
       "      <th>comment_text</th>\n",
       "      <th>malignant</th>\n",
       "      <th>highly_malignant</th>\n",
       "      <th>rude</th>\n",
       "      <th>threat</th>\n",
       "      <th>abuse</th>\n",
       "      <th>loathe</th>\n",
       "    </tr>\n",
       "  </thead>\n",
       "  <tbody>\n",
       "    <tr>\n",
       "      <th>0</th>\n",
       "      <td>0000997932d777bf</td>\n",
       "      <td>Explanation\\nWhy the edits made under my usern...</td>\n",
       "      <td>0</td>\n",
       "      <td>0</td>\n",
       "      <td>0</td>\n",
       "      <td>0</td>\n",
       "      <td>0</td>\n",
       "      <td>0</td>\n",
       "    </tr>\n",
       "    <tr>\n",
       "      <th>1</th>\n",
       "      <td>000103f0d9cfb60f</td>\n",
       "      <td>D'aww! He matches this background colour I'm s...</td>\n",
       "      <td>0</td>\n",
       "      <td>0</td>\n",
       "      <td>0</td>\n",
       "      <td>0</td>\n",
       "      <td>0</td>\n",
       "      <td>0</td>\n",
       "    </tr>\n",
       "    <tr>\n",
       "      <th>2</th>\n",
       "      <td>000113f07ec002fd</td>\n",
       "      <td>Hey man, I'm really not trying to edit war. It...</td>\n",
       "      <td>0</td>\n",
       "      <td>0</td>\n",
       "      <td>0</td>\n",
       "      <td>0</td>\n",
       "      <td>0</td>\n",
       "      <td>0</td>\n",
       "    </tr>\n",
       "    <tr>\n",
       "      <th>3</th>\n",
       "      <td>0001b41b1c6bb37e</td>\n",
       "      <td>\"\\nMore\\nI can't make any real suggestions on ...</td>\n",
       "      <td>0</td>\n",
       "      <td>0</td>\n",
       "      <td>0</td>\n",
       "      <td>0</td>\n",
       "      <td>0</td>\n",
       "      <td>0</td>\n",
       "    </tr>\n",
       "    <tr>\n",
       "      <th>4</th>\n",
       "      <td>0001d958c54c6e35</td>\n",
       "      <td>You, sir, are my hero. Any chance you remember...</td>\n",
       "      <td>0</td>\n",
       "      <td>0</td>\n",
       "      <td>0</td>\n",
       "      <td>0</td>\n",
       "      <td>0</td>\n",
       "      <td>0</td>\n",
       "    </tr>\n",
       "    <tr>\n",
       "      <th>...</th>\n",
       "      <td>...</td>\n",
       "      <td>...</td>\n",
       "      <td>...</td>\n",
       "      <td>...</td>\n",
       "      <td>...</td>\n",
       "      <td>...</td>\n",
       "      <td>...</td>\n",
       "      <td>...</td>\n",
       "    </tr>\n",
       "    <tr>\n",
       "      <th>159566</th>\n",
       "      <td>ffe987279560d7ff</td>\n",
       "      <td>\":::::And for the second time of asking, when ...</td>\n",
       "      <td>0</td>\n",
       "      <td>0</td>\n",
       "      <td>0</td>\n",
       "      <td>0</td>\n",
       "      <td>0</td>\n",
       "      <td>0</td>\n",
       "    </tr>\n",
       "    <tr>\n",
       "      <th>159567</th>\n",
       "      <td>ffea4adeee384e90</td>\n",
       "      <td>You should be ashamed of yourself \\n\\nThat is ...</td>\n",
       "      <td>0</td>\n",
       "      <td>0</td>\n",
       "      <td>0</td>\n",
       "      <td>0</td>\n",
       "      <td>0</td>\n",
       "      <td>0</td>\n",
       "    </tr>\n",
       "    <tr>\n",
       "      <th>159568</th>\n",
       "      <td>ffee36eab5c267c9</td>\n",
       "      <td>Spitzer \\n\\nUmm, theres no actual article for ...</td>\n",
       "      <td>0</td>\n",
       "      <td>0</td>\n",
       "      <td>0</td>\n",
       "      <td>0</td>\n",
       "      <td>0</td>\n",
       "      <td>0</td>\n",
       "    </tr>\n",
       "    <tr>\n",
       "      <th>159569</th>\n",
       "      <td>fff125370e4aaaf3</td>\n",
       "      <td>And it looks like it was actually you who put ...</td>\n",
       "      <td>0</td>\n",
       "      <td>0</td>\n",
       "      <td>0</td>\n",
       "      <td>0</td>\n",
       "      <td>0</td>\n",
       "      <td>0</td>\n",
       "    </tr>\n",
       "    <tr>\n",
       "      <th>159570</th>\n",
       "      <td>fff46fc426af1f9a</td>\n",
       "      <td>\"\\nAnd ... I really don't think you understand...</td>\n",
       "      <td>0</td>\n",
       "      <td>0</td>\n",
       "      <td>0</td>\n",
       "      <td>0</td>\n",
       "      <td>0</td>\n",
       "      <td>0</td>\n",
       "    </tr>\n",
       "  </tbody>\n",
       "</table>\n",
       "<p>159571 rows × 8 columns</p>\n",
       "</div>"
      ],
      "text/plain": [
       "                      id                                       comment_text  \\\n",
       "0       0000997932d777bf  Explanation\\nWhy the edits made under my usern...   \n",
       "1       000103f0d9cfb60f  D'aww! He matches this background colour I'm s...   \n",
       "2       000113f07ec002fd  Hey man, I'm really not trying to edit war. It...   \n",
       "3       0001b41b1c6bb37e  \"\\nMore\\nI can't make any real suggestions on ...   \n",
       "4       0001d958c54c6e35  You, sir, are my hero. Any chance you remember...   \n",
       "...                  ...                                                ...   \n",
       "159566  ffe987279560d7ff  \":::::And for the second time of asking, when ...   \n",
       "159567  ffea4adeee384e90  You should be ashamed of yourself \\n\\nThat is ...   \n",
       "159568  ffee36eab5c267c9  Spitzer \\n\\nUmm, theres no actual article for ...   \n",
       "159569  fff125370e4aaaf3  And it looks like it was actually you who put ...   \n",
       "159570  fff46fc426af1f9a  \"\\nAnd ... I really don't think you understand...   \n",
       "\n",
       "        malignant  highly_malignant  rude  threat  abuse  loathe  \n",
       "0               0                 0     0       0      0       0  \n",
       "1               0                 0     0       0      0       0  \n",
       "2               0                 0     0       0      0       0  \n",
       "3               0                 0     0       0      0       0  \n",
       "4               0                 0     0       0      0       0  \n",
       "...           ...               ...   ...     ...    ...     ...  \n",
       "159566          0                 0     0       0      0       0  \n",
       "159567          0                 0     0       0      0       0  \n",
       "159568          0                 0     0       0      0       0  \n",
       "159569          0                 0     0       0      0       0  \n",
       "159570          0                 0     0       0      0       0  \n",
       "\n",
       "[159571 rows x 8 columns]"
      ]
     },
     "execution_count": 2,
     "metadata": {},
     "output_type": "execute_result"
    }
   ],
   "source": [
    "train_data=pd.read_csv('Mtrain.csv')\n",
    "train_data"
   ]
  },
  {
   "cell_type": "code",
   "execution_count": 3,
   "id": "f2bce70a",
   "metadata": {},
   "outputs": [
    {
     "data": {
      "text/html": [
       "<div>\n",
       "<style scoped>\n",
       "    .dataframe tbody tr th:only-of-type {\n",
       "        vertical-align: middle;\n",
       "    }\n",
       "\n",
       "    .dataframe tbody tr th {\n",
       "        vertical-align: top;\n",
       "    }\n",
       "\n",
       "    .dataframe thead th {\n",
       "        text-align: right;\n",
       "    }\n",
       "</style>\n",
       "<table border=\"1\" class=\"dataframe\">\n",
       "  <thead>\n",
       "    <tr style=\"text-align: right;\">\n",
       "      <th></th>\n",
       "      <th>id</th>\n",
       "      <th>comment_text</th>\n",
       "    </tr>\n",
       "  </thead>\n",
       "  <tbody>\n",
       "    <tr>\n",
       "      <th>0</th>\n",
       "      <td>00001cee341fdb12</td>\n",
       "      <td>Yo bitch Ja Rule is more succesful then you'll...</td>\n",
       "    </tr>\n",
       "    <tr>\n",
       "      <th>1</th>\n",
       "      <td>0000247867823ef7</td>\n",
       "      <td>== From RfC == \\n\\n The title is fine as it is...</td>\n",
       "    </tr>\n",
       "    <tr>\n",
       "      <th>2</th>\n",
       "      <td>00013b17ad220c46</td>\n",
       "      <td>\" \\n\\n == Sources == \\n\\n * Zawe Ashton on Lap...</td>\n",
       "    </tr>\n",
       "    <tr>\n",
       "      <th>3</th>\n",
       "      <td>00017563c3f7919a</td>\n",
       "      <td>:If you have a look back at the source, the in...</td>\n",
       "    </tr>\n",
       "    <tr>\n",
       "      <th>4</th>\n",
       "      <td>00017695ad8997eb</td>\n",
       "      <td>I don't anonymously edit articles at all.</td>\n",
       "    </tr>\n",
       "    <tr>\n",
       "      <th>...</th>\n",
       "      <td>...</td>\n",
       "      <td>...</td>\n",
       "    </tr>\n",
       "    <tr>\n",
       "      <th>153159</th>\n",
       "      <td>fffcd0960ee309b5</td>\n",
       "      <td>. \\n i totally agree, this stuff is nothing bu...</td>\n",
       "    </tr>\n",
       "    <tr>\n",
       "      <th>153160</th>\n",
       "      <td>fffd7a9a6eb32c16</td>\n",
       "      <td>== Throw from out field to home plate. == \\n\\n...</td>\n",
       "    </tr>\n",
       "    <tr>\n",
       "      <th>153161</th>\n",
       "      <td>fffda9e8d6fafa9e</td>\n",
       "      <td>\" \\n\\n == Okinotorishima categories == \\n\\n I ...</td>\n",
       "    </tr>\n",
       "    <tr>\n",
       "      <th>153162</th>\n",
       "      <td>fffe8f1340a79fc2</td>\n",
       "      <td>\" \\n\\n == \"\"One of the founding nations of the...</td>\n",
       "    </tr>\n",
       "    <tr>\n",
       "      <th>153163</th>\n",
       "      <td>ffffce3fb183ee80</td>\n",
       "      <td>\" \\n :::Stop already. Your bullshit is not wel...</td>\n",
       "    </tr>\n",
       "  </tbody>\n",
       "</table>\n",
       "<p>153164 rows × 2 columns</p>\n",
       "</div>"
      ],
      "text/plain": [
       "                      id                                       comment_text\n",
       "0       00001cee341fdb12  Yo bitch Ja Rule is more succesful then you'll...\n",
       "1       0000247867823ef7  == From RfC == \\n\\n The title is fine as it is...\n",
       "2       00013b17ad220c46  \" \\n\\n == Sources == \\n\\n * Zawe Ashton on Lap...\n",
       "3       00017563c3f7919a  :If you have a look back at the source, the in...\n",
       "4       00017695ad8997eb          I don't anonymously edit articles at all.\n",
       "...                  ...                                                ...\n",
       "153159  fffcd0960ee309b5  . \\n i totally agree, this stuff is nothing bu...\n",
       "153160  fffd7a9a6eb32c16  == Throw from out field to home plate. == \\n\\n...\n",
       "153161  fffda9e8d6fafa9e  \" \\n\\n == Okinotorishima categories == \\n\\n I ...\n",
       "153162  fffe8f1340a79fc2  \" \\n\\n == \"\"One of the founding nations of the...\n",
       "153163  ffffce3fb183ee80  \" \\n :::Stop already. Your bullshit is not wel...\n",
       "\n",
       "[153164 rows x 2 columns]"
      ]
     },
     "execution_count": 3,
     "metadata": {},
     "output_type": "execute_result"
    }
   ],
   "source": [
    "test_data=pd.read_csv('Mtest.csv')\n",
    "test_data"
   ]
  },
  {
   "cell_type": "markdown",
   "id": "830a16cb",
   "metadata": {},
   "source": [
    "### Checking shape of datasets"
   ]
  },
  {
   "cell_type": "code",
   "execution_count": 4,
   "id": "986acb3b",
   "metadata": {},
   "outputs": [
    {
     "data": {
      "text/plain": [
       "(159571, 8)"
      ]
     },
     "execution_count": 4,
     "metadata": {},
     "output_type": "execute_result"
    }
   ],
   "source": [
    "train_data.shape"
   ]
  },
  {
   "cell_type": "code",
   "execution_count": 5,
   "id": "9f311306",
   "metadata": {},
   "outputs": [
    {
     "data": {
      "text/plain": [
       "(153164, 2)"
      ]
     },
     "execution_count": 5,
     "metadata": {},
     "output_type": "execute_result"
    }
   ],
   "source": [
    "test_data.shape"
   ]
  },
  {
   "cell_type": "markdown",
   "id": "ffdb9965",
   "metadata": {},
   "source": [
    "### Describing the datasets"
   ]
  },
  {
   "cell_type": "code",
   "execution_count": 6,
   "id": "03c6d509",
   "metadata": {},
   "outputs": [
    {
     "data": {
      "text/html": [
       "<div>\n",
       "<style scoped>\n",
       "    .dataframe tbody tr th:only-of-type {\n",
       "        vertical-align: middle;\n",
       "    }\n",
       "\n",
       "    .dataframe tbody tr th {\n",
       "        vertical-align: top;\n",
       "    }\n",
       "\n",
       "    .dataframe thead th {\n",
       "        text-align: right;\n",
       "    }\n",
       "</style>\n",
       "<table border=\"1\" class=\"dataframe\">\n",
       "  <thead>\n",
       "    <tr style=\"text-align: right;\">\n",
       "      <th></th>\n",
       "      <th>malignant</th>\n",
       "      <th>highly_malignant</th>\n",
       "      <th>rude</th>\n",
       "      <th>threat</th>\n",
       "      <th>abuse</th>\n",
       "      <th>loathe</th>\n",
       "    </tr>\n",
       "  </thead>\n",
       "  <tbody>\n",
       "    <tr>\n",
       "      <th>count</th>\n",
       "      <td>159571.000000</td>\n",
       "      <td>159571.000000</td>\n",
       "      <td>159571.000000</td>\n",
       "      <td>159571.000000</td>\n",
       "      <td>159571.000000</td>\n",
       "      <td>159571.000000</td>\n",
       "    </tr>\n",
       "    <tr>\n",
       "      <th>mean</th>\n",
       "      <td>0.095844</td>\n",
       "      <td>0.009996</td>\n",
       "      <td>0.052948</td>\n",
       "      <td>0.002996</td>\n",
       "      <td>0.049364</td>\n",
       "      <td>0.008805</td>\n",
       "    </tr>\n",
       "    <tr>\n",
       "      <th>std</th>\n",
       "      <td>0.294379</td>\n",
       "      <td>0.099477</td>\n",
       "      <td>0.223931</td>\n",
       "      <td>0.054650</td>\n",
       "      <td>0.216627</td>\n",
       "      <td>0.093420</td>\n",
       "    </tr>\n",
       "    <tr>\n",
       "      <th>min</th>\n",
       "      <td>0.000000</td>\n",
       "      <td>0.000000</td>\n",
       "      <td>0.000000</td>\n",
       "      <td>0.000000</td>\n",
       "      <td>0.000000</td>\n",
       "      <td>0.000000</td>\n",
       "    </tr>\n",
       "    <tr>\n",
       "      <th>25%</th>\n",
       "      <td>0.000000</td>\n",
       "      <td>0.000000</td>\n",
       "      <td>0.000000</td>\n",
       "      <td>0.000000</td>\n",
       "      <td>0.000000</td>\n",
       "      <td>0.000000</td>\n",
       "    </tr>\n",
       "    <tr>\n",
       "      <th>50%</th>\n",
       "      <td>0.000000</td>\n",
       "      <td>0.000000</td>\n",
       "      <td>0.000000</td>\n",
       "      <td>0.000000</td>\n",
       "      <td>0.000000</td>\n",
       "      <td>0.000000</td>\n",
       "    </tr>\n",
       "    <tr>\n",
       "      <th>75%</th>\n",
       "      <td>0.000000</td>\n",
       "      <td>0.000000</td>\n",
       "      <td>0.000000</td>\n",
       "      <td>0.000000</td>\n",
       "      <td>0.000000</td>\n",
       "      <td>0.000000</td>\n",
       "    </tr>\n",
       "    <tr>\n",
       "      <th>max</th>\n",
       "      <td>1.000000</td>\n",
       "      <td>1.000000</td>\n",
       "      <td>1.000000</td>\n",
       "      <td>1.000000</td>\n",
       "      <td>1.000000</td>\n",
       "      <td>1.000000</td>\n",
       "    </tr>\n",
       "  </tbody>\n",
       "</table>\n",
       "</div>"
      ],
      "text/plain": [
       "           malignant  highly_malignant           rude         threat  \\\n",
       "count  159571.000000     159571.000000  159571.000000  159571.000000   \n",
       "mean        0.095844          0.009996       0.052948       0.002996   \n",
       "std         0.294379          0.099477       0.223931       0.054650   \n",
       "min         0.000000          0.000000       0.000000       0.000000   \n",
       "25%         0.000000          0.000000       0.000000       0.000000   \n",
       "50%         0.000000          0.000000       0.000000       0.000000   \n",
       "75%         0.000000          0.000000       0.000000       0.000000   \n",
       "max         1.000000          1.000000       1.000000       1.000000   \n",
       "\n",
       "               abuse         loathe  \n",
       "count  159571.000000  159571.000000  \n",
       "mean        0.049364       0.008805  \n",
       "std         0.216627       0.093420  \n",
       "min         0.000000       0.000000  \n",
       "25%         0.000000       0.000000  \n",
       "50%         0.000000       0.000000  \n",
       "75%         0.000000       0.000000  \n",
       "max         1.000000       1.000000  "
      ]
     },
     "execution_count": 6,
     "metadata": {},
     "output_type": "execute_result"
    }
   ],
   "source": [
    "train_data.describe()"
   ]
  },
  {
   "cell_type": "code",
   "execution_count": 7,
   "id": "a38e19c0",
   "metadata": {},
   "outputs": [
    {
     "data": {
      "text/html": [
       "<div>\n",
       "<style scoped>\n",
       "    .dataframe tbody tr th:only-of-type {\n",
       "        vertical-align: middle;\n",
       "    }\n",
       "\n",
       "    .dataframe tbody tr th {\n",
       "        vertical-align: top;\n",
       "    }\n",
       "\n",
       "    .dataframe thead th {\n",
       "        text-align: right;\n",
       "    }\n",
       "</style>\n",
       "<table border=\"1\" class=\"dataframe\">\n",
       "  <thead>\n",
       "    <tr style=\"text-align: right;\">\n",
       "      <th></th>\n",
       "      <th>id</th>\n",
       "      <th>comment_text</th>\n",
       "    </tr>\n",
       "  </thead>\n",
       "  <tbody>\n",
       "    <tr>\n",
       "      <th>count</th>\n",
       "      <td>153164</td>\n",
       "      <td>153164</td>\n",
       "    </tr>\n",
       "    <tr>\n",
       "      <th>unique</th>\n",
       "      <td>153164</td>\n",
       "      <td>153164</td>\n",
       "    </tr>\n",
       "    <tr>\n",
       "      <th>top</th>\n",
       "      <td>9d5ed47fe6151fd5</td>\n",
       "      <td>:Shit, now Variety is saying 42.    21:14 7 Ja...</td>\n",
       "    </tr>\n",
       "    <tr>\n",
       "      <th>freq</th>\n",
       "      <td>1</td>\n",
       "      <td>1</td>\n",
       "    </tr>\n",
       "  </tbody>\n",
       "</table>\n",
       "</div>"
      ],
      "text/plain": [
       "                      id                                       comment_text\n",
       "count             153164                                             153164\n",
       "unique            153164                                             153164\n",
       "top     9d5ed47fe6151fd5  :Shit, now Variety is saying 42.    21:14 7 Ja...\n",
       "freq                   1                                                  1"
      ]
     },
     "execution_count": 7,
     "metadata": {},
     "output_type": "execute_result"
    }
   ],
   "source": [
    "test_data.describe()"
   ]
  },
  {
   "cell_type": "markdown",
   "id": "526551ba",
   "metadata": {},
   "source": [
    "### Checking null values in datasets"
   ]
  },
  {
   "cell_type": "code",
   "execution_count": 8,
   "id": "fd25751f",
   "metadata": {},
   "outputs": [
    {
     "data": {
      "text/plain": [
       "id                  0\n",
       "comment_text        0\n",
       "malignant           0\n",
       "highly_malignant    0\n",
       "rude                0\n",
       "threat              0\n",
       "abuse               0\n",
       "loathe              0\n",
       "dtype: int64"
      ]
     },
     "execution_count": 8,
     "metadata": {},
     "output_type": "execute_result"
    }
   ],
   "source": [
    "train_data.isnull().sum()"
   ]
  },
  {
   "cell_type": "code",
   "execution_count": 9,
   "id": "b6db9d5b",
   "metadata": {},
   "outputs": [
    {
     "data": {
      "text/plain": [
       "id              0\n",
       "comment_text    0\n",
       "dtype: int64"
      ]
     },
     "execution_count": 9,
     "metadata": {},
     "output_type": "execute_result"
    }
   ],
   "source": [
    "test_data.isnull().sum()"
   ]
  },
  {
   "cell_type": "markdown",
   "id": "68347e9b",
   "metadata": {},
   "source": [
    "### Visualization of training data"
   ]
  },
  {
   "cell_type": "code",
   "execution_count": 10,
   "id": "7f910640",
   "metadata": {},
   "outputs": [
    {
     "name": "stdout",
     "output_type": "stream",
     "text": [
      "0    144277\n",
      "1     15294\n",
      "Name: malignant, dtype: int64\n"
     ]
    },
    {
     "data": {
      "image/png": "[encoded data removed]",
      "text/plain": [
       "<Figure size 432x288 with 1 Axes>"
      ]
     },
     "metadata": {
      "needs_background": "light"
     },
     "output_type": "display_data"
    }
   ],
   "source": [
    "ax=sns.countplot(x='malignant',data=train_data)\n",
    "print(train_data['malignant'].value_counts())"
   ]
  },
  {
   "cell_type": "code",
   "execution_count": 11,
   "id": "9e452be7",
   "metadata": {},
   "outputs": [
    {
     "name": "stdout",
     "output_type": "stream",
     "text": [
      "0    157976\n",
      "1      1595\n",
      "Name: highly_malignant, dtype: int64\n"
     ]
    },
    {
     "data": {
      "image/png": "[encoded data removed]",
      "text/plain": [
       "<Figure size 432x288 with 1 Axes>"
      ]
     },
     "metadata": {
      "needs_background": "light"
     },
     "output_type": "display_data"
    }
   ],
   "source": [
    "ax=sns.countplot(x='highly_malignant',data=train_data)\n",
    "print(train_data['highly_malignant'].value_counts())"
   ]
  },
  {
   "cell_type": "code",
   "execution_count": 12,
   "id": "fd0b651f",
   "metadata": {},
   "outputs": [
    {
     "name": "stdout",
     "output_type": "stream",
     "text": [
      "0    158166\n",
      "1      1405\n",
      "Name: loathe, dtype: int64\n"
     ]
    },
    {
     "data": {
      "image/png": "[encoded data removed]",
      "text/plain": [
       "<Figure size 432x288 with 1 Axes>"
      ]
     },
     "metadata": {
      "needs_background": "light"
     },
     "output_type": "display_data"
    }
   ],
   "source": [
    "ax=sns.countplot(x='loathe',data=train_data)\n",
    "print(train_data['loathe'].value_counts())"
   ]
  },
  {
   "cell_type": "code",
   "execution_count": 13,
   "id": "ddcada50",
   "metadata": {},
   "outputs": [
    {
     "name": "stdout",
     "output_type": "stream",
     "text": [
      "0    151122\n",
      "1      8449\n",
      "Name: rude, dtype: int64\n"
     ]
    },
    {
     "data": {
      "image/png": "[encoded data removed]",
      "text/plain": [
       "<Figure size 432x288 with 1 Axes>"
      ]
     },
     "metadata": {
      "needs_background": "light"
     },
     "output_type": "display_data"
    }
   ],
   "source": [
    "ax=sns.countplot(x='rude',data=train_data)\n",
    "print(train_data['rude'].value_counts())"
   ]
  },
  {
   "cell_type": "code",
   "execution_count": 14,
   "id": "acabf8b8",
   "metadata": {},
   "outputs": [
    {
     "name": "stdout",
     "output_type": "stream",
     "text": [
      "0    151694\n",
      "1      7877\n",
      "Name: abuse, dtype: int64\n"
     ]
    },
    {
     "data": {
      "image/png": "[encoded data removed]",
      "text/plain": [
       "<Figure size 432x288 with 1 Axes>"
      ]
     },
     "metadata": {
      "needs_background": "light"
     },
     "output_type": "display_data"
    }
   ],
   "source": [
    "ax=sns.countplot(x='abuse',data=train_data)\n",
    "print(train_data['abuse'].value_counts())"
   ]
  },
  {
   "cell_type": "code",
   "execution_count": 15,
   "id": "b71f2580",
   "metadata": {},
   "outputs": [
    {
     "name": "stdout",
     "output_type": "stream",
     "text": [
      "0    159093\n",
      "1       478\n",
      "Name: threat, dtype: int64\n"
     ]
    },
    {
     "data": {
      "image/png": "[encoded data removed]",
      "text/plain": [
       "<Figure size 432x288 with 1 Axes>"
      ]
     },
     "metadata": {
      "needs_background": "light"
     },
     "output_type": "display_data"
    }
   ],
   "source": [
    "ax=sns.countplot(x='threat',data=train_data)\n",
    "print(train_data['threat'].value_counts())"
   ]
  },
  {
   "cell_type": "markdown",
   "id": "f505a90a",
   "metadata": {},
   "source": [
    "### Cleaning of training data"
   ]
  },
  {
   "cell_type": "code",
   "execution_count": 16,
   "id": "4e39126a",
   "metadata": {},
   "outputs": [],
   "source": [
    "from nltk.stem import WordNetLemmatizer\n",
    "import nltk\n",
    "from nltk.corpus import  stopwords\n",
    "import string"
   ]
  },
  {
   "cell_type": "markdown",
   "id": "074eef86",
   "metadata": {},
   "source": [
    "### Creating column for length of comment"
   ]
  },
  {
   "cell_type": "code",
   "execution_count": 17,
   "id": "81f5107e",
   "metadata": {},
   "outputs": [],
   "source": [
    "train_data['Length']=train_data.comment_text.str.len()"
   ]
  },
  {
   "cell_type": "code",
   "execution_count": 18,
   "id": "9be723a7",
   "metadata": {},
   "outputs": [
    {
     "data": {
      "text/html": [
       "<div>\n",
       "<style scoped>\n",
       "    .dataframe tbody tr th:only-of-type {\n",
       "        vertical-align: middle;\n",
       "    }\n",
       "\n",
       "    .dataframe tbody tr th {\n",
       "        vertical-align: top;\n",
       "    }\n",
       "\n",
       "    .dataframe thead th {\n",
       "        text-align: right;\n",
       "    }\n",
       "</style>\n",
       "<table border=\"1\" class=\"dataframe\">\n",
       "  <thead>\n",
       "    <tr style=\"text-align: right;\">\n",
       "      <th></th>\n",
       "      <th>id</th>\n",
       "      <th>comment_text</th>\n",
       "      <th>malignant</th>\n",
       "      <th>highly_malignant</th>\n",
       "      <th>rude</th>\n",
       "      <th>threat</th>\n",
       "      <th>abuse</th>\n",
       "      <th>loathe</th>\n",
       "      <th>Length</th>\n",
       "    </tr>\n",
       "  </thead>\n",
       "  <tbody>\n",
       "    <tr>\n",
       "      <th>0</th>\n",
       "      <td>0000997932d777bf</td>\n",
       "      <td>Explanation\\nWhy the edits made under my usern...</td>\n",
       "      <td>0</td>\n",
       "      <td>0</td>\n",
       "      <td>0</td>\n",
       "      <td>0</td>\n",
       "      <td>0</td>\n",
       "      <td>0</td>\n",
       "      <td>264</td>\n",
       "    </tr>\n",
       "    <tr>\n",
       "      <th>1</th>\n",
       "      <td>000103f0d9cfb60f</td>\n",
       "      <td>D'aww! He matches this background colour I'm s...</td>\n",
       "      <td>0</td>\n",
       "      <td>0</td>\n",
       "      <td>0</td>\n",
       "      <td>0</td>\n",
       "      <td>0</td>\n",
       "      <td>0</td>\n",
       "      <td>112</td>\n",
       "    </tr>\n",
       "    <tr>\n",
       "      <th>2</th>\n",
       "      <td>000113f07ec002fd</td>\n",
       "      <td>Hey man, I'm really not trying to edit war. It...</td>\n",
       "      <td>0</td>\n",
       "      <td>0</td>\n",
       "      <td>0</td>\n",
       "      <td>0</td>\n",
       "      <td>0</td>\n",
       "      <td>0</td>\n",
       "      <td>233</td>\n",
       "    </tr>\n",
       "    <tr>\n",
       "      <th>3</th>\n",
       "      <td>0001b41b1c6bb37e</td>\n",
       "      <td>\"\\nMore\\nI can't make any real suggestions on ...</td>\n",
       "      <td>0</td>\n",
       "      <td>0</td>\n",
       "      <td>0</td>\n",
       "      <td>0</td>\n",
       "      <td>0</td>\n",
       "      <td>0</td>\n",
       "      <td>622</td>\n",
       "    </tr>\n",
       "    <tr>\n",
       "      <th>4</th>\n",
       "      <td>0001d958c54c6e35</td>\n",
       "      <td>You, sir, are my hero. Any chance you remember...</td>\n",
       "      <td>0</td>\n",
       "      <td>0</td>\n",
       "      <td>0</td>\n",
       "      <td>0</td>\n",
       "      <td>0</td>\n",
       "      <td>0</td>\n",
       "      <td>67</td>\n",
       "    </tr>\n",
       "  </tbody>\n",
       "</table>\n",
       "</div>"
      ],
      "text/plain": [
       "                 id                                       comment_text  \\\n",
       "0  0000997932d777bf  Explanation\\nWhy the edits made under my usern...   \n",
       "1  000103f0d9cfb60f  D'aww! He matches this background colour I'm s...   \n",
       "2  000113f07ec002fd  Hey man, I'm really not trying to edit war. It...   \n",
       "3  0001b41b1c6bb37e  \"\\nMore\\nI can't make any real suggestions on ...   \n",
       "4  0001d958c54c6e35  You, sir, are my hero. Any chance you remember...   \n",
       "\n",
       "   malignant  highly_malignant  rude  threat  abuse  loathe  Length  \n",
       "0          0                 0     0       0      0       0     264  \n",
       "1          0                 0     0       0      0       0     112  \n",
       "2          0                 0     0       0      0       0     233  \n",
       "3          0                 0     0       0      0       0     622  \n",
       "4          0                 0     0       0      0       0      67  "
      ]
     },
     "execution_count": 18,
     "metadata": {},
     "output_type": "execute_result"
    }
   ],
   "source": [
    "train_data.head(5)"
   ]
  },
  {
   "cell_type": "markdown",
   "id": "ebaacb4c",
   "metadata": {},
   "source": [
    "### Regular expressions for cleaning the comments"
   ]
  },
  {
   "cell_type": "code",
   "execution_count": 19,
   "id": "89282de0",
   "metadata": {},
   "outputs": [],
   "source": [
    "# convert all messages to lower case\n",
    "train_data['comment_text'] = train_data['comment_text'].str.lower()"
   ]
  },
  {
   "cell_type": "code",
   "execution_count": 20,
   "id": "f16cce8e",
   "metadata": {},
   "outputs": [],
   "source": [
    "# Replace emailaddresses with 'emailaddress'\n",
    "train_data['comment_text'] = train_data['comment_text'].str.replace(r'^.+@[^\\.].*\\.[a-z]{2,}$','emailaddress')"
   ]
  },
  {
   "cell_type": "code",
   "execution_count": 21,
   "id": "b637847a",
   "metadata": {},
   "outputs": [],
   "source": [
    "# Replace Urls with 'webaddress'\n",
    "train_data['comment_text'] = train_data['comment_text'].str.replace(r'^http\\://[a-zA-Z0-9\\-\\.]+\\.[a-zA-Z]{2,3}(/\\S*)?$','webaddress')"
   ]
  },
  {
   "cell_type": "code",
   "execution_count": 22,
   "id": "b1d0a8eb",
   "metadata": {},
   "outputs": [],
   "source": [
    "# Replace money symbols with 'moneysymbols' \n",
    "train_data['comment_text'] = train_data['comment_text'].str.replace(r'£|\\$', 'dollers')"
   ]
  },
  {
   "cell_type": "code",
   "execution_count": 23,
   "id": "21dc83e6",
   "metadata": {},
   "outputs": [],
   "source": [
    "# Replace 10 digit phone numbers \n",
    "train_data['comment_text'] = train_data['comment_text'].str.replace(r'^\\(?[\\d]{3}\\)?[\\s-]?[\\d]{3}[\\s-]?[\\d]{4}$','phonenumber')"
   ]
  },
  {
   "cell_type": "code",
   "execution_count": 24,
   "id": "56d384aa",
   "metadata": {},
   "outputs": [],
   "source": [
    "# Replace numbers with 'number'\n",
    "train_data['comment_text'] = train_data['comment_text'].str.replace(r'\\d+(\\.\\d+)?', 'number')"
   ]
  },
  {
   "cell_type": "code",
   "execution_count": 25,
   "id": "a1932278",
   "metadata": {},
   "outputs": [],
   "source": [
    "# Remove Punctuatuations\n",
    "train_data['comment_text'] = train_data['comment_text'].apply(lambda x: ' '.join(term for term in x.split() if term not in string.punctuation))"
   ]
  },
  {
   "cell_type": "code",
   "execution_count": 26,
   "id": "8248f4cd",
   "metadata": {},
   "outputs": [],
   "source": [
    "train_data['comment_text']=train_data['comment_text'].str.replace(r'[^\\w\\d\\s]','')"
   ]
  },
  {
   "cell_type": "code",
   "execution_count": 27,
   "id": "2ee0d8e9",
   "metadata": {},
   "outputs": [],
   "source": [
    "# Remove White space between terms with single space\n",
    "train_data['comment_text']=train_data['comment_text'].str.replace(r'\\s+',' ')"
   ]
  },
  {
   "cell_type": "code",
   "execution_count": 28,
   "id": "d01aaad7",
   "metadata": {},
   "outputs": [],
   "source": [
    "# Remove leading and trailing white space\n",
    "train_data['comment_text']=train_data['comment_text'].str.replace(r'^\\s+|\\s+?$','')"
   ]
  },
  {
   "cell_type": "code",
   "execution_count": 29,
   "id": "7b6893b6",
   "metadata": {},
   "outputs": [],
   "source": [
    "# Remove Stopwords\n",
    "stop_words = set(stopwords.words('english') + ['u', 'ü', 'ur', '4', '2', 'im', 'dont', 'doin', 'ure'])\n",
    "train_data['comment_text'] = train_data['comment_text'].apply(lambda x: ' '.join(term for term in x.split() if term not in stop_words))"
   ]
  },
  {
   "cell_type": "code",
   "execution_count": 30,
   "id": "119368e8",
   "metadata": {},
   "outputs": [],
   "source": [
    "# Lematization\n",
    "lemma=WordNetLemmatizer()\n",
    "train_data['comment_text'] = train_data['comment_text'].apply(lambda x: ' '.join(lemma.lemmatize(word) for word in x.split()))"
   ]
  },
  {
   "cell_type": "markdown",
   "id": "028ee0f6",
   "metadata": {},
   "source": [
    "### New column (clean_length) after punctuations and stopwords removal"
   ]
  },
  {
   "cell_type": "code",
   "execution_count": 31,
   "id": "178b267a",
   "metadata": {},
   "outputs": [
    {
     "data": {
      "text/html": [
       "<div>\n",
       "<style scoped>\n",
       "    .dataframe tbody tr th:only-of-type {\n",
       "        vertical-align: middle;\n",
       "    }\n",
       "\n",
       "    .dataframe tbody tr th {\n",
       "        vertical-align: top;\n",
       "    }\n",
       "\n",
       "    .dataframe thead th {\n",
       "        text-align: right;\n",
       "    }\n",
       "</style>\n",
       "<table border=\"1\" class=\"dataframe\">\n",
       "  <thead>\n",
       "    <tr style=\"text-align: right;\">\n",
       "      <th></th>\n",
       "      <th>id</th>\n",
       "      <th>comment_text</th>\n",
       "      <th>malignant</th>\n",
       "      <th>highly_malignant</th>\n",
       "      <th>rude</th>\n",
       "      <th>threat</th>\n",
       "      <th>abuse</th>\n",
       "      <th>loathe</th>\n",
       "      <th>Length</th>\n",
       "      <th>clean_length</th>\n",
       "    </tr>\n",
       "  </thead>\n",
       "  <tbody>\n",
       "    <tr>\n",
       "      <th>0</th>\n",
       "      <td>0000997932d777bf</td>\n",
       "      <td>explanation edits made username hardcore metal...</td>\n",
       "      <td>0</td>\n",
       "      <td>0</td>\n",
       "      <td>0</td>\n",
       "      <td>0</td>\n",
       "      <td>0</td>\n",
       "      <td>0</td>\n",
       "      <td>264</td>\n",
       "      <td>179</td>\n",
       "    </tr>\n",
       "    <tr>\n",
       "      <th>1</th>\n",
       "      <td>000103f0d9cfb60f</td>\n",
       "      <td>daww match background colour seemingly stuck t...</td>\n",
       "      <td>0</td>\n",
       "      <td>0</td>\n",
       "      <td>0</td>\n",
       "      <td>0</td>\n",
       "      <td>0</td>\n",
       "      <td>0</td>\n",
       "      <td>112</td>\n",
       "      <td>95</td>\n",
       "    </tr>\n",
       "    <tr>\n",
       "      <th>2</th>\n",
       "      <td>000113f07ec002fd</td>\n",
       "      <td>hey man really trying edit war guy constantly ...</td>\n",
       "      <td>0</td>\n",
       "      <td>0</td>\n",
       "      <td>0</td>\n",
       "      <td>0</td>\n",
       "      <td>0</td>\n",
       "      <td>0</td>\n",
       "      <td>233</td>\n",
       "      <td>141</td>\n",
       "    </tr>\n",
       "    <tr>\n",
       "      <th>3</th>\n",
       "      <td>0001b41b1c6bb37e</td>\n",
       "      <td>cant make real suggestion improvement wondered...</td>\n",
       "      <td>0</td>\n",
       "      <td>0</td>\n",
       "      <td>0</td>\n",
       "      <td>0</td>\n",
       "      <td>0</td>\n",
       "      <td>0</td>\n",
       "      <td>622</td>\n",
       "      <td>370</td>\n",
       "    </tr>\n",
       "    <tr>\n",
       "      <th>4</th>\n",
       "      <td>0001d958c54c6e35</td>\n",
       "      <td>sir hero chance remember page thats</td>\n",
       "      <td>0</td>\n",
       "      <td>0</td>\n",
       "      <td>0</td>\n",
       "      <td>0</td>\n",
       "      <td>0</td>\n",
       "      <td>0</td>\n",
       "      <td>67</td>\n",
       "      <td>35</td>\n",
       "    </tr>\n",
       "  </tbody>\n",
       "</table>\n",
       "</div>"
      ],
      "text/plain": [
       "                 id                                       comment_text  \\\n",
       "0  0000997932d777bf  explanation edits made username hardcore metal...   \n",
       "1  000103f0d9cfb60f  daww match background colour seemingly stuck t...   \n",
       "2  000113f07ec002fd  hey man really trying edit war guy constantly ...   \n",
       "3  0001b41b1c6bb37e  cant make real suggestion improvement wondered...   \n",
       "4  0001d958c54c6e35                sir hero chance remember page thats   \n",
       "\n",
       "   malignant  highly_malignant  rude  threat  abuse  loathe  Length  \\\n",
       "0          0                 0     0       0      0       0     264   \n",
       "1          0                 0     0       0      0       0     112   \n",
       "2          0                 0     0       0      0       0     233   \n",
       "3          0                 0     0       0      0       0     622   \n",
       "4          0                 0     0       0      0       0      67   \n",
       "\n",
       "   clean_length  \n",
       "0           179  \n",
       "1            95  \n",
       "2           141  \n",
       "3           370  \n",
       "4            35  "
      ]
     },
     "execution_count": 31,
     "metadata": {},
     "output_type": "execute_result"
    }
   ],
   "source": [
    "train_data['clean_length']=train_data.comment_text.str.len()\n",
    "train_data.head()"
   ]
  },
  {
   "cell_type": "markdown",
   "id": "97a91936",
   "metadata": {},
   "source": [
    "### Total length removal"
   ]
  },
  {
   "cell_type": "code",
   "execution_count": 32,
   "id": "779c7f0e",
   "metadata": {},
   "outputs": [
    {
     "name": "stdout",
     "output_type": "stream",
     "text": [
      "Original length 62893130\n"
     ]
    }
   ],
   "source": [
    "print('Original length',train_data.Length.sum())"
   ]
  },
  {
   "cell_type": "code",
   "execution_count": 33,
   "id": "8fceaa92",
   "metadata": {},
   "outputs": [
    {
     "name": "stdout",
     "output_type": "stream",
     "text": [
      "clean length 40513150\n"
     ]
    }
   ],
   "source": [
    "print('clean length',train_data.clean_length.sum())"
   ]
  },
  {
   "cell_type": "markdown",
   "id": "021ff893",
   "metadata": {},
   "source": [
    "### Getting sense of loud words"
   ]
  },
  {
   "cell_type": "code",
   "execution_count": 34,
   "id": "133ad720",
   "metadata": {},
   "outputs": [],
   "source": [
    "from wordcloud import WordCloud"
   ]
  },
  {
   "cell_type": "code",
   "execution_count": 35,
   "id": "6691e03e",
   "metadata": {},
   "outputs": [
    {
     "data": {
      "image/png": "[encoded data removed]",
      "text/plain": [
       "<Figure size 720x576 with 1 Axes>"
      ]
     },
     "metadata": {},
     "output_type": "display_data"
    }
   ],
   "source": [
    "spams = train_data['comment_text'][train_data['malignant']==1]\n",
    "spam_cloud = WordCloud(width=600,height=400,background_color='black',max_words=50).generate(' '.join(spams))\n",
    "plt.figure(figsize=(10,8),facecolor='k')\n",
    "plt.imshow(spam_cloud)\n",
    "plt.axis('off')\n",
    "plt.tight_layout(pad=0)\n",
    "plt.show()"
   ]
  },
  {
   "cell_type": "markdown",
   "id": "5962d27a",
   "metadata": {},
   "source": [
    "### Doing sum of the dependent columns and creating the final target column"
   ]
  },
  {
   "cell_type": "code",
   "execution_count": 36,
   "id": "72a4ee0c",
   "metadata": {},
   "outputs": [],
   "source": [
    "Dependent_cols = train_data[['malignant','highly_malignant','rude','threat','abuse','loathe']]"
   ]
  },
  {
   "cell_type": "code",
   "execution_count": 37,
   "id": "107c49d3",
   "metadata": {},
   "outputs": [
    {
     "name": "stdout",
     "output_type": "stream",
     "text": [
      "0    143346\n",
      "1      6360\n",
      "3      4209\n",
      "2      3480\n",
      "4      1760\n",
      "5       385\n",
      "6        31\n",
      "Name: Label, dtype: int64\n",
      "0    143346\n",
      "1     16225\n",
      "Name: Label, dtype: int64\n"
     ]
    }
   ],
   "source": [
    "train_data['Label'] =Dependent_cols.sum(axis =1)\n",
    "print(train_data['Label'].value_counts())\n",
    "train_data['Label'] = train_data['Label'] > 0 \n",
    "train_data['Label'] = train_data['Label'].astype(int)\n",
    "print(train_data['Label'].value_counts())"
   ]
  },
  {
   "cell_type": "code",
   "execution_count": 38,
   "id": "81d3b8d7",
   "metadata": {},
   "outputs": [
    {
     "data": {
      "text/html": [
       "<div>\n",
       "<style scoped>\n",
       "    .dataframe tbody tr th:only-of-type {\n",
       "        vertical-align: middle;\n",
       "    }\n",
       "\n",
       "    .dataframe tbody tr th {\n",
       "        vertical-align: top;\n",
       "    }\n",
       "\n",
       "    .dataframe thead th {\n",
       "        text-align: right;\n",
       "    }\n",
       "</style>\n",
       "<table border=\"1\" class=\"dataframe\">\n",
       "  <thead>\n",
       "    <tr style=\"text-align: right;\">\n",
       "      <th></th>\n",
       "      <th>id</th>\n",
       "      <th>comment_text</th>\n",
       "      <th>malignant</th>\n",
       "      <th>highly_malignant</th>\n",
       "      <th>rude</th>\n",
       "      <th>threat</th>\n",
       "      <th>abuse</th>\n",
       "      <th>loathe</th>\n",
       "      <th>Length</th>\n",
       "      <th>clean_length</th>\n",
       "      <th>Label</th>\n",
       "    </tr>\n",
       "  </thead>\n",
       "  <tbody>\n",
       "    <tr>\n",
       "      <th>0</th>\n",
       "      <td>0000997932d777bf</td>\n",
       "      <td>explanation edits made username hardcore metal...</td>\n",
       "      <td>0</td>\n",
       "      <td>0</td>\n",
       "      <td>0</td>\n",
       "      <td>0</td>\n",
       "      <td>0</td>\n",
       "      <td>0</td>\n",
       "      <td>264</td>\n",
       "      <td>179</td>\n",
       "      <td>0</td>\n",
       "    </tr>\n",
       "    <tr>\n",
       "      <th>1</th>\n",
       "      <td>000103f0d9cfb60f</td>\n",
       "      <td>daww match background colour seemingly stuck t...</td>\n",
       "      <td>0</td>\n",
       "      <td>0</td>\n",
       "      <td>0</td>\n",
       "      <td>0</td>\n",
       "      <td>0</td>\n",
       "      <td>0</td>\n",
       "      <td>112</td>\n",
       "      <td>95</td>\n",
       "      <td>0</td>\n",
       "    </tr>\n",
       "    <tr>\n",
       "      <th>2</th>\n",
       "      <td>000113f07ec002fd</td>\n",
       "      <td>hey man really trying edit war guy constantly ...</td>\n",
       "      <td>0</td>\n",
       "      <td>0</td>\n",
       "      <td>0</td>\n",
       "      <td>0</td>\n",
       "      <td>0</td>\n",
       "      <td>0</td>\n",
       "      <td>233</td>\n",
       "      <td>141</td>\n",
       "      <td>0</td>\n",
       "    </tr>\n",
       "    <tr>\n",
       "      <th>3</th>\n",
       "      <td>0001b41b1c6bb37e</td>\n",
       "      <td>cant make real suggestion improvement wondered...</td>\n",
       "      <td>0</td>\n",
       "      <td>0</td>\n",
       "      <td>0</td>\n",
       "      <td>0</td>\n",
       "      <td>0</td>\n",
       "      <td>0</td>\n",
       "      <td>622</td>\n",
       "      <td>370</td>\n",
       "      <td>0</td>\n",
       "    </tr>\n",
       "    <tr>\n",
       "      <th>4</th>\n",
       "      <td>0001d958c54c6e35</td>\n",
       "      <td>sir hero chance remember page thats</td>\n",
       "      <td>0</td>\n",
       "      <td>0</td>\n",
       "      <td>0</td>\n",
       "      <td>0</td>\n",
       "      <td>0</td>\n",
       "      <td>0</td>\n",
       "      <td>67</td>\n",
       "      <td>35</td>\n",
       "      <td>0</td>\n",
       "    </tr>\n",
       "    <tr>\n",
       "      <th>...</th>\n",
       "      <td>...</td>\n",
       "      <td>...</td>\n",
       "      <td>...</td>\n",
       "      <td>...</td>\n",
       "      <td>...</td>\n",
       "      <td>...</td>\n",
       "      <td>...</td>\n",
       "      <td>...</td>\n",
       "      <td>...</td>\n",
       "      <td>...</td>\n",
       "      <td>...</td>\n",
       "    </tr>\n",
       "    <tr>\n",
       "      <th>159566</th>\n",
       "      <td>ffe987279560d7ff</td>\n",
       "      <td>second time asking view completely contradicts...</td>\n",
       "      <td>0</td>\n",
       "      <td>0</td>\n",
       "      <td>0</td>\n",
       "      <td>0</td>\n",
       "      <td>0</td>\n",
       "      <td>0</td>\n",
       "      <td>295</td>\n",
       "      <td>183</td>\n",
       "      <td>0</td>\n",
       "    </tr>\n",
       "    <tr>\n",
       "      <th>159567</th>\n",
       "      <td>ffea4adeee384e90</td>\n",
       "      <td>ashamed horrible thing put talk page numbernumber</td>\n",
       "      <td>0</td>\n",
       "      <td>0</td>\n",
       "      <td>0</td>\n",
       "      <td>0</td>\n",
       "      <td>0</td>\n",
       "      <td>0</td>\n",
       "      <td>99</td>\n",
       "      <td>49</td>\n",
       "      <td>0</td>\n",
       "    </tr>\n",
       "    <tr>\n",
       "      <th>159568</th>\n",
       "      <td>ffee36eab5c267c9</td>\n",
       "      <td>spitzer umm there actual article prostitution ...</td>\n",
       "      <td>0</td>\n",
       "      <td>0</td>\n",
       "      <td>0</td>\n",
       "      <td>0</td>\n",
       "      <td>0</td>\n",
       "      <td>0</td>\n",
       "      <td>81</td>\n",
       "      <td>65</td>\n",
       "      <td>0</td>\n",
       "    </tr>\n",
       "    <tr>\n",
       "      <th>159569</th>\n",
       "      <td>fff125370e4aaaf3</td>\n",
       "      <td>look like actually put speedy first version de...</td>\n",
       "      <td>0</td>\n",
       "      <td>0</td>\n",
       "      <td>0</td>\n",
       "      <td>0</td>\n",
       "      <td>0</td>\n",
       "      <td>0</td>\n",
       "      <td>116</td>\n",
       "      <td>56</td>\n",
       "      <td>0</td>\n",
       "    </tr>\n",
       "    <tr>\n",
       "      <th>159570</th>\n",
       "      <td>fff46fc426af1f9a</td>\n",
       "      <td>really think understand came idea bad right aw...</td>\n",
       "      <td>0</td>\n",
       "      <td>0</td>\n",
       "      <td>0</td>\n",
       "      <td>0</td>\n",
       "      <td>0</td>\n",
       "      <td>0</td>\n",
       "      <td>189</td>\n",
       "      <td>107</td>\n",
       "      <td>0</td>\n",
       "    </tr>\n",
       "  </tbody>\n",
       "</table>\n",
       "<p>159571 rows × 11 columns</p>\n",
       "</div>"
      ],
      "text/plain": [
       "                      id                                       comment_text  \\\n",
       "0       0000997932d777bf  explanation edits made username hardcore metal...   \n",
       "1       000103f0d9cfb60f  daww match background colour seemingly stuck t...   \n",
       "2       000113f07ec002fd  hey man really trying edit war guy constantly ...   \n",
       "3       0001b41b1c6bb37e  cant make real suggestion improvement wondered...   \n",
       "4       0001d958c54c6e35                sir hero chance remember page thats   \n",
       "...                  ...                                                ...   \n",
       "159566  ffe987279560d7ff  second time asking view completely contradicts...   \n",
       "159567  ffea4adeee384e90  ashamed horrible thing put talk page numbernumber   \n",
       "159568  ffee36eab5c267c9  spitzer umm there actual article prostitution ...   \n",
       "159569  fff125370e4aaaf3  look like actually put speedy first version de...   \n",
       "159570  fff46fc426af1f9a  really think understand came idea bad right aw...   \n",
       "\n",
       "        malignant  highly_malignant  rude  threat  abuse  loathe  Length  \\\n",
       "0               0                 0     0       0      0       0     264   \n",
       "1               0                 0     0       0      0       0     112   \n",
       "2               0                 0     0       0      0       0     233   \n",
       "3               0                 0     0       0      0       0     622   \n",
       "4               0                 0     0       0      0       0      67   \n",
       "...           ...               ...   ...     ...    ...     ...     ...   \n",
       "159566          0                 0     0       0      0       0     295   \n",
       "159567          0                 0     0       0      0       0      99   \n",
       "159568          0                 0     0       0      0       0      81   \n",
       "159569          0                 0     0       0      0       0     116   \n",
       "159570          0                 0     0       0      0       0     189   \n",
       "\n",
       "        clean_length  Label  \n",
       "0                179      0  \n",
       "1                 95      0  \n",
       "2                141      0  \n",
       "3                370      0  \n",
       "4                 35      0  \n",
       "...              ...    ...  \n",
       "159566           183      0  \n",
       "159567            49      0  \n",
       "159568            65      0  \n",
       "159569            56      0  \n",
       "159570           107      0  \n",
       "\n",
       "[159571 rows x 11 columns]"
      ]
     },
     "execution_count": 38,
     "metadata": {},
     "output_type": "execute_result"
    }
   ],
   "source": [
    "train_data"
   ]
  },
  {
   "cell_type": "markdown",
   "id": "36c378ff",
   "metadata": {},
   "source": [
    "### Convert text into vectors using TF-IDF"
   ]
  },
  {
   "cell_type": "code",
   "execution_count": 39,
   "id": "7024729a",
   "metadata": {},
   "outputs": [],
   "source": [
    "from sklearn.feature_extraction.text import TfidfVectorizer\n",
    "tf_vec = TfidfVectorizer(stop_words='english')\n",
    "features = tf_vec.fit_transform(train_data['comment_text'])\n"
   ]
  },
  {
   "cell_type": "markdown",
   "id": "fc8f2da9",
   "metadata": {},
   "source": [
    "### Creating Dependent and independent variable"
   ]
  },
  {
   "cell_type": "code",
   "execution_count": 40,
   "id": "a5780c23",
   "metadata": {},
   "outputs": [],
   "source": [
    "x=features\n",
    "y=train_data['Label']"
   ]
  },
  {
   "cell_type": "markdown",
   "id": "d71ee9e1",
   "metadata": {},
   "source": [
    "### Train and Predict"
   ]
  },
  {
   "cell_type": "code",
   "execution_count": 41,
   "id": "8a7d70f5",
   "metadata": {},
   "outputs": [],
   "source": [
    "from sklearn.linear_model import LogisticRegression\n",
    "from sklearn.model_selection import train_test_split,GridSearchCV\n",
    "from sklearn.metrics import accuracy_score,confusion_matrix,roc_curve,roc_auc_score,classification_report\n",
    "from sklearn.naive_bayes import MultinomialNB\n",
    "from sklearn.ensemble import RandomForestClassifier"
   ]
  },
  {
   "cell_type": "markdown",
   "id": "ab2c1083",
   "metadata": {},
   "source": [
    "### Finding best random state"
   ]
  },
  {
   "cell_type": "code",
   "execution_count": 44,
   "id": "3650de9b",
   "metadata": {},
   "outputs": [
    {
     "name": "stdout",
     "output_type": "stream",
     "text": [
      "Max Accuracy is 0.9553601270053476 on Random State  88\n"
     ]
    }
   ],
   "source": [
    "maxAccu=0 #maximum accuracy\n",
    "maxRS=0  # best random state value for which max accuracy is achieved\n",
    "for i in range(1,100):\n",
    "    x_train,x_test,y_train,y_test=train_test_split(x,y,test_size=0.30,random_state=i)\n",
    "    LR=LogisticRegression()\n",
    "    LR.fit(x_train,y_train)\n",
    "    pred=LR.predict(x_test)\n",
    "    acc=accuracy_score(y_test,pred)\n",
    "    if acc>maxAccu:\n",
    "        maxAccu=acc\n",
    "        maxRS=i\n",
    "print('Max Accuracy is',maxAccu,'on Random State ',maxRS)"
   ]
  },
  {
   "cell_type": "markdown",
   "id": "df96fa15",
   "metadata": {},
   "source": [
    "### Splitting dataset in training and testing data"
   ]
  },
  {
   "cell_type": "code",
   "execution_count": 42,
   "id": "7c4d7a63",
   "metadata": {},
   "outputs": [],
   "source": [
    "x_train,x_test,y_train,y_test=train_test_split(x,y,random_state=88,test_size=.30)"
   ]
  },
  {
   "cell_type": "markdown",
   "id": "b78d3833",
   "metadata": {},
   "source": [
    "### MultinomialNB"
   ]
  },
  {
   "cell_type": "code",
   "execution_count": 43,
   "id": "993954f3",
   "metadata": {},
   "outputs": [
    {
     "name": "stdout",
     "output_type": "stream",
     "text": [
      "0.9181358622994652\n"
     ]
    }
   ],
   "source": [
    "naive=MultinomialNB()\n",
    "naive.fit(x_train,y_train)\n",
    "y_pred=naive.predict(x_test)\n",
    "accu=accuracy_score(y_test,y_pred)\n",
    "print(accu) "
   ]
  },
  {
   "cell_type": "markdown",
   "id": "6200f95a",
   "metadata": {},
   "source": [
    "### Logistic Regression"
   ]
  },
  {
   "cell_type": "code",
   "execution_count": 44,
   "id": "ad5f3252",
   "metadata": {},
   "outputs": [
    {
     "name": "stdout",
     "output_type": "stream",
     "text": [
      "95.53601270053476\n",
      "[[42913   198]\n",
      " [ 1939  2822]]\n",
      "              precision    recall  f1-score   support\n",
      "\n",
      "           0       0.96      1.00      0.98     43111\n",
      "           1       0.93      0.59      0.73      4761\n",
      "\n",
      "    accuracy                           0.96     47872\n",
      "   macro avg       0.95      0.79      0.85     47872\n",
      "weighted avg       0.95      0.96      0.95     47872\n",
      "\n"
     ]
    }
   ],
   "source": [
    "LR=LogisticRegression()\n",
    "LR.fit(x_train,y_train)\n",
    "pred=LR.predict(x_test)\n",
    "accuracy=accuracy_score(y_test,pred)\n",
    "print(accuracy*100)\n",
    "print(confusion_matrix(y_test,pred))\n",
    "print(classification_report(y_test,pred))"
   ]
  },
  {
   "cell_type": "markdown",
   "id": "baba5785",
   "metadata": {},
   "source": [
    "### Decision Tree Classifier"
   ]
  },
  {
   "cell_type": "code",
   "execution_count": 49,
   "id": "65c543e1",
   "metadata": {},
   "outputs": [
    {
     "name": "stdout",
     "output_type": "stream",
     "text": [
      "Accuracy  94.32444852941177\n",
      "[[41802  1309]\n",
      " [ 1408  3353]]\n",
      "              precision    recall  f1-score   support\n",
      "\n",
      "           0       0.97      0.97      0.97     43111\n",
      "           1       0.72      0.70      0.71      4761\n",
      "\n",
      "    accuracy                           0.94     47872\n",
      "   macro avg       0.84      0.84      0.84     47872\n",
      "weighted avg       0.94      0.94      0.94     47872\n",
      "\n"
     ]
    }
   ],
   "source": [
    "from sklearn.tree import DecisionTreeClassifier\n",
    "DT=DecisionTreeClassifier()\n",
    "DT.fit(x_train,y_train)\n",
    "pred=DT.predict(x_test)\n",
    "print('Accuracy ',accuracy_score(y_test,pred)*100)\n",
    "print(confusion_matrix(y_test,pred))\n",
    "print(classification_report(y_test,pred))"
   ]
  },
  {
   "cell_type": "markdown",
   "id": "7f5fb2ed",
   "metadata": {},
   "source": [
    "### Random Forest Classifier"
   ]
  },
  {
   "cell_type": "code",
   "execution_count": 50,
   "id": "8509a1d9",
   "metadata": {},
   "outputs": [
    {
     "name": "stdout",
     "output_type": "stream",
     "text": [
      "Accuracy  95.27907754010695\n",
      "[[42869   242]\n",
      " [ 2018  2743]]\n",
      "              precision    recall  f1-score   support\n",
      "\n",
      "           0       0.96      0.99      0.97     43111\n",
      "           1       0.92      0.58      0.71      4761\n",
      "\n",
      "    accuracy                           0.95     47872\n",
      "   macro avg       0.94      0.79      0.84     47872\n",
      "weighted avg       0.95      0.95      0.95     47872\n",
      "\n"
     ]
    }
   ],
   "source": [
    "from sklearn.ensemble import RandomForestClassifier\n",
    "RF=RandomForestClassifier()\n",
    "RF.fit(x_train,y_train)\n",
    "pred=RF.predict(x_test)\n",
    "print('Accuracy ',accuracy_score(y_test,pred)*100)\n",
    "print(confusion_matrix(y_test,pred))\n",
    "print(classification_report(y_test,pred))"
   ]
  },
  {
   "cell_type": "markdown",
   "id": "c9b5f02e",
   "metadata": {},
   "source": [
    "So Logistic regression is giving the best accuracy so we chose it our final model to predict on the test data"
   ]
  },
  {
   "cell_type": "markdown",
   "id": "ab6b918d",
   "metadata": {},
   "source": [
    "### ROC- AUC Curve"
   ]
  },
  {
   "cell_type": "code",
   "execution_count": 45,
   "id": "90cdb39e",
   "metadata": {},
   "outputs": [
    {
     "data": {
      "text/plain": [
       "<function matplotlib.pyplot.show(close=None, block=None)>"
      ]
     },
     "execution_count": 45,
     "metadata": {},
     "output_type": "execute_result"
    },
    {
     "data": {
      "image/png": "[encoded data removed]",
      "text/plain": [
       "<Figure size 432x288 with 1 Axes>"
      ]
     },
     "metadata": {
      "needs_background": "light"
     },
     "output_type": "display_data"
    }
   ],
   "source": [
    "from sklearn.metrics import plot_roc_curve\n",
    "plot_roc_curve(LR,x_test,y_test)\n",
    "plt.title('ROC AUC CURVE')\n",
    "plt.show"
   ]
  },
  {
   "cell_type": "markdown",
   "id": "6dc357b6",
   "metadata": {},
   "source": [
    "### Predicting on test data"
   ]
  },
  {
   "cell_type": "code",
   "execution_count": 46,
   "id": "b0f4edc8",
   "metadata": {},
   "outputs": [],
   "source": [
    "# convert all messages to lower case\n",
    "test_data['comment_text'] = test_data['comment_text'].str.lower()"
   ]
  },
  {
   "cell_type": "code",
   "execution_count": 47,
   "id": "dccc505a",
   "metadata": {},
   "outputs": [],
   "source": [
    "# Replace emailaddresses with 'emailaddress'\n",
    "test_data['comment_text'] = test_data['comment_text'].str.replace(r'^.+@[^\\.].*\\.[a-z]{2,}$','emailaddress')"
   ]
  },
  {
   "cell_type": "code",
   "execution_count": 48,
   "id": "1eac1784",
   "metadata": {},
   "outputs": [],
   "source": [
    "# Replace Urls with 'webaddress'\n",
    "test_data['comment_text'] = test_data['comment_text'].str.replace(r'^http\\://[a-zA-Z0-9\\-\\.]+\\.[a-zA-Z]{2,3}(/\\S*)?$','webaddress')"
   ]
  },
  {
   "cell_type": "code",
   "execution_count": 49,
   "id": "f218cbe4",
   "metadata": {},
   "outputs": [],
   "source": [
    "# Replace money symbols with 'moneysymbols' \n",
    "test_data['comment_text'] = test_data['comment_text'].str.replace(r'£|\\$', 'dollers')"
   ]
  },
  {
   "cell_type": "code",
   "execution_count": 50,
   "id": "74c08552",
   "metadata": {},
   "outputs": [],
   "source": [
    "# Replace 10 digit phone numbers \n",
    "test_data['comment_text'] = test_data['comment_text'].str.replace(r'^\\(?[\\d]{3}\\)?[\\s-]?[\\d]{3}[\\s-]?[\\d]{4}$','phonenumber')"
   ]
  },
  {
   "cell_type": "code",
   "execution_count": 51,
   "id": "d0bb8034",
   "metadata": {},
   "outputs": [],
   "source": [
    "# Replace numbers with 'number'\n",
    "test_data['comment_text'] = test_data['comment_text'].str.replace(r'\\d+(\\.\\d+)?', 'number')"
   ]
  },
  {
   "cell_type": "code",
   "execution_count": 52,
   "id": "de796d14",
   "metadata": {},
   "outputs": [],
   "source": [
    "# Remove Punctuatuations\n",
    "test_data['comment_text'] = test_data['comment_text'].apply(lambda x: ' '.join(term for term in x.split() if term not in string.punctuation))"
   ]
  },
  {
   "cell_type": "code",
   "execution_count": 53,
   "id": "6508e0ff",
   "metadata": {},
   "outputs": [],
   "source": [
    "test_data['comment_text']=test_data['comment_text'].str.replace(r'[^\\w\\d\\s]','')"
   ]
  },
  {
   "cell_type": "code",
   "execution_count": 54,
   "id": "6c4d561f",
   "metadata": {},
   "outputs": [],
   "source": [
    "# Remove White space between terms with single space\n",
    "test_data['comment_text']=test_data['comment_text'].str.replace(r'\\s+',' ')"
   ]
  },
  {
   "cell_type": "code",
   "execution_count": 55,
   "id": "bced7e81",
   "metadata": {},
   "outputs": [],
   "source": [
    "# Remove leading and trailing white space\n",
    "test_data['comment_text']=test_data['comment_text'].str.replace(r'^\\s+|\\s+?$','')"
   ]
  },
  {
   "cell_type": "code",
   "execution_count": 56,
   "id": "d5ce20f0",
   "metadata": {},
   "outputs": [],
   "source": [
    "# Remove Stopwords\n",
    "stop_words = set(stopwords.words('english') + ['u', 'ü', 'ur', '4', '2', 'im', 'dont', 'doin', 'ure'])\n",
    "test_data['comment_text'] = test_data['comment_text'].apply(lambda x: ' '.join(term for term in x.split() if term not in stop_words))"
   ]
  },
  {
   "cell_type": "code",
   "execution_count": 58,
   "id": "6909cdb6",
   "metadata": {},
   "outputs": [],
   "source": [
    "# Lematization\n",
    "lemma=WordNetLemmatizer()\n",
    "test_data['comment_text'] = test_data['comment_text'].apply(lambda x: ' '.join(lemma.lemmatize(word) for word in x.split()))"
   ]
  },
  {
   "cell_type": "code",
   "execution_count": 59,
   "id": "48b33acf",
   "metadata": {},
   "outputs": [],
   "source": [
    "featurestest = tf_vec.transform(test_data['comment_text'])"
   ]
  },
  {
   "cell_type": "code",
   "execution_count": 60,
   "id": "dd0d8eb8",
   "metadata": {},
   "outputs": [],
   "source": [
    "testprediction=LR.predict(featurestest)"
   ]
  },
  {
   "cell_type": "code",
   "execution_count": 63,
   "id": "cf926848",
   "metadata": {},
   "outputs": [
    {
     "data": {
      "text/plain": [
       "array([1, 0, 0, ..., 0, 0, 1])"
      ]
     },
     "execution_count": 63,
     "metadata": {},
     "output_type": "execute_result"
    }
   ],
   "source": [
    "testprediction"
   ]
  },
  {
   "cell_type": "markdown",
   "id": "238db60f",
   "metadata": {},
   "source": [
    "### Creating the final dataset"
   ]
  },
  {
   "cell_type": "code",
   "execution_count": 64,
   "id": "6a22a232",
   "metadata": {},
   "outputs": [],
   "source": [
    "test_data['Prediction']=testprediction"
   ]
  },
  {
   "cell_type": "code",
   "execution_count": 65,
   "id": "91fe18fc",
   "metadata": {},
   "outputs": [
    {
     "data": {
      "text/html": [
       "<div>\n",
       "<style scoped>\n",
       "    .dataframe tbody tr th:only-of-type {\n",
       "        vertical-align: middle;\n",
       "    }\n",
       "\n",
       "    .dataframe tbody tr th {\n",
       "        vertical-align: top;\n",
       "    }\n",
       "\n",
       "    .dataframe thead th {\n",
       "        text-align: right;\n",
       "    }\n",
       "</style>\n",
       "<table border=\"1\" class=\"dataframe\">\n",
       "  <thead>\n",
       "    <tr style=\"text-align: right;\">\n",
       "      <th></th>\n",
       "      <th>id</th>\n",
       "      <th>comment_text</th>\n",
       "      <th>Prediction</th>\n",
       "    </tr>\n",
       "  </thead>\n",
       "  <tbody>\n",
       "    <tr>\n",
       "      <th>0</th>\n",
       "      <td>00001cee341fdb12</td>\n",
       "      <td>yo bitch ja rule succesful youll ever whats ha...</td>\n",
       "      <td>1</td>\n",
       "    </tr>\n",
       "    <tr>\n",
       "      <th>1</th>\n",
       "      <td>0000247867823ef7</td>\n",
       "      <td>rfc title fine imo</td>\n",
       "      <td>0</td>\n",
       "    </tr>\n",
       "    <tr>\n",
       "      <th>2</th>\n",
       "      <td>00013b17ad220c46</td>\n",
       "      <td>source zawe ashton lapland</td>\n",
       "      <td>0</td>\n",
       "    </tr>\n",
       "    <tr>\n",
       "      <th>3</th>\n",
       "      <td>00017563c3f7919a</td>\n",
       "      <td>look back source information updated correct f...</td>\n",
       "      <td>0</td>\n",
       "    </tr>\n",
       "    <tr>\n",
       "      <th>4</th>\n",
       "      <td>00017695ad8997eb</td>\n",
       "      <td>anonymously edit article</td>\n",
       "      <td>0</td>\n",
       "    </tr>\n",
       "    <tr>\n",
       "      <th>...</th>\n",
       "      <td>...</td>\n",
       "      <td>...</td>\n",
       "      <td>...</td>\n",
       "    </tr>\n",
       "    <tr>\n",
       "      <th>153159</th>\n",
       "      <td>fffcd0960ee309b5</td>\n",
       "      <td>totally agree stuff nothing toolongcrap</td>\n",
       "      <td>0</td>\n",
       "    </tr>\n",
       "    <tr>\n",
       "      <th>153160</th>\n",
       "      <td>fffd7a9a6eb32c16</td>\n",
       "      <td>throw field home plate get faster throwing cut...</td>\n",
       "      <td>0</td>\n",
       "    </tr>\n",
       "    <tr>\n",
       "      <th>153161</th>\n",
       "      <td>fffda9e8d6fafa9e</td>\n",
       "      <td>okinotorishima category see change agree corre...</td>\n",
       "      <td>0</td>\n",
       "    </tr>\n",
       "    <tr>\n",
       "      <th>153162</th>\n",
       "      <td>fffe8f1340a79fc2</td>\n",
       "      <td>one founding nation eu germany law return quit...</td>\n",
       "      <td>0</td>\n",
       "    </tr>\n",
       "    <tr>\n",
       "      <th>153163</th>\n",
       "      <td>ffffce3fb183ee80</td>\n",
       "      <td>stop already bullshit welcome fool think kind ...</td>\n",
       "      <td>1</td>\n",
       "    </tr>\n",
       "  </tbody>\n",
       "</table>\n",
       "<p>153164 rows × 3 columns</p>\n",
       "</div>"
      ],
      "text/plain": [
       "                      id                                       comment_text  \\\n",
       "0       00001cee341fdb12  yo bitch ja rule succesful youll ever whats ha...   \n",
       "1       0000247867823ef7                                 rfc title fine imo   \n",
       "2       00013b17ad220c46                         source zawe ashton lapland   \n",
       "3       00017563c3f7919a  look back source information updated correct f...   \n",
       "4       00017695ad8997eb                           anonymously edit article   \n",
       "...                  ...                                                ...   \n",
       "153159  fffcd0960ee309b5            totally agree stuff nothing toolongcrap   \n",
       "153160  fffd7a9a6eb32c16  throw field home plate get faster throwing cut...   \n",
       "153161  fffda9e8d6fafa9e  okinotorishima category see change agree corre...   \n",
       "153162  fffe8f1340a79fc2  one founding nation eu germany law return quit...   \n",
       "153163  ffffce3fb183ee80  stop already bullshit welcome fool think kind ...   \n",
       "\n",
       "        Prediction  \n",
       "0                1  \n",
       "1                0  \n",
       "2                0  \n",
       "3                0  \n",
       "4                0  \n",
       "...            ...  \n",
       "153159           0  \n",
       "153160           0  \n",
       "153161           0  \n",
       "153162           0  \n",
       "153163           1  \n",
       "\n",
       "[153164 rows x 3 columns]"
      ]
     },
     "execution_count": 65,
     "metadata": {},
     "output_type": "execute_result"
    }
   ],
   "source": [
    "test_data"
   ]
  },
  {
   "cell_type": "code",
   "execution_count": 66,
   "id": "d08fb0ed",
   "metadata": {},
   "outputs": [],
   "source": [
    "# Saving the DataFrame as csv file\n",
    "test_data.to_csv('Predicted_test_data.csv')"
   ]
  },
  {
   "cell_type": "code",
   "execution_count": null,
   "id": "55417f73",
   "metadata": {},
   "outputs": [],
   "source": []
  }
 ],
 "metadata": {
  "kernelspec": {
   "display_name": "Python 3",
   "language": "python",
   "name": "python3"
  },
  "language_info": {
   "codemirror_mode": {
    "name": "ipython",
    "version": 3
   },
   "file_extension": ".py",
   "mimetype": "text/x-python",
   "name": "python",
   "nbconvert_exporter": "python",
   "pygments_lexer": "ipython3",
   "version": "3.8.8"
  }
 },
 "nbformat": 4,
 "nbformat_minor": 5
}
