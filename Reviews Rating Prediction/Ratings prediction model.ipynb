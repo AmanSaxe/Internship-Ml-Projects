{
 "cells": [
  {
   "cell_type": "code",
   "execution_count": 1,
   "id": "ce20c878",
   "metadata": {},
   "outputs": [],
   "source": [
    "import selenium\n",
    "from selenium import webdriver\n",
    "import pandas as pd\n",
    "import numpy as np\n",
    "import warnings\n",
    "warnings.filterwarnings('ignore')\n",
    "from selenium.common.exceptions import StaleElementReferenceException, NoSuchElementException\n",
    "import time\n",
    "import re"
   ]
  },
  {
   "cell_type": "code",
   "execution_count": 2,
   "id": "a72f86b7",
   "metadata": {},
   "outputs": [],
   "source": [
    "# let's first connect to web driver\n",
    "driver=webdriver.Chrome(r'C:\\Users\\DELL\\Downloads\\chromedriver_win32 (3)\\chromedriver.exe')"
   ]
  },
  {
   "cell_type": "code",
   "execution_count": 3,
   "id": "b3ae2cca",
   "metadata": {},
   "outputs": [],
   "source": [
    "url='https://www.flipkart.com/'\n",
    "driver.get(url)"
   ]
  },
  {
   "cell_type": "markdown",
   "id": "f896529e",
   "metadata": {},
   "source": [
    "### Getting product urls of laptops"
   ]
  },
  {
   "cell_type": "code",
   "execution_count": 4,
   "id": "4c4e4cfc",
   "metadata": {},
   "outputs": [],
   "source": [
    "search_field=driver.find_element_by_xpath('//input[@class=\"_3704LK\"]')\n",
    "search_field.send_keys('Dell laptops')"
   ]
  },
  {
   "cell_type": "code",
   "execution_count": 7,
   "id": "6c4a0e13",
   "metadata": {},
   "outputs": [],
   "source": [
    "search_button=driver.find_element_by_xpath('//button[@class=\"L0Z3Pu\"]')\n",
    "search_button.click()"
   ]
  },
  {
   "cell_type": "code",
   "execution_count": 8,
   "id": "bbbcc3b3",
   "metadata": {},
   "outputs": [],
   "source": [
    "product_url=[]\n",
    "for page in range(0,10):\n",
    "    urls=driver.find_elements_by_xpath('//a[@class=\"_1fQZEK\"]')\n",
    "    for i in urls:\n",
    "        product_url.append(i.get_attribute('href'))\n",
    "    try:    \n",
    "        next_bttn=driver.find_element_by_xpath('//a[@class=\"_1LKTO3\"][2]')\n",
    "        driver.get(next_bttn.get_attribute('href'))\n",
    "    except:\n",
    "        next_bttn=driver.find_element_by_xpath('//a[@class=\"_1LKTO3\"][1]')\n",
    "        driver.get(next_bttn.get_attribute('href'))"
   ]
  },
  {
   "cell_type": "markdown",
   "id": "5603d02d",
   "metadata": {},
   "source": [
    "### Getting product urls for mobiles"
   ]
  },
  {
   "cell_type": "code",
   "execution_count": 9,
   "id": "28a1adcd",
   "metadata": {},
   "outputs": [],
   "source": [
    "driver.get(url)\n"
   ]
  },
  {
   "cell_type": "code",
   "execution_count": 10,
   "id": "b2c8267b",
   "metadata": {},
   "outputs": [],
   "source": [
    "search_field=driver.find_element_by_xpath('//input[@class=\"_3704LK\"]')\n",
    "\n",
    "search_field.send_keys('Mobiles')"
   ]
  },
  {
   "cell_type": "code",
   "execution_count": 11,
   "id": "e994d8e7",
   "metadata": {},
   "outputs": [],
   "source": [
    "search_button=driver.find_element_by_xpath('//button[@class=\"L0Z3Pu\"]')\n",
    "search_button.click()"
   ]
  },
  {
   "cell_type": "code",
   "execution_count": 12,
   "id": "02673f2d",
   "metadata": {},
   "outputs": [],
   "source": [
    "for page in range(0,10):\n",
    "    urls=driver.find_elements_by_xpath('//a[@class=\"_1fQZEK\"]')\n",
    "    for i in urls:\n",
    "        product_url.append(i.get_attribute('href'))\n",
    "    try:    \n",
    "        next_bttn=driver.find_element_by_xpath('//a[@class=\"_1LKTO3\"][2]')\n",
    "        driver.get(next_bttn.get_attribute('href'))\n",
    "    except:\n",
    "        next_bttn=driver.find_element_by_xpath('//a[@class=\"_1LKTO3\"][1]')\n",
    "        driver.get(next_bttn.get_attribute('href'))"
   ]
  },
  {
   "cell_type": "markdown",
   "id": "7a9b473b",
   "metadata": {},
   "source": [
    "### Getting product urls for Smart Watches"
   ]
  },
  {
   "cell_type": "code",
   "execution_count": 119,
   "id": "f86d951f",
   "metadata": {},
   "outputs": [],
   "source": [
    "driver.get(url)"
   ]
  },
  {
   "cell_type": "code",
   "execution_count": 120,
   "id": "1cc1700b",
   "metadata": {},
   "outputs": [],
   "source": [
    "search_field=driver.find_element_by_xpath('//input[@class=\"_3704LK\"]')\n",
    "search_field.send_keys('Smart Watches')"
   ]
  },
  {
   "cell_type": "code",
   "execution_count": 121,
   "id": "d2a2faa5",
   "metadata": {},
   "outputs": [],
   "source": [
    "search_button=driver.find_element_by_xpath('//button[@class=\"L0Z3Pu\"]')\n",
    "search_button.click()"
   ]
  },
  {
   "cell_type": "code",
   "execution_count": 122,
   "id": "6bf63d54",
   "metadata": {},
   "outputs": [],
   "source": [
    "for page in range(0,10):\n",
    "    urls=driver.find_elements_by_xpath('//a[@class=\"_1fQZEK\"]')\n",
    "    for i in urls:\n",
    "        product_url.append(i.get_attribute('href'))\n",
    "    try:    \n",
    "        next_bttn=driver.find_element_by_xpath('//a[@class=\"_1LKTO3\"][2]')\n",
    "        driver.get(next_bttn.get_attribute('href'))\n",
    "    except:\n",
    "        next_bttn=driver.find_element_by_xpath('//a[@class=\"_1LKTO3\"][1]')\n",
    "        driver.get(next_bttn.get_attribute('href'))"
   ]
  },
  {
   "cell_type": "markdown",
   "id": "141b3b5d",
   "metadata": {},
   "source": [
    "### Getting product urls for Headphones"
   ]
  },
  {
   "cell_type": "code",
   "execution_count": 123,
   "id": "b7a297a2",
   "metadata": {},
   "outputs": [],
   "source": [
    "driver.get(url)"
   ]
  },
  {
   "cell_type": "code",
   "execution_count": 124,
   "id": "15040e69",
   "metadata": {},
   "outputs": [],
   "source": [
    "search_field=driver.find_element_by_xpath('//input[@class=\"_3704LK\"]')\n",
    "search_field.send_keys('Headphones')"
   ]
  },
  {
   "cell_type": "code",
   "execution_count": 125,
   "id": "2080bf7d",
   "metadata": {},
   "outputs": [],
   "source": [
    "search_button=driver.find_element_by_xpath('//button[@class=\"L0Z3Pu\"]')\n",
    "search_button.click()"
   ]
  },
  {
   "cell_type": "code",
   "execution_count": 126,
   "id": "b67c8d1c",
   "metadata": {},
   "outputs": [],
   "source": [
    "for page in range(0,10):\n",
    "    urls=driver.find_elements_by_xpath('//a[@class=\"s1Q9rs\"]')\n",
    "    for i in urls:\n",
    "        product_url.append(i.get_attribute('href'))\n",
    "    try:    \n",
    "        next_bttn=driver.find_element_by_xpath('//a[@class=\"_1LKTO3\"][2]')\n",
    "        driver.get(next_bttn.get_attribute('href'))\n",
    "    except:\n",
    "        next_bttn=driver.find_element_by_xpath('//a[@class=\"_1LKTO3\"][1]')\n",
    "        driver.get(next_bttn.get_attribute('href'))"
   ]
  },
  {
   "cell_type": "markdown",
   "id": "92070372",
   "metadata": {},
   "source": [
    "### Getting product urls for Cameras"
   ]
  },
  {
   "cell_type": "code",
   "execution_count": 127,
   "id": "45a14e1e",
   "metadata": {},
   "outputs": [],
   "source": [
    "driver.get(url)"
   ]
  },
  {
   "cell_type": "code",
   "execution_count": 128,
   "id": "be24c415",
   "metadata": {},
   "outputs": [],
   "source": [
    "search_field=driver.find_element_by_xpath('//input[@class=\"_3704LK\"]')\n",
    "search_field.send_keys('Cameras')"
   ]
  },
  {
   "cell_type": "code",
   "execution_count": 129,
   "id": "2d28e402",
   "metadata": {},
   "outputs": [],
   "source": [
    "search_button=driver.find_element_by_xpath('//button[@class=\"L0Z3Pu\"]')\n",
    "search_button.click()"
   ]
  },
  {
   "cell_type": "code",
   "execution_count": 130,
   "id": "c3aad260",
   "metadata": {},
   "outputs": [],
   "source": [
    "for page in range(0,10):\n",
    "    urls=driver.find_elements_by_xpath('//a[@class=\"s1Q9rs\"]')\n",
    "    for i in urls:\n",
    "        product_url.append(i.get_attribute('href'))\n",
    "    try:    \n",
    "        next_bttn=driver.find_element_by_xpath('//a[@class=\"_1LKTO3\"][2]')\n",
    "        driver.get(next_bttn.get_attribute('href'))\n",
    "    except:\n",
    "        next_bttn=driver.find_element_by_xpath('//a[@class=\"_1LKTO3\"][1]')\n",
    "        driver.get(next_bttn.get_attribute('href'))"
   ]
  },
  {
   "cell_type": "markdown",
   "id": "e0c3b49e",
   "metadata": {},
   "source": [
    "### Getting urls for Printers"
   ]
  },
  {
   "cell_type": "code",
   "execution_count": 131,
   "id": "431e0a48",
   "metadata": {},
   "outputs": [],
   "source": [
    "driver.get(url)"
   ]
  },
  {
   "cell_type": "code",
   "execution_count": 132,
   "id": "07ff4661",
   "metadata": {},
   "outputs": [],
   "source": [
    "search_field=driver.find_element_by_xpath('//input[@class=\"_3704LK\"]')\n",
    "search_field.send_keys('Printers')"
   ]
  },
  {
   "cell_type": "code",
   "execution_count": 133,
   "id": "03deb91b",
   "metadata": {},
   "outputs": [],
   "source": [
    "search_button=driver.find_element_by_xpath('//button[@class=\"L0Z3Pu\"]')\n",
    "search_button.click()"
   ]
  },
  {
   "cell_type": "code",
   "execution_count": 134,
   "id": "db9e67af",
   "metadata": {},
   "outputs": [],
   "source": [
    "for page in range(0,10):\n",
    "    urls=driver.find_elements_by_xpath('//a[@class=\"s1Q9rs\"]')\n",
    "    for i in urls:\n",
    "        product_url.append(i.get_attribute('href'))\n",
    "    try:    \n",
    "        next_bttn=driver.find_element_by_xpath('//a[@class=\"_1LKTO3\"][2]')\n",
    "        driver.get(next_bttn.get_attribute('href'))\n",
    "    except:\n",
    "        next_bttn=driver.find_element_by_xpath('//a[@class=\"_1LKTO3\"][1]')\n",
    "        driver.get(next_bttn.get_attribute('href'))"
   ]
  },
  {
   "cell_type": "markdown",
   "id": "cd5bced6",
   "metadata": {},
   "source": [
    "### Getting urls for Monitors"
   ]
  },
  {
   "cell_type": "code",
   "execution_count": 135,
   "id": "9752d90e",
   "metadata": {},
   "outputs": [],
   "source": [
    "driver.get(url)"
   ]
  },
  {
   "cell_type": "code",
   "execution_count": 136,
   "id": "0e31662d",
   "metadata": {},
   "outputs": [],
   "source": [
    "search_field=driver.find_element_by_xpath('//input[@class=\"_3704LK\"]')\n",
    "search_field.send_keys('Monitors')"
   ]
  },
  {
   "cell_type": "code",
   "execution_count": 137,
   "id": "6dfabf68",
   "metadata": {},
   "outputs": [],
   "source": [
    "search_button=driver.find_element_by_xpath('//button[@class=\"L0Z3Pu\"]')\n",
    "search_button.click()"
   ]
  },
  {
   "cell_type": "code",
   "execution_count": 138,
   "id": "b63fc774",
   "metadata": {},
   "outputs": [],
   "source": [
    "for page in range(0,10):\n",
    "    urls=driver.find_elements_by_xpath('//a[@class=\"_1fQZEK\"]')\n",
    "    for i in urls:\n",
    "        product_url.append(i.get_attribute('href'))\n",
    "    try:    \n",
    "        next_bttn=driver.find_element_by_xpath('//a[@class=\"_1LKTO3\"][2]')\n",
    "        driver.get(next_bttn.get_attribute('href'))\n",
    "    except:\n",
    "        next_bttn=driver.find_element_by_xpath('//a[@class=\"_1LKTO3\"][1]')\n",
    "        driver.get(next_bttn.get_attribute('href'))"
   ]
  },
  {
   "cell_type": "markdown",
   "id": "76f42cd5",
   "metadata": {},
   "source": [
    "### Getting urls for Home Theatres"
   ]
  },
  {
   "cell_type": "code",
   "execution_count": 139,
   "id": "c21ae3be",
   "metadata": {},
   "outputs": [],
   "source": [
    "driver.get(url)"
   ]
  },
  {
   "cell_type": "code",
   "execution_count": 140,
   "id": "4d1796c8",
   "metadata": {},
   "outputs": [],
   "source": [
    "search_field=driver.find_element_by_xpath('//input[@class=\"_3704LK\"]')\n",
    "search_field.send_keys('Home Theatre')"
   ]
  },
  {
   "cell_type": "code",
   "execution_count": 141,
   "id": "1e5facae",
   "metadata": {},
   "outputs": [],
   "source": [
    "search_button=driver.find_element_by_xpath('//button[@class=\"L0Z3Pu\"]')\n",
    "search_button.click()"
   ]
  },
  {
   "cell_type": "code",
   "execution_count": 142,
   "id": "79378e58",
   "metadata": {},
   "outputs": [],
   "source": [
    "for page in range(0,10):\n",
    "    urls=driver.find_elements_by_xpath('//a[@class=\"s1Q9rs\"]')\n",
    "    for i in urls:\n",
    "        product_url.append(i.get_attribute('href'))\n",
    "    try:    \n",
    "        next_bttn=driver.find_element_by_xpath('//a[@class=\"_1LKTO3\"][2]')\n",
    "        driver.get(next_bttn.get_attribute('href'))\n",
    "    except:\n",
    "        next_bttn=driver.find_element_by_xpath('//a[@class=\"_1LKTO3\"][1]')\n",
    "        driver.get(next_bttn.get_attribute('href'))"
   ]
  },
  {
   "cell_type": "markdown",
   "id": "7f7db2fc",
   "metadata": {},
   "source": [
    "### Getting urls for Router"
   ]
  },
  {
   "cell_type": "code",
   "execution_count": 143,
   "id": "b9f3fafc",
   "metadata": {},
   "outputs": [],
   "source": [
    "driver.get(url)"
   ]
  },
  {
   "cell_type": "code",
   "execution_count": 144,
   "id": "bb20a587",
   "metadata": {},
   "outputs": [],
   "source": [
    "search_field=driver.find_element_by_xpath('//input[@class=\"_3704LK\"]')\n",
    "search_field.send_keys('Router')"
   ]
  },
  {
   "cell_type": "code",
   "execution_count": 145,
   "id": "d4a0820e",
   "metadata": {},
   "outputs": [],
   "source": [
    "search_button=driver.find_element_by_xpath('//button[@class=\"L0Z3Pu\"]')\n",
    "search_button.click()"
   ]
  },
  {
   "cell_type": "code",
   "execution_count": 146,
   "id": "86ffd66a",
   "metadata": {},
   "outputs": [],
   "source": [
    "for page in range(0,10):\n",
    "    urls=driver.find_elements_by_xpath('//a[@class=\"s1Q9rs\"]')\n",
    "    for i in urls:\n",
    "        product_url.append(i.get_attribute('href'))\n",
    "    try:    \n",
    "        next_bttn=driver.find_element_by_xpath('//a[@class=\"_1LKTO3\"][2]')\n",
    "        driver.get(next_bttn.get_attribute('href'))\n",
    "    except:\n",
    "        next_bttn=driver.find_element_by_xpath('//a[@class=\"_1LKTO3\"][1]')\n",
    "        driver.get(next_bttn.get_attribute('href'))"
   ]
  },
  {
   "cell_type": "markdown",
   "id": "8040cf63",
   "metadata": {},
   "source": [
    "### Scraping Reviews from the urls"
   ]
  },
  {
   "cell_type": "code",
   "execution_count": 15,
   "id": "07be2215",
   "metadata": {},
   "outputs": [],
   "source": [
    "reviews=[]\n",
    "ratings=[]\n",
    "for url in product_url:\n",
    "    driver.get(url)\n",
    "    time.sleep(1)\n",
    "    try:\n",
    "        \n",
    "        reviewsbtn=driver.find_element_by_xpath('//div[@class=\"_3UAT2v _16PBlm\"]/span')\n",
    "        reviewsbtn.click()\n",
    "        time.sleep(1)\n",
    "        reviewstags=driver.find_elements_by_xpath('//div[@class=\"t-ZTKy\"]/div/div')\n",
    "        for j in reviewstags:\n",
    "            reviews.append(j.text)\n",
    "        ratingtags=driver.find_elements_by_xpath('//div[@class=\"_27M-vq\"]/div/div/div[1]/div[1]')\n",
    "        for i in ratingtags:\n",
    "            ratings.append(i.text)\n",
    "    except:\n",
    "        reviewstags=driver.find_elements_by_xpath('//div[@class=\"t-ZTKy\"]/div/div')\n",
    "        for j in reviewstags:\n",
    "            reviews.append(j.text)\n",
    "        ratingtags=driver.find_elements_by_xpath('//div[@class=\"_2c2kV-\"]/div/div/div[1]/div[1]/div')\n",
    "        for i in ratingtags:\n",
    "            ratings.append(i.text)\n",
    "        \n",
    "   "
   ]
  },
  {
   "cell_type": "code",
   "execution_count": 234,
   "id": "4fea05bd",
   "metadata": {},
   "outputs": [],
   "source": [
    "filename='ratingsprediction.xlsx'\n",
    "ratings.to_excel(filename)"
   ]
  },
  {
   "cell_type": "markdown",
   "id": "78523f7b",
   "metadata": {},
   "source": [
    "### Reading the excel file"
   ]
  },
  {
   "cell_type": "code",
   "execution_count": 2,
   "id": "64daee71",
   "metadata": {},
   "outputs": [],
   "source": [
    "data=pd.read_excel('ratingsprediction.xlsx')"
   ]
  },
  {
   "cell_type": "code",
   "execution_count": 3,
   "id": "accf9b04",
   "metadata": {},
   "outputs": [
    {
     "data": {
      "text/html": [
       "<div>\n",
       "<style scoped>\n",
       "    .dataframe tbody tr th:only-of-type {\n",
       "        vertical-align: middle;\n",
       "    }\n",
       "\n",
       "    .dataframe tbody tr th {\n",
       "        vertical-align: top;\n",
       "    }\n",
       "\n",
       "    .dataframe thead th {\n",
       "        text-align: right;\n",
       "    }\n",
       "</style>\n",
       "<table border=\"1\" class=\"dataframe\">\n",
       "  <thead>\n",
       "    <tr style=\"text-align: right;\">\n",
       "      <th></th>\n",
       "      <th>Reviews</th>\n",
       "      <th>Rating</th>\n",
       "    </tr>\n",
       "  </thead>\n",
       "  <tbody>\n",
       "    <tr>\n",
       "      <th>0</th>\n",
       "      <td>It is always in update\\nVery wrost opening tim...</td>\n",
       "      <td>1</td>\n",
       "    </tr>\n",
       "    <tr>\n",
       "      <th>1</th>\n",
       "      <td>Good 👍</td>\n",
       "      <td>5</td>\n",
       "    </tr>\n",
       "    <tr>\n",
       "      <th>2</th>\n",
       "      <td>It wil be dead slow in box product..after u up...</td>\n",
       "      <td>4</td>\n",
       "    </tr>\n",
       "    <tr>\n",
       "      <th>3</th>\n",
       "      <td>VERY VERY SLOW. DISAPPOINTED ☹️</td>\n",
       "      <td>1</td>\n",
       "    </tr>\n",
       "    <tr>\n",
       "      <th>4</th>\n",
       "      <td>Yet to see such slow laptop\\nTakes 20 minutes ...</td>\n",
       "      <td>1</td>\n",
       "    </tr>\n",
       "    <tr>\n",
       "      <th>...</th>\n",
       "      <td>...</td>\n",
       "      <td>...</td>\n",
       "    </tr>\n",
       "    <tr>\n",
       "      <th>23016</th>\n",
       "      <td>Bought the product and using it with jio giga ...</td>\n",
       "      <td>5</td>\n",
       "    </tr>\n",
       "    <tr>\n",
       "      <th>23017</th>\n",
       "      <td>My existing router range is better than this d...</td>\n",
       "      <td>2</td>\n",
       "    </tr>\n",
       "    <tr>\n",
       "      <th>23018</th>\n",
       "      <td>My normal Airtel router is working perfect tha...</td>\n",
       "      <td>1</td>\n",
       "    </tr>\n",
       "    <tr>\n",
       "      <th>23019</th>\n",
       "      <td>It's a good product, the range is way better t...</td>\n",
       "      <td>4</td>\n",
       "    </tr>\n",
       "    <tr>\n",
       "      <th>23020</th>\n",
       "      <td>Very good and easy to install / configure usin...</td>\n",
       "      <td>5</td>\n",
       "    </tr>\n",
       "  </tbody>\n",
       "</table>\n",
       "<p>23021 rows × 2 columns</p>\n",
       "</div>"
      ],
      "text/plain": [
       "                                                 Reviews  Rating\n",
       "0      It is always in update\\nVery wrost opening tim...       1\n",
       "1                                                 Good 👍       5\n",
       "2      It wil be dead slow in box product..after u up...       4\n",
       "3                        VERY VERY SLOW. DISAPPOINTED ☹️       1\n",
       "4      Yet to see such slow laptop\\nTakes 20 minutes ...       1\n",
       "...                                                  ...     ...\n",
       "23016  Bought the product and using it with jio giga ...       5\n",
       "23017  My existing router range is better than this d...       2\n",
       "23018  My normal Airtel router is working perfect tha...       1\n",
       "23019  It's a good product, the range is way better t...       4\n",
       "23020  Very good and easy to install / configure usin...       5\n",
       "\n",
       "[23021 rows x 2 columns]"
      ]
     },
     "execution_count": 3,
     "metadata": {},
     "output_type": "execute_result"
    }
   ],
   "source": [
    "data"
   ]
  },
  {
   "cell_type": "markdown",
   "id": "16c885c3",
   "metadata": {},
   "source": [
    "### Changing datatype of the 'Ratings' column"
   ]
  },
  {
   "cell_type": "code",
   "execution_count": 4,
   "id": "65b0abff",
   "metadata": {},
   "outputs": [],
   "source": [
    "data['Rating']=data['Rating'].astype(int)"
   ]
  },
  {
   "cell_type": "markdown",
   "id": "8529d60b",
   "metadata": {},
   "source": [
    "### Checking the datatype"
   ]
  },
  {
   "cell_type": "code",
   "execution_count": 5,
   "id": "a2c199f1",
   "metadata": {},
   "outputs": [
    {
     "data": {
      "text/plain": [
       "Reviews    object\n",
       "Rating      int32\n",
       "dtype: object"
      ]
     },
     "execution_count": 5,
     "metadata": {},
     "output_type": "execute_result"
    }
   ],
   "source": [
    "data.dtypes"
   ]
  },
  {
   "cell_type": "markdown",
   "id": "17f22fa6",
   "metadata": {},
   "source": [
    "### Checking for empty values"
   ]
  },
  {
   "cell_type": "code",
   "execution_count": 7,
   "id": "af52338b",
   "metadata": {},
   "outputs": [
    {
     "name": "stdout",
     "output_type": "stream",
     "text": [
      "Count of  in column  Reviews  is :  0\n",
      "Count of  in column  Rating  is :  0\n"
     ]
    }
   ],
   "source": [
    "for column_name in data.columns:\n",
    "    column = data[column_name]\n",
    "    # Get the count of '' in column \n",
    "    count = (column == '').sum()\n",
    "    print('Count of '' in column ', column_name, ' is : ', count)"
   ]
  },
  {
   "cell_type": "markdown",
   "id": "b72126c3",
   "metadata": {},
   "source": [
    "### Visualization of the Rating column"
   ]
  },
  {
   "cell_type": "code",
   "execution_count": 8,
   "id": "71e05ee5",
   "metadata": {},
   "outputs": [],
   "source": [
    "import seaborn as sns"
   ]
  },
  {
   "cell_type": "code",
   "execution_count": 9,
   "id": "c4ecee4d",
   "metadata": {},
   "outputs": [
    {
     "name": "stdout",
     "output_type": "stream",
     "text": [
      "5    14436\n",
      "4     4193\n",
      "1     2474\n",
      "3     1372\n",
      "2      546\n",
      "Name: Rating, dtype: int64\n"
     ]
    },
    {
     "data": {
      "image/png": "[encoded data removed]",
      "text/plain": [
       "<Figure size 432x288 with 1 Axes>"
      ]
     },
     "metadata": {
      "needs_background": "light"
     },
     "output_type": "display_data"
    }
   ],
   "source": [
    "ax=sns.countplot(x='Rating',data=data)\n",
    "print(data['Rating'].value_counts())"
   ]
  },
  {
   "cell_type": "markdown",
   "id": "9a871418",
   "metadata": {},
   "source": [
    "### Cleaning of the data"
   ]
  },
  {
   "cell_type": "code",
   "execution_count": 10,
   "id": "e91d2d64",
   "metadata": {},
   "outputs": [],
   "source": [
    "from nltk.stem import WordNetLemmatizer\n",
    "import nltk\n",
    "from nltk.corpus import  stopwords\n",
    "import string"
   ]
  },
  {
   "cell_type": "markdown",
   "id": "c6417695",
   "metadata": {},
   "source": [
    "### Creating column for length of comment"
   ]
  },
  {
   "cell_type": "code",
   "execution_count": 27,
   "id": "f70d64d6",
   "metadata": {},
   "outputs": [],
   "source": [
    "data['Length']=data.Reviews.str.len()"
   ]
  },
  {
   "cell_type": "code",
   "execution_count": 28,
   "id": "88bb1463",
   "metadata": {},
   "outputs": [
    {
     "data": {
      "text/html": [
       "<div>\n",
       "<style scoped>\n",
       "    .dataframe tbody tr th:only-of-type {\n",
       "        vertical-align: middle;\n",
       "    }\n",
       "\n",
       "    .dataframe tbody tr th {\n",
       "        vertical-align: top;\n",
       "    }\n",
       "\n",
       "    .dataframe thead th {\n",
       "        text-align: right;\n",
       "    }\n",
       "</style>\n",
       "<table border=\"1\" class=\"dataframe\">\n",
       "  <thead>\n",
       "    <tr style=\"text-align: right;\">\n",
       "      <th></th>\n",
       "      <th>Reviews</th>\n",
       "      <th>Rating</th>\n",
       "      <th>Length</th>\n",
       "    </tr>\n",
       "  </thead>\n",
       "  <tbody>\n",
       "    <tr>\n",
       "      <th>0</th>\n",
       "      <td>always update wrost opening time hang always g...</td>\n",
       "      <td>1</td>\n",
       "      <td>115</td>\n",
       "    </tr>\n",
       "    <tr>\n",
       "      <th>1</th>\n",
       "      <td>good</td>\n",
       "      <td>5</td>\n",
       "      <td>4</td>\n",
       "    </tr>\n",
       "    <tr>\n",
       "      <th>2</th>\n",
       "      <td>wil dead slow box productafter update everythi...</td>\n",
       "      <td>4</td>\n",
       "      <td>58</td>\n",
       "    </tr>\n",
       "    <tr>\n",
       "      <th>3</th>\n",
       "      <td>slow disappointed</td>\n",
       "      <td>1</td>\n",
       "      <td>17</td>\n",
       "    </tr>\n",
       "    <tr>\n",
       "      <th>4</th>\n",
       "      <td>yet see slow laptop take number minute start w...</td>\n",
       "      <td>1</td>\n",
       "      <td>88</td>\n",
       "    </tr>\n",
       "    <tr>\n",
       "      <th>...</th>\n",
       "      <td>...</td>\n",
       "      <td>...</td>\n",
       "      <td>...</td>\n",
       "    </tr>\n",
       "    <tr>\n",
       "      <th>23016</th>\n",
       "      <td>bought product using jio giga fiber router wor...</td>\n",
       "      <td>5</td>\n",
       "      <td>155</td>\n",
       "    </tr>\n",
       "    <tr>\n",
       "      <th>23017</th>\n",
       "      <td>existing router range better device device ran...</td>\n",
       "      <td>2</td>\n",
       "      <td>370</td>\n",
       "    </tr>\n",
       "    <tr>\n",
       "      <th>23018</th>\n",
       "      <td>normal airtel router working perfect extender ...</td>\n",
       "      <td>1</td>\n",
       "      <td>230</td>\n",
       "    </tr>\n",
       "    <tr>\n",
       "      <th>23019</th>\n",
       "      <td>good product range way better earlier get litt...</td>\n",
       "      <td>4</td>\n",
       "      <td>290</td>\n",
       "    </tr>\n",
       "    <tr>\n",
       "      <th>23020</th>\n",
       "      <td>good easy install configure using app extends ...</td>\n",
       "      <td>5</td>\n",
       "      <td>84</td>\n",
       "    </tr>\n",
       "  </tbody>\n",
       "</table>\n",
       "<p>23021 rows × 3 columns</p>\n",
       "</div>"
      ],
      "text/plain": [
       "                                                 Reviews  Rating  Length\n",
       "0      always update wrost opening time hang always g...       1     115\n",
       "1                                                   good       5       4\n",
       "2      wil dead slow box productafter update everythi...       4      58\n",
       "3                                      slow disappointed       1      17\n",
       "4      yet see slow laptop take number minute start w...       1      88\n",
       "...                                                  ...     ...     ...\n",
       "23016  bought product using jio giga fiber router wor...       5     155\n",
       "23017  existing router range better device device ran...       2     370\n",
       "23018  normal airtel router working perfect extender ...       1     230\n",
       "23019  good product range way better earlier get litt...       4     290\n",
       "23020  good easy install configure using app extends ...       5      84\n",
       "\n",
       "[23021 rows x 3 columns]"
      ]
     },
     "execution_count": 28,
     "metadata": {},
     "output_type": "execute_result"
    }
   ],
   "source": [
    "data"
   ]
  },
  {
   "cell_type": "markdown",
   "id": "568733da",
   "metadata": {},
   "source": [
    "### Regular expressions for cleaning the comments"
   ]
  },
  {
   "cell_type": "code",
   "execution_count": 29,
   "id": "e022cc97",
   "metadata": {},
   "outputs": [],
   "source": [
    "# convert all messages to lower case\n",
    "data['Reviews'] = data['Reviews'].str.lower()"
   ]
  },
  {
   "cell_type": "code",
   "execution_count": 30,
   "id": "3d2ff7b9",
   "metadata": {},
   "outputs": [],
   "source": [
    "# Replace emailaddresses with 'emailaddress'\n",
    "data['Reviews'] = data['Reviews'].str.replace(r'^.+@[^\\.].*\\.[a-z]{2,}$','emailaddress')"
   ]
  },
  {
   "cell_type": "code",
   "execution_count": 31,
   "id": "279f6ab4",
   "metadata": {},
   "outputs": [],
   "source": [
    "# Replace Urls with 'webaddress'\n",
    "data['Reviews'] = data['Reviews'].str.replace(r'^http\\://[a-zA-Z0-9\\-\\.]+\\.[a-zA-Z]{2,3}(/\\S*)?$','webaddress')"
   ]
  },
  {
   "cell_type": "code",
   "execution_count": 32,
   "id": "db8f08a4",
   "metadata": {},
   "outputs": [],
   "source": [
    "# Replace money symbols with 'moneysymbols' \n",
    "data['Reviews'] = data['Reviews'].str.replace(r'£|\\$', 'dollers')"
   ]
  },
  {
   "cell_type": "code",
   "execution_count": 33,
   "id": "5f009228",
   "metadata": {},
   "outputs": [],
   "source": [
    "# Replace 10 digit phone numbers \n",
    "data['Reviews'] = data['Reviews'].str.replace(r'^\\(?[\\d]{3}\\)?[\\s-]?[\\d]{3}[\\s-]?[\\d]{4}$','phonenumber')"
   ]
  },
  {
   "cell_type": "code",
   "execution_count": 34,
   "id": "452e425b",
   "metadata": {},
   "outputs": [],
   "source": [
    "# Replace numbers with 'number'\n",
    "data['Reviews'] = data['Reviews'].str.replace(r'\\d+(\\.\\d+)?', 'number')"
   ]
  },
  {
   "cell_type": "code",
   "execution_count": 35,
   "id": "c1897c91",
   "metadata": {},
   "outputs": [],
   "source": [
    "# Remove Punctuatuations\n",
    "data['Reviews'] = data['Reviews'].apply(lambda x: ' '.join(term for term in str(x).split() if term not in string.punctuation))"
   ]
  },
  {
   "cell_type": "code",
   "execution_count": 36,
   "id": "7625df97",
   "metadata": {},
   "outputs": [],
   "source": [
    "data['Reviews']=data['Reviews'].str.replace(r'[^\\w\\d\\s]','')"
   ]
  },
  {
   "cell_type": "code",
   "execution_count": 37,
   "id": "b49c4842",
   "metadata": {},
   "outputs": [],
   "source": [
    "# Remove White space between terms with single space\n",
    "data['Reviews']=data['Reviews'].str.replace(r'\\s+',' ')"
   ]
  },
  {
   "cell_type": "code",
   "execution_count": 38,
   "id": "c69cb7a4",
   "metadata": {},
   "outputs": [],
   "source": [
    "# Remove leading and trailing white space\n",
    "data['Reviews']=data['Reviews'].str.replace(r'^\\s+|\\s+?$','')"
   ]
  },
  {
   "cell_type": "code",
   "execution_count": 39,
   "id": "3513095a",
   "metadata": {},
   "outputs": [],
   "source": [
    "# Remove Stopwords\n",
    "stop_words = set(stopwords.words('english') + ['u', 'ü', 'ur', '4', '2', 'im', 'dont', 'doin', 'ure'])\n",
    "data['Reviews'] = data['Reviews'].apply(lambda x: ' '.join(term for term in str(x).split() if term not in stop_words))"
   ]
  },
  {
   "cell_type": "code",
   "execution_count": 40,
   "id": "9c3f0d91",
   "metadata": {},
   "outputs": [],
   "source": [
    "# Lematization\n",
    "lemma=WordNetLemmatizer()\n",
    "data['Reviews'] = data['Reviews'].apply(lambda x: ' '.join(lemma.lemmatize(word) for word in str(x).split()))"
   ]
  },
  {
   "cell_type": "markdown",
   "id": "d9565e18",
   "metadata": {},
   "source": [
    "### Convert text into vectors using TF-IDF"
   ]
  },
  {
   "cell_type": "code",
   "execution_count": 45,
   "id": "99ac0beb",
   "metadata": {},
   "outputs": [],
   "source": [
    "from sklearn.feature_extraction.text import TfidfVectorizer\n",
    "tf_vec = TfidfVectorizer(stop_words='english')\n",
    "features = tf_vec.fit_transform(data['Reviews'])"
   ]
  },
  {
   "cell_type": "markdown",
   "id": "c6cdbc74",
   "metadata": {},
   "source": [
    "### Creating Dependent and independent variable"
   ]
  },
  {
   "cell_type": "code",
   "execution_count": 46,
   "id": "6e11c688",
   "metadata": {},
   "outputs": [],
   "source": [
    "x=features\n",
    "y=data['Rating']"
   ]
  },
  {
   "cell_type": "markdown",
   "id": "3094d338",
   "metadata": {},
   "source": [
    "### Train and Predict"
   ]
  },
  {
   "cell_type": "code",
   "execution_count": 47,
   "id": "abbaddff",
   "metadata": {},
   "outputs": [],
   "source": [
    "from sklearn.linear_model import LogisticRegression\n",
    "from sklearn.model_selection import train_test_split,GridSearchCV\n",
    "from sklearn.metrics import accuracy_score,confusion_matrix,roc_curve,roc_auc_score,classification_report\n",
    "from sklearn.naive_bayes import MultinomialNB\n",
    "from sklearn.ensemble import RandomForestClassifier"
   ]
  },
  {
   "cell_type": "markdown",
   "id": "cafbfb65",
   "metadata": {},
   "source": [
    "### Finding best random state"
   ]
  },
  {
   "cell_type": "code",
   "execution_count": 50,
   "id": "e1bead7d",
   "metadata": {},
   "outputs": [
    {
     "name": "stdout",
     "output_type": "stream",
     "text": [
      "Max Accuracy is 0.7858694078471117 on Random State  14\n"
     ]
    }
   ],
   "source": [
    "maxAccu=0 #maximum accuracy\n",
    "maxRS=0  # best random state value for which max accuracy is achieved\n",
    "for i in range(1,100):\n",
    "    x_train,x_test,y_train,y_test=train_test_split(x,y,test_size=0.30,random_state=i)\n",
    "    LR=LogisticRegression()\n",
    "    LR.fit(x_train,y_train)\n",
    "    pred=LR.predict(x_test)\n",
    "    acc=accuracy_score(y_test,pred)\n",
    "    if acc>maxAccu:\n",
    "        maxAccu=acc\n",
    "        maxRS=i\n",
    "print('Max Accuracy is',maxAccu,'on Random State ',maxRS)"
   ]
  },
  {
   "cell_type": "markdown",
   "id": "50aa779e",
   "metadata": {},
   "source": [
    "### Splitting dataset in training and testing data"
   ]
  },
  {
   "cell_type": "code",
   "execution_count": 51,
   "id": "a8a226ea",
   "metadata": {},
   "outputs": [],
   "source": [
    "x_train,x_test,y_train,y_test=train_test_split(x,y,random_state=14,test_size=.30)"
   ]
  },
  {
   "cell_type": "markdown",
   "id": "6436924d",
   "metadata": {},
   "source": [
    "### MultinomialNB"
   ]
  },
  {
   "cell_type": "code",
   "execution_count": 52,
   "id": "50ddb91a",
   "metadata": {},
   "outputs": [
    {
     "name": "stdout",
     "output_type": "stream",
     "text": [
      "0.7211524540321413\n"
     ]
    }
   ],
   "source": [
    "naive=MultinomialNB()\n",
    "naive.fit(x_train,y_train)\n",
    "y_pred=naive.predict(x_test)\n",
    "accu=accuracy_score(y_test,y_pred)\n",
    "print(accu) "
   ]
  },
  {
   "cell_type": "markdown",
   "id": "cbf38dbe",
   "metadata": {},
   "source": [
    "### Logistic Regression"
   ]
  },
  {
   "cell_type": "code",
   "execution_count": 53,
   "id": "d9ab9f83",
   "metadata": {},
   "outputs": [
    {
     "name": "stdout",
     "output_type": "stream",
     "text": [
      "78.58694078471117\n",
      "[[ 578    0    4   14  152]\n",
      " [  50   38    4   13   42]\n",
      " [  28    0  102   50  239]\n",
      " [  17    0    5  392  745]\n",
      " [  15    0   11   90 4318]]\n",
      "              precision    recall  f1-score   support\n",
      "\n",
      "           1       0.84      0.77      0.81       748\n",
      "           2       1.00      0.26      0.41       147\n",
      "           3       0.81      0.24      0.37       419\n",
      "           4       0.70      0.34      0.46      1159\n",
      "           5       0.79      0.97      0.87      4434\n",
      "\n",
      "    accuracy                           0.79      6907\n",
      "   macro avg       0.83      0.52      0.58      6907\n",
      "weighted avg       0.78      0.79      0.75      6907\n",
      "\n"
     ]
    }
   ],
   "source": [
    "LR=LogisticRegression()\n",
    "LR.fit(x_train,y_train)\n",
    "pred=LR.predict(x_test)\n",
    "accuracy=accuracy_score(y_test,pred)\n",
    "print(accuracy*100)\n",
    "print(confusion_matrix(y_test,pred))\n",
    "print(classification_report(y_test,pred))"
   ]
  },
  {
   "cell_type": "markdown",
   "id": "d49bf1d4",
   "metadata": {},
   "source": [
    "### Decision Tree Classifier"
   ]
  },
  {
   "cell_type": "code",
   "execution_count": 54,
   "id": "9c3545cf",
   "metadata": {},
   "outputs": [
    {
     "name": "stdout",
     "output_type": "stream",
     "text": [
      "Accuracy  84.50846966845229\n",
      "[[ 611   13   17   16   91]\n",
      " [  36   80    7    4   20]\n",
      " [  26    4  236   30  123]\n",
      " [  19    3   17  783  337]\n",
      " [  49   18   36  204 4127]]\n",
      "              precision    recall  f1-score   support\n",
      "\n",
      "           1       0.82      0.82      0.82       748\n",
      "           2       0.68      0.54      0.60       147\n",
      "           3       0.75      0.56      0.64       419\n",
      "           4       0.76      0.68      0.71      1159\n",
      "           5       0.88      0.93      0.90      4434\n",
      "\n",
      "    accuracy                           0.85      6907\n",
      "   macro avg       0.78      0.71      0.74      6907\n",
      "weighted avg       0.84      0.85      0.84      6907\n",
      "\n"
     ]
    }
   ],
   "source": [
    "from sklearn.tree import DecisionTreeClassifier\n",
    "DT=DecisionTreeClassifier()\n",
    "DT.fit(x_train,y_train)\n",
    "pred=DT.predict(x_test)\n",
    "print('Accuracy ',accuracy_score(y_test,pred)*100)\n",
    "print(confusion_matrix(y_test,pred))\n",
    "print(classification_report(y_test,pred))"
   ]
  },
  {
   "cell_type": "markdown",
   "id": "e9a8b05b",
   "metadata": {},
   "source": [
    "### Random Forest Classifier"
   ]
  },
  {
   "cell_type": "code",
   "execution_count": 55,
   "id": "bcc0c388",
   "metadata": {},
   "outputs": [
    {
     "name": "stdout",
     "output_type": "stream",
     "text": [
      "Accuracy  87.05660923700593\n",
      "[[ 616    2    2    0  128]\n",
      " [  35   78    2    1   31]\n",
      " [  18    2  225   15  159]\n",
      " [  10    1    5  706  437]\n",
      " [   9    0    5   32 4388]]\n",
      "              precision    recall  f1-score   support\n",
      "\n",
      "           1       0.90      0.82      0.86       748\n",
      "           2       0.94      0.53      0.68       147\n",
      "           3       0.94      0.54      0.68       419\n",
      "           4       0.94      0.61      0.74      1159\n",
      "           5       0.85      0.99      0.92      4434\n",
      "\n",
      "    accuracy                           0.87      6907\n",
      "   macro avg       0.91      0.70      0.77      6907\n",
      "weighted avg       0.88      0.87      0.86      6907\n",
      "\n"
     ]
    }
   ],
   "source": [
    "from sklearn.ensemble import RandomForestClassifier\n",
    "RF=RandomForestClassifier()\n",
    "RF.fit(x_train,y_train)\n",
    "pred=RF.predict(x_test)\n",
    "print('Accuracy ',accuracy_score(y_test,pred)*100)\n",
    "print(confusion_matrix(y_test,pred))\n",
    "print(classification_report(y_test,pred))"
   ]
  },
  {
   "cell_type": "markdown",
   "id": "72de8906",
   "metadata": {},
   "source": [
    "So the best accuracy is given by Random Forest classifier , hence we choose it our final model"
   ]
  },
  {
   "cell_type": "code",
   "execution_count": null,
   "id": "01eb42fa",
   "metadata": {},
   "outputs": [],
   "source": []
  }
 ],
 "metadata": {
  "kernelspec": {
   "display_name": "Python 3",
   "language": "python",
   "name": "python3"
  },
  "language_info": {
   "codemirror_mode": {
    "name": "ipython",
    "version": 3
   },
   "file_extension": ".py",
   "mimetype": "text/x-python",
   "name": "python",
   "nbconvert_exporter": "python",
   "pygments_lexer": "ipython3",
   "version": "3.8.8"
  }
 },
 "nbformat": 4,
 "nbformat_minor": 5
}
