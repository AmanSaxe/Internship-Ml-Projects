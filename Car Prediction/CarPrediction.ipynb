{
 "cells": [
  {
   "cell_type": "code",
   "execution_count": 1,
   "id": "78307bed",
   "metadata": {},
   "outputs": [],
   "source": [
    "import selenium\n",
    "from selenium import webdriver\n",
    "import pandas as pd\n",
    "import numpy as np\n",
    "import warnings\n",
    "warnings.filterwarnings('ignore')\n",
    "from selenium.common.exceptions import StaleElementReferenceException, NoSuchElementException\n",
    "import time\n",
    "import re"
   ]
  },
  {
   "cell_type": "code",
   "execution_count": 5,
   "id": "7781d390",
   "metadata": {},
   "outputs": [],
   "source": [
    "# let's first connect to web driver\n",
    "driver=webdriver.Chrome(r'C:\\Users\\DELL\\Downloads\\chromedriver_win32 (1)\\chromedriver.exe')"
   ]
  },
  {
   "cell_type": "code",
   "execution_count": 3,
   "id": "c653d800",
   "metadata": {},
   "outputs": [],
   "source": [
    "url=\"https://www.olx.in/cars_c84\"\n",
    "driver.get(url)"
   ]
  },
  {
   "cell_type": "code",
   "execution_count": null,
   "id": "c691d765",
   "metadata": {},
   "outputs": [],
   "source": [
    "for i in range(1,13):\n",
    "    time.sleep(5)\n",
    "    morebtn=driver.find_element_by_xpath('//button[@class=\"rui-39-wj rui-3evoE rui-1JPTg\"]')\n",
    "    morebtn.click()"
   ]
  },
  {
   "cell_type": "code",
   "execution_count": 5,
   "id": "9361bccb",
   "metadata": {},
   "outputs": [],
   "source": [
    "car_urls=[]\n",
    "urltags=driver.find_elements_by_xpath('//ul[@class=\"c1gK9 _1Xvo7\"]/li/a')\n",
    "for i in urltags:\n",
    "    car_urls.append(i.get_attribute('href'))  "
   ]
  },
  {
   "cell_type": "code",
   "execution_count": 6,
   "id": "f5cb5e09",
   "metadata": {},
   "outputs": [],
   "source": [
    "# For Maharashtra\n",
    "driver.get(url)\n",
    "locnbtn=driver.find_element_by_xpath('/html/body/div[1]/div/main/div/div/section/div/div/div[5]/div[1]/div/div[2]/div[3]/ul/li/ul/li[1]/a')\n",
    "locnbtn.click()\n",
    "for i in range(1,10):\n",
    "    time.sleep(3)\n",
    "    morebtn=driver.find_element_by_xpath('//button[@class=\"rui-39-wj rui-3evoE rui-1JPTg\"]')\n",
    "    morebtn.click()\n",
    "    \n",
    "        "
   ]
  },
  {
   "cell_type": "code",
   "execution_count": 7,
   "id": "4782e17d",
   "metadata": {},
   "outputs": [],
   "source": [
    "urltags=driver.find_elements_by_xpath('//ul[@class=\"c1gK9 _1Xvo7\"]/li/a')\n",
    "for i in urltags:\n",
    "    car_urls.append(i.get_attribute('href'))"
   ]
  },
  {
   "cell_type": "code",
   "execution_count": 8,
   "id": "8f9a2902",
   "metadata": {},
   "outputs": [],
   "source": [
    "# For Tamil Nadu\n",
    "btn=driver.find_element_by_xpath('/html/body/div[1]/div/main/div/div/section/div/div/div[5]/div[1]/div/div[2]/div[3]/ul/li/a')\n",
    "btn.click()\n",
    "locnbtn=driver.find_element_by_xpath('/html/body/div[1]/div/main/div/div/section/div/div/div[5]/div[1]/div/div[2]/div[3]/ul/li/ul/li[2]/a')\n",
    "locnbtn.click()\n",
    "for i in range(1,10):\n",
    "    time.sleep(3)\n",
    "    morebtn=driver.find_element_by_xpath('//button[@class=\"rui-39-wj rui-3evoE rui-1JPTg\"]')\n",
    "    morebtn.click()\n"
   ]
  },
  {
   "cell_type": "code",
   "execution_count": 9,
   "id": "cdad494e",
   "metadata": {},
   "outputs": [],
   "source": [
    "urltags=driver.find_elements_by_xpath('//ul[@class=\"c1gK9 _1Xvo7\"]/li/a')\n",
    "for i in urltags:\n",
    "    car_urls.append(i.get_attribute('href'))   \n",
    " "
   ]
  },
  {
   "cell_type": "code",
   "execution_count": 10,
   "id": "6e9b9648",
   "metadata": {},
   "outputs": [],
   "source": [
    "# For Kerela\n",
    "btn=driver.find_element_by_xpath('/html/body/div[1]/div/main/div/div/section/div/div/div[5]/div[1]/div/div[2]/div[3]/ul/li/a')\n",
    "btn.click()\n",
    "locnbtn=driver.find_element_by_xpath('/html/body/div[1]/div/main/div/div/section/div/div/div[5]/div[1]/div/div[2]/div[3]/ul/li/ul/li[3]/a')\n",
    "locnbtn.click()\n",
    "for i in range(1,10):\n",
    "    time.sleep(3)\n",
    "    morebtn=driver.find_element_by_xpath('//button[@class=\"rui-39-wj rui-3evoE rui-1JPTg\"]')\n",
    "    morebtn.click()\n"
   ]
  },
  {
   "cell_type": "code",
   "execution_count": 11,
   "id": "1fa3059a",
   "metadata": {},
   "outputs": [],
   "source": [
    "urltags=driver.find_elements_by_xpath('//ul[@class=\"c1gK9 _1Xvo7\"]/li/a')\n",
    "for i in urltags:\n",
    "    car_urls.append(i.get_attribute('href'))   \n",
    " "
   ]
  },
  {
   "cell_type": "code",
   "execution_count": 12,
   "id": "7c6e94c2",
   "metadata": {},
   "outputs": [],
   "source": [
    "# For Uttar Pradesh\n",
    "btn=driver.find_element_by_xpath('/html/body/div[1]/div/main/div/div/section/div/div/div[5]/div[1]/div/div[2]/div[3]/ul/li/a')\n",
    "btn.click()\n",
    "locnbtn=driver.find_element_by_xpath('/html/body/div[1]/div/main/div/div/section/div/div/div[5]/div[1]/div/div[2]/div[3]/ul/li/ul/li[4]/a')\n",
    "locnbtn.click()\n",
    "for i in range(1,10):\n",
    "    time.sleep(3)\n",
    "    morebtn=driver.find_element_by_xpath('//button[@class=\"rui-39-wj rui-3evoE rui-1JPTg\"]')\n",
    "    morebtn.click()\n"
   ]
  },
  {
   "cell_type": "code",
   "execution_count": 13,
   "id": "97e632ed",
   "metadata": {},
   "outputs": [],
   "source": [
    "urltags=driver.find_elements_by_xpath('//ul[@class=\"c1gK9 _1Xvo7\"]/li/a')\n",
    "for i in urltags:\n",
    "    car_urls.append(i.get_attribute('href'))   \n",
    " "
   ]
  },
  {
   "cell_type": "code",
   "execution_count": 14,
   "id": "2ffd82e2",
   "metadata": {},
   "outputs": [
    {
     "data": {
      "text/plain": [
       "2085"
      ]
     },
     "execution_count": 14,
     "metadata": {},
     "output_type": "execute_result"
    }
   ],
   "source": [
    "len(car_urls)"
   ]
  },
  {
   "cell_type": "markdown",
   "id": "855fa6e9",
   "metadata": {},
   "source": [
    "### Scraping Urls from Cardekho"
   ]
  },
  {
   "cell_type": "code",
   "execution_count": 6,
   "id": "6aa5e504",
   "metadata": {},
   "outputs": [],
   "source": [
    "urlcardekho='https://www.cardekho.com/used-cars+in+new-delhi'\n",
    "driver.get(urlcardekho)"
   ]
  },
  {
   "cell_type": "code",
   "execution_count": 16,
   "id": "86b377ca",
   "metadata": {},
   "outputs": [],
   "source": [
    "## For New Delhi\n",
    "cardekhourls=[]\n",
    "carurlstags=driver.find_elements_by_xpath('//div[@class=\"gsc_col-xs-7  carsName\"]/a')\n",
    "for i in carurlstags:\n",
    "    cardekhourls.append(i.get_attribute('href'))"
   ]
  },
  {
   "cell_type": "code",
   "execution_count": 17,
   "id": "b65e610a",
   "metadata": {},
   "outputs": [],
   "source": [
    "# for Ahmedabad\n",
    "locbtn1=driver.find_element_by_xpath('//div[@class=\"inputfield\"]')\n",
    "locbtn1.click()"
   ]
  },
  {
   "cell_type": "code",
   "execution_count": 19,
   "id": "38b8fa0b",
   "metadata": {},
   "outputs": [],
   "source": [
    "locbtn2=driver.find_element_by_xpath('/html/body/div[2]/div/div[3]/div[3]/div/div/div[3]/section/div[2]/ul/li[1]/a/span[1]/img')\n",
    "locbtn2.click()"
   ]
  },
  {
   "cell_type": "code",
   "execution_count": 20,
   "id": "719f2b7b",
   "metadata": {},
   "outputs": [],
   "source": [
    "carurlstags=driver.find_elements_by_xpath('//div[@class=\"gsc_col-xs-7  carsName\"]/a')\n",
    "for i in carurlstags:\n",
    "    cardekhourls.append(i.get_attribute('href'))"
   ]
  },
  {
   "cell_type": "markdown",
   "id": "83dd813d",
   "metadata": {},
   "source": [
    "### Scraping Data from OLX"
   ]
  },
  {
   "cell_type": "code",
   "execution_count": 34,
   "id": "30480057",
   "metadata": {},
   "outputs": [],
   "source": [
    "Vehicle_name=[]\n",
    "Model=[]\n",
    "Km_driven=[]\n",
    "No_of_owner=[]\n",
    "Transmission=[]\n",
    "Fuel=[]\n",
    "Location=[]\n",
    "Price=[]\n",
    "for urlcar in car_urls:\n",
    "    driver.get(urlcar)\n",
    "    \n",
    "    # Vehicle name\n",
    "    try:\n",
    "        nametag=driver.find_element_by_xpath('//div[@class=\"_35xN1\"]')\n",
    "        Vehicle_name.append(nametag.text)\n",
    "    except NoSuchElementException:\n",
    "        Vehicle_name.append('-')\n",
    "    # Model\n",
    "    try:\n",
    "        Model.append(nametag.text.split(\" \")[-1])\n",
    "    except NoSuchElementException:\n",
    "        Model.append('-')\n",
    "    except StaleElementReferenceException:\n",
    "        Model.append('-')\n",
    "    # Fuel\n",
    "    try:\n",
    "        Fueltag=driver.find_element_by_xpath('//div[@class=\"aOxkz\"]/div[1]/div')\n",
    "        Fuel.append(Fueltag.text)\n",
    "    except NoSuchElementException:\n",
    "        Fuel.append('-')\n",
    "    # No. of owners    \n",
    "    try:\n",
    "        ownertags=driver.find_element_by_xpath('//div[@class=\"_1l939\"]/div[1]/div[2]/div[2]')\n",
    "        No_of_owner.append(ownertags.text)\n",
    "    except NoSuchElementException:\n",
    "        No_of_owner.append('-')\n",
    "    # Location    \n",
    "   # try:\n",
    "    #    loctags=driver.find_element_by_xpath('//div[@class=\"_1l939\"]/div[2]/div[2]/div[2]')\n",
    "     #   Location.append(loctags.text)\n",
    "    #except NoSuchElementException:\n",
    "     #   Location.append('-')\n",
    "    # Km Driven\n",
    "    try:\n",
    "        kmtags=driver.find_element_by_xpath('//div[@class=\"aOxkz\"]/div[2]/div')\n",
    "        Km_driven.append(kmtags.text.split(' ')[0].split('.')[0].replace(',',''))\n",
    "    except NoSuchElementException:\n",
    "        Km_driven.append('-')\n",
    "    # Transmission\n",
    "    try:\n",
    "        transtags=driver.find_element_by_xpath('//div[@class=\"aOxkz\"]/div[3]/div')\n",
    "        Transmission.append(transtags.text)\n",
    "    \n",
    "    except NoSuchElementException:\n",
    "        Transmission.append('-')\n",
    "    # Price\n",
    "    try:\n",
    "        pricetags=driver.find_element_by_xpath('//div[@class=\"_3FkyT\"]')\n",
    "        Price.append(pricetags.text.split(' ')[1].replace(',',''))\n",
    "    except NoSuchElementException:\n",
    "        Price.append('-')"
   ]
  },
  {
   "cell_type": "markdown",
   "id": "b722d171",
   "metadata": {},
   "source": [
    "### Scraping Data from Cardekho"
   ]
  },
  {
   "cell_type": "code",
   "execution_count": 36,
   "id": "d550b6b5",
   "metadata": {},
   "outputs": [],
   "source": [
    "for url in cardekhourls[:14]:\n",
    "    driver.get(url)\n",
    "    time.sleep(3)\n",
    "    try:\n",
    "        nametag=driver.find_element_by_xpath('//div[@class=\"paddingBorder clearfix\"]/div[1]/h1')\n",
    "        Vehicle_name.append(nametag.text)\n",
    "    except NoSuchElementException:\n",
    "        Vehicle_name.append('-')\n",
    "    # Model\n",
    "    try:\n",
    "        modeltags=driver.find_element_by_xpath('//div[@class=\"gsc_col-xs-12 gsc_col-md-8 UCDleft\"]/div[3]/div/div/div/ul/li[1]/div/div[2]')\n",
    "        Model.append(modeltags.text)\n",
    "    except NoSuchElementException:\n",
    "        Model.append('-')\n",
    "   \n",
    "    # Fuel\n",
    "    try:\n",
    "        Fueltag=driver.find_element_by_xpath('//div[@class=\"gsc_col-xs-12 gsc_col-md-8 UCDleft\"]/div[3]/div/div/div/ul/li[3]/div/div[2]')\n",
    "        Fuel.append(Fueltag.text)\n",
    "    except NoSuchElementException:\n",
    "        Fuel.append('-')\n",
    "    # No. of owners    \n",
    "    try:\n",
    "        ownertags=driver.find_element_by_xpath('//div[@class=\"gsc_col-xs-12 gsc_col-md-8 UCDleft\"]/div[3]/div/div/div/ul/li[6]/div/div[2]')\n",
    "        No_of_owner.append(ownertags.text)\n",
    "    except NoSuchElementException:\n",
    "        No_of_owner.append('-')\n",
    "    # Location    \n",
    "   # try:\n",
    "    #    loctags=driver.find_element_by_xpath('//div[@class=\"_1l939\"]/div[2]/div[2]/div[2]')\n",
    "     #   Location.append(loctags.text)\n",
    "    #except NoSuchElementException:\n",
    "     #   Location.append('-')\n",
    "    # Km Driven\n",
    "    try:\n",
    "        kmtags=driver.find_element_by_xpath('//div[@class=\"gsc_col-xs-12 gsc_col-md-8 UCDleft\"]/div[3]/div/div/div/ul/li[4]/div/div[2]')\n",
    "        Km_driven.append(kmtags.text.split(' ')[0].replace(',',''))\n",
    "    except NoSuchElementException:\n",
    "        Km_driven.append('-')\n",
    "    # Transmission\n",
    "    try:\n",
    "        transtags=driver.find_element_by_xpath('//div[@class=\"gsc_col-xs-12 gsc_col-md-8 UCDleft\"]/div[3]/div/div/div/ul/li[8]/div/div[2]')\n",
    "        Transmission.append(transtags.text)\n",
    "    \n",
    "    except NoSuchElementException:\n",
    "        Transmission.append('-')\n",
    "    # Price\n",
    "    try:\n",
    "        pricetags=driver.find_element_by_xpath('//div[@class=\"priceSection\"]/span[2]')\n",
    "        Price.append(pricetags.text.replace(',',''))\n",
    "    except NoSuchElementException:\n",
    "        Price.append('-')\n",
    "        "
   ]
  },
  {
   "cell_type": "markdown",
   "id": "970b3f8d",
   "metadata": {},
   "source": [
    "### Scraping data"
   ]
  },
  {
   "cell_type": "code",
   "execution_count": 7,
   "id": "b35939a1",
   "metadata": {},
   "outputs": [],
   "source": [
    "url=\"https://www.olx.in/cars_c84\"\n",
    "driver.get(url)"
   ]
  },
  {
   "cell_type": "code",
   "execution_count": 39,
   "id": "a7cfd22f",
   "metadata": {},
   "outputs": [],
   "source": [
    "for i in range(1,13):\n",
    "    time.sleep(5)\n",
    "    morebtn=driver.find_element_by_xpath('//button[@class=\"rui-39-wj rui-3evoE rui-1JPTg\"]')\n",
    "    morebtn.click()"
   ]
  },
  {
   "cell_type": "code",
   "execution_count": 40,
   "id": "9973cdad",
   "metadata": {},
   "outputs": [],
   "source": [
    "cars_urls=[]\n",
    "urltags=driver.find_elements_by_xpath('//ul[@class=\"c1gK9 _1Xvo7\"]/li/a')\n",
    "for i in urltags:\n",
    "    cars_urls.append(i.get_attribute('href'))  "
   ]
  },
  {
   "cell_type": "code",
   "execution_count": 44,
   "id": "78f0659a",
   "metadata": {},
   "outputs": [],
   "source": [
    "# For Andra Pradesh\n",
    "btn=driver.find_element_by_xpath('/html/body/div[1]/div/main/div/div/section/div/div/div[5]/div[1]/div/div[2]/div[3]/ul/li/a')\n",
    "btn.click()\n",
    "locnbtn=driver.find_element_by_xpath('/html/body/div[1]/div/main/div/div/section/div/div/div[5]/div[1]/div/div[2]/div[3]/ul/li/ul/div/li[6]/a')\n",
    "locnbtn.click()\n",
    "for i in range(1,10):\n",
    "    time.sleep(3)\n",
    "    morebtn=driver.find_element_by_xpath('//button[@class=\"rui-39-wj rui-3evoE rui-1JPTg\"]')\n",
    "    morebtn.click()\n",
    "    "
   ]
  },
  {
   "cell_type": "code",
   "execution_count": 45,
   "id": "fb3456a8",
   "metadata": {},
   "outputs": [],
   "source": [
    "urltags=driver.find_elements_by_xpath('//ul[@class=\"c1gK9 _1Xvo7\"]/li/a')\n",
    "for i in urltags:\n",
    "    cars_urls.append(i.get_attribute('href'))"
   ]
  },
  {
   "cell_type": "code",
   "execution_count": 46,
   "id": "209aec55",
   "metadata": {},
   "outputs": [],
   "source": [
    "# For Punjab\n",
    "btn=driver.find_element_by_xpath('/html/body/div[1]/div/main/div/div/section/div/div/div[5]/div[1]/div/div[2]/div[3]/ul/li/a')\n",
    "btn.click()\n",
    "locnbtn=driver.find_element_by_xpath('/html/body/div[1]/div/main/div/div/section/div/div/div[5]/div[1]/div/div[2]/div[3]/ul/li/ul/div/li[2]/a')\n",
    "locnbtn.click()\n",
    "for i in range(1,10):\n",
    "    time.sleep(3)\n",
    "    morebtn=driver.find_element_by_xpath('//button[@class=\"rui-39-wj rui-3evoE rui-1JPTg\"]')\n",
    "    morebtn.click()\n"
   ]
  },
  {
   "cell_type": "code",
   "execution_count": 47,
   "id": "4dcb4ef7",
   "metadata": {},
   "outputs": [],
   "source": [
    "urltags=driver.find_elements_by_xpath('//ul[@class=\"c1gK9 _1Xvo7\"]/li/a')\n",
    "for i in urltags:\n",
    "    cars_urls.append(i.get_attribute('href'))   \n",
    " "
   ]
  },
  {
   "cell_type": "code",
   "execution_count": 48,
   "id": "c7ac4bcb",
   "metadata": {},
   "outputs": [],
   "source": [
    "# For Karnataka\n",
    "btn=driver.find_element_by_xpath('/html/body/div[1]/div/main/div/div/section/div/div/div[5]/div[1]/div/div[2]/div[3]/ul/li/a')\n",
    "btn.click()\n",
    "locnbtn=driver.find_element_by_xpath('/html/body/div[1]/div/main/div/div/section/div/div/div[5]/div[1]/div/div[2]/div[3]/ul/li/ul/div/li[1]/a')\n",
    "locnbtn.click()\n",
    "for i in range(1,13):\n",
    "    time.sleep(3)\n",
    "    morebtn=driver.find_element_by_xpath('//button[@class=\"rui-39-wj rui-3evoE rui-1JPTg\"]')\n",
    "    morebtn.click()\n"
   ]
  },
  {
   "cell_type": "code",
   "execution_count": 49,
   "id": "a81f046e",
   "metadata": {},
   "outputs": [],
   "source": [
    "urltags=driver.find_elements_by_xpath('//ul[@class=\"c1gK9 _1Xvo7\"]/li/a')\n",
    "for i in urltags:\n",
    "    cars_urls.append(i.get_attribute('href'))   "
   ]
  },
  {
   "cell_type": "code",
   "execution_count": 54,
   "id": "d1249d06",
   "metadata": {},
   "outputs": [],
   "source": [
    "# For Gujrat\n",
    "btn=driver.find_element_by_xpath('/html/body/div[1]/div/main/div/div/section/div/div/div[5]/div[1]/div/div[2]/div[3]/ul/li/a')\n",
    "btn.click()\n",
    "locnbtn=driver.find_element_by_xpath('/html/body/div[1]/div/main/div/div/section/div/div/div[5]/div[1]/div/div[2]/div[3]/ul/li/ul/div/li[3]/a')\n",
    "locnbtn.click()\n",
    "for i in range(1,10):\n",
    "    time.sleep(3)\n",
    "    morebtn=driver.find_element_by_xpath('//button[@class=\"rui-39-wj rui-3evoE rui-1JPTg\"]')\n",
    "    morebtn.click()\n"
   ]
  },
  {
   "cell_type": "code",
   "execution_count": 55,
   "id": "e522ef34",
   "metadata": {},
   "outputs": [],
   "source": [
    "urltags=driver.find_elements_by_xpath('//ul[@class=\"c1gK9 _1Xvo7\"]/li/a')\n",
    "for i in urltags:\n",
    "    cars_urls.append(i.get_attribute('href'))  "
   ]
  },
  {
   "cell_type": "code",
   "execution_count": 57,
   "id": "bc4fd99e",
   "metadata": {},
   "outputs": [],
   "source": [
    "# For Telangana\n",
    "btn=driver.find_element_by_xpath('/html/body/div[1]/div/main/div/div/section/div/div/div[5]/div[1]/div/div[2]/div[3]/ul/li/a')\n",
    "btn.click()\n",
    "locnbtn=driver.find_element_by_xpath('/html/body/div[1]/div/main/div/div/section/div/div/div[5]/div[1]/div/div[2]/div[3]/ul/li/ul/div/li[4]/a')\n",
    "locnbtn.click()\n",
    "for i in range(1,10):\n",
    "    time.sleep(3)\n",
    "    morebtn=driver.find_element_by_xpath('//button[@class=\"rui-39-wj rui-3evoE rui-1JPTg\"]')\n",
    "    morebtn.click()\n"
   ]
  },
  {
   "cell_type": "code",
   "execution_count": 58,
   "id": "581b036a",
   "metadata": {},
   "outputs": [],
   "source": [
    "urltags=driver.find_elements_by_xpath('//ul[@class=\"c1gK9 _1Xvo7\"]/li/a')\n",
    "for i in urltags:\n",
    "    cars_urls.append(i.get_attribute('href'))  "
   ]
  },
  {
   "cell_type": "code",
   "execution_count": 59,
   "id": "43eb4782",
   "metadata": {},
   "outputs": [],
   "source": [
    "# For Haryana\n",
    "btn=driver.find_element_by_xpath('/html/body/div[1]/div/main/div/div/section/div/div/div[5]/div[1]/div/div[2]/div[3]/ul/li/a')\n",
    "btn.click()\n",
    "locnbtn=driver.find_element_by_xpath('/html/body/div[1]/div/main/div/div/section/div/div/div[5]/div[1]/div/div[2]/div[3]/ul/li/ul/div/li[5]/a')\n",
    "locnbtn.click()\n",
    "for i in range(1,10):\n",
    "    time.sleep(3)\n",
    "    morebtn=driver.find_element_by_xpath('//button[@class=\"rui-39-wj rui-3evoE rui-1JPTg\"]')\n",
    "    morebtn.click()\n"
   ]
  },
  {
   "cell_type": "code",
   "execution_count": 60,
   "id": "8e51f53d",
   "metadata": {},
   "outputs": [],
   "source": [
    "urltags=driver.find_elements_by_xpath('//ul[@class=\"c1gK9 _1Xvo7\"]/li/a')\n",
    "for i in urltags:\n",
    "    cars_urls.append(i.get_attribute('href'))  "
   ]
  },
  {
   "cell_type": "code",
   "execution_count": 62,
   "id": "17779011",
   "metadata": {},
   "outputs": [],
   "source": [
    "for urlcar in cars_urls:\n",
    "    driver.get(urlcar)\n",
    "    \n",
    "    # Vehicle name\n",
    "    try:\n",
    "        nametag=driver.find_element_by_xpath('//div[@class=\"_35xN1\"]')\n",
    "        Vehicle_name.append(nametag.text)\n",
    "    except NoSuchElementException:\n",
    "        Vehicle_name.append('-')\n",
    "    # Model\n",
    "    try:\n",
    "        Model.append(nametag.text.split(\" \")[-1])\n",
    "    except NoSuchElementException:\n",
    "        Model.append('-')\n",
    "    except StaleElementReferenceException:\n",
    "        Model.append('-')\n",
    "    # Fuel\n",
    "    try:\n",
    "        Fueltag=driver.find_element_by_xpath('//div[@class=\"aOxkz\"]/div[1]/div')\n",
    "        Fuel.append(Fueltag.text)\n",
    "    except NoSuchElementException:\n",
    "        Fuel.append('-')\n",
    "    # No. of owners    \n",
    "    try:\n",
    "        ownertags=driver.find_element_by_xpath('//div[@class=\"_1l939\"]/div[1]/div[2]/div[2]')\n",
    "        No_of_owner.append(ownertags.text)\n",
    "    except NoSuchElementException:\n",
    "        No_of_owner.append('-')\n",
    "    # Location    \n",
    "   # try:\n",
    "    #    loctags=driver.find_element_by_xpath('//div[@class=\"_1l939\"]/div[2]/div[2]/div[2]')\n",
    "     #   Location.append(loctags.text)\n",
    "    #except NoSuchElementException:\n",
    "     #   Location.append('-')\n",
    "    # Km Driven\n",
    "    try:\n",
    "        kmtags=driver.find_element_by_xpath('//div[@class=\"aOxkz\"]/div[2]/div')\n",
    "        Km_driven.append(kmtags.text.split(' ')[0].split('.')[0].replace(',',''))\n",
    "    except NoSuchElementException:\n",
    "        Km_driven.append('-')\n",
    "    # Transmission\n",
    "    try:\n",
    "        transtags=driver.find_element_by_xpath('//div[@class=\"aOxkz\"]/div[3]/div')\n",
    "        Transmission.append(transtags.text)\n",
    "    \n",
    "    except NoSuchElementException:\n",
    "        Transmission.append('-')\n",
    "    # Price\n",
    "    try:\n",
    "        pricetags=driver.find_element_by_xpath('//div[@class=\"_3FkyT\"]')\n",
    "        Price.append(pricetags.text.split(' ')[1].replace(',',''))\n",
    "    except NoSuchElementException:\n",
    "        Price.append('-')"
   ]
  },
  {
   "cell_type": "code",
   "execution_count": 63,
   "id": "1b2303cd",
   "metadata": {},
   "outputs": [
    {
     "data": {
      "text/html": [
       "<div>\n",
       "<style scoped>\n",
       "    .dataframe tbody tr th:only-of-type {\n",
       "        vertical-align: middle;\n",
       "    }\n",
       "\n",
       "    .dataframe tbody tr th {\n",
       "        vertical-align: top;\n",
       "    }\n",
       "\n",
       "    .dataframe thead th {\n",
       "        text-align: right;\n",
       "    }\n",
       "</style>\n",
       "<table border=\"1\" class=\"dataframe\">\n",
       "  <thead>\n",
       "    <tr style=\"text-align: right;\">\n",
       "      <th></th>\n",
       "      <th>Name</th>\n",
       "      <th>Model</th>\n",
       "      <th>Fuel</th>\n",
       "      <th>Km driven</th>\n",
       "      <th>No. of Owners</th>\n",
       "      <th>Transmission</th>\n",
       "      <th>Price</th>\n",
       "    </tr>\n",
       "  </thead>\n",
       "  <tbody>\n",
       "    <tr>\n",
       "      <th>0</th>\n",
       "      <td>Toyota Innova (2009)</td>\n",
       "      <td>(2009)</td>\n",
       "      <td>DIESEL</td>\n",
       "      <td>230000</td>\n",
       "      <td>2nd</td>\n",
       "      <td>MANUAL</td>\n",
       "      <td>790000</td>\n",
       "    </tr>\n",
       "    <tr>\n",
       "      <th>1</th>\n",
       "      <td>Mercedes-Benz C Class (2014)</td>\n",
       "      <td>(2014)</td>\n",
       "      <td>DIESEL</td>\n",
       "      <td>38000</td>\n",
       "      <td>2nd</td>\n",
       "      <td>AUTOMATIC</td>\n",
       "      <td>1451000</td>\n",
       "    </tr>\n",
       "    <tr>\n",
       "      <th>2</th>\n",
       "      <td>Maruti Suzuki Wagon R (2016)</td>\n",
       "      <td>(2016)</td>\n",
       "      <td>PETROL</td>\n",
       "      <td>55000</td>\n",
       "      <td>2nd</td>\n",
       "      <td>MANUAL</td>\n",
       "      <td>425000</td>\n",
       "    </tr>\n",
       "    <tr>\n",
       "      <th>3</th>\n",
       "      <td>Tata Sumo (2003)</td>\n",
       "      <td>(2003)</td>\n",
       "      <td>DIESEL</td>\n",
       "      <td>20000</td>\n",
       "      <td>Third</td>\n",
       "      <td>MANUAL</td>\n",
       "      <td>90000</td>\n",
       "    </tr>\n",
       "    <tr>\n",
       "      <th>4</th>\n",
       "      <td>Maruti Suzuki Ciaz (2019)</td>\n",
       "      <td>(2019)</td>\n",
       "      <td>PETROL</td>\n",
       "      <td>90000</td>\n",
       "      <td>First</td>\n",
       "      <td>MANUAL</td>\n",
       "      <td>750000</td>\n",
       "    </tr>\n",
       "    <tr>\n",
       "      <th>...</th>\n",
       "      <td>...</td>\n",
       "      <td>...</td>\n",
       "      <td>...</td>\n",
       "      <td>...</td>\n",
       "      <td>...</td>\n",
       "      <td>...</td>\n",
       "      <td>...</td>\n",
       "    </tr>\n",
       "    <tr>\n",
       "      <th>5070</th>\n",
       "      <td>Ford Ecosport (2013)</td>\n",
       "      <td>(2013)</td>\n",
       "      <td>DIESEL</td>\n",
       "      <td>120000</td>\n",
       "      <td>2nd</td>\n",
       "      <td>MANUAL</td>\n",
       "      <td>370000</td>\n",
       "    </tr>\n",
       "    <tr>\n",
       "      <th>5071</th>\n",
       "      <td>Maruti Suzuki Vitara Brezza (2017)</td>\n",
       "      <td>(2017)</td>\n",
       "      <td>DIESEL</td>\n",
       "      <td>43000</td>\n",
       "      <td>2nd</td>\n",
       "      <td>MANUAL</td>\n",
       "      <td>625000</td>\n",
       "    </tr>\n",
       "    <tr>\n",
       "      <th>5072</th>\n",
       "      <td>Hyundai Verna (2012)</td>\n",
       "      <td>(2012)</td>\n",
       "      <td>DIESEL</td>\n",
       "      <td>18</td>\n",
       "      <td>2nd</td>\n",
       "      <td>MANUAL</td>\n",
       "      <td>297000</td>\n",
       "    </tr>\n",
       "    <tr>\n",
       "      <th>5073</th>\n",
       "      <td>Nissan Terrano (2013)</td>\n",
       "      <td>(2013)</td>\n",
       "      <td>DIESEL</td>\n",
       "      <td>85000</td>\n",
       "      <td>3rd</td>\n",
       "      <td>MANUAL</td>\n",
       "      <td>305000</td>\n",
       "    </tr>\n",
       "    <tr>\n",
       "      <th>5074</th>\n",
       "      <td>Hyundai Santro Xing (2008)</td>\n",
       "      <td>(2008)</td>\n",
       "      <td>PETROL</td>\n",
       "      <td>99900</td>\n",
       "      <td>2nd</td>\n",
       "      <td>MANUAL</td>\n",
       "      <td>145000</td>\n",
       "    </tr>\n",
       "  </tbody>\n",
       "</table>\n",
       "<p>5075 rows × 7 columns</p>\n",
       "</div>"
      ],
      "text/plain": [
       "                                    Name   Model    Fuel Km driven  \\\n",
       "0                   Toyota Innova (2009)  (2009)  DIESEL    230000   \n",
       "1           Mercedes-Benz C Class (2014)  (2014)  DIESEL     38000   \n",
       "2           Maruti Suzuki Wagon R (2016)  (2016)  PETROL     55000   \n",
       "3                       Tata Sumo (2003)  (2003)  DIESEL     20000   \n",
       "4              Maruti Suzuki Ciaz (2019)  (2019)  PETROL     90000   \n",
       "...                                  ...     ...     ...       ...   \n",
       "5070                Ford Ecosport (2013)  (2013)  DIESEL    120000   \n",
       "5071  Maruti Suzuki Vitara Brezza (2017)  (2017)  DIESEL     43000   \n",
       "5072                Hyundai Verna (2012)  (2012)  DIESEL        18   \n",
       "5073               Nissan Terrano (2013)  (2013)  DIESEL     85000   \n",
       "5074          Hyundai Santro Xing (2008)  (2008)  PETROL     99900   \n",
       "\n",
       "     No. of Owners Transmission    Price  \n",
       "0              2nd       MANUAL   790000  \n",
       "1              2nd    AUTOMATIC  1451000  \n",
       "2              2nd       MANUAL   425000  \n",
       "3            Third       MANUAL    90000  \n",
       "4            First       MANUAL   750000  \n",
       "...            ...          ...      ...  \n",
       "5070           2nd       MANUAL   370000  \n",
       "5071           2nd       MANUAL   625000  \n",
       "5072           2nd       MANUAL   297000  \n",
       "5073           3rd       MANUAL   305000  \n",
       "5074           2nd       MANUAL   145000  \n",
       "\n",
       "[5075 rows x 7 columns]"
      ]
     },
     "execution_count": 63,
     "metadata": {},
     "output_type": "execute_result"
    }
   ],
   "source": [
    "car=pd.DataFrame({'Name':Vehicle_name,'Model':Model,'Fuel':Fuel,'Km driven':Km_driven,'No. of Owners':No_of_owner,'Transmission':Transmission,'Price':Price})\n",
    "car"
   ]
  },
  {
   "cell_type": "markdown",
   "id": "9b5bf3a9",
   "metadata": {},
   "source": [
    "### Checking columns having '-' values"
   ]
  },
  {
   "cell_type": "code",
   "execution_count": 66,
   "id": "669998f2",
   "metadata": {},
   "outputs": [
    {
     "name": "stdout",
     "output_type": "stream",
     "text": [
      "Count of - in column  Name  is :  191\n",
      "Count of - in column  Model  is :  191\n",
      "Count of - in column  Fuel  is :  191\n",
      "Count of - in column  Km driven  is :  191\n",
      "Count of - in column  No. of Owners  is :  191\n",
      "Count of - in column  Transmission  is :  191\n",
      "Count of - in column  Price  is :  191\n"
     ]
    }
   ],
   "source": [
    "for column_name in car.columns:\n",
    "    column = car[column_name]\n",
    "    # Get the count of '-' in column \n",
    "    count = (column == '-').sum()\n",
    "    print('Count of - in column ', column_name, ' is : ', count)"
   ]
  },
  {
   "cell_type": "markdown",
   "id": "0a263813",
   "metadata": {},
   "source": [
    "### Handling the '-' with Nan values"
   ]
  },
  {
   "cell_type": "code",
   "execution_count": 69,
   "id": "530150c7",
   "metadata": {},
   "outputs": [],
   "source": [
    "car['Name']=car['Name'].replace('-',np.nan)"
   ]
  },
  {
   "cell_type": "code",
   "execution_count": 70,
   "id": "7d82d526",
   "metadata": {},
   "outputs": [],
   "source": [
    "car['Model']=car['Model'].replace('-',np.nan)"
   ]
  },
  {
   "cell_type": "code",
   "execution_count": 71,
   "id": "a4486310",
   "metadata": {},
   "outputs": [],
   "source": [
    "car['Km driven']=car['Km driven'].replace('-',np.nan)"
   ]
  },
  {
   "cell_type": "code",
   "execution_count": 72,
   "id": "33c0120f",
   "metadata": {},
   "outputs": [],
   "source": [
    "car['Fuel']=car['Fuel'].replace('-',np.nan)"
   ]
  },
  {
   "cell_type": "code",
   "execution_count": 73,
   "id": "c08a9532",
   "metadata": {},
   "outputs": [],
   "source": [
    "car['No. of Owners']=car['No. of Owners'].replace('-',np.nan)"
   ]
  },
  {
   "cell_type": "code",
   "execution_count": 74,
   "id": "3a78348a",
   "metadata": {},
   "outputs": [],
   "source": [
    "car['Transmission']=car['Transmission'].replace('-',np.nan)"
   ]
  },
  {
   "cell_type": "code",
   "execution_count": 75,
   "id": "ae7b9c48",
   "metadata": {},
   "outputs": [],
   "source": [
    "car['Price']=car['Price'].replace('-',np.nan)"
   ]
  },
  {
   "cell_type": "code",
   "execution_count": 89,
   "id": "41be1d2b",
   "metadata": {},
   "outputs": [
    {
     "name": "stdout",
     "output_type": "stream",
     "text": [
      "Count of - in column  Name  is :  0\n",
      "Count of - in column  Model  is :  0\n",
      "Count of - in column  Fuel  is :  29\n",
      "Count of - in column  Km driven  is :  52\n",
      "Count of - in column  No. of Owners  is :  113\n",
      "Count of - in column  Transmission  is :  145\n",
      "Count of - in column  Price  is :  0\n"
     ]
    }
   ],
   "source": [
    "for column_name in car.columns:\n",
    "    column = car[column_name]\n",
    "    # Get the count of '-' in column \n",
    "    count = (column == '--').sum()\n",
    "    print('Count of - in column ', column_name, ' is : ', count)"
   ]
  },
  {
   "cell_type": "code",
   "execution_count": 90,
   "id": "119adf62",
   "metadata": {},
   "outputs": [],
   "source": [
    "car['Km driven']=car['Km driven'].replace('--',np.nan)"
   ]
  },
  {
   "cell_type": "code",
   "execution_count": 91,
   "id": "a97b42bd",
   "metadata": {},
   "outputs": [],
   "source": [
    "car['Fuel']=car['Fuel'].replace('--',np.nan)"
   ]
  },
  {
   "cell_type": "code",
   "execution_count": 92,
   "id": "dda32383",
   "metadata": {},
   "outputs": [],
   "source": [
    "car['No. of Owners']=car['No. of Owners'].replace('--',np.nan)"
   ]
  },
  {
   "cell_type": "code",
   "execution_count": 93,
   "id": "adb7e2d1",
   "metadata": {},
   "outputs": [],
   "source": [
    "car['Transmission']=car['Transmission'].replace('--',np.nan)"
   ]
  },
  {
   "cell_type": "markdown",
   "id": "b9cde466",
   "metadata": {},
   "source": [
    "### Checking Null values"
   ]
  },
  {
   "cell_type": "code",
   "execution_count": 94,
   "id": "65c5d3e1",
   "metadata": {},
   "outputs": [
    {
     "data": {
      "text/plain": [
       "Name               0\n",
       "Model              0\n",
       "Fuel              29\n",
       "Km driven         52\n",
       "No. of Owners    113\n",
       "Transmission     145\n",
       "Price              0\n",
       "dtype: int64"
      ]
     },
     "execution_count": 94,
     "metadata": {},
     "output_type": "execute_result"
    }
   ],
   "source": [
    "car.isna().sum()"
   ]
  },
  {
   "cell_type": "markdown",
   "id": "2e9e6c3e",
   "metadata": {},
   "source": [
    "### Handling the Null values"
   ]
  },
  {
   "cell_type": "code",
   "execution_count": 78,
   "id": "43f38c1b",
   "metadata": {},
   "outputs": [],
   "source": [
    "car['Name']=car['Name'].fillna(car['Name'].mode()[0])"
   ]
  },
  {
   "cell_type": "code",
   "execution_count": 80,
   "id": "69fa3a99",
   "metadata": {},
   "outputs": [],
   "source": [
    "car['Model']=car['Model'].fillna(car['Model'].mode()[0])"
   ]
  },
  {
   "cell_type": "code",
   "execution_count": 95,
   "id": "b4720040",
   "metadata": {},
   "outputs": [],
   "source": [
    "car['Km driven']=car['Km driven'].fillna(car['Km driven'].mode()[0])"
   ]
  },
  {
   "cell_type": "code",
   "execution_count": 96,
   "id": "55d4579b",
   "metadata": {},
   "outputs": [],
   "source": [
    "car['Fuel']=car['Fuel'].fillna(car['Fuel'].mode()[0])"
   ]
  },
  {
   "cell_type": "code",
   "execution_count": 97,
   "id": "386745df",
   "metadata": {},
   "outputs": [],
   "source": [
    "car['No. of Owners']=car['No. of Owners'].fillna(car['No. of Owners'].mode()[0])"
   ]
  },
  {
   "cell_type": "code",
   "execution_count": 98,
   "id": "fa9c4bea",
   "metadata": {},
   "outputs": [],
   "source": [
    "car['Transmission']=car['Transmission'].fillna(car['Transmission'].mode()[0])"
   ]
  },
  {
   "cell_type": "code",
   "execution_count": 85,
   "id": "7bc402dd",
   "metadata": {},
   "outputs": [],
   "source": [
    "car['Price']=car['Price'].fillna(car['Price'].mode()[0])"
   ]
  },
  {
   "cell_type": "code",
   "execution_count": 99,
   "id": "48abfb30",
   "metadata": {},
   "outputs": [
    {
     "data": {
      "text/plain": [
       "Name             0\n",
       "Model            0\n",
       "Fuel             0\n",
       "Km driven        0\n",
       "No. of Owners    0\n",
       "Transmission     0\n",
       "Price            0\n",
       "dtype: int64"
      ]
     },
     "execution_count": 99,
     "metadata": {},
     "output_type": "execute_result"
    }
   ],
   "source": [
    "car.isna().sum()"
   ]
  },
  {
   "cell_type": "markdown",
   "id": "5553100b",
   "metadata": {},
   "source": [
    "Alright now there are no null values in the dataset"
   ]
  },
  {
   "cell_type": "markdown",
   "id": "77775de1",
   "metadata": {},
   "source": [
    "### Lets change the datatype of colummns"
   ]
  },
  {
   "cell_type": "code",
   "execution_count": 87,
   "id": "95f1d79c",
   "metadata": {},
   "outputs": [],
   "source": [
    "car['Price']=car['Price'].astype(int)"
   ]
  },
  {
   "cell_type": "code",
   "execution_count": 100,
   "id": "83bcd8d3",
   "metadata": {},
   "outputs": [],
   "source": [
    "car['Km driven']=car['Km driven'].astype(int)"
   ]
  },
  {
   "cell_type": "code",
   "execution_count": 101,
   "id": "45a268cb",
   "metadata": {},
   "outputs": [
    {
     "data": {
      "text/plain": [
       "Name             object\n",
       "Model            object\n",
       "Fuel             object\n",
       "Km driven         int32\n",
       "No. of Owners    object\n",
       "Transmission     object\n",
       "Price             int32\n",
       "dtype: object"
      ]
     },
     "execution_count": 101,
     "metadata": {},
     "output_type": "execute_result"
    }
   ],
   "source": [
    "car.dtypes"
   ]
  },
  {
   "cell_type": "markdown",
   "id": "9a1f8aeb",
   "metadata": {},
   "source": [
    "### Creating the Model"
   ]
  },
  {
   "cell_type": "code",
   "execution_count": 104,
   "id": "c9be9d75",
   "metadata": {},
   "outputs": [],
   "source": [
    "from sklearn.linear_model import LinearRegression\n",
    "from sklearn.preprocessing import StandardScaler\n",
    "from sklearn.model_selection import train_test_split,GridSearchCV\n",
    "import seaborn as sns\n",
    "import matplotlib.pyplot as plt"
   ]
  },
  {
   "cell_type": "markdown",
   "id": "9dcc2153",
   "metadata": {},
   "source": [
    "### Encoding the dataset"
   ]
  },
  {
   "cell_type": "code",
   "execution_count": 109,
   "id": "2bd9138c",
   "metadata": {},
   "outputs": [],
   "source": [
    "from sklearn.preprocessing import OrdinalEncoder\n",
    "enc=OrdinalEncoder()"
   ]
  },
  {
   "cell_type": "code",
   "execution_count": 112,
   "id": "150c4862",
   "metadata": {},
   "outputs": [],
   "source": [
    "for i in car.columns:\n",
    "    if car[i].dtypes==\"object\":\n",
    "        car[i]=enc.fit_transform(car[i].values.reshape(-1,1))"
   ]
  },
  {
   "cell_type": "code",
   "execution_count": 113,
   "id": "7cebf1b3",
   "metadata": {},
   "outputs": [
    {
     "data": {
      "text/html": [
       "<div>\n",
       "<style scoped>\n",
       "    .dataframe tbody tr th:only-of-type {\n",
       "        vertical-align: middle;\n",
       "    }\n",
       "\n",
       "    .dataframe tbody tr th {\n",
       "        vertical-align: top;\n",
       "    }\n",
       "\n",
       "    .dataframe thead th {\n",
       "        text-align: right;\n",
       "    }\n",
       "</style>\n",
       "<table border=\"1\" class=\"dataframe\">\n",
       "  <thead>\n",
       "    <tr style=\"text-align: right;\">\n",
       "      <th></th>\n",
       "      <th>Name</th>\n",
       "      <th>Model</th>\n",
       "      <th>Fuel</th>\n",
       "      <th>Km driven</th>\n",
       "      <th>No. of Owners</th>\n",
       "      <th>Transmission</th>\n",
       "      <th>Price</th>\n",
       "    </tr>\n",
       "  </thead>\n",
       "  <tbody>\n",
       "    <tr>\n",
       "      <th>0</th>\n",
       "      <td>1324.0</td>\n",
       "      <td>25.0</td>\n",
       "      <td>2.0</td>\n",
       "      <td>230000</td>\n",
       "      <td>2.0</td>\n",
       "      <td>2.0</td>\n",
       "      <td>790000</td>\n",
       "    </tr>\n",
       "    <tr>\n",
       "      <th>1</th>\n",
       "      <td>962.0</td>\n",
       "      <td>33.0</td>\n",
       "      <td>2.0</td>\n",
       "      <td>38000</td>\n",
       "      <td>2.0</td>\n",
       "      <td>0.0</td>\n",
       "      <td>1451000</td>\n",
       "    </tr>\n",
       "    <tr>\n",
       "      <th>2</th>\n",
       "      <td>898.0</td>\n",
       "      <td>37.0</td>\n",
       "      <td>6.0</td>\n",
       "      <td>55000</td>\n",
       "      <td>2.0</td>\n",
       "      <td>2.0</td>\n",
       "      <td>425000</td>\n",
       "    </tr>\n",
       "    <tr>\n",
       "      <th>3</th>\n",
       "      <td>1242.0</td>\n",
       "      <td>18.0</td>\n",
       "      <td>2.0</td>\n",
       "      <td>20000</td>\n",
       "      <td>9.0</td>\n",
       "      <td>2.0</td>\n",
       "      <td>90000</td>\n",
       "    </tr>\n",
       "    <tr>\n",
       "      <th>4</th>\n",
       "      <td>736.0</td>\n",
       "      <td>40.0</td>\n",
       "      <td>6.0</td>\n",
       "      <td>90000</td>\n",
       "      <td>6.0</td>\n",
       "      <td>2.0</td>\n",
       "      <td>750000</td>\n",
       "    </tr>\n",
       "    <tr>\n",
       "      <th>...</th>\n",
       "      <td>...</td>\n",
       "      <td>...</td>\n",
       "      <td>...</td>\n",
       "      <td>...</td>\n",
       "      <td>...</td>\n",
       "      <td>...</td>\n",
       "      <td>...</td>\n",
       "    </tr>\n",
       "    <tr>\n",
       "      <th>5070</th>\n",
       "      <td>182.0</td>\n",
       "      <td>31.0</td>\n",
       "      <td>2.0</td>\n",
       "      <td>120000</td>\n",
       "      <td>2.0</td>\n",
       "      <td>2.0</td>\n",
       "      <td>370000</td>\n",
       "    </tr>\n",
       "    <tr>\n",
       "      <th>5071</th>\n",
       "      <td>879.0</td>\n",
       "      <td>38.0</td>\n",
       "      <td>2.0</td>\n",
       "      <td>43000</td>\n",
       "      <td>2.0</td>\n",
       "      <td>2.0</td>\n",
       "      <td>625000</td>\n",
       "    </tr>\n",
       "    <tr>\n",
       "      <th>5072</th>\n",
       "      <td>459.0</td>\n",
       "      <td>29.0</td>\n",
       "      <td>2.0</td>\n",
       "      <td>18</td>\n",
       "      <td>2.0</td>\n",
       "      <td>2.0</td>\n",
       "      <td>297000</td>\n",
       "    </tr>\n",
       "    <tr>\n",
       "      <th>5073</th>\n",
       "      <td>1038.0</td>\n",
       "      <td>31.0</td>\n",
       "      <td>2.0</td>\n",
       "      <td>85000</td>\n",
       "      <td>3.0</td>\n",
       "      <td>2.0</td>\n",
       "      <td>305000</td>\n",
       "    </tr>\n",
       "    <tr>\n",
       "      <th>5074</th>\n",
       "      <td>437.0</td>\n",
       "      <td>23.0</td>\n",
       "      <td>6.0</td>\n",
       "      <td>99900</td>\n",
       "      <td>2.0</td>\n",
       "      <td>2.0</td>\n",
       "      <td>145000</td>\n",
       "    </tr>\n",
       "  </tbody>\n",
       "</table>\n",
       "<p>5075 rows × 7 columns</p>\n",
       "</div>"
      ],
      "text/plain": [
       "        Name  Model  Fuel  Km driven  No. of Owners  Transmission    Price\n",
       "0     1324.0   25.0   2.0     230000            2.0           2.0   790000\n",
       "1      962.0   33.0   2.0      38000            2.0           0.0  1451000\n",
       "2      898.0   37.0   6.0      55000            2.0           2.0   425000\n",
       "3     1242.0   18.0   2.0      20000            9.0           2.0    90000\n",
       "4      736.0   40.0   6.0      90000            6.0           2.0   750000\n",
       "...      ...    ...   ...        ...            ...           ...      ...\n",
       "5070   182.0   31.0   2.0     120000            2.0           2.0   370000\n",
       "5071   879.0   38.0   2.0      43000            2.0           2.0   625000\n",
       "5072   459.0   29.0   2.0         18            2.0           2.0   297000\n",
       "5073  1038.0   31.0   2.0      85000            3.0           2.0   305000\n",
       "5074   437.0   23.0   6.0      99900            2.0           2.0   145000\n",
       "\n",
       "[5075 rows x 7 columns]"
      ]
     },
     "execution_count": 113,
     "metadata": {},
     "output_type": "execute_result"
    }
   ],
   "source": [
    "car"
   ]
  },
  {
   "cell_type": "markdown",
   "id": "6b7cdf43",
   "metadata": {},
   "source": [
    "### Checking outliers using boxplot"
   ]
  },
  {
   "cell_type": "code",
   "execution_count": 114,
   "id": "0111c5fe",
   "metadata": {},
   "outputs": [
    {
     "data": {
      "image/png": "[encoded data removed]",
      "text/plain": [
       "<Figure size 1440x1440 with 7 Axes>"
      ]
     },
     "metadata": {
      "needs_background": "light"
     },
     "output_type": "display_data"
    }
   ],
   "source": [
    "plt.figure(figsize=(20,20))\n",
    "plotnumber=1\n",
    "for column in car:\n",
    "    if plotnumber<=20:\n",
    "        ax=plt.subplot(4,3,plotnumber)\n",
    "        sns.boxplot(data=car[column],orient='v')\n",
    "        plt.xlabel(column,fontsize=20)\n",
    "    plotnumber+=1\n",
    "plt.show()"
   ]
  },
  {
   "cell_type": "markdown",
   "id": "cdb34df6",
   "metadata": {},
   "source": [
    "We are not removing the outliers since these are the possible outcomes"
   ]
  },
  {
   "cell_type": "code",
   "execution_count": 115,
   "id": "162a9ae3",
   "metadata": {},
   "outputs": [
    {
     "data": {
      "text/plain": [
       "Name            -0.002796\n",
       "Model            0.290235\n",
       "Fuel            -0.093025\n",
       "Km driven       -0.091917\n",
       "No. of Owners   -0.145348\n",
       "Transmission    -0.369654\n",
       "Price            1.000000\n",
       "Name: Price, dtype: float64"
      ]
     },
     "execution_count": 115,
     "metadata": {},
     "output_type": "execute_result"
    }
   ],
   "source": [
    "car.corr()['Price']"
   ]
  },
  {
   "cell_type": "code",
   "execution_count": 116,
   "id": "cc2ea8fe",
   "metadata": {},
   "outputs": [
    {
     "data": {
      "image/png": "[encoded data removed]",
      "text/plain": [
       "<Figure size 1440x1440 with 2 Axes>"
      ]
     },
     "metadata": {
      "needs_background": "light"
     },
     "output_type": "display_data"
    }
   ],
   "source": [
    "plt.figure(figsize=(20,20))\n",
    "sns.heatmap(car.corr(),annot=True)\n",
    "plt.show()"
   ]
  },
  {
   "cell_type": "markdown",
   "id": "f80d44b4",
   "metadata": {},
   "source": [
    "### Checking the columns which are positively and negatively correlated with the target variable"
   ]
  },
  {
   "cell_type": "code",
   "execution_count": 117,
   "id": "badc9320",
   "metadata": {},
   "outputs": [
    {
     "data": {
      "image/png": "[encoded data removed]",
      "text/plain": [
       "<Figure size 1584x504 with 1 Axes>"
      ]
     },
     "metadata": {
      "needs_background": "light"
     },
     "output_type": "display_data"
    }
   ],
   "source": [
    "plt.figure(figsize=(22,7))\n",
    "car.corr()['Price'].sort_values(ascending=False).drop(['Price']).plot(kind='bar')\n",
    "plt.xlabel('features',fontsize=14)\n",
    "plt.ylabel('column with target names',fontsize=14)\n",
    "plt.title('Correlation',fontsize=18)\n",
    "plt.show()"
   ]
  },
  {
   "cell_type": "markdown",
   "id": "69254f32",
   "metadata": {},
   "source": [
    "### Removing the columns which has very less relation with the target variable"
   ]
  },
  {
   "cell_type": "code",
   "execution_count": 118,
   "id": "a10e64b2",
   "metadata": {},
   "outputs": [],
   "source": [
    "car_new=car.drop(columns=['Name'])"
   ]
  },
  {
   "cell_type": "code",
   "execution_count": 119,
   "id": "72e80242",
   "metadata": {},
   "outputs": [
    {
     "data": {
      "text/html": [
       "<div>\n",
       "<style scoped>\n",
       "    .dataframe tbody tr th:only-of-type {\n",
       "        vertical-align: middle;\n",
       "    }\n",
       "\n",
       "    .dataframe tbody tr th {\n",
       "        vertical-align: top;\n",
       "    }\n",
       "\n",
       "    .dataframe thead th {\n",
       "        text-align: right;\n",
       "    }\n",
       "</style>\n",
       "<table border=\"1\" class=\"dataframe\">\n",
       "  <thead>\n",
       "    <tr style=\"text-align: right;\">\n",
       "      <th></th>\n",
       "      <th>Model</th>\n",
       "      <th>Fuel</th>\n",
       "      <th>Km driven</th>\n",
       "      <th>No. of Owners</th>\n",
       "      <th>Transmission</th>\n",
       "      <th>Price</th>\n",
       "    </tr>\n",
       "  </thead>\n",
       "  <tbody>\n",
       "    <tr>\n",
       "      <th>0</th>\n",
       "      <td>25.0</td>\n",
       "      <td>2.0</td>\n",
       "      <td>230000</td>\n",
       "      <td>2.0</td>\n",
       "      <td>2.0</td>\n",
       "      <td>790000</td>\n",
       "    </tr>\n",
       "    <tr>\n",
       "      <th>1</th>\n",
       "      <td>33.0</td>\n",
       "      <td>2.0</td>\n",
       "      <td>38000</td>\n",
       "      <td>2.0</td>\n",
       "      <td>0.0</td>\n",
       "      <td>1451000</td>\n",
       "    </tr>\n",
       "    <tr>\n",
       "      <th>2</th>\n",
       "      <td>37.0</td>\n",
       "      <td>6.0</td>\n",
       "      <td>55000</td>\n",
       "      <td>2.0</td>\n",
       "      <td>2.0</td>\n",
       "      <td>425000</td>\n",
       "    </tr>\n",
       "    <tr>\n",
       "      <th>3</th>\n",
       "      <td>18.0</td>\n",
       "      <td>2.0</td>\n",
       "      <td>20000</td>\n",
       "      <td>9.0</td>\n",
       "      <td>2.0</td>\n",
       "      <td>90000</td>\n",
       "    </tr>\n",
       "    <tr>\n",
       "      <th>4</th>\n",
       "      <td>40.0</td>\n",
       "      <td>6.0</td>\n",
       "      <td>90000</td>\n",
       "      <td>6.0</td>\n",
       "      <td>2.0</td>\n",
       "      <td>750000</td>\n",
       "    </tr>\n",
       "    <tr>\n",
       "      <th>...</th>\n",
       "      <td>...</td>\n",
       "      <td>...</td>\n",
       "      <td>...</td>\n",
       "      <td>...</td>\n",
       "      <td>...</td>\n",
       "      <td>...</td>\n",
       "    </tr>\n",
       "    <tr>\n",
       "      <th>5070</th>\n",
       "      <td>31.0</td>\n",
       "      <td>2.0</td>\n",
       "      <td>120000</td>\n",
       "      <td>2.0</td>\n",
       "      <td>2.0</td>\n",
       "      <td>370000</td>\n",
       "    </tr>\n",
       "    <tr>\n",
       "      <th>5071</th>\n",
       "      <td>38.0</td>\n",
       "      <td>2.0</td>\n",
       "      <td>43000</td>\n",
       "      <td>2.0</td>\n",
       "      <td>2.0</td>\n",
       "      <td>625000</td>\n",
       "    </tr>\n",
       "    <tr>\n",
       "      <th>5072</th>\n",
       "      <td>29.0</td>\n",
       "      <td>2.0</td>\n",
       "      <td>18</td>\n",
       "      <td>2.0</td>\n",
       "      <td>2.0</td>\n",
       "      <td>297000</td>\n",
       "    </tr>\n",
       "    <tr>\n",
       "      <th>5073</th>\n",
       "      <td>31.0</td>\n",
       "      <td>2.0</td>\n",
       "      <td>85000</td>\n",
       "      <td>3.0</td>\n",
       "      <td>2.0</td>\n",
       "      <td>305000</td>\n",
       "    </tr>\n",
       "    <tr>\n",
       "      <th>5074</th>\n",
       "      <td>23.0</td>\n",
       "      <td>6.0</td>\n",
       "      <td>99900</td>\n",
       "      <td>2.0</td>\n",
       "      <td>2.0</td>\n",
       "      <td>145000</td>\n",
       "    </tr>\n",
       "  </tbody>\n",
       "</table>\n",
       "<p>5075 rows × 6 columns</p>\n",
       "</div>"
      ],
      "text/plain": [
       "      Model  Fuel  Km driven  No. of Owners  Transmission    Price\n",
       "0      25.0   2.0     230000            2.0           2.0   790000\n",
       "1      33.0   2.0      38000            2.0           0.0  1451000\n",
       "2      37.0   6.0      55000            2.0           2.0   425000\n",
       "3      18.0   2.0      20000            9.0           2.0    90000\n",
       "4      40.0   6.0      90000            6.0           2.0   750000\n",
       "...     ...   ...        ...            ...           ...      ...\n",
       "5070   31.0   2.0     120000            2.0           2.0   370000\n",
       "5071   38.0   2.0      43000            2.0           2.0   625000\n",
       "5072   29.0   2.0         18            2.0           2.0   297000\n",
       "5073   31.0   2.0      85000            3.0           2.0   305000\n",
       "5074   23.0   6.0      99900            2.0           2.0   145000\n",
       "\n",
       "[5075 rows x 6 columns]"
      ]
     },
     "execution_count": 119,
     "metadata": {},
     "output_type": "execute_result"
    }
   ],
   "source": [
    "car_new"
   ]
  },
  {
   "cell_type": "markdown",
   "id": "c2311ad9",
   "metadata": {},
   "source": [
    "### Dividing the dataset into Dependent and independent variables"
   ]
  },
  {
   "cell_type": "code",
   "execution_count": 120,
   "id": "8e73bb87",
   "metadata": {},
   "outputs": [],
   "source": [
    "x=car_new.drop(columns=['Price'])\n",
    "y=car_new['Price']"
   ]
  },
  {
   "cell_type": "markdown",
   "id": "6f41a500",
   "metadata": {},
   "source": [
    "### Scaling the data"
   ]
  },
  {
   "cell_type": "code",
   "execution_count": 121,
   "id": "954024a8",
   "metadata": {},
   "outputs": [],
   "source": [
    "sc=StandardScaler()\n",
    "x_new=sc.fit_transform(x)"
   ]
  },
  {
   "cell_type": "markdown",
   "id": "8b1b80fd",
   "metadata": {},
   "source": [
    "### finding the best random state"
   ]
  },
  {
   "cell_type": "code",
   "execution_count": 122,
   "id": "7b5e8dcd",
   "metadata": {},
   "outputs": [],
   "source": [
    "from sklearn.metrics import r2_score\n",
    "LR=LinearRegression()"
   ]
  },
  {
   "cell_type": "code",
   "execution_count": 148,
   "id": "2207bd2b",
   "metadata": {},
   "outputs": [
    {
     "name": "stdout",
     "output_type": "stream",
     "text": [
      "Max accuracy is  0.3920226269041658 on random state 8465\n"
     ]
    }
   ],
   "source": [
    "maxAccu=0\n",
    "maxRS=0\n",
    "for i in range(0,10000):\n",
    "    x_train,x_test,y_train,y_test=train_test_split(x_new,y,test_size=0.20,random_state=i)\n",
    "    LR.fit(x_train,y_train)\n",
    "    y_pred=LR.predict(x_test)\n",
    "    accu=r2_score(y_test,y_pred)\n",
    "    if accu>maxAccu:\n",
    "        maxAccu=accu\n",
    "        maxRs=i\n",
    "print('Max accuracy is ',maxAccu,'on random state',maxRs)\n",
    "    "
   ]
  },
  {
   "cell_type": "code",
   "execution_count": 124,
   "id": "3bd8778e",
   "metadata": {},
   "outputs": [],
   "source": [
    "x_train,x_test,y_train,y_test=train_test_split(x_new,y,test_size=0.20,random_state=8465)"
   ]
  },
  {
   "cell_type": "markdown",
   "id": "4f7dbeef",
   "metadata": {},
   "source": [
    "### Linear Regression"
   ]
  },
  {
   "cell_type": "code",
   "execution_count": 125,
   "id": "2b5928e9",
   "metadata": {},
   "outputs": [
    {
     "name": "stdout",
     "output_type": "stream",
     "text": [
      "0.3920226269041658\n"
     ]
    }
   ],
   "source": [
    "LR.fit(x_train,y_train)\n",
    "y_pred=LR.predict(x_test)\n",
    "print(r2_score(y_test,y_pred))"
   ]
  },
  {
   "cell_type": "markdown",
   "id": "c51bd52b",
   "metadata": {},
   "source": [
    "### Cross Validation \n"
   ]
  },
  {
   "cell_type": "code",
   "execution_count": 127,
   "id": "9713f346",
   "metadata": {},
   "outputs": [
    {
     "name": "stdout",
     "output_type": "stream",
     "text": [
      "0.19900522923299566\n"
     ]
    }
   ],
   "source": [
    "from sklearn.model_selection import cross_val_score\n",
    "cv_score=cross_val_score(LR,x_new,y,cv=5)\n",
    "print(cv_score.mean())"
   ]
  },
  {
   "cell_type": "markdown",
   "id": "847e7597",
   "metadata": {},
   "source": [
    "### Regularization"
   ]
  },
  {
   "cell_type": "code",
   "execution_count": 144,
   "id": "6ce940ce",
   "metadata": {},
   "outputs": [],
   "source": [
    "from sklearn.model_selection import GridSearchCV\n",
    "from sklearn.linear_model import Lasso,Ridge"
   ]
  },
  {
   "cell_type": "markdown",
   "id": "497ba5df",
   "metadata": {},
   "source": [
    "### Lasso"
   ]
  },
  {
   "cell_type": "code",
   "execution_count": 139,
   "id": "bc6bbad3",
   "metadata": {},
   "outputs": [
    {
     "name": "stdout",
     "output_type": "stream",
     "text": [
      "{'alpha': 10, 'max_iter': 100, 'normalize': True, 'random_state': 0}\n"
     ]
    }
   ],
   "source": [
    "parameters={'alpha':[.0001,.001,.01,.1,1,10],'random_state':list(range(0,10)),'max_iter':[100,200,500,1000],'normalize':[True,False]}\n",
    "ls=Lasso()\n",
    "clf=GridSearchCV(ls,parameters)\n",
    "clf.fit(x_new,y)\n",
    "print(clf.best_params_)"
   ]
  },
  {
   "cell_type": "code",
   "execution_count": 140,
   "id": "3e52d405",
   "metadata": {},
   "outputs": [
    {
     "data": {
      "text/plain": [
       "Lasso(alpha=10, max_iter=100, normalize=True, random_state=0)"
      ]
     },
     "execution_count": 140,
     "metadata": {},
     "output_type": "execute_result"
    }
   ],
   "source": [
    "ls=Lasso(alpha=10,random_state=0,max_iter=100,normalize=True)\n",
    "ls.fit(x_new,y)"
   ]
  },
  {
   "cell_type": "code",
   "execution_count": 142,
   "id": "fd7db9ac",
   "metadata": {},
   "outputs": [
    {
     "data": {
      "text/plain": [
       "0.39329133932272353"
      ]
     },
     "execution_count": 142,
     "metadata": {},
     "output_type": "execute_result"
    }
   ],
   "source": [
    "ls_pred=ls.predict(x_test)\n",
    "lss=r2_score(y_test,ls_pred)\n",
    "lss"
   ]
  },
  {
   "cell_type": "markdown",
   "id": "2a023d71",
   "metadata": {},
   "source": [
    "### Ridge"
   ]
  },
  {
   "cell_type": "code",
   "execution_count": 145,
   "id": "8802d530",
   "metadata": {},
   "outputs": [
    {
     "name": "stdout",
     "output_type": "stream",
     "text": [
      "{'alpha': 0.1, 'max_iter': 100, 'normalize': True, 'random_state': 0}\n"
     ]
    }
   ],
   "source": [
    "parameters={'alpha':[.0001,.001,.01,.1,1,10],'random_state':list(range(0,10)),'max_iter':[100,200,500,1000],'normalize':[True,False]}\n",
    "Rg=Ridge()\n",
    "clfR=GridSearchCV(Rg,parameters)\n",
    "clfR.fit(x_new,y)\n",
    "print(clfR.best_params_)"
   ]
  },
  {
   "cell_type": "code",
   "execution_count": 146,
   "id": "5bdd61b2",
   "metadata": {},
   "outputs": [
    {
     "data": {
      "text/plain": [
       "Ridge(alpha=0.1, max_iter=100, normalize=True, random_state=0)"
      ]
     },
     "execution_count": 146,
     "metadata": {},
     "output_type": "execute_result"
    }
   ],
   "source": [
    "Rgg=Ridge(alpha=0.1,random_state=0,max_iter=100,normalize=True)\n",
    "Rgg.fit(x_new,y)"
   ]
  },
  {
   "cell_type": "code",
   "execution_count": 149,
   "id": "6c71fe99",
   "metadata": {},
   "outputs": [
    {
     "data": {
      "text/plain": [
       "0.26200961643311327"
      ]
     },
     "execution_count": 149,
     "metadata": {},
     "output_type": "execute_result"
    }
   ],
   "source": [
    "Rg_pred=Rgg.predict(x_test)\n",
    "Rgs=r2_score(y_test,Rg_pred)\n",
    "Rgs"
   ]
  },
  {
   "cell_type": "markdown",
   "id": "c0ae4609",
   "metadata": {},
   "source": [
    "### Ensemble Technique"
   ]
  },
  {
   "cell_type": "code",
   "execution_count": 150,
   "id": "2b22a152",
   "metadata": {},
   "outputs": [],
   "source": [
    "from sklearn.ensemble import RandomForestRegressor"
   ]
  },
  {
   "cell_type": "code",
   "execution_count": 151,
   "id": "488bb8ff",
   "metadata": {},
   "outputs": [
    {
     "data": {
      "text/plain": [
       "GridSearchCV(estimator=RandomForestRegressor(),\n",
       "             param_grid={'criterion': ['mse', 'mae'],\n",
       "                         'max_features': ['auto', 'sqrt', 'log2']})"
      ]
     },
     "execution_count": 151,
     "metadata": {},
     "output_type": "execute_result"
    }
   ],
   "source": [
    "parameters={'criterion':['mse','mae'],'max_features':['auto','sqrt','log2']}\n",
    "rf=RandomForestRegressor()\n",
    "clf=GridSearchCV(rf,parameters)\n",
    "clf.fit(x_train,y_train)"
   ]
  },
  {
   "cell_type": "code",
   "execution_count": 135,
   "id": "5982b1b2",
   "metadata": {},
   "outputs": [
    {
     "name": "stdout",
     "output_type": "stream",
     "text": [
      "{'criterion': 'mae', 'max_features': 'log2'}\n"
     ]
    }
   ],
   "source": [
    "print(clf.best_params_)"
   ]
  },
  {
   "cell_type": "code",
   "execution_count": 152,
   "id": "33c0a147",
   "metadata": {},
   "outputs": [
    {
     "data": {
      "text/plain": [
       "RandomForestRegressor(criterion='mae', max_features='log2')"
      ]
     },
     "execution_count": 152,
     "metadata": {},
     "output_type": "execute_result"
    }
   ],
   "source": [
    "rf=RandomForestRegressor(criterion='mae',max_features='log2')\n",
    "rf.fit(x_train,y_train)\n"
   ]
  },
  {
   "cell_type": "code",
   "execution_count": 153,
   "id": "5f333a6f",
   "metadata": {},
   "outputs": [],
   "source": [
    "rf_pred=rf.predict(x_test)"
   ]
  },
  {
   "cell_type": "code",
   "execution_count": 154,
   "id": "94eb260d",
   "metadata": {},
   "outputs": [
    {
     "data": {
      "text/plain": [
       "0.18168821922140987"
      ]
     },
     "execution_count": 154,
     "metadata": {},
     "output_type": "execute_result"
    }
   ],
   "source": [
    "rfs=r2_score(y_test,rf_pred)\n",
    "rfs"
   ]
  },
  {
   "cell_type": "markdown",
   "id": "ddae2a87",
   "metadata": {},
   "source": [
    "So the best accuracy is given by Lasso regression so we choose it our final model"
   ]
  },
  {
   "cell_type": "markdown",
   "id": "2d7656a4",
   "metadata": {},
   "source": [
    "### Saving the model"
   ]
  },
  {
   "cell_type": "code",
   "execution_count": 156,
   "id": "c811a8c7",
   "metadata": {},
   "outputs": [],
   "source": [
    "import pickle\n",
    "filename='carprediction.pkl'\n",
    "pickle.dump(rf,open(filename,'wb'))"
   ]
  },
  {
   "cell_type": "code",
   "execution_count": null,
   "id": "98b19c7e",
   "metadata": {},
   "outputs": [],
   "source": []
  }
 ],
 "metadata": {
  "kernelspec": {
   "display_name": "Python 3",
   "language": "python",
   "name": "python3"
  },
  "language_info": {
   "codemirror_mode": {
    "name": "ipython",
    "version": 3
   },
   "file_extension": ".py",
   "mimetype": "text/x-python",
   "name": "python",
   "nbconvert_exporter": "python",
   "pygments_lexer": "ipython3",
   "version": "3.8.8"
  }
 },
 "nbformat": 4,
 "nbformat_minor": 5
}
